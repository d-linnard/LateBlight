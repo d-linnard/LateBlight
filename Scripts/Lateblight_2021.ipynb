{
 "cells": [
  {
   "cell_type": "code",
   "execution_count": 29,
   "metadata": {},
   "outputs": [],
   "source": [
    "import os\n",
    "import pandas as pd\n",
    "import numpy as np\n",
    "import datetime"
   ]
  },
  {
   "cell_type": "markdown",
   "metadata": {},
   "source": [
    "**A**"
   ]
  },
  {
   "cell_type": "code",
   "execution_count": 356,
   "metadata": {},
   "outputs": [
    {
     "name": "stdin",
     "output_type": "stream",
     "text": [
      "What is the phenology of the potato field?\n",
      "                  A) Pre-emergence\n",
      "                  B) Emergence to before plant closure between rows\n",
      "                  C) Plant closure between rows (foliage touching between adjacent rows)\n",
      "                  D) Post row closure to harvest\n",
      " B\n"
     ]
    }
   ],
   "source": [
    "while True:\n",
    "    # Request user input\n",
    "    A = input(\"What is the phenology of the potato field?\\n \\\n",
    "                 A) Pre-emergence\\n \\\n",
    "                 B) Emergence to before plant closure between rows\\n \\\n",
    "                 C) Plant closure between rows (foliage touching between adjacent rows)\\n \\\n",
    "                 D) Post row closure to harvest\\n\")\n",
    "    # If Risk Factor (RF) A is option \"A\" or option \"B\"\n",
    "    if (A == \"A\") or (A == \"B\"):\n",
    "        # Set RF to 0\n",
    "        A = 0\n",
    "    # Else, RF is \"C\" or \"D\" and\n",
    "    elif (A == \"C\") or (A == \"D\"):\n",
    "        # Set it to 1\n",
    "        A = 1\n",
    "    # Break\n",
    "    break"
   ]
  },
  {
   "cell_type": "markdown",
   "metadata": {},
   "source": [
    "**B**"
   ]
  },
  {
   "cell_type": "code",
   "execution_count": 350,
   "metadata": {},
   "outputs": [
    {
     "name": "stdin",
     "output_type": "stream",
     "text": [
      "Is late blight present within a 5 mile radius?\n",
      "                  A) No\n",
      "                  B) Yes\n",
      " B\n"
     ]
    }
   ],
   "source": [
    "while True:\n",
    "    # Request user input\n",
    "    B = input(\"Is late blight present within a 5 mile radius?\\n \\\n",
    "                 A) No\\n \\\n",
    "                 B) Yes\\n\")\n",
    "    # If Risk Factor (RF) B is option \"A\"\n",
    "    if (B == \"A\") :\n",
    "        # Set RF to 0\n",
    "        B = 0\n",
    "    # Else, RF is \"B\" and\n",
    "    elif (B == \"B\"):\n",
    "        # Set it to 30\n",
    "        B = 30\n",
    "    # Break\n",
    "    break"
   ]
  },
  {
   "cell_type": "markdown",
   "metadata": {},
   "source": [
    "**C**"
   ]
  },
  {
   "cell_type": "code",
   "execution_count": 306,
   "metadata": {},
   "outputs": [],
   "source": [
    "os.chdir('C:/Users/sudha.gcupadhaya/Desktop/LateBlight/Data')\n",
    "df_othello = pd.read_csv('Othello_A_2020.csv')\n",
    "df_prosser = pd.read_csv('Prosser_A_2020.csv')\n",
    "df_tricities = pd.read_csv('Tricities_A_2020.csv')"
   ]
  },
  {
   "cell_type": "code",
   "execution_count": 307,
   "metadata": {},
   "outputs": [],
   "source": [
    "df_othello['Station'] = 'Othello'\n",
    "df_prosser['Station'] = 'Prosser'\n",
    "df_tricities['Station'] = 'Tricities'"
   ]
  },
  {
   "cell_type": "code",
   "execution_count": 308,
   "metadata": {},
   "outputs": [
    {
     "data": {
      "text/html": [
       "<div>\n",
       "<style scoped>\n",
       "    .dataframe tbody tr th:only-of-type {\n",
       "        vertical-align: middle;\n",
       "    }\n",
       "\n",
       "    .dataframe tbody tr th {\n",
       "        vertical-align: top;\n",
       "    }\n",
       "\n",
       "    .dataframe thead th {\n",
       "        text-align: right;\n",
       "    }\n",
       "</style>\n",
       "<table border=\"1\" class=\"dataframe\">\n",
       "  <thead>\n",
       "    <tr style=\"text-align: right;\">\n",
       "      <th></th>\n",
       "      <th>Date</th>\n",
       "      <th>Date.1</th>\n",
       "      <th>Min°C</th>\n",
       "      <th>Avg°C</th>\n",
       "      <th>Max°C</th>\n",
       "      <th>Avg1.5m DP°C</th>\n",
       "      <th>Avg1.5m RH%</th>\n",
       "      <th>Avg1.5m LWu.</th>\n",
       "      <th>AvgDir</th>\n",
       "      <th>Avg Speedm/s</th>\n",
       "      <th>2m MaxGustm/s</th>\n",
       "      <th>5 cm°C</th>\n",
       "      <th>Min°C.1</th>\n",
       "      <th>Avg°C.1</th>\n",
       "      <th>TotPrecmm</th>\n",
       "      <th>TotalSolarRadMJ/m²</th>\n",
       "      <th>ETomm</th>\n",
       "      <th>ETrmm</th>\n",
       "      <th>Station</th>\n",
       "      <th>Avg2m Atm.PresshPa</th>\n",
       "    </tr>\n",
       "  </thead>\n",
       "  <tbody>\n",
       "    <tr>\n",
       "      <th>0</th>\n",
       "      <td>2020/04/01</td>\n",
       "      <td>1</td>\n",
       "      <td>-2.9</td>\n",
       "      <td>3.0</td>\n",
       "      <td>9.5</td>\n",
       "      <td>-2.1</td>\n",
       "      <td>72.0</td>\n",
       "      <td>0.02</td>\n",
       "      <td>W</td>\n",
       "      <td>2.6</td>\n",
       "      <td>7.0</td>\n",
       "      <td>NaN</td>\n",
       "      <td>6.1</td>\n",
       "      <td>7.3</td>\n",
       "      <td>0.0</td>\n",
       "      <td>15.50</td>\n",
       "      <td>1.97</td>\n",
       "      <td>2.64</td>\n",
       "      <td>Othello</td>\n",
       "      <td>NaN</td>\n",
       "    </tr>\n",
       "    <tr>\n",
       "      <th>1</th>\n",
       "      <td>2020/04/02</td>\n",
       "      <td>2</td>\n",
       "      <td>-4.3</td>\n",
       "      <td>3.2</td>\n",
       "      <td>10.2</td>\n",
       "      <td>-6.4</td>\n",
       "      <td>53.2</td>\n",
       "      <td>0.01</td>\n",
       "      <td>W</td>\n",
       "      <td>2.4</td>\n",
       "      <td>7.3</td>\n",
       "      <td>NaN</td>\n",
       "      <td>5.3</td>\n",
       "      <td>6.9</td>\n",
       "      <td>0.0</td>\n",
       "      <td>19.53</td>\n",
       "      <td>2.54</td>\n",
       "      <td>3.50</td>\n",
       "      <td>Othello</td>\n",
       "      <td>NaN</td>\n",
       "    </tr>\n",
       "    <tr>\n",
       "      <th>2</th>\n",
       "      <td>2020/04/03</td>\n",
       "      <td>3</td>\n",
       "      <td>-2.9</td>\n",
       "      <td>3.8</td>\n",
       "      <td>11.1</td>\n",
       "      <td>-5.3</td>\n",
       "      <td>56.7</td>\n",
       "      <td>0.00</td>\n",
       "      <td>SW</td>\n",
       "      <td>4.5</td>\n",
       "      <td>12.8</td>\n",
       "      <td>NaN</td>\n",
       "      <td>5.7</td>\n",
       "      <td>7.2</td>\n",
       "      <td>0.0</td>\n",
       "      <td>19.06</td>\n",
       "      <td>3.07</td>\n",
       "      <td>4.48</td>\n",
       "      <td>Othello</td>\n",
       "      <td>NaN</td>\n",
       "    </tr>\n",
       "    <tr>\n",
       "      <th>3</th>\n",
       "      <td>2020/04/04</td>\n",
       "      <td>4</td>\n",
       "      <td>-3.6</td>\n",
       "      <td>5.0</td>\n",
       "      <td>11.1</td>\n",
       "      <td>-5.4</td>\n",
       "      <td>51.0</td>\n",
       "      <td>0.00</td>\n",
       "      <td>NE</td>\n",
       "      <td>1.7</td>\n",
       "      <td>6.5</td>\n",
       "      <td>NaN</td>\n",
       "      <td>5.6</td>\n",
       "      <td>7.4</td>\n",
       "      <td>0.0</td>\n",
       "      <td>19.59</td>\n",
       "      <td>2.44</td>\n",
       "      <td>3.21</td>\n",
       "      <td>Othello</td>\n",
       "      <td>NaN</td>\n",
       "    </tr>\n",
       "    <tr>\n",
       "      <th>4</th>\n",
       "      <td>2020/04/05</td>\n",
       "      <td>5</td>\n",
       "      <td>3.0</td>\n",
       "      <td>7.4</td>\n",
       "      <td>13.5</td>\n",
       "      <td>1.3</td>\n",
       "      <td>68.3</td>\n",
       "      <td>0.00</td>\n",
       "      <td>N</td>\n",
       "      <td>2.4</td>\n",
       "      <td>6.8</td>\n",
       "      <td>NaN</td>\n",
       "      <td>7.6</td>\n",
       "      <td>8.7</td>\n",
       "      <td>0.0</td>\n",
       "      <td>14.91</td>\n",
       "      <td>2.47</td>\n",
       "      <td>3.33</td>\n",
       "      <td>Othello</td>\n",
       "      <td>NaN</td>\n",
       "    </tr>\n",
       "  </tbody>\n",
       "</table>\n",
       "</div>"
      ],
      "text/plain": [
       "         Date  Date.1  Min°C  Avg°C  Max°C  Avg1.5m DP°C  Avg1.5m RH%  \\\n",
       "0  2020/04/01       1   -2.9    3.0    9.5          -2.1         72.0   \n",
       "1  2020/04/02       2   -4.3    3.2   10.2          -6.4         53.2   \n",
       "2  2020/04/03       3   -2.9    3.8   11.1          -5.3         56.7   \n",
       "3  2020/04/04       4   -3.6    5.0   11.1          -5.4         51.0   \n",
       "4  2020/04/05       5    3.0    7.4   13.5           1.3         68.3   \n",
       "\n",
       "   Avg1.5m LWu. AvgDir  Avg Speedm/s  2m MaxGustm/s  5 cm°C  Min°C.1  Avg°C.1  \\\n",
       "0          0.02      W           2.6            7.0     NaN      6.1      7.3   \n",
       "1          0.01      W           2.4            7.3     NaN      5.3      6.9   \n",
       "2          0.00     SW           4.5           12.8     NaN      5.7      7.2   \n",
       "3          0.00     NE           1.7            6.5     NaN      5.6      7.4   \n",
       "4          0.00      N           2.4            6.8     NaN      7.6      8.7   \n",
       "\n",
       "   TotPrecmm  TotalSolarRadMJ/m²  ETomm  ETrmm  Station  Avg2m Atm.PresshPa  \n",
       "0        0.0               15.50   1.97   2.64  Othello                 NaN  \n",
       "1        0.0               19.53   2.54   3.50  Othello                 NaN  \n",
       "2        0.0               19.06   3.07   4.48  Othello                 NaN  \n",
       "3        0.0               19.59   2.44   3.21  Othello                 NaN  \n",
       "4        0.0               14.91   2.47   3.33  Othello                 NaN  "
      ]
     },
     "execution_count": 308,
     "metadata": {},
     "output_type": "execute_result"
    }
   ],
   "source": [
    "df_AM = pd.concat([df_othello, df_prosser, df_tricities])\n",
    "df_AM.head()"
   ]
  },
  {
   "cell_type": "code",
   "execution_count": 310,
   "metadata": {},
   "outputs": [
    {
     "name": "stdout",
     "output_type": "stream",
     "text": [
      "(90, 3)\n"
     ]
    },
    {
     "data": {
      "text/html": [
       "<div>\n",
       "<style scoped>\n",
       "    .dataframe tbody tr th:only-of-type {\n",
       "        vertical-align: middle;\n",
       "    }\n",
       "\n",
       "    .dataframe tbody tr th {\n",
       "        vertical-align: top;\n",
       "    }\n",
       "\n",
       "    .dataframe thead th {\n",
       "        text-align: right;\n",
       "    }\n",
       "</style>\n",
       "<table border=\"1\" class=\"dataframe\">\n",
       "  <thead>\n",
       "    <tr style=\"text-align: right;\">\n",
       "      <th></th>\n",
       "      <th>Date</th>\n",
       "      <th>TotPrecmm</th>\n",
       "      <th>Station</th>\n",
       "    </tr>\n",
       "  </thead>\n",
       "  <tbody>\n",
       "    <tr>\n",
       "      <th>0</th>\n",
       "      <td>2020/04/01</td>\n",
       "      <td>0.0</td>\n",
       "      <td>Othello</td>\n",
       "    </tr>\n",
       "    <tr>\n",
       "      <th>1</th>\n",
       "      <td>2020/04/02</td>\n",
       "      <td>0.0</td>\n",
       "      <td>Othello</td>\n",
       "    </tr>\n",
       "    <tr>\n",
       "      <th>2</th>\n",
       "      <td>2020/04/03</td>\n",
       "      <td>0.0</td>\n",
       "      <td>Othello</td>\n",
       "    </tr>\n",
       "    <tr>\n",
       "      <th>3</th>\n",
       "      <td>2020/04/04</td>\n",
       "      <td>0.0</td>\n",
       "      <td>Othello</td>\n",
       "    </tr>\n",
       "    <tr>\n",
       "      <th>4</th>\n",
       "      <td>2020/04/05</td>\n",
       "      <td>0.0</td>\n",
       "      <td>Othello</td>\n",
       "    </tr>\n",
       "  </tbody>\n",
       "</table>\n",
       "</div>"
      ],
      "text/plain": [
       "         Date  TotPrecmm  Station\n",
       "0  2020/04/01        0.0  Othello\n",
       "1  2020/04/02        0.0  Othello\n",
       "2  2020/04/03        0.0  Othello\n",
       "3  2020/04/04        0.0  Othello\n",
       "4  2020/04/05        0.0  Othello"
      ]
     },
     "execution_count": 310,
     "metadata": {},
     "output_type": "execute_result"
    }
   ],
   "source": [
    "df_AM = df_AM[['Date', 'TotPrecmm','Station']]#subset only three columns\n",
    "print(df_AM.shape)\n",
    "df_AM.head()"
   ]
  },
  {
   "cell_type": "code",
   "execution_count": 315,
   "metadata": {},
   "outputs": [
    {
     "data": {
      "text/html": [
       "<div>\n",
       "<style scoped>\n",
       "    .dataframe tbody tr th:only-of-type {\n",
       "        vertical-align: middle;\n",
       "    }\n",
       "\n",
       "    .dataframe tbody tr th {\n",
       "        vertical-align: top;\n",
       "    }\n",
       "\n",
       "    .dataframe thead th {\n",
       "        text-align: right;\n",
       "    }\n",
       "</style>\n",
       "<table border=\"1\" class=\"dataframe\">\n",
       "  <thead>\n",
       "    <tr style=\"text-align: right;\">\n",
       "      <th></th>\n",
       "      <th>Station</th>\n",
       "      <th>TotPrecmm</th>\n",
       "      <th>PrecCount</th>\n",
       "    </tr>\n",
       "  </thead>\n",
       "  <tbody>\n",
       "    <tr>\n",
       "      <th>0</th>\n",
       "      <td>Othello</td>\n",
       "      <td>0.00</td>\n",
       "      <td>29</td>\n",
       "    </tr>\n",
       "    <tr>\n",
       "      <th>1</th>\n",
       "      <td>Othello</td>\n",
       "      <td>1.52</td>\n",
       "      <td>1</td>\n",
       "    </tr>\n",
       "    <tr>\n",
       "      <th>2</th>\n",
       "      <td>Prosser</td>\n",
       "      <td>0.00</td>\n",
       "      <td>29</td>\n",
       "    </tr>\n",
       "    <tr>\n",
       "      <th>3</th>\n",
       "      <td>Prosser</td>\n",
       "      <td>1.78</td>\n",
       "      <td>1</td>\n",
       "    </tr>\n",
       "    <tr>\n",
       "      <th>4</th>\n",
       "      <td>Tricities</td>\n",
       "      <td>0.00</td>\n",
       "      <td>29</td>\n",
       "    </tr>\n",
       "    <tr>\n",
       "      <th>5</th>\n",
       "      <td>Tricities</td>\n",
       "      <td>1.02</td>\n",
       "      <td>1</td>\n",
       "    </tr>\n",
       "  </tbody>\n",
       "</table>\n",
       "</div>"
      ],
      "text/plain": [
       "     Station  TotPrecmm  PrecCount\n",
       "0    Othello       0.00         29\n",
       "1    Othello       1.52          1\n",
       "2    Prosser       0.00         29\n",
       "3    Prosser       1.78          1\n",
       "4  Tricities       0.00         29\n",
       "5  Tricities       1.02          1"
      ]
     },
     "execution_count": 315,
     "metadata": {},
     "output_type": "execute_result"
    }
   ],
   "source": [
    "grouped = df_AM.groupby(['Station','TotPrecmm']).size().reset_index(name = 'PrecCount')\n",
    "grouped"
   ]
  },
  {
   "cell_type": "code",
   "execution_count": 317,
   "metadata": {},
   "outputs": [
    {
     "data": {
      "text/html": [
       "<div>\n",
       "<style scoped>\n",
       "    .dataframe tbody tr th:only-of-type {\n",
       "        vertical-align: middle;\n",
       "    }\n",
       "\n",
       "    .dataframe tbody tr th {\n",
       "        vertical-align: top;\n",
       "    }\n",
       "\n",
       "    .dataframe thead th {\n",
       "        text-align: right;\n",
       "    }\n",
       "</style>\n",
       "<table border=\"1\" class=\"dataframe\">\n",
       "  <thead>\n",
       "    <tr style=\"text-align: right;\">\n",
       "      <th></th>\n",
       "      <th>Station</th>\n",
       "      <th>TotPrecmm</th>\n",
       "      <th>PrecCount</th>\n",
       "      <th>RainyDays</th>\n",
       "    </tr>\n",
       "  </thead>\n",
       "  <tbody>\n",
       "    <tr>\n",
       "      <th>0</th>\n",
       "      <td>Othello</td>\n",
       "      <td>0.0</td>\n",
       "      <td>29</td>\n",
       "      <td>1</td>\n",
       "    </tr>\n",
       "    <tr>\n",
       "      <th>2</th>\n",
       "      <td>Prosser</td>\n",
       "      <td>0.0</td>\n",
       "      <td>29</td>\n",
       "      <td>1</td>\n",
       "    </tr>\n",
       "    <tr>\n",
       "      <th>4</th>\n",
       "      <td>Tricities</td>\n",
       "      <td>0.0</td>\n",
       "      <td>29</td>\n",
       "      <td>1</td>\n",
       "    </tr>\n",
       "  </tbody>\n",
       "</table>\n",
       "</div>"
      ],
      "text/plain": [
       "     Station  TotPrecmm  PrecCount  RainyDays\n",
       "0    Othello        0.0         29          1\n",
       "2    Prosser        0.0         29          1\n",
       "4  Tricities        0.0         29          1"
      ]
     },
     "execution_count": 317,
     "metadata": {},
     "output_type": "execute_result"
    }
   ],
   "source": [
    "grouped = grouped.query('TotPrecmm==0')\n",
    "grouped['RainyDays'] = 30- grouped['PrecCount']\n",
    "grouped"
   ]
  },
  {
   "cell_type": "code",
   "execution_count": 320,
   "metadata": {},
   "outputs": [],
   "source": [
    "RainDays_April_Othello = np.array(grouped['RainyDays'][(grouped['Station']=='Othello')])\n",
    "RainDays_April_Prosser = np.array(grouped['RainyDays'][(grouped['Station']=='Prosser')])\n",
    "RainDays_April_Tricities = np.array(grouped['RainyDays'][(grouped['Station']=='Tricities')])"
   ]
  },
  {
   "cell_type": "markdown",
   "metadata": {},
   "source": [
    "* Just random random for now"
   ]
  },
  {
   "cell_type": "code",
   "execution_count": null,
   "metadata": {},
   "outputs": [],
   "source": [
    "RainDays_May_Othello = 6\n",
    "RainDays_May_Prosser = 9\n",
    "RainDays_May_Tricities = 10"
   ]
  },
  {
   "cell_type": "markdown",
   "metadata": {},
   "source": [
    "#### Model 1: logistic regression"
   ]
  },
  {
   "cell_type": "markdown",
   "metadata": {},
   "source": [
    "- **Prosser**"
   ]
  },
  {
   "cell_type": "markdown",
   "metadata": {},
   "source": [
    "> $lf = 9.252 - 4.004(Y_p) - 0.660(R_{am})$"
   ]
  },
  {
   "cell_type": "markdown",
   "metadata": {},
   "source": [
    "> where:\n",
    "\n",
    "> $Y_p$: late blight outbreak during the preceding year:\n",
    "$$  \n",
    "Y_p\n",
    "\\begin{cases}\n",
    "  \\text{late blight absent in previous year/ no} = 0 \\\\    \n",
    "  \\text{late blight present in previous year/ yes} = 1 \n",
    "\\end{cases}\n",
    "$$\n",
    "> $R_{am}$: number of days with rain >= 0.25 mm during April and May"
   ]
  },
  {
   "cell_type": "code",
   "execution_count": 343,
   "metadata": {},
   "outputs": [
    {
     "name": "stdout",
     "output_type": "stream",
     "text": [
      "[-1.352]\n",
      "Probability of late blight occurence in Prosser:\n",
      "[0.79445641]\n"
     ]
    }
   ],
   "source": [
    "lf_Prosser = 9.252 - 4.004*1 - 0.660*(RainDays_April_Prosser+RainDays_May_Prosser)\n",
    "print(lf_Prosser)\n",
    "Prob_Prosser= 1 / (1 + np.exp(lf_Prosser))\n",
    "print('Probability of late blight occurence in Prosser:')\n",
    "print(Prob_Prosser)"
   ]
  },
  {
   "cell_type": "markdown",
   "metadata": {},
   "source": [
    "- **Tri-Cities**"
   ]
  },
  {
   "cell_type": "markdown",
   "metadata": {},
   "source": [
    "> $lf = -2.987 - 3.062(Y_p) - 0.163(R_{am})$"
   ]
  },
  {
   "cell_type": "code",
   "execution_count": 346,
   "metadata": {},
   "outputs": [
    {
     "name": "stdout",
     "output_type": "stream",
     "text": [
      "[-7.842]\n",
      "Probability of late blight occurence in Tricites:\n",
      "[0.99960727]\n"
     ]
    }
   ],
   "source": [
    "lf_Tricities = -2.987 - 3.062*1 - 0.163*(RainDays_April_Tricities + RainDays_May_Tricities)\n",
    "print(lf_Tricities)\n",
    "Prob_Tricities = 1 / (1 + np.exp(lf_Tricities))\n",
    "print('Probability of late blight occurence in Tricites:')\n",
    "print(Prob_Tricities)"
   ]
  },
  {
   "cell_type": "markdown",
   "metadata": {},
   "source": [
    "- **Othello**"
   ]
  },
  {
   "cell_type": "markdown",
   "metadata": {},
   "source": [
    "> $lf = 4.723 - 3.561(Y_p) - 0.293(R_{am})$"
   ]
  },
  {
   "cell_type": "code",
   "execution_count": 348,
   "metadata": {},
   "outputs": [
    {
     "name": "stdout",
     "output_type": "stream",
     "text": [
      "[-0.889]\n",
      "Probability of late blight occurence in Othello:\n",
      "[0.70868376]\n"
     ]
    }
   ],
   "source": [
    "lf_Othello = 4.723 - 3.561*1 - 0.293*(RainDays_April_Othello + RainDays_May_Othello)\n",
    "print(lf_Othello)\n",
    "Prob_Othello = 1 / (1 + np.exp(lf_Othello))\n",
    "print('Probability of late blight occurence in Othello:')\n",
    "print(Prob_Othello)"
   ]
  },
  {
   "cell_type": "markdown",
   "metadata": {},
   "source": [
    "**C**"
   ]
  },
  {
   "cell_type": "code",
   "execution_count": 351,
   "metadata": {},
   "outputs": [
    {
     "name": "stdin",
     "output_type": "stream",
     "text": [
      "What is the probability of late blight occurrence in the Columbia Basin of Washington?\n",
      "                  A) <50% \n",
      "                  B) >50% \n",
      " B\n"
     ]
    }
   ],
   "source": [
    "while True:\n",
    "    # Request user input\n",
    "    C = input(\"What is the probability of late blight occurrence in the Columbia Basin of Washington?\\n \\\n",
    "                 A) <50% \\n \\\n",
    "                 B) >50% \\n\")\n",
    "    # If Risk Factor (RF) C is option \"A\"\n",
    "    if (C == \"A\") :\n",
    "        # Set RF to 0\n",
    "        C = 0\n",
    "    # Else, RF is \"B\" and\n",
    "    elif (C == \"B\"):\n",
    "        # Set it to 30\n",
    "        C = 4\n",
    "    # Break\n",
    "    break"
   ]
  },
  {
   "cell_type": "markdown",
   "metadata": {},
   "source": [
    "**D**"
   ]
  },
  {
   "cell_type": "code",
   "execution_count": 352,
   "metadata": {},
   "outputs": [
    {
     "name": "stdin",
     "output_type": "stream",
     "text": [
      "What is the date?\n",
      "                  A) December through April \n",
      "                  B) May, July - November \n",
      "                  C) June \n",
      " B\n"
     ]
    }
   ],
   "source": [
    "while True:\n",
    "    # Request user input\n",
    "    D = input(\"What is the date?\\n \\\n",
    "                 A) December through April \\n \\\n",
    "                 B) May, July - November \\n \\\n",
    "                 C) June \\n\")\n",
    "    # If Risk Factor (RF) D is option \"A\"\n",
    "    if (D == \"A\") :\n",
    "        # Set RF to 0\n",
    "        D = 0\n",
    "    # Else, if RF is \"B\" and\n",
    "    elif (D == \"B\"):\n",
    "        # Set it to 1\n",
    "        D = 1\n",
    "    # Else, RF is \"C\" and\n",
    "    elif (D == \"C\"):\n",
    "        # Set it to 3J\n",
    "        D = 3J\n",
    "    # Break\n",
    "    break"
   ]
  },
  {
   "cell_type": "markdown",
   "metadata": {},
   "source": [
    "**E**"
   ]
  },
  {
   "cell_type": "code",
   "execution_count": 353,
   "metadata": {},
   "outputs": [
    {
     "name": "stdin",
     "output_type": "stream",
     "text": [
      "How many rainy days are expected to occur within the next 7 days?\n",
      "                  A) 0 rainy days expected \n",
      "                  B) 1 rainy days expected \n",
      "                  C) 2 rainy days expected \n",
      "                  D) 3 or more rainy days expected\n",
      " B\n"
     ]
    }
   ],
   "source": [
    "while True:\n",
    "    # Request user input\n",
    "    E = input(\"How many rainy days are expected to occur within the next 7 days?\\n \\\n",
    "                 A) 0 rainy days expected \\n \\\n",
    "                 B) 1 rainy days expected \\n \\\n",
    "                 C) 2 rainy days expected \\n \\\n",
    "                 D) 3 or more rainy days expected\\n\")\n",
    "    # If Risk Factor (RF) E is option \"A\"\n",
    "    if (E == \"A\") :\n",
    "        # Set RF to 1\n",
    "        E = 1\n",
    "    # Else, if RF is \"B\" and\n",
    "    elif (E == \"B\"):\n",
    "        # Set it to 2\n",
    "        E = 2\n",
    "    # Else, if RF is \"C\" and\n",
    "    elif (E == \"C\"):\n",
    "        # Set it to 4\n",
    "        E = 4\n",
    "    # Else, if RF is \"C\" and\n",
    "    elif (E == \"D\"):\n",
    "        # Set it to 5\n",
    "        E = 5\n",
    "    # Break\n",
    "    break"
   ]
  },
  {
   "cell_type": "markdown",
   "metadata": {},
   "source": [
    "**Calcualte Risk factor**"
   ]
  },
  {
   "cell_type": "code",
   "execution_count": 357,
   "metadata": {},
   "outputs": [
    {
     "data": {
      "text/plain": [
       "0"
      ]
     },
     "execution_count": 357,
     "metadata": {},
     "output_type": "execute_result"
    }
   ],
   "source": [
    "Risk = A*B*C*D*E\n",
    "Risk"
   ]
  },
  {
   "cell_type": "markdown",
   "metadata": {},
   "source": [
    "**Recommendation for the growers**"
   ]
  },
  {
   "cell_type": "code",
   "execution_count": 361,
   "metadata": {},
   "outputs": [
    {
     "name": "stdout",
     "output_type": "stream",
     "text": [
      "Recommendation: Late blight is not likely, fungicide application is not recommended. Dispose of all cull or refuse tubers and manage volunteer potato plants, especially in fields were late blight occurred the last two years. Monitor fields for late blight on regular bases.\n"
     ]
    }
   ],
   "source": [
    "if Risk == 0:\n",
    "    print('Recommendation: Late blight is not likely, fungicide application is not recommended. Dispose of all cull or refuse tubers and manage volunteer potato plants, especially in fields were late blight occurred the last two years. Monitor fields for late blight on regular bases.')\n",
    "elif Risk >=1 and Risk <3:\n",
    "    print('Recommendation: Late blight is not likely, fungicide application is not recommended. Dispose of all cull or refuse tubers and manage volunteer potato plants, especially in fields were late blight occurred the last two years. Monitor fields for late blight. Monitor fields for late blight on regular bases.')\n",
    "elif Risk >= 4 and Risk <6:\n",
    "    print('Recommendation:  Apply late blight fungicide before any rainy period. Dispose of all cull or refuse tubers and manage volunteer potato plants, especially in fields were late blight occurred the last two years. Monitor fields for late blight. Monitor fields for late blight on regular bases.')\n",
    "elif Risk >=8 and Risk <11:\n",
    "    print('Apply late blight fungicide before any rainy periods and continue for 3 wks. Dispose of all cull or refuse tubers and manage volunteer potato plants, especially in fields were late blight occurred the last two years. Monitor fields for late blight. Monitor fields for late blight on regular bases.')\n",
    "elif Risk == 30:\n",
    "    print('Recommendataion: Confirm occurrence of late blight. If present, apply late blight fungicides on a 5 to 7 day schedule and continue until harvest. Avoid over watering and irrigation during and just after rainy, cool and cloudy weather. Harvest during dry weather. Sort out rotten tubers going into storage. Consult literature on recommendations for management of late blight in the field during late season in infected tubers in storage. ')"
   ]
  },
  {
   "cell_type": "code",
   "execution_count": null,
   "metadata": {},
   "outputs": [],
   "source": []
  },
  {
   "cell_type": "code",
   "execution_count": null,
   "metadata": {},
   "outputs": [],
   "source": []
  },
  {
   "cell_type": "code",
   "execution_count": null,
   "metadata": {},
   "outputs": [],
   "source": []
  },
  {
   "cell_type": "code",
   "execution_count": null,
   "metadata": {},
   "outputs": [],
   "source": []
  },
  {
   "cell_type": "code",
   "execution_count": null,
   "metadata": {},
   "outputs": [],
   "source": []
  },
  {
   "cell_type": "code",
   "execution_count": null,
   "metadata": {},
   "outputs": [],
   "source": []
  },
  {
   "cell_type": "code",
   "execution_count": null,
   "metadata": {},
   "outputs": [],
   "source": []
  },
  {
   "cell_type": "code",
   "execution_count": null,
   "metadata": {},
   "outputs": [],
   "source": []
  },
  {
   "cell_type": "code",
   "execution_count": null,
   "metadata": {},
   "outputs": [],
   "source": []
  },
  {
   "cell_type": "code",
   "execution_count": null,
   "metadata": {},
   "outputs": [],
   "source": []
  },
  {
   "cell_type": "code",
   "execution_count": null,
   "metadata": {},
   "outputs": [],
   "source": []
  },
  {
   "cell_type": "code",
   "execution_count": null,
   "metadata": {},
   "outputs": [],
   "source": []
  },
  {
   "cell_type": "markdown",
   "metadata": {},
   "source": [
    "### Graveyard"
   ]
  },
  {
   "cell_type": "markdown",
   "metadata": {},
   "source": [
    "#### Both April and May"
   ]
  },
  {
   "cell_type": "code",
   "execution_count": 323,
   "metadata": {},
   "outputs": [],
   "source": [
    "os.chdir('C:/Users/sudha.gcupadhaya/Desktop/LateBlight/Data')\n",
    "df_othello = pd.read_csv('Othello_AM_2020.csv')\n",
    "df_prosser = pd.read_csv('Prosser_AM_2020.csv')\n",
    "df_tricities = pd.read_csv('Tricities_AM_2020.csv')"
   ]
  },
  {
   "cell_type": "code",
   "execution_count": 324,
   "metadata": {},
   "outputs": [],
   "source": [
    "df_othello['Station'] = 'Othello'\n",
    "df_prosser['Station'] = 'Prosser'\n",
    "df_tricities['Station'] = 'Tricities'"
   ]
  },
  {
   "cell_type": "code",
   "execution_count": 325,
   "metadata": {},
   "outputs": [
    {
     "data": {
      "text/html": [
       "<div>\n",
       "<style scoped>\n",
       "    .dataframe tbody tr th:only-of-type {\n",
       "        vertical-align: middle;\n",
       "    }\n",
       "\n",
       "    .dataframe tbody tr th {\n",
       "        vertical-align: top;\n",
       "    }\n",
       "\n",
       "    .dataframe thead th {\n",
       "        text-align: right;\n",
       "    }\n",
       "</style>\n",
       "<table border=\"1\" class=\"dataframe\">\n",
       "  <thead>\n",
       "    <tr style=\"text-align: right;\">\n",
       "      <th></th>\n",
       "      <th>Date</th>\n",
       "      <th>Date.1</th>\n",
       "      <th>Min°C</th>\n",
       "      <th>Avg°C</th>\n",
       "      <th>Max°C</th>\n",
       "      <th>Avg1.5m DP°C</th>\n",
       "      <th>Avg1.5m RH%</th>\n",
       "      <th>Avg1.5m LWu.</th>\n",
       "      <th>AvgDir</th>\n",
       "      <th>Avg Speedm/s</th>\n",
       "      <th>2m MaxGustm/s</th>\n",
       "      <th>5 cm°C</th>\n",
       "      <th>Min°C.1</th>\n",
       "      <th>Avg°C.1</th>\n",
       "      <th>TotPrecmm</th>\n",
       "      <th>TotalSolarRadMJ/m²</th>\n",
       "      <th>ETomm</th>\n",
       "      <th>ETrmm</th>\n",
       "      <th>Station</th>\n",
       "      <th>Avg2m Atm.PresshPa</th>\n",
       "    </tr>\n",
       "  </thead>\n",
       "  <tbody>\n",
       "    <tr>\n",
       "      <th>0</th>\n",
       "      <td>2020/04/01</td>\n",
       "      <td>1</td>\n",
       "      <td>-2.9</td>\n",
       "      <td>3.0</td>\n",
       "      <td>9.5</td>\n",
       "      <td>-2.1</td>\n",
       "      <td>72.0</td>\n",
       "      <td>0.02</td>\n",
       "      <td>W</td>\n",
       "      <td>2.6</td>\n",
       "      <td>7.0</td>\n",
       "      <td>NaN</td>\n",
       "      <td>6.1</td>\n",
       "      <td>7.3</td>\n",
       "      <td>0.0</td>\n",
       "      <td>15.50</td>\n",
       "      <td>1.97</td>\n",
       "      <td>2.64</td>\n",
       "      <td>Othello</td>\n",
       "      <td>NaN</td>\n",
       "    </tr>\n",
       "    <tr>\n",
       "      <th>1</th>\n",
       "      <td>2020/04/02</td>\n",
       "      <td>2</td>\n",
       "      <td>-4.3</td>\n",
       "      <td>3.2</td>\n",
       "      <td>10.2</td>\n",
       "      <td>-6.4</td>\n",
       "      <td>53.2</td>\n",
       "      <td>0.01</td>\n",
       "      <td>W</td>\n",
       "      <td>2.4</td>\n",
       "      <td>7.3</td>\n",
       "      <td>NaN</td>\n",
       "      <td>5.3</td>\n",
       "      <td>6.9</td>\n",
       "      <td>0.0</td>\n",
       "      <td>19.53</td>\n",
       "      <td>2.54</td>\n",
       "      <td>3.50</td>\n",
       "      <td>Othello</td>\n",
       "      <td>NaN</td>\n",
       "    </tr>\n",
       "    <tr>\n",
       "      <th>2</th>\n",
       "      <td>2020/04/03</td>\n",
       "      <td>3</td>\n",
       "      <td>-2.9</td>\n",
       "      <td>3.8</td>\n",
       "      <td>11.1</td>\n",
       "      <td>-5.3</td>\n",
       "      <td>56.7</td>\n",
       "      <td>0.00</td>\n",
       "      <td>SW</td>\n",
       "      <td>4.5</td>\n",
       "      <td>12.8</td>\n",
       "      <td>NaN</td>\n",
       "      <td>5.7</td>\n",
       "      <td>7.2</td>\n",
       "      <td>0.0</td>\n",
       "      <td>19.06</td>\n",
       "      <td>3.07</td>\n",
       "      <td>4.48</td>\n",
       "      <td>Othello</td>\n",
       "      <td>NaN</td>\n",
       "    </tr>\n",
       "    <tr>\n",
       "      <th>3</th>\n",
       "      <td>2020/04/04</td>\n",
       "      <td>4</td>\n",
       "      <td>-3.6</td>\n",
       "      <td>5.0</td>\n",
       "      <td>11.1</td>\n",
       "      <td>-5.4</td>\n",
       "      <td>51.0</td>\n",
       "      <td>0.00</td>\n",
       "      <td>NE</td>\n",
       "      <td>1.7</td>\n",
       "      <td>6.5</td>\n",
       "      <td>NaN</td>\n",
       "      <td>5.6</td>\n",
       "      <td>7.4</td>\n",
       "      <td>0.0</td>\n",
       "      <td>19.59</td>\n",
       "      <td>2.44</td>\n",
       "      <td>3.21</td>\n",
       "      <td>Othello</td>\n",
       "      <td>NaN</td>\n",
       "    </tr>\n",
       "    <tr>\n",
       "      <th>4</th>\n",
       "      <td>2020/04/05</td>\n",
       "      <td>5</td>\n",
       "      <td>3.0</td>\n",
       "      <td>7.4</td>\n",
       "      <td>13.5</td>\n",
       "      <td>1.3</td>\n",
       "      <td>68.3</td>\n",
       "      <td>0.00</td>\n",
       "      <td>N</td>\n",
       "      <td>2.4</td>\n",
       "      <td>6.8</td>\n",
       "      <td>NaN</td>\n",
       "      <td>7.6</td>\n",
       "      <td>8.7</td>\n",
       "      <td>0.0</td>\n",
       "      <td>14.91</td>\n",
       "      <td>2.47</td>\n",
       "      <td>3.33</td>\n",
       "      <td>Othello</td>\n",
       "      <td>NaN</td>\n",
       "    </tr>\n",
       "  </tbody>\n",
       "</table>\n",
       "</div>"
      ],
      "text/plain": [
       "         Date  Date.1  Min°C  Avg°C  Max°C  Avg1.5m DP°C  Avg1.5m RH%  \\\n",
       "0  2020/04/01       1   -2.9    3.0    9.5          -2.1         72.0   \n",
       "1  2020/04/02       2   -4.3    3.2   10.2          -6.4         53.2   \n",
       "2  2020/04/03       3   -2.9    3.8   11.1          -5.3         56.7   \n",
       "3  2020/04/04       4   -3.6    5.0   11.1          -5.4         51.0   \n",
       "4  2020/04/05       5    3.0    7.4   13.5           1.3         68.3   \n",
       "\n",
       "   Avg1.5m LWu. AvgDir  Avg Speedm/s  2m MaxGustm/s  5 cm°C  Min°C.1  Avg°C.1  \\\n",
       "0          0.02      W           2.6            7.0     NaN      6.1      7.3   \n",
       "1          0.01      W           2.4            7.3     NaN      5.3      6.9   \n",
       "2          0.00     SW           4.5           12.8     NaN      5.7      7.2   \n",
       "3          0.00     NE           1.7            6.5     NaN      5.6      7.4   \n",
       "4          0.00      N           2.4            6.8     NaN      7.6      8.7   \n",
       "\n",
       "   TotPrecmm  TotalSolarRadMJ/m²  ETomm  ETrmm  Station  Avg2m Atm.PresshPa  \n",
       "0        0.0               15.50   1.97   2.64  Othello                 NaN  \n",
       "1        0.0               19.53   2.54   3.50  Othello                 NaN  \n",
       "2        0.0               19.06   3.07   4.48  Othello                 NaN  \n",
       "3        0.0               19.59   2.44   3.21  Othello                 NaN  \n",
       "4        0.0               14.91   2.47   3.33  Othello                 NaN  "
      ]
     },
     "execution_count": 325,
     "metadata": {},
     "output_type": "execute_result"
    }
   ],
   "source": [
    "df_AM = pd.concat([df_othello, df_prosser, df_tricities])\n",
    "df_AM.head()"
   ]
  },
  {
   "cell_type": "code",
   "execution_count": 326,
   "metadata": {},
   "outputs": [
    {
     "data": {
      "text/html": [
       "<div>\n",
       "<style scoped>\n",
       "    .dataframe tbody tr th:only-of-type {\n",
       "        vertical-align: middle;\n",
       "    }\n",
       "\n",
       "    .dataframe tbody tr th {\n",
       "        vertical-align: top;\n",
       "    }\n",
       "\n",
       "    .dataframe thead th {\n",
       "        text-align: right;\n",
       "    }\n",
       "</style>\n",
       "<table border=\"1\" class=\"dataframe\">\n",
       "  <thead>\n",
       "    <tr style=\"text-align: right;\">\n",
       "      <th></th>\n",
       "      <th>Date</th>\n",
       "      <th>TotPrecmm</th>\n",
       "      <th>Station</th>\n",
       "      <th>Month</th>\n",
       "    </tr>\n",
       "  </thead>\n",
       "  <tbody>\n",
       "    <tr>\n",
       "      <th>0</th>\n",
       "      <td>2020/04/01</td>\n",
       "      <td>0.0</td>\n",
       "      <td>Othello</td>\n",
       "      <td>4</td>\n",
       "    </tr>\n",
       "    <tr>\n",
       "      <th>1</th>\n",
       "      <td>2020/04/02</td>\n",
       "      <td>0.0</td>\n",
       "      <td>Othello</td>\n",
       "      <td>4</td>\n",
       "    </tr>\n",
       "    <tr>\n",
       "      <th>2</th>\n",
       "      <td>2020/04/03</td>\n",
       "      <td>0.0</td>\n",
       "      <td>Othello</td>\n",
       "      <td>4</td>\n",
       "    </tr>\n",
       "    <tr>\n",
       "      <th>3</th>\n",
       "      <td>2020/04/04</td>\n",
       "      <td>0.0</td>\n",
       "      <td>Othello</td>\n",
       "      <td>4</td>\n",
       "    </tr>\n",
       "    <tr>\n",
       "      <th>4</th>\n",
       "      <td>2020/04/05</td>\n",
       "      <td>0.0</td>\n",
       "      <td>Othello</td>\n",
       "      <td>4</td>\n",
       "    </tr>\n",
       "  </tbody>\n",
       "</table>\n",
       "</div>"
      ],
      "text/plain": [
       "         Date  TotPrecmm  Station  Month\n",
       "0  2020/04/01        0.0  Othello      4\n",
       "1  2020/04/02        0.0  Othello      4\n",
       "2  2020/04/03        0.0  Othello      4\n",
       "3  2020/04/04        0.0  Othello      4\n",
       "4  2020/04/05        0.0  Othello      4"
      ]
     },
     "execution_count": 326,
     "metadata": {},
     "output_type": "execute_result"
    }
   ],
   "source": [
    "df_AM = df_AM[['Date', 'TotPrecmm','Station']]#subset only three columns\n",
    "df_AM['Month']= pd.DatetimeIndex(df_AM['Date']).month#create a new column for month using date \n",
    "df_AM.head()"
   ]
  },
  {
   "cell_type": "code",
   "execution_count": 327,
   "metadata": {},
   "outputs": [
    {
     "data": {
      "text/html": [
       "<div>\n",
       "<style scoped>\n",
       "    .dataframe tbody tr th:only-of-type {\n",
       "        vertical-align: middle;\n",
       "    }\n",
       "\n",
       "    .dataframe tbody tr th {\n",
       "        vertical-align: top;\n",
       "    }\n",
       "\n",
       "    .dataframe thead th {\n",
       "        text-align: right;\n",
       "    }\n",
       "</style>\n",
       "<table border=\"1\" class=\"dataframe\">\n",
       "  <thead>\n",
       "    <tr style=\"text-align: right;\">\n",
       "      <th></th>\n",
       "      <th>Station</th>\n",
       "      <th>Month</th>\n",
       "      <th>TotPrecmm</th>\n",
       "      <th>PrecCount</th>\n",
       "    </tr>\n",
       "  </thead>\n",
       "  <tbody>\n",
       "    <tr>\n",
       "      <th>0</th>\n",
       "      <td>Othello</td>\n",
       "      <td>4</td>\n",
       "      <td>0.00</td>\n",
       "      <td>29</td>\n",
       "    </tr>\n",
       "    <tr>\n",
       "      <th>1</th>\n",
       "      <td>Othello</td>\n",
       "      <td>4</td>\n",
       "      <td>1.52</td>\n",
       "      <td>1</td>\n",
       "    </tr>\n",
       "    <tr>\n",
       "      <th>2</th>\n",
       "      <td>Othello</td>\n",
       "      <td>5</td>\n",
       "      <td>0.00</td>\n",
       "      <td>25</td>\n",
       "    </tr>\n",
       "    <tr>\n",
       "      <th>3</th>\n",
       "      <td>Othello</td>\n",
       "      <td>5</td>\n",
       "      <td>0.76</td>\n",
       "      <td>1</td>\n",
       "    </tr>\n",
       "    <tr>\n",
       "      <th>4</th>\n",
       "      <td>Othello</td>\n",
       "      <td>5</td>\n",
       "      <td>2.03</td>\n",
       "      <td>1</td>\n",
       "    </tr>\n",
       "  </tbody>\n",
       "</table>\n",
       "</div>"
      ],
      "text/plain": [
       "   Station  Month  TotPrecmm  PrecCount\n",
       "0  Othello      4       0.00         29\n",
       "1  Othello      4       1.52          1\n",
       "2  Othello      5       0.00         25\n",
       "3  Othello      5       0.76          1\n",
       "4  Othello      5       2.03          1"
      ]
     },
     "execution_count": 327,
     "metadata": {},
     "output_type": "execute_result"
    }
   ],
   "source": [
    "grouped = df_AM.groupby(['Station', 'Month','TotPrecmm']).size().reset_index(name = 'PrecCount')#use groupby function to count no.of rainfall events\n",
    "grouped.head()"
   ]
  },
  {
   "cell_type": "code",
   "execution_count": 328,
   "metadata": {},
   "outputs": [
    {
     "data": {
      "text/html": [
       "<div>\n",
       "<style scoped>\n",
       "    .dataframe tbody tr th:only-of-type {\n",
       "        vertical-align: middle;\n",
       "    }\n",
       "\n",
       "    .dataframe tbody tr th {\n",
       "        vertical-align: top;\n",
       "    }\n",
       "\n",
       "    .dataframe thead th {\n",
       "        text-align: right;\n",
       "    }\n",
       "</style>\n",
       "<table border=\"1\" class=\"dataframe\">\n",
       "  <thead>\n",
       "    <tr style=\"text-align: right;\">\n",
       "      <th></th>\n",
       "      <th>Station</th>\n",
       "      <th>Month</th>\n",
       "      <th>TotPrecmm</th>\n",
       "      <th>PrecCount</th>\n",
       "      <th>TotDays</th>\n",
       "      <th>RainyDays</th>\n",
       "    </tr>\n",
       "  </thead>\n",
       "  <tbody>\n",
       "    <tr>\n",
       "      <th>0</th>\n",
       "      <td>Othello</td>\n",
       "      <td>4</td>\n",
       "      <td>0.0</td>\n",
       "      <td>29</td>\n",
       "      <td>30</td>\n",
       "      <td>1</td>\n",
       "    </tr>\n",
       "    <tr>\n",
       "      <th>2</th>\n",
       "      <td>Othello</td>\n",
       "      <td>5</td>\n",
       "      <td>0.0</td>\n",
       "      <td>25</td>\n",
       "      <td>31</td>\n",
       "      <td>6</td>\n",
       "    </tr>\n",
       "    <tr>\n",
       "      <th>9</th>\n",
       "      <td>Prosser</td>\n",
       "      <td>4</td>\n",
       "      <td>0.0</td>\n",
       "      <td>29</td>\n",
       "      <td>30</td>\n",
       "      <td>1</td>\n",
       "    </tr>\n",
       "    <tr>\n",
       "      <th>11</th>\n",
       "      <td>Prosser</td>\n",
       "      <td>5</td>\n",
       "      <td>0.0</td>\n",
       "      <td>22</td>\n",
       "      <td>31</td>\n",
       "      <td>9</td>\n",
       "    </tr>\n",
       "    <tr>\n",
       "      <th>20</th>\n",
       "      <td>Tricities</td>\n",
       "      <td>4</td>\n",
       "      <td>0.0</td>\n",
       "      <td>29</td>\n",
       "      <td>30</td>\n",
       "      <td>1</td>\n",
       "    </tr>\n",
       "    <tr>\n",
       "      <th>22</th>\n",
       "      <td>Tricities</td>\n",
       "      <td>5</td>\n",
       "      <td>0.0</td>\n",
       "      <td>21</td>\n",
       "      <td>31</td>\n",
       "      <td>10</td>\n",
       "    </tr>\n",
       "  </tbody>\n",
       "</table>\n",
       "</div>"
      ],
      "text/plain": [
       "      Station  Month  TotPrecmm  PrecCount  TotDays  RainyDays\n",
       "0     Othello      4        0.0         29       30          1\n",
       "2     Othello      5        0.0         25       31          6\n",
       "9     Prosser      4        0.0         29       30          1\n",
       "11    Prosser      5        0.0         22       31          9\n",
       "20  Tricities      4        0.0         29       30          1\n",
       "22  Tricities      5        0.0         21       31         10"
      ]
     },
     "execution_count": 328,
     "metadata": {},
     "output_type": "execute_result"
    }
   ],
   "source": [
    "grouped = grouped.query('TotPrecmm==0')#Subset the rainfall events =0\n",
    "grouped['TotDays'] = grouped['Month'].apply(lambda x: 30 if x== 4 else 31)#create new column for the total no. of days for both April and may \n",
    "grouped['RainyDays'] = grouped['TotDays'] - grouped['PrecCount']#calculate total no. of rainy days\n",
    "grouped"
   ]
  },
  {
   "cell_type": "code",
   "execution_count": 329,
   "metadata": {},
   "outputs": [],
   "source": [
    "RainDays_April_Othello = np.array(grouped['RainyDays'][(grouped['Station']=='Othello') & (grouped['Month'] ==4)])#extract no.of rainy days for each month and location\n",
    "RainDays_May_Othello = np.array(grouped['RainyDays'][(grouped['Station']=='Othello') & (grouped['Month'] ==5)])\n",
    "RainDays_April_Prosser = np.array(grouped['RainyDays'][(grouped['Station']=='Prosser') & (grouped['Month'] ==4)])\n",
    "RainDays_May_Prosser = np.array(grouped['RainyDays'][(grouped['Station']=='Prosser') & (grouped['Month'] ==5)])\n",
    "RainDays_April_Tricities = np.array(grouped['RainyDays'][(grouped['Station']=='Tricities') & (grouped['Month'] ==4)])\n",
    "RainDays_May_Tricities = np.array(grouped['RainyDays'][(grouped['Station']=='Tricities') & (grouped['Month'] ==5)])"
   ]
  }
 ],
 "metadata": {
  "kernelspec": {
   "display_name": "Python 3",
   "language": "python",
   "name": "python3"
  },
  "language_info": {
   "codemirror_mode": {
    "name": "ipython",
    "version": 3
   },
   "file_extension": ".py",
   "mimetype": "text/x-python",
   "name": "python",
   "nbconvert_exporter": "python",
   "pygments_lexer": "ipython3",
   "version": "3.8.3"
  }
 },
 "nbformat": 4,
 "nbformat_minor": 4
}
