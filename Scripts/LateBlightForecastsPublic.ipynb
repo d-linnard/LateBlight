{
 "cells": [
  {
   "cell_type": "markdown",
   "metadata": {},
   "source": [
    "# Late blight prediction for the Columbia Basin of Washington"
   ]
  },
  {
   "cell_type": "markdown",
   "metadata": {},
   "source": [
    "# Date: 3/25/2020"
   ]
  },
  {
   "cell_type": "markdown",
   "metadata": {},
   "source": [
    "# Authors:\n",
    "- Original models were developed by Dennis Johnson and colleagues:\n",
    "    - Johnson DA, Alldredge JR, and Vakoch DL. 1996. Potato late blight forecasting models for the semiarid environment of south-central Washington. Phytopathology 86:480-484. https://www.apsnet.org/publications/phytopathology/backissues/Documents/1996Articles/Phyto86n05_480.PDF\n",
    "    - Johnson DA, Alldredge JR, and Hamm PB. 1998. Expansion of potato late blight forecasting models for the Columbia Basin of Washington and Oregon. Plant Dis. 82:642-645. https://apsjournals.apsnet.org/doi/pdfplus/10.1094/PDIS.1998.82.6.642\n",
    "    - Johnson DA, Cummings TF, Abi Ghanem R, and Alldredge JR. 2009. Association of solar irradiance and days of precipitation with incidence of potato late blight in the semiarid environment of the Columbia Basin. Plant Dis. 93:272-280. https://apsjournals.apsnet.org/doi/pdfplus/10.1094/PDIS-93-3-0272\n",
    "    - Johnson DA, and Cummings TF. 2016. In-canopy environment of sprinkler irrigated potato fields as a factor for late blight management in the semiarid environment of the Columbia Basin. Am J. Potato Res: 93:239-252 https://link.springer.com/article/10.1007/s12230-016-9500-1\n",
    "\n",
    "\n",
    "- This script was written by David Linnard Wheeler | david.wheeler@wsu.edu | dlinnard@berkeley.edu | office: 509.335.3733 | cell: 215.880.3024\n",
    "       "
   ]
  },
  {
   "cell_type": "markdown",
   "metadata": {},
   "source": [
    "# Objectives"
   ]
  },
  {
   "cell_type": "markdown",
   "metadata": {},
   "source": [
    "**Predict late blight epidemics in the Columbia Basin of Washington State**"
   ]
  },
  {
   "cell_type": "markdown",
   "metadata": {},
   "source": [
    "# Risk"
   ]
  },
  {
   "cell_type": "markdown",
   "metadata": {},
   "source": [
    "**Risk of late blight is the product of 5 factors**"
   ]
  },
  {
   "cell_type": "markdown",
   "metadata": {},
   "source": [
    "**Risk** = **A** (phenology) $\\cdot$ **B** (occurrence of late blight in field or adjacent fields) $\\cdot$ **C** (probability of late blight occurrence in the Columbia Basin (PROB)) $\\cdot$ **D** (date) $\\cdot$ **E** (number of rainy days expected in the next 7 days)"
   ]
  },
  {
   "cell_type": "markdown",
   "metadata": {},
   "source": [
    "### A (phenology)"
   ]
  },
  {
   "cell_type": "markdown",
   "metadata": {},
   "source": [
    "**Source of information: growers**"
   ]
  },
  {
   "cell_type": "markdown",
   "metadata": {},
   "source": [
    "| Factor level | Factor value |\n",
    "| --- | --- |\n",
    "| Pre-emergence | 0 |\n",
    "| Emergence to before plant closure between rows | 0 |\n",
    "| Plant closure between rows (foliage touching between adjacent rows) | 1 |\n",
    "|Post row closure to harvest | 1 |"
   ]
  },
  {
   "cell_type": "markdown",
   "metadata": {},
   "source": [
    "### B (occurrence of late blight in field or adjacent fields within 5 mile radius)"
   ]
  },
  {
   "cell_type": "markdown",
   "metadata": {},
   "source": [
    "**Source of information: growers**"
   ]
  },
  {
   "cell_type": "markdown",
   "metadata": {},
   "source": [
    "| Factor level | Factor value |\n",
    "| --- | --- |\n",
    "| No | 0 |\n",
    "| Yes | 30 |"
   ]
  },
  {
   "cell_type": "markdown",
   "metadata": {},
   "source": [
    "### C (probability of late blight occurrence in the Columbia Basin (PROB))"
   ]
  },
  {
   "cell_type": "markdown",
   "metadata": {},
   "source": [
    "#### Import data for rain in April"
   ]
  },
  {
   "cell_type": "markdown",
   "metadata": {},
   "source": [
    "Packages and modules"
   ]
  },
  {
   "cell_type": "code",
   "execution_count": 2,
   "metadata": {},
   "outputs": [],
   "source": [
    "import pandas as pd\n",
    "import numpy as np"
   ]
  },
  {
   "cell_type": "markdown",
   "metadata": {},
   "source": [
    "Prosser data"
   ]
  },
  {
   "cell_type": "code",
   "execution_count": 3,
   "metadata": {},
   "outputs": [],
   "source": [
    "ApPrDF = pd.read_csv('/Users/davidwheeler/Desktop/RESEARCH/Data/LateBightForecast/Forecasts/30DaySpotForecasts/AprilMayRain2020/AprilRain2020/ProsserApril_2020.csv')  "
   ]
  },
  {
   "cell_type": "markdown",
   "metadata": {},
   "source": [
    "Summary"
   ]
  },
  {
   "cell_type": "code",
   "execution_count": 4,
   "metadata": {},
   "outputs": [
    {
     "data": {
      "text/plain": [
       "(30, 18)"
      ]
     },
     "execution_count": 4,
     "metadata": {},
     "output_type": "execute_result"
    }
   ],
   "source": [
    "ApPrDF.shape"
   ]
  },
  {
   "cell_type": "code",
   "execution_count": 5,
   "metadata": {},
   "outputs": [
    {
     "data": {
      "text/html": [
       "<div>\n",
       "<style scoped>\n",
       "    .dataframe tbody tr th:only-of-type {\n",
       "        vertical-align: middle;\n",
       "    }\n",
       "\n",
       "    .dataframe tbody tr th {\n",
       "        vertical-align: top;\n",
       "    }\n",
       "\n",
       "    .dataframe thead th {\n",
       "        text-align: right;\n",
       "    }\n",
       "</style>\n",
       "<table border=\"1\" class=\"dataframe\">\n",
       "  <thead>\n",
       "    <tr style=\"text-align: right;\">\n",
       "      <th></th>\n",
       "      <th>Date</th>\n",
       "      <th>Date.1</th>\n",
       "      <th>Min°F</th>\n",
       "      <th>Avg°F</th>\n",
       "      <th>Max°F</th>\n",
       "      <th>AvgDP°F</th>\n",
       "      <th>AvgRH%</th>\n",
       "      <th>AvgLWu.</th>\n",
       "      <th>AvgDir°</th>\n",
       "      <th>AvgSpeedmph</th>\n",
       "      <th>MaxGustmph</th>\n",
       "      <th>Avg 2 in.°F</th>\n",
       "      <th>Min°F.1</th>\n",
       "      <th>Avg°F.1</th>\n",
       "      <th>TotPrecin</th>\n",
       "      <th>TotalSolarRadMJ/m²</th>\n",
       "      <th>EToin</th>\n",
       "      <th>ETrin</th>\n",
       "    </tr>\n",
       "  </thead>\n",
       "  <tbody>\n",
       "    <tr>\n",
       "      <th>0</th>\n",
       "      <td>2020/04/01</td>\n",
       "      <td>1</td>\n",
       "      <td>30.1</td>\n",
       "      <td>40.2</td>\n",
       "      <td>49.9</td>\n",
       "      <td>27.8</td>\n",
       "      <td>62.0</td>\n",
       "      <td>0.01</td>\n",
       "      <td>W</td>\n",
       "      <td>4.1</td>\n",
       "      <td>17.1</td>\n",
       "      <td>NaN</td>\n",
       "      <td>48.0</td>\n",
       "      <td>49.7</td>\n",
       "      <td>0.0</td>\n",
       "      <td>13.57</td>\n",
       "      <td>0.08</td>\n",
       "      <td>0.10</td>\n",
       "    </tr>\n",
       "    <tr>\n",
       "      <th>1</th>\n",
       "      <td>2020/04/02</td>\n",
       "      <td>2</td>\n",
       "      <td>26.6</td>\n",
       "      <td>40.2</td>\n",
       "      <td>53.0</td>\n",
       "      <td>25.3</td>\n",
       "      <td>59.0</td>\n",
       "      <td>0.02</td>\n",
       "      <td>SW</td>\n",
       "      <td>4.5</td>\n",
       "      <td>22.5</td>\n",
       "      <td>NaN</td>\n",
       "      <td>46.6</td>\n",
       "      <td>49.0</td>\n",
       "      <td>0.0</td>\n",
       "      <td>19.42</td>\n",
       "      <td>0.10</td>\n",
       "      <td>0.13</td>\n",
       "    </tr>\n",
       "    <tr>\n",
       "      <th>2</th>\n",
       "      <td>2020/04/03</td>\n",
       "      <td>3</td>\n",
       "      <td>26.9</td>\n",
       "      <td>40.5</td>\n",
       "      <td>54.1</td>\n",
       "      <td>21.1</td>\n",
       "      <td>49.8</td>\n",
       "      <td>0.00</td>\n",
       "      <td>W</td>\n",
       "      <td>6.1</td>\n",
       "      <td>31.4</td>\n",
       "      <td>NaN</td>\n",
       "      <td>46.8</td>\n",
       "      <td>49.3</td>\n",
       "      <td>0.0</td>\n",
       "      <td>20.68</td>\n",
       "      <td>0.12</td>\n",
       "      <td>0.17</td>\n",
       "    </tr>\n",
       "    <tr>\n",
       "      <th>3</th>\n",
       "      <td>2020/04/04</td>\n",
       "      <td>4</td>\n",
       "      <td>29.7</td>\n",
       "      <td>42.5</td>\n",
       "      <td>53.4</td>\n",
       "      <td>22.4</td>\n",
       "      <td>47.6</td>\n",
       "      <td>0.01</td>\n",
       "      <td>NE</td>\n",
       "      <td>4.8</td>\n",
       "      <td>24.3</td>\n",
       "      <td>NaN</td>\n",
       "      <td>47.1</td>\n",
       "      <td>49.1</td>\n",
       "      <td>0.0</td>\n",
       "      <td>16.25</td>\n",
       "      <td>0.10</td>\n",
       "      <td>0.14</td>\n",
       "    </tr>\n",
       "    <tr>\n",
       "      <th>4</th>\n",
       "      <td>2020/04/05</td>\n",
       "      <td>5</td>\n",
       "      <td>38.0</td>\n",
       "      <td>47.3</td>\n",
       "      <td>58.3</td>\n",
       "      <td>32.7</td>\n",
       "      <td>58.0</td>\n",
       "      <td>0.00</td>\n",
       "      <td>NE</td>\n",
       "      <td>3.9</td>\n",
       "      <td>18.9</td>\n",
       "      <td>NaN</td>\n",
       "      <td>49.4</td>\n",
       "      <td>51.0</td>\n",
       "      <td>0.0</td>\n",
       "      <td>16.26</td>\n",
       "      <td>0.10</td>\n",
       "      <td>0.14</td>\n",
       "    </tr>\n",
       "  </tbody>\n",
       "</table>\n",
       "</div>"
      ],
      "text/plain": [
       "         Date  Date.1  Min°F  Avg°F  Max°F  AvgDP°F  AvgRH%  AvgLWu. AvgDir°  \\\n",
       "0  2020/04/01       1   30.1   40.2   49.9     27.8    62.0     0.01       W   \n",
       "1  2020/04/02       2   26.6   40.2   53.0     25.3    59.0     0.02      SW   \n",
       "2  2020/04/03       3   26.9   40.5   54.1     21.1    49.8     0.00       W   \n",
       "3  2020/04/04       4   29.7   42.5   53.4     22.4    47.6     0.01      NE   \n",
       "4  2020/04/05       5   38.0   47.3   58.3     32.7    58.0     0.00      NE   \n",
       "\n",
       "   AvgSpeedmph  MaxGustmph  Avg 2 in.°F  Min°F.1  Avg°F.1  TotPrecin  \\\n",
       "0          4.1        17.1          NaN     48.0     49.7        0.0   \n",
       "1          4.5        22.5          NaN     46.6     49.0        0.0   \n",
       "2          6.1        31.4          NaN     46.8     49.3        0.0   \n",
       "3          4.8        24.3          NaN     47.1     49.1        0.0   \n",
       "4          3.9        18.9          NaN     49.4     51.0        0.0   \n",
       "\n",
       "   TotalSolarRadMJ/m²  EToin  ETrin  \n",
       "0               13.57   0.08   0.10  \n",
       "1               19.42   0.10   0.13  \n",
       "2               20.68   0.12   0.17  \n",
       "3               16.25   0.10   0.14  \n",
       "4               16.26   0.10   0.14  "
      ]
     },
     "execution_count": 5,
     "metadata": {},
     "output_type": "execute_result"
    }
   ],
   "source": [
    "ApPrDF.head()"
   ]
  },
  {
   "cell_type": "code",
   "execution_count": 6,
   "metadata": {},
   "outputs": [],
   "source": [
    "ApPrDF['Station'] = \"Prosser\""
   ]
  },
  {
   "cell_type": "code",
   "execution_count": 7,
   "metadata": {},
   "outputs": [
    {
     "data": {
      "text/html": [
       "<div>\n",
       "<style scoped>\n",
       "    .dataframe tbody tr th:only-of-type {\n",
       "        vertical-align: middle;\n",
       "    }\n",
       "\n",
       "    .dataframe tbody tr th {\n",
       "        vertical-align: top;\n",
       "    }\n",
       "\n",
       "    .dataframe thead th {\n",
       "        text-align: right;\n",
       "    }\n",
       "</style>\n",
       "<table border=\"1\" class=\"dataframe\">\n",
       "  <thead>\n",
       "    <tr style=\"text-align: right;\">\n",
       "      <th></th>\n",
       "      <th>Date</th>\n",
       "      <th>Date.1</th>\n",
       "      <th>Min°F</th>\n",
       "      <th>Avg°F</th>\n",
       "      <th>Max°F</th>\n",
       "      <th>AvgDP°F</th>\n",
       "      <th>AvgRH%</th>\n",
       "      <th>AvgLWu.</th>\n",
       "      <th>AvgDir°</th>\n",
       "      <th>AvgSpeedmph</th>\n",
       "      <th>MaxGustmph</th>\n",
       "      <th>Avg 2 in.°F</th>\n",
       "      <th>Min°F.1</th>\n",
       "      <th>Avg°F.1</th>\n",
       "      <th>TotPrecin</th>\n",
       "      <th>TotalSolarRadMJ/m²</th>\n",
       "      <th>EToin</th>\n",
       "      <th>ETrin</th>\n",
       "      <th>Station</th>\n",
       "    </tr>\n",
       "  </thead>\n",
       "  <tbody>\n",
       "    <tr>\n",
       "      <th>0</th>\n",
       "      <td>2020/04/01</td>\n",
       "      <td>1</td>\n",
       "      <td>30.1</td>\n",
       "      <td>40.2</td>\n",
       "      <td>49.9</td>\n",
       "      <td>27.8</td>\n",
       "      <td>62.0</td>\n",
       "      <td>0.01</td>\n",
       "      <td>W</td>\n",
       "      <td>4.1</td>\n",
       "      <td>17.1</td>\n",
       "      <td>NaN</td>\n",
       "      <td>48.0</td>\n",
       "      <td>49.7</td>\n",
       "      <td>0.0</td>\n",
       "      <td>13.57</td>\n",
       "      <td>0.08</td>\n",
       "      <td>0.10</td>\n",
       "      <td>Prosser</td>\n",
       "    </tr>\n",
       "    <tr>\n",
       "      <th>1</th>\n",
       "      <td>2020/04/02</td>\n",
       "      <td>2</td>\n",
       "      <td>26.6</td>\n",
       "      <td>40.2</td>\n",
       "      <td>53.0</td>\n",
       "      <td>25.3</td>\n",
       "      <td>59.0</td>\n",
       "      <td>0.02</td>\n",
       "      <td>SW</td>\n",
       "      <td>4.5</td>\n",
       "      <td>22.5</td>\n",
       "      <td>NaN</td>\n",
       "      <td>46.6</td>\n",
       "      <td>49.0</td>\n",
       "      <td>0.0</td>\n",
       "      <td>19.42</td>\n",
       "      <td>0.10</td>\n",
       "      <td>0.13</td>\n",
       "      <td>Prosser</td>\n",
       "    </tr>\n",
       "    <tr>\n",
       "      <th>2</th>\n",
       "      <td>2020/04/03</td>\n",
       "      <td>3</td>\n",
       "      <td>26.9</td>\n",
       "      <td>40.5</td>\n",
       "      <td>54.1</td>\n",
       "      <td>21.1</td>\n",
       "      <td>49.8</td>\n",
       "      <td>0.00</td>\n",
       "      <td>W</td>\n",
       "      <td>6.1</td>\n",
       "      <td>31.4</td>\n",
       "      <td>NaN</td>\n",
       "      <td>46.8</td>\n",
       "      <td>49.3</td>\n",
       "      <td>0.0</td>\n",
       "      <td>20.68</td>\n",
       "      <td>0.12</td>\n",
       "      <td>0.17</td>\n",
       "      <td>Prosser</td>\n",
       "    </tr>\n",
       "    <tr>\n",
       "      <th>3</th>\n",
       "      <td>2020/04/04</td>\n",
       "      <td>4</td>\n",
       "      <td>29.7</td>\n",
       "      <td>42.5</td>\n",
       "      <td>53.4</td>\n",
       "      <td>22.4</td>\n",
       "      <td>47.6</td>\n",
       "      <td>0.01</td>\n",
       "      <td>NE</td>\n",
       "      <td>4.8</td>\n",
       "      <td>24.3</td>\n",
       "      <td>NaN</td>\n",
       "      <td>47.1</td>\n",
       "      <td>49.1</td>\n",
       "      <td>0.0</td>\n",
       "      <td>16.25</td>\n",
       "      <td>0.10</td>\n",
       "      <td>0.14</td>\n",
       "      <td>Prosser</td>\n",
       "    </tr>\n",
       "    <tr>\n",
       "      <th>4</th>\n",
       "      <td>2020/04/05</td>\n",
       "      <td>5</td>\n",
       "      <td>38.0</td>\n",
       "      <td>47.3</td>\n",
       "      <td>58.3</td>\n",
       "      <td>32.7</td>\n",
       "      <td>58.0</td>\n",
       "      <td>0.00</td>\n",
       "      <td>NE</td>\n",
       "      <td>3.9</td>\n",
       "      <td>18.9</td>\n",
       "      <td>NaN</td>\n",
       "      <td>49.4</td>\n",
       "      <td>51.0</td>\n",
       "      <td>0.0</td>\n",
       "      <td>16.26</td>\n",
       "      <td>0.10</td>\n",
       "      <td>0.14</td>\n",
       "      <td>Prosser</td>\n",
       "    </tr>\n",
       "  </tbody>\n",
       "</table>\n",
       "</div>"
      ],
      "text/plain": [
       "         Date  Date.1  Min°F  Avg°F  Max°F  AvgDP°F  AvgRH%  AvgLWu. AvgDir°  \\\n",
       "0  2020/04/01       1   30.1   40.2   49.9     27.8    62.0     0.01       W   \n",
       "1  2020/04/02       2   26.6   40.2   53.0     25.3    59.0     0.02      SW   \n",
       "2  2020/04/03       3   26.9   40.5   54.1     21.1    49.8     0.00       W   \n",
       "3  2020/04/04       4   29.7   42.5   53.4     22.4    47.6     0.01      NE   \n",
       "4  2020/04/05       5   38.0   47.3   58.3     32.7    58.0     0.00      NE   \n",
       "\n",
       "   AvgSpeedmph  MaxGustmph  Avg 2 in.°F  Min°F.1  Avg°F.1  TotPrecin  \\\n",
       "0          4.1        17.1          NaN     48.0     49.7        0.0   \n",
       "1          4.5        22.5          NaN     46.6     49.0        0.0   \n",
       "2          6.1        31.4          NaN     46.8     49.3        0.0   \n",
       "3          4.8        24.3          NaN     47.1     49.1        0.0   \n",
       "4          3.9        18.9          NaN     49.4     51.0        0.0   \n",
       "\n",
       "   TotalSolarRadMJ/m²  EToin  ETrin  Station  \n",
       "0               13.57   0.08   0.10  Prosser  \n",
       "1               19.42   0.10   0.13  Prosser  \n",
       "2               20.68   0.12   0.17  Prosser  \n",
       "3               16.25   0.10   0.14  Prosser  \n",
       "4               16.26   0.10   0.14  Prosser  "
      ]
     },
     "execution_count": 7,
     "metadata": {},
     "output_type": "execute_result"
    }
   ],
   "source": [
    "ApPrDF.head()"
   ]
  },
  {
   "cell_type": "markdown",
   "metadata": {},
   "source": [
    "TriCities data"
   ]
  },
  {
   "cell_type": "code",
   "execution_count": 8,
   "metadata": {},
   "outputs": [],
   "source": [
    "ApTCDF = pd.read_csv('/Users/davidwheeler/Desktop/RESEARCH/Data/LateBightForecast/Forecasts/30DaySpotForecasts/AprilMayRain2020/AprilRain2020/TriCitiesApril_2020.csv')  "
   ]
  },
  {
   "cell_type": "code",
   "execution_count": 9,
   "metadata": {},
   "outputs": [],
   "source": [
    "ApTCDF['Station'] = \"TriCities\""
   ]
  },
  {
   "cell_type": "code",
   "execution_count": 10,
   "metadata": {},
   "outputs": [
    {
     "data": {
      "text/html": [
       "<div>\n",
       "<style scoped>\n",
       "    .dataframe tbody tr th:only-of-type {\n",
       "        vertical-align: middle;\n",
       "    }\n",
       "\n",
       "    .dataframe tbody tr th {\n",
       "        vertical-align: top;\n",
       "    }\n",
       "\n",
       "    .dataframe thead th {\n",
       "        text-align: right;\n",
       "    }\n",
       "</style>\n",
       "<table border=\"1\" class=\"dataframe\">\n",
       "  <thead>\n",
       "    <tr style=\"text-align: right;\">\n",
       "      <th></th>\n",
       "      <th>Date</th>\n",
       "      <th>Date.1</th>\n",
       "      <th>Min°F</th>\n",
       "      <th>Avg°F</th>\n",
       "      <th>Max°F</th>\n",
       "      <th>AvgDP°F</th>\n",
       "      <th>AvgRH%</th>\n",
       "      <th>AvgLWu.</th>\n",
       "      <th>AvgDir°</th>\n",
       "      <th>AvgSpeedmph</th>\n",
       "      <th>MaxGustmph</th>\n",
       "      <th>Avg 2 in.°F</th>\n",
       "      <th>Min°F.1</th>\n",
       "      <th>Avg°F.1</th>\n",
       "      <th>TotPrecin</th>\n",
       "      <th>TotalSolarRadMJ/m²</th>\n",
       "      <th>EToin</th>\n",
       "      <th>ETrin</th>\n",
       "      <th>AvgAtm.PressinHg</th>\n",
       "      <th>Station</th>\n",
       "    </tr>\n",
       "  </thead>\n",
       "  <tbody>\n",
       "    <tr>\n",
       "      <th>0</th>\n",
       "      <td>2020/04/01</td>\n",
       "      <td>1</td>\n",
       "      <td>34.6</td>\n",
       "      <td>43.2</td>\n",
       "      <td>52.3</td>\n",
       "      <td>29.7</td>\n",
       "      <td>59.9</td>\n",
       "      <td>0.02</td>\n",
       "      <td>SW</td>\n",
       "      <td>4.5</td>\n",
       "      <td>14.2</td>\n",
       "      <td>NaN</td>\n",
       "      <td>50.8</td>\n",
       "      <td>51.8</td>\n",
       "      <td>0.0</td>\n",
       "      <td>10.53</td>\n",
       "      <td>0.08</td>\n",
       "      <td>0.11</td>\n",
       "      <td>30.06</td>\n",
       "      <td>TriCities</td>\n",
       "    </tr>\n",
       "    <tr>\n",
       "      <th>1</th>\n",
       "      <td>2020/04/02</td>\n",
       "      <td>2</td>\n",
       "      <td>25.4</td>\n",
       "      <td>41.8</td>\n",
       "      <td>54.9</td>\n",
       "      <td>24.5</td>\n",
       "      <td>54.9</td>\n",
       "      <td>0.06</td>\n",
       "      <td>SW</td>\n",
       "      <td>4.5</td>\n",
       "      <td>18.5</td>\n",
       "      <td>NaN</td>\n",
       "      <td>48.0</td>\n",
       "      <td>49.8</td>\n",
       "      <td>0.0</td>\n",
       "      <td>17.16</td>\n",
       "      <td>0.10</td>\n",
       "      <td>0.13</td>\n",
       "      <td>30.18</td>\n",
       "      <td>TriCities</td>\n",
       "    </tr>\n",
       "    <tr>\n",
       "      <th>2</th>\n",
       "      <td>2020/04/03</td>\n",
       "      <td>3</td>\n",
       "      <td>30.2</td>\n",
       "      <td>43.9</td>\n",
       "      <td>57.3</td>\n",
       "      <td>24.0</td>\n",
       "      <td>49.4</td>\n",
       "      <td>0.01</td>\n",
       "      <td>SW</td>\n",
       "      <td>7.3</td>\n",
       "      <td>25.0</td>\n",
       "      <td>NaN</td>\n",
       "      <td>48.4</td>\n",
       "      <td>49.9</td>\n",
       "      <td>0.0</td>\n",
       "      <td>18.44</td>\n",
       "      <td>0.13</td>\n",
       "      <td>0.19</td>\n",
       "      <td>30.06</td>\n",
       "      <td>TriCities</td>\n",
       "    </tr>\n",
       "    <tr>\n",
       "      <th>3</th>\n",
       "      <td>2020/04/04</td>\n",
       "      <td>4</td>\n",
       "      <td>25.8</td>\n",
       "      <td>43.8</td>\n",
       "      <td>56.1</td>\n",
       "      <td>24.7</td>\n",
       "      <td>51.6</td>\n",
       "      <td>0.03</td>\n",
       "      <td>N</td>\n",
       "      <td>4.0</td>\n",
       "      <td>13.2</td>\n",
       "      <td>NaN</td>\n",
       "      <td>48.0</td>\n",
       "      <td>49.7</td>\n",
       "      <td>0.0</td>\n",
       "      <td>18.21</td>\n",
       "      <td>0.10</td>\n",
       "      <td>0.14</td>\n",
       "      <td>29.84</td>\n",
       "      <td>TriCities</td>\n",
       "    </tr>\n",
       "    <tr>\n",
       "      <th>4</th>\n",
       "      <td>2020/04/05</td>\n",
       "      <td>5</td>\n",
       "      <td>40.8</td>\n",
       "      <td>49.6</td>\n",
       "      <td>60.3</td>\n",
       "      <td>35.0</td>\n",
       "      <td>59.1</td>\n",
       "      <td>0.00</td>\n",
       "      <td>N</td>\n",
       "      <td>4.7</td>\n",
       "      <td>13.9</td>\n",
       "      <td>NaN</td>\n",
       "      <td>50.7</td>\n",
       "      <td>51.9</td>\n",
       "      <td>0.0</td>\n",
       "      <td>16.95</td>\n",
       "      <td>0.11</td>\n",
       "      <td>0.15</td>\n",
       "      <td>29.70</td>\n",
       "      <td>TriCities</td>\n",
       "    </tr>\n",
       "  </tbody>\n",
       "</table>\n",
       "</div>"
      ],
      "text/plain": [
       "         Date  Date.1  Min°F  Avg°F  Max°F  AvgDP°F  AvgRH%  AvgLWu. AvgDir°  \\\n",
       "0  2020/04/01       1   34.6   43.2   52.3     29.7    59.9     0.02      SW   \n",
       "1  2020/04/02       2   25.4   41.8   54.9     24.5    54.9     0.06      SW   \n",
       "2  2020/04/03       3   30.2   43.9   57.3     24.0    49.4     0.01      SW   \n",
       "3  2020/04/04       4   25.8   43.8   56.1     24.7    51.6     0.03       N   \n",
       "4  2020/04/05       5   40.8   49.6   60.3     35.0    59.1     0.00       N   \n",
       "\n",
       "   AvgSpeedmph  MaxGustmph  Avg 2 in.°F  Min°F.1  Avg°F.1  TotPrecin  \\\n",
       "0          4.5        14.2          NaN     50.8     51.8        0.0   \n",
       "1          4.5        18.5          NaN     48.0     49.8        0.0   \n",
       "2          7.3        25.0          NaN     48.4     49.9        0.0   \n",
       "3          4.0        13.2          NaN     48.0     49.7        0.0   \n",
       "4          4.7        13.9          NaN     50.7     51.9        0.0   \n",
       "\n",
       "   TotalSolarRadMJ/m²  EToin  ETrin  AvgAtm.PressinHg    Station  \n",
       "0               10.53   0.08   0.11             30.06  TriCities  \n",
       "1               17.16   0.10   0.13             30.18  TriCities  \n",
       "2               18.44   0.13   0.19             30.06  TriCities  \n",
       "3               18.21   0.10   0.14             29.84  TriCities  \n",
       "4               16.95   0.11   0.15             29.70  TriCities  "
      ]
     },
     "execution_count": 10,
     "metadata": {},
     "output_type": "execute_result"
    }
   ],
   "source": [
    "ApTCDF.head()"
   ]
  },
  {
   "cell_type": "markdown",
   "metadata": {},
   "source": [
    "Othello data"
   ]
  },
  {
   "cell_type": "code",
   "execution_count": 11,
   "metadata": {},
   "outputs": [],
   "source": [
    "ApOtDF = pd.read_csv('/Users/davidwheeler/Desktop/RESEARCH/Data/LateBightForecast/Forecasts/30DaySpotForecasts/AprilMayRain2020/AprilRain2020/OthelloApril_2020.csv')  "
   ]
  },
  {
   "cell_type": "code",
   "execution_count": 12,
   "metadata": {},
   "outputs": [],
   "source": [
    "ApOtDF['Station'] = \"Othello\""
   ]
  },
  {
   "cell_type": "code",
   "execution_count": 13,
   "metadata": {},
   "outputs": [
    {
     "data": {
      "text/html": [
       "<div>\n",
       "<style scoped>\n",
       "    .dataframe tbody tr th:only-of-type {\n",
       "        vertical-align: middle;\n",
       "    }\n",
       "\n",
       "    .dataframe tbody tr th {\n",
       "        vertical-align: top;\n",
       "    }\n",
       "\n",
       "    .dataframe thead th {\n",
       "        text-align: right;\n",
       "    }\n",
       "</style>\n",
       "<table border=\"1\" class=\"dataframe\">\n",
       "  <thead>\n",
       "    <tr style=\"text-align: right;\">\n",
       "      <th></th>\n",
       "      <th>Date</th>\n",
       "      <th>Date.1</th>\n",
       "      <th>Min°F</th>\n",
       "      <th>Avg°F</th>\n",
       "      <th>Max°F</th>\n",
       "      <th>AvgDP°F</th>\n",
       "      <th>AvgRH%</th>\n",
       "      <th>AvgLWu.</th>\n",
       "      <th>AvgDir°</th>\n",
       "      <th>AvgSpeedmph</th>\n",
       "      <th>MaxGustmph</th>\n",
       "      <th>Avg 2 in.°F</th>\n",
       "      <th>Min°F.1</th>\n",
       "      <th>Avg°F.1</th>\n",
       "      <th>TotPrecin</th>\n",
       "      <th>TotalSolarRadMJ/m²</th>\n",
       "      <th>EToin</th>\n",
       "      <th>ETrin</th>\n",
       "      <th>Station</th>\n",
       "    </tr>\n",
       "  </thead>\n",
       "  <tbody>\n",
       "    <tr>\n",
       "      <th>0</th>\n",
       "      <td>2020/04/01</td>\n",
       "      <td>1</td>\n",
       "      <td>26.7</td>\n",
       "      <td>37.3</td>\n",
       "      <td>49.2</td>\n",
       "      <td>28.2</td>\n",
       "      <td>72.0</td>\n",
       "      <td>0.02</td>\n",
       "      <td>W</td>\n",
       "      <td>5.7</td>\n",
       "      <td>15.7</td>\n",
       "      <td>NaN</td>\n",
       "      <td>43.0</td>\n",
       "      <td>45.1</td>\n",
       "      <td>0.0</td>\n",
       "      <td>15.50</td>\n",
       "      <td>0.08</td>\n",
       "      <td>0.10</td>\n",
       "      <td>Othello</td>\n",
       "    </tr>\n",
       "    <tr>\n",
       "      <th>1</th>\n",
       "      <td>2020/04/02</td>\n",
       "      <td>2</td>\n",
       "      <td>24.3</td>\n",
       "      <td>37.8</td>\n",
       "      <td>50.4</td>\n",
       "      <td>20.4</td>\n",
       "      <td>53.2</td>\n",
       "      <td>0.01</td>\n",
       "      <td>W</td>\n",
       "      <td>5.4</td>\n",
       "      <td>16.4</td>\n",
       "      <td>NaN</td>\n",
       "      <td>41.5</td>\n",
       "      <td>44.4</td>\n",
       "      <td>0.0</td>\n",
       "      <td>19.53</td>\n",
       "      <td>0.10</td>\n",
       "      <td>0.14</td>\n",
       "      <td>Othello</td>\n",
       "    </tr>\n",
       "    <tr>\n",
       "      <th>2</th>\n",
       "      <td>2020/04/03</td>\n",
       "      <td>3</td>\n",
       "      <td>26.7</td>\n",
       "      <td>38.8</td>\n",
       "      <td>52.0</td>\n",
       "      <td>22.4</td>\n",
       "      <td>56.7</td>\n",
       "      <td>0.00</td>\n",
       "      <td>SW</td>\n",
       "      <td>10.1</td>\n",
       "      <td>28.6</td>\n",
       "      <td>NaN</td>\n",
       "      <td>42.2</td>\n",
       "      <td>45.0</td>\n",
       "      <td>0.0</td>\n",
       "      <td>19.06</td>\n",
       "      <td>0.12</td>\n",
       "      <td>0.18</td>\n",
       "      <td>Othello</td>\n",
       "    </tr>\n",
       "    <tr>\n",
       "      <th>3</th>\n",
       "      <td>2020/04/04</td>\n",
       "      <td>4</td>\n",
       "      <td>25.5</td>\n",
       "      <td>41.1</td>\n",
       "      <td>52.0</td>\n",
       "      <td>22.2</td>\n",
       "      <td>51.0</td>\n",
       "      <td>0.00</td>\n",
       "      <td>NE</td>\n",
       "      <td>3.9</td>\n",
       "      <td>14.6</td>\n",
       "      <td>NaN</td>\n",
       "      <td>42.2</td>\n",
       "      <td>45.3</td>\n",
       "      <td>0.0</td>\n",
       "      <td>19.59</td>\n",
       "      <td>0.10</td>\n",
       "      <td>0.13</td>\n",
       "      <td>Othello</td>\n",
       "    </tr>\n",
       "    <tr>\n",
       "      <th>4</th>\n",
       "      <td>2020/04/05</td>\n",
       "      <td>5</td>\n",
       "      <td>37.5</td>\n",
       "      <td>45.3</td>\n",
       "      <td>56.2</td>\n",
       "      <td>34.4</td>\n",
       "      <td>68.3</td>\n",
       "      <td>0.00</td>\n",
       "      <td>N</td>\n",
       "      <td>5.4</td>\n",
       "      <td>15.3</td>\n",
       "      <td>NaN</td>\n",
       "      <td>45.7</td>\n",
       "      <td>47.7</td>\n",
       "      <td>0.0</td>\n",
       "      <td>14.91</td>\n",
       "      <td>0.10</td>\n",
       "      <td>0.13</td>\n",
       "      <td>Othello</td>\n",
       "    </tr>\n",
       "  </tbody>\n",
       "</table>\n",
       "</div>"
      ],
      "text/plain": [
       "         Date  Date.1  Min°F  Avg°F  Max°F  AvgDP°F  AvgRH%  AvgLWu. AvgDir°  \\\n",
       "0  2020/04/01       1   26.7   37.3   49.2     28.2    72.0     0.02       W   \n",
       "1  2020/04/02       2   24.3   37.8   50.4     20.4    53.2     0.01       W   \n",
       "2  2020/04/03       3   26.7   38.8   52.0     22.4    56.7     0.00      SW   \n",
       "3  2020/04/04       4   25.5   41.1   52.0     22.2    51.0     0.00      NE   \n",
       "4  2020/04/05       5   37.5   45.3   56.2     34.4    68.3     0.00       N   \n",
       "\n",
       "   AvgSpeedmph  MaxGustmph  Avg 2 in.°F  Min°F.1  Avg°F.1  TotPrecin  \\\n",
       "0          5.7        15.7          NaN     43.0     45.1        0.0   \n",
       "1          5.4        16.4          NaN     41.5     44.4        0.0   \n",
       "2         10.1        28.6          NaN     42.2     45.0        0.0   \n",
       "3          3.9        14.6          NaN     42.2     45.3        0.0   \n",
       "4          5.4        15.3          NaN     45.7     47.7        0.0   \n",
       "\n",
       "   TotalSolarRadMJ/m²  EToin  ETrin  Station  \n",
       "0               15.50   0.08   0.10  Othello  \n",
       "1               19.53   0.10   0.14  Othello  \n",
       "2               19.06   0.12   0.18  Othello  \n",
       "3               19.59   0.10   0.13  Othello  \n",
       "4               14.91   0.10   0.13  Othello  "
      ]
     },
     "execution_count": 13,
     "metadata": {},
     "output_type": "execute_result"
    }
   ],
   "source": [
    "ApOtDF.head()"
   ]
  },
  {
   "cell_type": "markdown",
   "metadata": {},
   "source": [
    "Concatenate dfs"
   ]
  },
  {
   "cell_type": "code",
   "execution_count": 14,
   "metadata": {},
   "outputs": [],
   "source": [
    "AprilDF = pd.concat([ApPrDF, ApTCDF, ApOtDF])"
   ]
  },
  {
   "cell_type": "code",
   "execution_count": 15,
   "metadata": {},
   "outputs": [
    {
     "data": {
      "text/html": [
       "<div>\n",
       "<style scoped>\n",
       "    .dataframe tbody tr th:only-of-type {\n",
       "        vertical-align: middle;\n",
       "    }\n",
       "\n",
       "    .dataframe tbody tr th {\n",
       "        vertical-align: top;\n",
       "    }\n",
       "\n",
       "    .dataframe thead th {\n",
       "        text-align: right;\n",
       "    }\n",
       "</style>\n",
       "<table border=\"1\" class=\"dataframe\">\n",
       "  <thead>\n",
       "    <tr style=\"text-align: right;\">\n",
       "      <th></th>\n",
       "      <th>Date</th>\n",
       "      <th>Date.1</th>\n",
       "      <th>Min°F</th>\n",
       "      <th>Avg°F</th>\n",
       "      <th>Max°F</th>\n",
       "      <th>AvgDP°F</th>\n",
       "      <th>AvgRH%</th>\n",
       "      <th>AvgLWu.</th>\n",
       "      <th>AvgDir°</th>\n",
       "      <th>AvgSpeedmph</th>\n",
       "      <th>MaxGustmph</th>\n",
       "      <th>Avg 2 in.°F</th>\n",
       "      <th>Min°F.1</th>\n",
       "      <th>Avg°F.1</th>\n",
       "      <th>TotPrecin</th>\n",
       "      <th>TotalSolarRadMJ/m²</th>\n",
       "      <th>EToin</th>\n",
       "      <th>ETrin</th>\n",
       "      <th>Station</th>\n",
       "      <th>AvgAtm.PressinHg</th>\n",
       "    </tr>\n",
       "  </thead>\n",
       "  <tbody>\n",
       "    <tr>\n",
       "      <th>0</th>\n",
       "      <td>2020/04/01</td>\n",
       "      <td>1</td>\n",
       "      <td>30.1</td>\n",
       "      <td>40.2</td>\n",
       "      <td>49.9</td>\n",
       "      <td>27.8</td>\n",
       "      <td>62.0</td>\n",
       "      <td>0.01</td>\n",
       "      <td>W</td>\n",
       "      <td>4.1</td>\n",
       "      <td>17.1</td>\n",
       "      <td>NaN</td>\n",
       "      <td>48.0</td>\n",
       "      <td>49.7</td>\n",
       "      <td>0.0</td>\n",
       "      <td>13.57</td>\n",
       "      <td>0.08</td>\n",
       "      <td>0.10</td>\n",
       "      <td>Prosser</td>\n",
       "      <td>NaN</td>\n",
       "    </tr>\n",
       "    <tr>\n",
       "      <th>1</th>\n",
       "      <td>2020/04/02</td>\n",
       "      <td>2</td>\n",
       "      <td>26.6</td>\n",
       "      <td>40.2</td>\n",
       "      <td>53.0</td>\n",
       "      <td>25.3</td>\n",
       "      <td>59.0</td>\n",
       "      <td>0.02</td>\n",
       "      <td>SW</td>\n",
       "      <td>4.5</td>\n",
       "      <td>22.5</td>\n",
       "      <td>NaN</td>\n",
       "      <td>46.6</td>\n",
       "      <td>49.0</td>\n",
       "      <td>0.0</td>\n",
       "      <td>19.42</td>\n",
       "      <td>0.10</td>\n",
       "      <td>0.13</td>\n",
       "      <td>Prosser</td>\n",
       "      <td>NaN</td>\n",
       "    </tr>\n",
       "    <tr>\n",
       "      <th>2</th>\n",
       "      <td>2020/04/03</td>\n",
       "      <td>3</td>\n",
       "      <td>26.9</td>\n",
       "      <td>40.5</td>\n",
       "      <td>54.1</td>\n",
       "      <td>21.1</td>\n",
       "      <td>49.8</td>\n",
       "      <td>0.00</td>\n",
       "      <td>W</td>\n",
       "      <td>6.1</td>\n",
       "      <td>31.4</td>\n",
       "      <td>NaN</td>\n",
       "      <td>46.8</td>\n",
       "      <td>49.3</td>\n",
       "      <td>0.0</td>\n",
       "      <td>20.68</td>\n",
       "      <td>0.12</td>\n",
       "      <td>0.17</td>\n",
       "      <td>Prosser</td>\n",
       "      <td>NaN</td>\n",
       "    </tr>\n",
       "    <tr>\n",
       "      <th>3</th>\n",
       "      <td>2020/04/04</td>\n",
       "      <td>4</td>\n",
       "      <td>29.7</td>\n",
       "      <td>42.5</td>\n",
       "      <td>53.4</td>\n",
       "      <td>22.4</td>\n",
       "      <td>47.6</td>\n",
       "      <td>0.01</td>\n",
       "      <td>NE</td>\n",
       "      <td>4.8</td>\n",
       "      <td>24.3</td>\n",
       "      <td>NaN</td>\n",
       "      <td>47.1</td>\n",
       "      <td>49.1</td>\n",
       "      <td>0.0</td>\n",
       "      <td>16.25</td>\n",
       "      <td>0.10</td>\n",
       "      <td>0.14</td>\n",
       "      <td>Prosser</td>\n",
       "      <td>NaN</td>\n",
       "    </tr>\n",
       "    <tr>\n",
       "      <th>4</th>\n",
       "      <td>2020/04/05</td>\n",
       "      <td>5</td>\n",
       "      <td>38.0</td>\n",
       "      <td>47.3</td>\n",
       "      <td>58.3</td>\n",
       "      <td>32.7</td>\n",
       "      <td>58.0</td>\n",
       "      <td>0.00</td>\n",
       "      <td>NE</td>\n",
       "      <td>3.9</td>\n",
       "      <td>18.9</td>\n",
       "      <td>NaN</td>\n",
       "      <td>49.4</td>\n",
       "      <td>51.0</td>\n",
       "      <td>0.0</td>\n",
       "      <td>16.26</td>\n",
       "      <td>0.10</td>\n",
       "      <td>0.14</td>\n",
       "      <td>Prosser</td>\n",
       "      <td>NaN</td>\n",
       "    </tr>\n",
       "    <tr>\n",
       "      <th>...</th>\n",
       "      <td>...</td>\n",
       "      <td>...</td>\n",
       "      <td>...</td>\n",
       "      <td>...</td>\n",
       "      <td>...</td>\n",
       "      <td>...</td>\n",
       "      <td>...</td>\n",
       "      <td>...</td>\n",
       "      <td>...</td>\n",
       "      <td>...</td>\n",
       "      <td>...</td>\n",
       "      <td>...</td>\n",
       "      <td>...</td>\n",
       "      <td>...</td>\n",
       "      <td>...</td>\n",
       "      <td>...</td>\n",
       "      <td>...</td>\n",
       "      <td>...</td>\n",
       "      <td>...</td>\n",
       "      <td>...</td>\n",
       "    </tr>\n",
       "    <tr>\n",
       "      <th>25</th>\n",
       "      <td>2020/04/26</td>\n",
       "      <td>26</td>\n",
       "      <td>39.8</td>\n",
       "      <td>54.3</td>\n",
       "      <td>66.9</td>\n",
       "      <td>32.1</td>\n",
       "      <td>46.8</td>\n",
       "      <td>0.00</td>\n",
       "      <td>SW</td>\n",
       "      <td>5.8</td>\n",
       "      <td>18.2</td>\n",
       "      <td>NaN</td>\n",
       "      <td>53.6</td>\n",
       "      <td>57.2</td>\n",
       "      <td>0.0</td>\n",
       "      <td>23.53</td>\n",
       "      <td>0.17</td>\n",
       "      <td>0.24</td>\n",
       "      <td>Othello</td>\n",
       "      <td>NaN</td>\n",
       "    </tr>\n",
       "    <tr>\n",
       "      <th>26</th>\n",
       "      <td>2020/04/27</td>\n",
       "      <td>27</td>\n",
       "      <td>48.8</td>\n",
       "      <td>59.9</td>\n",
       "      <td>72.0</td>\n",
       "      <td>36.3</td>\n",
       "      <td>43.3</td>\n",
       "      <td>0.00</td>\n",
       "      <td>SW</td>\n",
       "      <td>13.3</td>\n",
       "      <td>32.5</td>\n",
       "      <td>NaN</td>\n",
       "      <td>56.7</td>\n",
       "      <td>59.2</td>\n",
       "      <td>0.0</td>\n",
       "      <td>24.12</td>\n",
       "      <td>0.26</td>\n",
       "      <td>0.38</td>\n",
       "      <td>Othello</td>\n",
       "      <td>NaN</td>\n",
       "    </tr>\n",
       "    <tr>\n",
       "      <th>27</th>\n",
       "      <td>2020/04/28</td>\n",
       "      <td>28</td>\n",
       "      <td>35.9</td>\n",
       "      <td>55.6</td>\n",
       "      <td>67.6</td>\n",
       "      <td>36.2</td>\n",
       "      <td>50.9</td>\n",
       "      <td>0.01</td>\n",
       "      <td>E</td>\n",
       "      <td>4.5</td>\n",
       "      <td>13.2</td>\n",
       "      <td>NaN</td>\n",
       "      <td>55.4</td>\n",
       "      <td>59.2</td>\n",
       "      <td>0.0</td>\n",
       "      <td>21.71</td>\n",
       "      <td>0.15</td>\n",
       "      <td>0.19</td>\n",
       "      <td>Othello</td>\n",
       "      <td>NaN</td>\n",
       "    </tr>\n",
       "    <tr>\n",
       "      <th>28</th>\n",
       "      <td>2020/04/29</td>\n",
       "      <td>29</td>\n",
       "      <td>46.4</td>\n",
       "      <td>60.4</td>\n",
       "      <td>73.1</td>\n",
       "      <td>41.7</td>\n",
       "      <td>52.0</td>\n",
       "      <td>0.00</td>\n",
       "      <td>NW</td>\n",
       "      <td>6.1</td>\n",
       "      <td>15.7</td>\n",
       "      <td>NaN</td>\n",
       "      <td>57.7</td>\n",
       "      <td>60.6</td>\n",
       "      <td>0.0</td>\n",
       "      <td>17.90</td>\n",
       "      <td>0.17</td>\n",
       "      <td>0.24</td>\n",
       "      <td>Othello</td>\n",
       "      <td>NaN</td>\n",
       "    </tr>\n",
       "    <tr>\n",
       "      <th>29</th>\n",
       "      <td>2020/04/30</td>\n",
       "      <td>30</td>\n",
       "      <td>45.0</td>\n",
       "      <td>56.8</td>\n",
       "      <td>66.4</td>\n",
       "      <td>37.4</td>\n",
       "      <td>52.8</td>\n",
       "      <td>0.00</td>\n",
       "      <td>W</td>\n",
       "      <td>11.2</td>\n",
       "      <td>26.8</td>\n",
       "      <td>NaN</td>\n",
       "      <td>59.0</td>\n",
       "      <td>61.4</td>\n",
       "      <td>0.0</td>\n",
       "      <td>22.95</td>\n",
       "      <td>0.20</td>\n",
       "      <td>0.28</td>\n",
       "      <td>Othello</td>\n",
       "      <td>NaN</td>\n",
       "    </tr>\n",
       "  </tbody>\n",
       "</table>\n",
       "<p>90 rows × 20 columns</p>\n",
       "</div>"
      ],
      "text/plain": [
       "          Date  Date.1  Min°F  Avg°F  Max°F  AvgDP°F  AvgRH%  AvgLWu. AvgDir°  \\\n",
       "0   2020/04/01       1   30.1   40.2   49.9     27.8    62.0     0.01       W   \n",
       "1   2020/04/02       2   26.6   40.2   53.0     25.3    59.0     0.02      SW   \n",
       "2   2020/04/03       3   26.9   40.5   54.1     21.1    49.8     0.00       W   \n",
       "3   2020/04/04       4   29.7   42.5   53.4     22.4    47.6     0.01      NE   \n",
       "4   2020/04/05       5   38.0   47.3   58.3     32.7    58.0     0.00      NE   \n",
       "..         ...     ...    ...    ...    ...      ...     ...      ...     ...   \n",
       "25  2020/04/26      26   39.8   54.3   66.9     32.1    46.8     0.00      SW   \n",
       "26  2020/04/27      27   48.8   59.9   72.0     36.3    43.3     0.00      SW   \n",
       "27  2020/04/28      28   35.9   55.6   67.6     36.2    50.9     0.01       E   \n",
       "28  2020/04/29      29   46.4   60.4   73.1     41.7    52.0     0.00      NW   \n",
       "29  2020/04/30      30   45.0   56.8   66.4     37.4    52.8     0.00       W   \n",
       "\n",
       "    AvgSpeedmph  MaxGustmph  Avg 2 in.°F  Min°F.1  Avg°F.1  TotPrecin  \\\n",
       "0           4.1        17.1          NaN     48.0     49.7        0.0   \n",
       "1           4.5        22.5          NaN     46.6     49.0        0.0   \n",
       "2           6.1        31.4          NaN     46.8     49.3        0.0   \n",
       "3           4.8        24.3          NaN     47.1     49.1        0.0   \n",
       "4           3.9        18.9          NaN     49.4     51.0        0.0   \n",
       "..          ...         ...          ...      ...      ...        ...   \n",
       "25          5.8        18.2          NaN     53.6     57.2        0.0   \n",
       "26         13.3        32.5          NaN     56.7     59.2        0.0   \n",
       "27          4.5        13.2          NaN     55.4     59.2        0.0   \n",
       "28          6.1        15.7          NaN     57.7     60.6        0.0   \n",
       "29         11.2        26.8          NaN     59.0     61.4        0.0   \n",
       "\n",
       "    TotalSolarRadMJ/m²  EToin  ETrin  Station  AvgAtm.PressinHg  \n",
       "0                13.57   0.08   0.10  Prosser               NaN  \n",
       "1                19.42   0.10   0.13  Prosser               NaN  \n",
       "2                20.68   0.12   0.17  Prosser               NaN  \n",
       "3                16.25   0.10   0.14  Prosser               NaN  \n",
       "4                16.26   0.10   0.14  Prosser               NaN  \n",
       "..                 ...    ...    ...      ...               ...  \n",
       "25               23.53   0.17   0.24  Othello               NaN  \n",
       "26               24.12   0.26   0.38  Othello               NaN  \n",
       "27               21.71   0.15   0.19  Othello               NaN  \n",
       "28               17.90   0.17   0.24  Othello               NaN  \n",
       "29               22.95   0.20   0.28  Othello               NaN  \n",
       "\n",
       "[90 rows x 20 columns]"
      ]
     },
     "execution_count": 15,
     "metadata": {},
     "output_type": "execute_result"
    }
   ],
   "source": [
    "AprilDF"
   ]
  },
  {
   "cell_type": "markdown",
   "metadata": {},
   "source": [
    "Number of rainy days in April"
   ]
  },
  {
   "cell_type": "code",
   "execution_count": 16,
   "metadata": {},
   "outputs": [
    {
     "data": {
      "text/plain": [
       "Station    TotPrecin\n",
       "Othello    0.00         29\n",
       "           0.06          1\n",
       "Prosser    0.00         29\n",
       "           0.07          1\n",
       "TriCities  0.00         29\n",
       "           0.04          1\n",
       "Name: TotPrecin, dtype: int64"
      ]
     },
     "execution_count": 16,
     "metadata": {},
     "output_type": "execute_result"
    }
   ],
   "source": [
    "AprilDF.TotPrecin.groupby([AprilDF.Station]).value_counts()"
   ]
  },
  {
   "cell_type": "markdown",
   "metadata": {},
   "source": [
    "#### Import data for rain in May"
   ]
  },
  {
   "cell_type": "markdown",
   "metadata": {},
   "source": [
    "Packages and modules"
   ]
  },
  {
   "cell_type": "code",
   "execution_count": 17,
   "metadata": {},
   "outputs": [],
   "source": [
    "import pandas as pd\n",
    "import datetime"
   ]
  },
  {
   "cell_type": "code",
   "execution_count": 18,
   "metadata": {},
   "outputs": [],
   "source": [
    "df = pd.read_excel (r'/Users/davidwheeler/Desktop/RESEARCH/Data/LateBightForecast/Forecasts/30DaySpotForecasts/5-16_6-21.xlsx')"
   ]
  },
  {
   "cell_type": "code",
   "execution_count": 19,
   "metadata": {},
   "outputs": [
    {
     "data": {
      "text/html": [
       "<div>\n",
       "<style scoped>\n",
       "    .dataframe tbody tr th:only-of-type {\n",
       "        vertical-align: middle;\n",
       "    }\n",
       "\n",
       "    .dataframe tbody tr th {\n",
       "        vertical-align: top;\n",
       "    }\n",
       "\n",
       "    .dataframe thead th {\n",
       "        text-align: right;\n",
       "    }\n",
       "</style>\n",
       "<table border=\"1\" class=\"dataframe\">\n",
       "  <thead>\n",
       "    <tr style=\"text-align: right;\">\n",
       "      <th></th>\n",
       "      <th>30 Day Daily Rain Forecast for Three Stations in Southcentral Washington</th>\n",
       "      <th>Unnamed: 1</th>\n",
       "      <th>Unnamed: 2</th>\n",
       "      <th></th>\n",
       "      <th>Unnamed: 4</th>\n",
       "      <th>Unnamed: 5</th>\n",
       "      <th>Unnamed: 6</th>\n",
       "      <th>Unnamed: 7</th>\n",
       "      <th>Unnamed: 8</th>\n",
       "      <th>Unnamed: 9</th>\n",
       "    </tr>\n",
       "  </thead>\n",
       "  <tbody>\n",
       "    <tr>\n",
       "      <th>0</th>\n",
       "      <td>Issued 2330 PDT 5/16/2020</td>\n",
       "      <td>NaN</td>\n",
       "      <td>NaN</td>\n",
       "      <td>NaN</td>\n",
       "      <td>NaN</td>\n",
       "      <td>NaN</td>\n",
       "      <td>NaN</td>\n",
       "      <td>NaN</td>\n",
       "      <td>NaN</td>\n",
       "      <td>NaN</td>\n",
       "    </tr>\n",
       "    <tr>\n",
       "      <th>1</th>\n",
       "      <td>NaN</td>\n",
       "      <td>NaN</td>\n",
       "      <td>NaN</td>\n",
       "      <td>NaN</td>\n",
       "      <td>NaN</td>\n",
       "      <td>NaN</td>\n",
       "      <td>NaN</td>\n",
       "      <td>NaN</td>\n",
       "      <td>NaN</td>\n",
       "      <td>NaN</td>\n",
       "    </tr>\n",
       "    <tr>\n",
       "      <th>2</th>\n",
       "      <td>Notes:  Inputs for this forecast were from Fox...</td>\n",
       "      <td>NaN</td>\n",
       "      <td>NaN</td>\n",
       "      <td>NaN</td>\n",
       "      <td>NaN</td>\n",
       "      <td>NaN</td>\n",
       "      <td>NaN</td>\n",
       "      <td>NaN</td>\n",
       "      <td>NaN</td>\n",
       "      <td>NaN</td>\n",
       "    </tr>\n",
       "    <tr>\n",
       "      <th>3</th>\n",
       "      <td>and MtnRT™ from WRF 6km data for days 1-6 incl...</td>\n",
       "      <td>NaN</td>\n",
       "      <td>NaN</td>\n",
       "      <td>NaN</td>\n",
       "      <td>NaN</td>\n",
       "      <td>NaN</td>\n",
       "      <td>NaN</td>\n",
       "      <td>NaN</td>\n",
       "      <td>NaN</td>\n",
       "      <td>NaN</td>\n",
       "    </tr>\n",
       "    <tr>\n",
       "      <th>4</th>\n",
       "      <td>DATE</td>\n",
       "      <td>NaN</td>\n",
       "      <td>RAIN 100148 TRICITIES</td>\n",
       "      <td>NaN</td>\n",
       "      <td>NaN</td>\n",
       "      <td>NaN</td>\n",
       "      <td>RAIN 300033 PROSSER</td>\n",
       "      <td>NaN</td>\n",
       "      <td>NaN</td>\n",
       "      <td>RAIN OTHELLO 300122</td>\n",
       "    </tr>\n",
       "  </tbody>\n",
       "</table>\n",
       "</div>"
      ],
      "text/plain": [
       "  30 Day Daily Rain Forecast for Three Stations in Southcentral Washington   \\\n",
       "0                          Issued 2330 PDT 5/16/2020                          \n",
       "1                                                NaN                          \n",
       "2  Notes:  Inputs for this forecast were from Fox...                          \n",
       "3  and MtnRT™ from WRF 6km data for days 1-6 incl...                          \n",
       "4                                               DATE                          \n",
       "\n",
       "  Unnamed: 1             Unnamed: 2     Unnamed: 4  Unnamed: 5  \\\n",
       "0        NaN                    NaN NaN        NaN         NaN   \n",
       "1        NaN                    NaN NaN        NaN         NaN   \n",
       "2        NaN                    NaN NaN        NaN         NaN   \n",
       "3        NaN                    NaN NaN        NaN         NaN   \n",
       "4        NaN  RAIN 100148 TRICITIES NaN        NaN         NaN   \n",
       "\n",
       "            Unnamed: 6  Unnamed: 7 Unnamed: 8           Unnamed: 9  \n",
       "0                  NaN         NaN        NaN                  NaN  \n",
       "1                  NaN         NaN        NaN                  NaN  \n",
       "2                  NaN         NaN        NaN                  NaN  \n",
       "3                  NaN         NaN        NaN                  NaN  \n",
       "4  RAIN 300033 PROSSER         NaN        NaN  RAIN OTHELLO 300122  "
      ]
     },
     "execution_count": 19,
     "metadata": {},
     "output_type": "execute_result"
    }
   ],
   "source": [
    "df.head()"
   ]
  },
  {
   "cell_type": "markdown",
   "metadata": {},
   "source": [
    "Subset"
   ]
  },
  {
   "cell_type": "code",
   "execution_count": 20,
   "metadata": {},
   "outputs": [],
   "source": [
    "df_simple = df.iloc[4:42,]"
   ]
  },
  {
   "cell_type": "markdown",
   "metadata": {},
   "source": [
    "Rename columns"
   ]
  },
  {
   "cell_type": "code",
   "execution_count": 21,
   "metadata": {},
   "outputs": [],
   "source": [
    "df_simple.columns = df_simple.iloc[0]"
   ]
  },
  {
   "cell_type": "code",
   "execution_count": 22,
   "metadata": {},
   "outputs": [
    {
     "data": {
      "text/html": [
       "<div>\n",
       "<style scoped>\n",
       "    .dataframe tbody tr th:only-of-type {\n",
       "        vertical-align: middle;\n",
       "    }\n",
       "\n",
       "    .dataframe tbody tr th {\n",
       "        vertical-align: top;\n",
       "    }\n",
       "\n",
       "    .dataframe thead th {\n",
       "        text-align: right;\n",
       "    }\n",
       "</style>\n",
       "<table border=\"1\" class=\"dataframe\">\n",
       "  <thead>\n",
       "    <tr style=\"text-align: right;\">\n",
       "      <th>4</th>\n",
       "      <th>DATE</th>\n",
       "      <th>NaN</th>\n",
       "      <th>RAIN 100148 TRICITIES</th>\n",
       "      <th>NaN</th>\n",
       "      <th>NaN</th>\n",
       "      <th>NaN</th>\n",
       "      <th>RAIN 300033 PROSSER</th>\n",
       "      <th>NaN</th>\n",
       "      <th>NaN</th>\n",
       "      <th>RAIN OTHELLO 300122</th>\n",
       "    </tr>\n",
       "  </thead>\n",
       "  <tbody>\n",
       "    <tr>\n",
       "      <th>4</th>\n",
       "      <td>DATE</td>\n",
       "      <td>NaN</td>\n",
       "      <td>RAIN 100148 TRICITIES</td>\n",
       "      <td>NaN</td>\n",
       "      <td>NaN</td>\n",
       "      <td>NaN</td>\n",
       "      <td>RAIN 300033 PROSSER</td>\n",
       "      <td>NaN</td>\n",
       "      <td>NaN</td>\n",
       "      <td>RAIN OTHELLO 300122</td>\n",
       "    </tr>\n",
       "    <tr>\n",
       "      <th>5</th>\n",
       "      <td>2020-05-17 00:00:00</td>\n",
       "      <td>TriCities</td>\n",
       "      <td>0.1</td>\n",
       "      <td>NaN</td>\n",
       "      <td>Prosser</td>\n",
       "      <td>NaN</td>\n",
       "      <td>0.18</td>\n",
       "      <td>NaN</td>\n",
       "      <td>Othello</td>\n",
       "      <td>0.2</td>\n",
       "    </tr>\n",
       "    <tr>\n",
       "      <th>6</th>\n",
       "      <td>2020-05-18 00:00:00</td>\n",
       "      <td>TriCities</td>\n",
       "      <td>0</td>\n",
       "      <td>NaN</td>\n",
       "      <td>Prosser</td>\n",
       "      <td>NaN</td>\n",
       "      <td>0.01</td>\n",
       "      <td>NaN</td>\n",
       "      <td>Othello</td>\n",
       "      <td>0</td>\n",
       "    </tr>\n",
       "    <tr>\n",
       "      <th>7</th>\n",
       "      <td>2020-05-19 00:00:00</td>\n",
       "      <td>TriCities</td>\n",
       "      <td>0</td>\n",
       "      <td>NaN</td>\n",
       "      <td>Prosser</td>\n",
       "      <td>NaN</td>\n",
       "      <td>0</td>\n",
       "      <td>NaN</td>\n",
       "      <td>Othello</td>\n",
       "      <td>0</td>\n",
       "    </tr>\n",
       "    <tr>\n",
       "      <th>8</th>\n",
       "      <td>2020-05-20 00:00:00</td>\n",
       "      <td>TriCities</td>\n",
       "      <td>0</td>\n",
       "      <td>NaN</td>\n",
       "      <td>Prosser</td>\n",
       "      <td>NaN</td>\n",
       "      <td>0</td>\n",
       "      <td>NaN</td>\n",
       "      <td>Othello</td>\n",
       "      <td>0</td>\n",
       "    </tr>\n",
       "  </tbody>\n",
       "</table>\n",
       "</div>"
      ],
      "text/plain": [
       "4                 DATE        NaN  RAIN 100148 TRICITIES NaN      NaN NaN  \\\n",
       "4                 DATE        NaN  RAIN 100148 TRICITIES NaN      NaN NaN   \n",
       "5  2020-05-17 00:00:00  TriCities                    0.1 NaN  Prosser NaN   \n",
       "6  2020-05-18 00:00:00  TriCities                      0 NaN  Prosser NaN   \n",
       "7  2020-05-19 00:00:00  TriCities                      0 NaN  Prosser NaN   \n",
       "8  2020-05-20 00:00:00  TriCities                      0 NaN  Prosser NaN   \n",
       "\n",
       "4  RAIN 300033 PROSSER NaN      NaN  RAIN OTHELLO 300122  \n",
       "4  RAIN 300033 PROSSER NaN      NaN  RAIN OTHELLO 300122  \n",
       "5                 0.18 NaN  Othello                  0.2  \n",
       "6                 0.01 NaN  Othello                    0  \n",
       "7                    0 NaN  Othello                    0  \n",
       "8                    0 NaN  Othello                    0  "
      ]
     },
     "execution_count": 22,
     "metadata": {},
     "output_type": "execute_result"
    }
   ],
   "source": [
    "df_simple.head()"
   ]
  },
  {
   "cell_type": "markdown",
   "metadata": {},
   "source": [
    "Remove redundant row"
   ]
  },
  {
   "cell_type": "code",
   "execution_count": 23,
   "metadata": {},
   "outputs": [],
   "source": [
    "df_simple = df_simple.drop([4])"
   ]
  },
  {
   "cell_type": "code",
   "execution_count": 24,
   "metadata": {},
   "outputs": [],
   "source": [
    "df_simple.drop(df_simple.tail(1).index,inplace=True)"
   ]
  },
  {
   "cell_type": "markdown",
   "metadata": {},
   "source": [
    "Remove Daynmbr & NaN columns"
   ]
  },
  {
   "cell_type": "code",
   "execution_count": 25,
   "metadata": {},
   "outputs": [
    {
     "data": {
      "text/html": [
       "<div>\n",
       "<style scoped>\n",
       "    .dataframe tbody tr th:only-of-type {\n",
       "        vertical-align: middle;\n",
       "    }\n",
       "\n",
       "    .dataframe tbody tr th {\n",
       "        vertical-align: top;\n",
       "    }\n",
       "\n",
       "    .dataframe thead th {\n",
       "        text-align: right;\n",
       "    }\n",
       "</style>\n",
       "<table border=\"1\" class=\"dataframe\">\n",
       "  <thead>\n",
       "    <tr style=\"text-align: right;\">\n",
       "      <th>4</th>\n",
       "      <th>DATE</th>\n",
       "      <th>NaN</th>\n",
       "      <th>RAIN 100148 TRICITIES</th>\n",
       "      <th>NaN</th>\n",
       "      <th>NaN</th>\n",
       "      <th>NaN</th>\n",
       "      <th>RAIN 300033 PROSSER</th>\n",
       "      <th>NaN</th>\n",
       "      <th>NaN</th>\n",
       "      <th>RAIN OTHELLO 300122</th>\n",
       "    </tr>\n",
       "  </thead>\n",
       "  <tbody>\n",
       "    <tr>\n",
       "      <th>5</th>\n",
       "      <td>2020-05-17 00:00:00</td>\n",
       "      <td>TriCities</td>\n",
       "      <td>0.1</td>\n",
       "      <td>NaN</td>\n",
       "      <td>Prosser</td>\n",
       "      <td>NaN</td>\n",
       "      <td>0.18</td>\n",
       "      <td>NaN</td>\n",
       "      <td>Othello</td>\n",
       "      <td>0.2</td>\n",
       "    </tr>\n",
       "    <tr>\n",
       "      <th>6</th>\n",
       "      <td>2020-05-18 00:00:00</td>\n",
       "      <td>TriCities</td>\n",
       "      <td>0</td>\n",
       "      <td>NaN</td>\n",
       "      <td>Prosser</td>\n",
       "      <td>NaN</td>\n",
       "      <td>0.01</td>\n",
       "      <td>NaN</td>\n",
       "      <td>Othello</td>\n",
       "      <td>0</td>\n",
       "    </tr>\n",
       "    <tr>\n",
       "      <th>7</th>\n",
       "      <td>2020-05-19 00:00:00</td>\n",
       "      <td>TriCities</td>\n",
       "      <td>0</td>\n",
       "      <td>NaN</td>\n",
       "      <td>Prosser</td>\n",
       "      <td>NaN</td>\n",
       "      <td>0</td>\n",
       "      <td>NaN</td>\n",
       "      <td>Othello</td>\n",
       "      <td>0</td>\n",
       "    </tr>\n",
       "    <tr>\n",
       "      <th>8</th>\n",
       "      <td>2020-05-20 00:00:00</td>\n",
       "      <td>TriCities</td>\n",
       "      <td>0</td>\n",
       "      <td>NaN</td>\n",
       "      <td>Prosser</td>\n",
       "      <td>NaN</td>\n",
       "      <td>0</td>\n",
       "      <td>NaN</td>\n",
       "      <td>Othello</td>\n",
       "      <td>0</td>\n",
       "    </tr>\n",
       "    <tr>\n",
       "      <th>9</th>\n",
       "      <td>2020-05-21 00:00:00</td>\n",
       "      <td>TriCities</td>\n",
       "      <td>0</td>\n",
       "      <td>NaN</td>\n",
       "      <td>Prosser</td>\n",
       "      <td>NaN</td>\n",
       "      <td>0</td>\n",
       "      <td>NaN</td>\n",
       "      <td>Othello</td>\n",
       "      <td>0</td>\n",
       "    </tr>\n",
       "  </tbody>\n",
       "</table>\n",
       "</div>"
      ],
      "text/plain": [
       "4                 DATE        NaN RAIN 100148 TRICITIES NaN      NaN NaN  \\\n",
       "5  2020-05-17 00:00:00  TriCities                   0.1 NaN  Prosser NaN   \n",
       "6  2020-05-18 00:00:00  TriCities                     0 NaN  Prosser NaN   \n",
       "7  2020-05-19 00:00:00  TriCities                     0 NaN  Prosser NaN   \n",
       "8  2020-05-20 00:00:00  TriCities                     0 NaN  Prosser NaN   \n",
       "9  2020-05-21 00:00:00  TriCities                     0 NaN  Prosser NaN   \n",
       "\n",
       "4 RAIN 300033 PROSSER NaN      NaN RAIN OTHELLO 300122  \n",
       "5                0.18 NaN  Othello                 0.2  \n",
       "6                0.01 NaN  Othello                   0  \n",
       "7                   0 NaN  Othello                   0  \n",
       "8                   0 NaN  Othello                   0  \n",
       "9                   0 NaN  Othello                   0  "
      ]
     },
     "execution_count": 25,
     "metadata": {},
     "output_type": "execute_result"
    }
   ],
   "source": [
    "df_simple.head()"
   ]
  },
  {
   "cell_type": "markdown",
   "metadata": {},
   "source": [
    "Remove NaN columns"
   ]
  },
  {
   "cell_type": "code",
   "execution_count": 26,
   "metadata": {},
   "outputs": [],
   "source": [
    "df_simple = df_simple.loc[:, df_simple.isnull().mean() < .8]"
   ]
  },
  {
   "cell_type": "code",
   "execution_count": 27,
   "metadata": {},
   "outputs": [
    {
     "data": {
      "text/html": [
       "<div>\n",
       "<style scoped>\n",
       "    .dataframe tbody tr th:only-of-type {\n",
       "        vertical-align: middle;\n",
       "    }\n",
       "\n",
       "    .dataframe tbody tr th {\n",
       "        vertical-align: top;\n",
       "    }\n",
       "\n",
       "    .dataframe thead th {\n",
       "        text-align: right;\n",
       "    }\n",
       "</style>\n",
       "<table border=\"1\" class=\"dataframe\">\n",
       "  <thead>\n",
       "    <tr style=\"text-align: right;\">\n",
       "      <th>4</th>\n",
       "      <th>DATE</th>\n",
       "      <th>NaN</th>\n",
       "      <th>RAIN 100148 TRICITIES</th>\n",
       "      <th>NaN</th>\n",
       "      <th>RAIN 300033 PROSSER</th>\n",
       "      <th>NaN</th>\n",
       "      <th>RAIN OTHELLO 300122</th>\n",
       "    </tr>\n",
       "  </thead>\n",
       "  <tbody>\n",
       "    <tr>\n",
       "      <th>5</th>\n",
       "      <td>2020-05-17 00:00:00</td>\n",
       "      <td>TriCities</td>\n",
       "      <td>0.1</td>\n",
       "      <td>Prosser</td>\n",
       "      <td>0.18</td>\n",
       "      <td>Othello</td>\n",
       "      <td>0.2</td>\n",
       "    </tr>\n",
       "    <tr>\n",
       "      <th>6</th>\n",
       "      <td>2020-05-18 00:00:00</td>\n",
       "      <td>TriCities</td>\n",
       "      <td>0</td>\n",
       "      <td>Prosser</td>\n",
       "      <td>0.01</td>\n",
       "      <td>Othello</td>\n",
       "      <td>0</td>\n",
       "    </tr>\n",
       "    <tr>\n",
       "      <th>7</th>\n",
       "      <td>2020-05-19 00:00:00</td>\n",
       "      <td>TriCities</td>\n",
       "      <td>0</td>\n",
       "      <td>Prosser</td>\n",
       "      <td>0</td>\n",
       "      <td>Othello</td>\n",
       "      <td>0</td>\n",
       "    </tr>\n",
       "    <tr>\n",
       "      <th>8</th>\n",
       "      <td>2020-05-20 00:00:00</td>\n",
       "      <td>TriCities</td>\n",
       "      <td>0</td>\n",
       "      <td>Prosser</td>\n",
       "      <td>0</td>\n",
       "      <td>Othello</td>\n",
       "      <td>0</td>\n",
       "    </tr>\n",
       "    <tr>\n",
       "      <th>9</th>\n",
       "      <td>2020-05-21 00:00:00</td>\n",
       "      <td>TriCities</td>\n",
       "      <td>0</td>\n",
       "      <td>Prosser</td>\n",
       "      <td>0</td>\n",
       "      <td>Othello</td>\n",
       "      <td>0</td>\n",
       "    </tr>\n",
       "    <tr>\n",
       "      <th>10</th>\n",
       "      <td>2020-05-22 00:00:00</td>\n",
       "      <td>TriCities</td>\n",
       "      <td>0</td>\n",
       "      <td>Prosser</td>\n",
       "      <td>0</td>\n",
       "      <td>Othello</td>\n",
       "      <td>0</td>\n",
       "    </tr>\n",
       "    <tr>\n",
       "      <th>11</th>\n",
       "      <td>2020-05-23 00:00:00</td>\n",
       "      <td>TriCities</td>\n",
       "      <td>0.12</td>\n",
       "      <td>Prosser</td>\n",
       "      <td>0.18</td>\n",
       "      <td>Othello</td>\n",
       "      <td>0.1</td>\n",
       "    </tr>\n",
       "    <tr>\n",
       "      <th>12</th>\n",
       "      <td>2020-05-24 00:00:00</td>\n",
       "      <td>TriCities</td>\n",
       "      <td>0.15</td>\n",
       "      <td>Prosser</td>\n",
       "      <td>0.12</td>\n",
       "      <td>Othello</td>\n",
       "      <td>0.1</td>\n",
       "    </tr>\n",
       "    <tr>\n",
       "      <th>13</th>\n",
       "      <td>2020-05-25 00:00:00</td>\n",
       "      <td>TriCities</td>\n",
       "      <td>0</td>\n",
       "      <td>Prosser</td>\n",
       "      <td>0</td>\n",
       "      <td>Othello</td>\n",
       "      <td>0</td>\n",
       "    </tr>\n",
       "    <tr>\n",
       "      <th>14</th>\n",
       "      <td>2020-05-26 00:00:00</td>\n",
       "      <td>TriCities</td>\n",
       "      <td>0.15</td>\n",
       "      <td>Prosser</td>\n",
       "      <td>0.22</td>\n",
       "      <td>Othello</td>\n",
       "      <td>0.25</td>\n",
       "    </tr>\n",
       "    <tr>\n",
       "      <th>15</th>\n",
       "      <td>2020-05-27 00:00:00</td>\n",
       "      <td>TriCities</td>\n",
       "      <td>0.01</td>\n",
       "      <td>Prosser</td>\n",
       "      <td>0.01</td>\n",
       "      <td>Othello</td>\n",
       "      <td>0.01</td>\n",
       "    </tr>\n",
       "    <tr>\n",
       "      <th>16</th>\n",
       "      <td>2020-05-28 00:00:00</td>\n",
       "      <td>TriCities</td>\n",
       "      <td>0</td>\n",
       "      <td>Prosser</td>\n",
       "      <td>0</td>\n",
       "      <td>Othello</td>\n",
       "      <td>0</td>\n",
       "    </tr>\n",
       "    <tr>\n",
       "      <th>17</th>\n",
       "      <td>2020-05-29 00:00:00</td>\n",
       "      <td>TriCities</td>\n",
       "      <td>0</td>\n",
       "      <td>Prosser</td>\n",
       "      <td>0</td>\n",
       "      <td>Othello</td>\n",
       "      <td>0</td>\n",
       "    </tr>\n",
       "    <tr>\n",
       "      <th>18</th>\n",
       "      <td>2020-05-30 00:00:00</td>\n",
       "      <td>TriCities</td>\n",
       "      <td>0</td>\n",
       "      <td>Prosser</td>\n",
       "      <td>0</td>\n",
       "      <td>Othello</td>\n",
       "      <td>0</td>\n",
       "    </tr>\n",
       "    <tr>\n",
       "      <th>19</th>\n",
       "      <td>2020-05-31 00:00:00</td>\n",
       "      <td>TriCities</td>\n",
       "      <td>0</td>\n",
       "      <td>Prosser</td>\n",
       "      <td>0</td>\n",
       "      <td>Othello</td>\n",
       "      <td>0</td>\n",
       "    </tr>\n",
       "    <tr>\n",
       "      <th>20</th>\n",
       "      <td>2020-06-01 00:00:00</td>\n",
       "      <td>TriCities</td>\n",
       "      <td>0</td>\n",
       "      <td>Prosser</td>\n",
       "      <td>0</td>\n",
       "      <td>Othello</td>\n",
       "      <td>0</td>\n",
       "    </tr>\n",
       "    <tr>\n",
       "      <th>21</th>\n",
       "      <td>2020-06-02 00:00:00</td>\n",
       "      <td>TriCities</td>\n",
       "      <td>0</td>\n",
       "      <td>Prosser</td>\n",
       "      <td>0</td>\n",
       "      <td>Othello</td>\n",
       "      <td>0</td>\n",
       "    </tr>\n",
       "    <tr>\n",
       "      <th>22</th>\n",
       "      <td>2020-06-03 00:00:00</td>\n",
       "      <td>TriCities</td>\n",
       "      <td>0</td>\n",
       "      <td>Prosser</td>\n",
       "      <td>0</td>\n",
       "      <td>Othello</td>\n",
       "      <td>0</td>\n",
       "    </tr>\n",
       "    <tr>\n",
       "      <th>23</th>\n",
       "      <td>2020-06-04 00:00:00</td>\n",
       "      <td>TriCities</td>\n",
       "      <td>0</td>\n",
       "      <td>Prosser</td>\n",
       "      <td>0</td>\n",
       "      <td>Othello</td>\n",
       "      <td>0</td>\n",
       "    </tr>\n",
       "    <tr>\n",
       "      <th>24</th>\n",
       "      <td>2020-06-05 00:00:00</td>\n",
       "      <td>TriCities</td>\n",
       "      <td>0</td>\n",
       "      <td>Prosser</td>\n",
       "      <td>0</td>\n",
       "      <td>Othello</td>\n",
       "      <td>0</td>\n",
       "    </tr>\n",
       "    <tr>\n",
       "      <th>25</th>\n",
       "      <td>2020-06-06 00:00:00</td>\n",
       "      <td>TriCities</td>\n",
       "      <td>0</td>\n",
       "      <td>Prosser</td>\n",
       "      <td>0</td>\n",
       "      <td>Othello</td>\n",
       "      <td>0</td>\n",
       "    </tr>\n",
       "    <tr>\n",
       "      <th>26</th>\n",
       "      <td>2020-06-07 00:00:00</td>\n",
       "      <td>TriCities</td>\n",
       "      <td>0</td>\n",
       "      <td>Prosser</td>\n",
       "      <td>0.02</td>\n",
       "      <td>Othello</td>\n",
       "      <td>0</td>\n",
       "    </tr>\n",
       "    <tr>\n",
       "      <th>27</th>\n",
       "      <td>2020-06-08 00:00:00</td>\n",
       "      <td>TriCities</td>\n",
       "      <td>0.2</td>\n",
       "      <td>Prosser</td>\n",
       "      <td>0.3</td>\n",
       "      <td>Othello</td>\n",
       "      <td>0.22</td>\n",
       "    </tr>\n",
       "    <tr>\n",
       "      <th>28</th>\n",
       "      <td>2020-06-09 00:00:00</td>\n",
       "      <td>TriCities</td>\n",
       "      <td>0</td>\n",
       "      <td>Prosser</td>\n",
       "      <td>0</td>\n",
       "      <td>Othello</td>\n",
       "      <td>0</td>\n",
       "    </tr>\n",
       "    <tr>\n",
       "      <th>29</th>\n",
       "      <td>2020-06-10 00:00:00</td>\n",
       "      <td>TriCities</td>\n",
       "      <td>0</td>\n",
       "      <td>Prosser</td>\n",
       "      <td>0</td>\n",
       "      <td>Othello</td>\n",
       "      <td>0</td>\n",
       "    </tr>\n",
       "    <tr>\n",
       "      <th>30</th>\n",
       "      <td>2020-06-11 00:00:00</td>\n",
       "      <td>TriCities</td>\n",
       "      <td>0</td>\n",
       "      <td>Prosser</td>\n",
       "      <td>0</td>\n",
       "      <td>Othello</td>\n",
       "      <td>0</td>\n",
       "    </tr>\n",
       "    <tr>\n",
       "      <th>31</th>\n",
       "      <td>2020-06-12 00:00:00</td>\n",
       "      <td>TriCities</td>\n",
       "      <td>0</td>\n",
       "      <td>Prosser</td>\n",
       "      <td>0</td>\n",
       "      <td>Othello</td>\n",
       "      <td>0</td>\n",
       "    </tr>\n",
       "    <tr>\n",
       "      <th>32</th>\n",
       "      <td>2020-06-13 00:00:00</td>\n",
       "      <td>TriCities</td>\n",
       "      <td>0</td>\n",
       "      <td>Prosser</td>\n",
       "      <td>0</td>\n",
       "      <td>Othello</td>\n",
       "      <td>0</td>\n",
       "    </tr>\n",
       "    <tr>\n",
       "      <th>33</th>\n",
       "      <td>2020-06-14 00:00:00</td>\n",
       "      <td>TriCities</td>\n",
       "      <td>0</td>\n",
       "      <td>Prosser</td>\n",
       "      <td>0</td>\n",
       "      <td>Othello</td>\n",
       "      <td>0.01</td>\n",
       "    </tr>\n",
       "    <tr>\n",
       "      <th>34</th>\n",
       "      <td>2020-06-15 00:00:00</td>\n",
       "      <td>TriCities</td>\n",
       "      <td>0.15</td>\n",
       "      <td>Prosser</td>\n",
       "      <td>0.15</td>\n",
       "      <td>Othello</td>\n",
       "      <td>0.18</td>\n",
       "    </tr>\n",
       "    <tr>\n",
       "      <th>35</th>\n",
       "      <td>2020-06-16 00:00:00</td>\n",
       "      <td>TriCities</td>\n",
       "      <td>0</td>\n",
       "      <td>Prosser</td>\n",
       "      <td>0</td>\n",
       "      <td>Othello</td>\n",
       "      <td>0</td>\n",
       "    </tr>\n",
       "    <tr>\n",
       "      <th>36</th>\n",
       "      <td>2020-06-17 00:00:00</td>\n",
       "      <td>TriCities</td>\n",
       "      <td>0</td>\n",
       "      <td>Prosser</td>\n",
       "      <td>0.01</td>\n",
       "      <td>Othello</td>\n",
       "      <td>0</td>\n",
       "    </tr>\n",
       "    <tr>\n",
       "      <th>37</th>\n",
       "      <td>2020-06-18 00:00:00</td>\n",
       "      <td>TriCities</td>\n",
       "      <td>0</td>\n",
       "      <td>Prosser</td>\n",
       "      <td>0.2</td>\n",
       "      <td>Othello</td>\n",
       "      <td>0.05</td>\n",
       "    </tr>\n",
       "    <tr>\n",
       "      <th>38</th>\n",
       "      <td>2020-06-19 00:00:00</td>\n",
       "      <td>TriCities</td>\n",
       "      <td>0.25</td>\n",
       "      <td>Prosser</td>\n",
       "      <td>0.18</td>\n",
       "      <td>Othello</td>\n",
       "      <td>0.14</td>\n",
       "    </tr>\n",
       "    <tr>\n",
       "      <th>39</th>\n",
       "      <td>2020-06-20 00:00:00</td>\n",
       "      <td>TriCities</td>\n",
       "      <td>0</td>\n",
       "      <td>Prosser</td>\n",
       "      <td>0</td>\n",
       "      <td>Othello</td>\n",
       "      <td>0</td>\n",
       "    </tr>\n",
       "    <tr>\n",
       "      <th>40</th>\n",
       "      <td>2020-06-21 00:00:00</td>\n",
       "      <td>TriCities</td>\n",
       "      <td>0.01</td>\n",
       "      <td>Prosser</td>\n",
       "      <td>0.05</td>\n",
       "      <td>Othello</td>\n",
       "      <td>0.01</td>\n",
       "    </tr>\n",
       "  </tbody>\n",
       "</table>\n",
       "</div>"
      ],
      "text/plain": [
       "4                  DATE        NaN RAIN 100148 TRICITIES      NaN  \\\n",
       "5   2020-05-17 00:00:00  TriCities                   0.1  Prosser   \n",
       "6   2020-05-18 00:00:00  TriCities                     0  Prosser   \n",
       "7   2020-05-19 00:00:00  TriCities                     0  Prosser   \n",
       "8   2020-05-20 00:00:00  TriCities                     0  Prosser   \n",
       "9   2020-05-21 00:00:00  TriCities                     0  Prosser   \n",
       "10  2020-05-22 00:00:00  TriCities                     0  Prosser   \n",
       "11  2020-05-23 00:00:00  TriCities                  0.12  Prosser   \n",
       "12  2020-05-24 00:00:00  TriCities                  0.15  Prosser   \n",
       "13  2020-05-25 00:00:00  TriCities                     0  Prosser   \n",
       "14  2020-05-26 00:00:00  TriCities                  0.15  Prosser   \n",
       "15  2020-05-27 00:00:00  TriCities                  0.01  Prosser   \n",
       "16  2020-05-28 00:00:00  TriCities                     0  Prosser   \n",
       "17  2020-05-29 00:00:00  TriCities                     0  Prosser   \n",
       "18  2020-05-30 00:00:00  TriCities                     0  Prosser   \n",
       "19  2020-05-31 00:00:00  TriCities                     0  Prosser   \n",
       "20  2020-06-01 00:00:00  TriCities                     0  Prosser   \n",
       "21  2020-06-02 00:00:00  TriCities                     0  Prosser   \n",
       "22  2020-06-03 00:00:00  TriCities                     0  Prosser   \n",
       "23  2020-06-04 00:00:00  TriCities                     0  Prosser   \n",
       "24  2020-06-05 00:00:00  TriCities                     0  Prosser   \n",
       "25  2020-06-06 00:00:00  TriCities                     0  Prosser   \n",
       "26  2020-06-07 00:00:00  TriCities                     0  Prosser   \n",
       "27  2020-06-08 00:00:00  TriCities                   0.2  Prosser   \n",
       "28  2020-06-09 00:00:00  TriCities                     0  Prosser   \n",
       "29  2020-06-10 00:00:00  TriCities                     0  Prosser   \n",
       "30  2020-06-11 00:00:00  TriCities                     0  Prosser   \n",
       "31  2020-06-12 00:00:00  TriCities                     0  Prosser   \n",
       "32  2020-06-13 00:00:00  TriCities                     0  Prosser   \n",
       "33  2020-06-14 00:00:00  TriCities                     0  Prosser   \n",
       "34  2020-06-15 00:00:00  TriCities                  0.15  Prosser   \n",
       "35  2020-06-16 00:00:00  TriCities                     0  Prosser   \n",
       "36  2020-06-17 00:00:00  TriCities                     0  Prosser   \n",
       "37  2020-06-18 00:00:00  TriCities                     0  Prosser   \n",
       "38  2020-06-19 00:00:00  TriCities                  0.25  Prosser   \n",
       "39  2020-06-20 00:00:00  TriCities                     0  Prosser   \n",
       "40  2020-06-21 00:00:00  TriCities                  0.01  Prosser   \n",
       "\n",
       "4  RAIN 300033 PROSSER      NaN RAIN OTHELLO 300122  \n",
       "5                 0.18  Othello                 0.2  \n",
       "6                 0.01  Othello                   0  \n",
       "7                    0  Othello                   0  \n",
       "8                    0  Othello                   0  \n",
       "9                    0  Othello                   0  \n",
       "10                   0  Othello                   0  \n",
       "11                0.18  Othello                 0.1  \n",
       "12                0.12  Othello                 0.1  \n",
       "13                   0  Othello                   0  \n",
       "14                0.22  Othello                0.25  \n",
       "15                0.01  Othello                0.01  \n",
       "16                   0  Othello                   0  \n",
       "17                   0  Othello                   0  \n",
       "18                   0  Othello                   0  \n",
       "19                   0  Othello                   0  \n",
       "20                   0  Othello                   0  \n",
       "21                   0  Othello                   0  \n",
       "22                   0  Othello                   0  \n",
       "23                   0  Othello                   0  \n",
       "24                   0  Othello                   0  \n",
       "25                   0  Othello                   0  \n",
       "26                0.02  Othello                   0  \n",
       "27                 0.3  Othello                0.22  \n",
       "28                   0  Othello                   0  \n",
       "29                   0  Othello                   0  \n",
       "30                   0  Othello                   0  \n",
       "31                   0  Othello                   0  \n",
       "32                   0  Othello                   0  \n",
       "33                   0  Othello                0.01  \n",
       "34                0.15  Othello                0.18  \n",
       "35                   0  Othello                   0  \n",
       "36                0.01  Othello                   0  \n",
       "37                 0.2  Othello                0.05  \n",
       "38                0.18  Othello                0.14  \n",
       "39                   0  Othello                   0  \n",
       "40                0.05  Othello                0.01  "
      ]
     },
     "execution_count": 27,
     "metadata": {},
     "output_type": "execute_result"
    }
   ],
   "source": [
    "df_simple"
   ]
  },
  {
   "cell_type": "markdown",
   "metadata": {},
   "source": [
    "Remove redundant columns"
   ]
  },
  {
   "cell_type": "code",
   "execution_count": 28,
   "metadata": {},
   "outputs": [],
   "source": [
    "df_simple = df_simple[[\"DATE\",\"RAIN 100148 TRICITIES\",\"RAIN 300033 PROSSER\", \"RAIN OTHELLO 300122\"]]"
   ]
  },
  {
   "cell_type": "markdown",
   "metadata": {},
   "source": [
    "Rename station columns"
   ]
  },
  {
   "cell_type": "code",
   "execution_count": 29,
   "metadata": {},
   "outputs": [],
   "source": [
    "df_simple = df_simple.rename(columns={\"RAIN 100148 TRICITIES\": \"TriCities\",\n",
    "                          \"RAIN 300033 PROSSER\": \"Prosser\",\n",
    "                         \"RAIN OTHELLO 300122\": \"Othello\"})"
   ]
  },
  {
   "cell_type": "code",
   "execution_count": 30,
   "metadata": {},
   "outputs": [
    {
     "data": {
      "text/html": [
       "<div>\n",
       "<style scoped>\n",
       "    .dataframe tbody tr th:only-of-type {\n",
       "        vertical-align: middle;\n",
       "    }\n",
       "\n",
       "    .dataframe tbody tr th {\n",
       "        vertical-align: top;\n",
       "    }\n",
       "\n",
       "    .dataframe thead th {\n",
       "        text-align: right;\n",
       "    }\n",
       "</style>\n",
       "<table border=\"1\" class=\"dataframe\">\n",
       "  <thead>\n",
       "    <tr style=\"text-align: right;\">\n",
       "      <th>4</th>\n",
       "      <th>DATE</th>\n",
       "      <th>TriCities</th>\n",
       "      <th>Prosser</th>\n",
       "      <th>Othello</th>\n",
       "    </tr>\n",
       "  </thead>\n",
       "  <tbody>\n",
       "    <tr>\n",
       "      <th>5</th>\n",
       "      <td>2020-05-17 00:00:00</td>\n",
       "      <td>0.1</td>\n",
       "      <td>0.18</td>\n",
       "      <td>0.2</td>\n",
       "    </tr>\n",
       "    <tr>\n",
       "      <th>6</th>\n",
       "      <td>2020-05-18 00:00:00</td>\n",
       "      <td>0</td>\n",
       "      <td>0.01</td>\n",
       "      <td>0</td>\n",
       "    </tr>\n",
       "    <tr>\n",
       "      <th>7</th>\n",
       "      <td>2020-05-19 00:00:00</td>\n",
       "      <td>0</td>\n",
       "      <td>0</td>\n",
       "      <td>0</td>\n",
       "    </tr>\n",
       "    <tr>\n",
       "      <th>8</th>\n",
       "      <td>2020-05-20 00:00:00</td>\n",
       "      <td>0</td>\n",
       "      <td>0</td>\n",
       "      <td>0</td>\n",
       "    </tr>\n",
       "    <tr>\n",
       "      <th>9</th>\n",
       "      <td>2020-05-21 00:00:00</td>\n",
       "      <td>0</td>\n",
       "      <td>0</td>\n",
       "      <td>0</td>\n",
       "    </tr>\n",
       "  </tbody>\n",
       "</table>\n",
       "</div>"
      ],
      "text/plain": [
       "4                 DATE TriCities Prosser Othello\n",
       "5  2020-05-17 00:00:00       0.1    0.18     0.2\n",
       "6  2020-05-18 00:00:00         0    0.01       0\n",
       "7  2020-05-19 00:00:00         0       0       0\n",
       "8  2020-05-20 00:00:00         0       0       0\n",
       "9  2020-05-21 00:00:00         0       0       0"
      ]
     },
     "execution_count": 30,
     "metadata": {},
     "output_type": "execute_result"
    }
   ],
   "source": [
    "df_simple.head()"
   ]
  },
  {
   "cell_type": "markdown",
   "metadata": {},
   "source": [
    "Remove \">=\" symbols"
   ]
  },
  {
   "cell_type": "code",
   "execution_count": 31,
   "metadata": {},
   "outputs": [],
   "source": [
    "cols_to_check = ['TriCities', 'Prosser', 'Othello']"
   ]
  },
  {
   "cell_type": "code",
   "execution_count": 32,
   "metadata": {},
   "outputs": [],
   "source": [
    "df_simple[cols_to_check] = df_simple[cols_to_check].replace({'>=':''}, regex=True)"
   ]
  },
  {
   "cell_type": "code",
   "execution_count": 33,
   "metadata": {},
   "outputs": [
    {
     "data": {
      "text/html": [
       "<div>\n",
       "<style scoped>\n",
       "    .dataframe tbody tr th:only-of-type {\n",
       "        vertical-align: middle;\n",
       "    }\n",
       "\n",
       "    .dataframe tbody tr th {\n",
       "        vertical-align: top;\n",
       "    }\n",
       "\n",
       "    .dataframe thead th {\n",
       "        text-align: right;\n",
       "    }\n",
       "</style>\n",
       "<table border=\"1\" class=\"dataframe\">\n",
       "  <thead>\n",
       "    <tr style=\"text-align: right;\">\n",
       "      <th>4</th>\n",
       "      <th>DATE</th>\n",
       "      <th>TriCities</th>\n",
       "      <th>Prosser</th>\n",
       "      <th>Othello</th>\n",
       "    </tr>\n",
       "  </thead>\n",
       "  <tbody>\n",
       "    <tr>\n",
       "      <th>5</th>\n",
       "      <td>2020-05-17 00:00:00</td>\n",
       "      <td>0.1</td>\n",
       "      <td>0.18</td>\n",
       "      <td>0.2</td>\n",
       "    </tr>\n",
       "    <tr>\n",
       "      <th>6</th>\n",
       "      <td>2020-05-18 00:00:00</td>\n",
       "      <td>0.0</td>\n",
       "      <td>0.01</td>\n",
       "      <td>0.0</td>\n",
       "    </tr>\n",
       "    <tr>\n",
       "      <th>7</th>\n",
       "      <td>2020-05-19 00:00:00</td>\n",
       "      <td>0.0</td>\n",
       "      <td>0.00</td>\n",
       "      <td>0.0</td>\n",
       "    </tr>\n",
       "    <tr>\n",
       "      <th>8</th>\n",
       "      <td>2020-05-20 00:00:00</td>\n",
       "      <td>0.0</td>\n",
       "      <td>0.00</td>\n",
       "      <td>0.0</td>\n",
       "    </tr>\n",
       "    <tr>\n",
       "      <th>9</th>\n",
       "      <td>2020-05-21 00:00:00</td>\n",
       "      <td>0.0</td>\n",
       "      <td>0.00</td>\n",
       "      <td>0.0</td>\n",
       "    </tr>\n",
       "  </tbody>\n",
       "</table>\n",
       "</div>"
      ],
      "text/plain": [
       "4                 DATE  TriCities  Prosser  Othello\n",
       "5  2020-05-17 00:00:00        0.1     0.18      0.2\n",
       "6  2020-05-18 00:00:00        0.0     0.01      0.0\n",
       "7  2020-05-19 00:00:00        0.0     0.00      0.0\n",
       "8  2020-05-20 00:00:00        0.0     0.00      0.0\n",
       "9  2020-05-21 00:00:00        0.0     0.00      0.0"
      ]
     },
     "execution_count": 33,
     "metadata": {},
     "output_type": "execute_result"
    }
   ],
   "source": [
    "df_simple.head()"
   ]
  },
  {
   "cell_type": "markdown",
   "metadata": {},
   "source": [
    "Rainy days in May for each station"
   ]
  },
  {
   "cell_type": "markdown",
   "metadata": {},
   "source": [
    "- convert date to datetime"
   ]
  },
  {
   "cell_type": "code",
   "execution_count": 34,
   "metadata": {},
   "outputs": [],
   "source": [
    "df_simple.index = pd.to_datetime(df_simple['DATE'],format='%m/%d/%y %I:%M%p')"
   ]
  },
  {
   "cell_type": "code",
   "execution_count": 35,
   "metadata": {},
   "outputs": [
    {
     "data": {
      "text/html": [
       "<div>\n",
       "<style scoped>\n",
       "    .dataframe tbody tr th:only-of-type {\n",
       "        vertical-align: middle;\n",
       "    }\n",
       "\n",
       "    .dataframe tbody tr th {\n",
       "        vertical-align: top;\n",
       "    }\n",
       "\n",
       "    .dataframe thead th {\n",
       "        text-align: right;\n",
       "    }\n",
       "</style>\n",
       "<table border=\"1\" class=\"dataframe\">\n",
       "  <thead>\n",
       "    <tr style=\"text-align: right;\">\n",
       "      <th>4</th>\n",
       "      <th>DATE</th>\n",
       "      <th>TriCities</th>\n",
       "      <th>Prosser</th>\n",
       "      <th>Othello</th>\n",
       "    </tr>\n",
       "    <tr>\n",
       "      <th>DATE</th>\n",
       "      <th></th>\n",
       "      <th></th>\n",
       "      <th></th>\n",
       "      <th></th>\n",
       "    </tr>\n",
       "  </thead>\n",
       "  <tbody>\n",
       "    <tr>\n",
       "      <th>2020-05-17</th>\n",
       "      <td>2020-05-17 00:00:00</td>\n",
       "      <td>0.1</td>\n",
       "      <td>0.18</td>\n",
       "      <td>0.2</td>\n",
       "    </tr>\n",
       "    <tr>\n",
       "      <th>2020-05-18</th>\n",
       "      <td>2020-05-18 00:00:00</td>\n",
       "      <td>0.0</td>\n",
       "      <td>0.01</td>\n",
       "      <td>0.0</td>\n",
       "    </tr>\n",
       "    <tr>\n",
       "      <th>2020-05-19</th>\n",
       "      <td>2020-05-19 00:00:00</td>\n",
       "      <td>0.0</td>\n",
       "      <td>0.00</td>\n",
       "      <td>0.0</td>\n",
       "    </tr>\n",
       "    <tr>\n",
       "      <th>2020-05-20</th>\n",
       "      <td>2020-05-20 00:00:00</td>\n",
       "      <td>0.0</td>\n",
       "      <td>0.00</td>\n",
       "      <td>0.0</td>\n",
       "    </tr>\n",
       "    <tr>\n",
       "      <th>2020-05-21</th>\n",
       "      <td>2020-05-21 00:00:00</td>\n",
       "      <td>0.0</td>\n",
       "      <td>0.00</td>\n",
       "      <td>0.0</td>\n",
       "    </tr>\n",
       "  </tbody>\n",
       "</table>\n",
       "</div>"
      ],
      "text/plain": [
       "4                          DATE  TriCities  Prosser  Othello\n",
       "DATE                                                        \n",
       "2020-05-17  2020-05-17 00:00:00        0.1     0.18      0.2\n",
       "2020-05-18  2020-05-18 00:00:00        0.0     0.01      0.0\n",
       "2020-05-19  2020-05-19 00:00:00        0.0     0.00      0.0\n",
       "2020-05-20  2020-05-20 00:00:00        0.0     0.00      0.0\n",
       "2020-05-21  2020-05-21 00:00:00        0.0     0.00      0.0"
      ]
     },
     "execution_count": 35,
     "metadata": {},
     "output_type": "execute_result"
    }
   ],
   "source": [
    "df_simple.head()"
   ]
  },
  {
   "cell_type": "markdown",
   "metadata": {},
   "source": [
    "Reformat `str` as `floats` and coerce na to NaN"
   ]
  },
  {
   "cell_type": "code",
   "execution_count": 36,
   "metadata": {},
   "outputs": [],
   "source": [
    "df_simple = pd.DataFrame([pd.to_numeric(df_simple[i], downcast=\"float\", errors='coerce') for i in df_simple.columns[1:4]]).T"
   ]
  },
  {
   "cell_type": "code",
   "execution_count": 37,
   "metadata": {},
   "outputs": [
    {
     "data": {
      "text/html": [
       "<div>\n",
       "<style scoped>\n",
       "    .dataframe tbody tr th:only-of-type {\n",
       "        vertical-align: middle;\n",
       "    }\n",
       "\n",
       "    .dataframe tbody tr th {\n",
       "        vertical-align: top;\n",
       "    }\n",
       "\n",
       "    .dataframe thead th {\n",
       "        text-align: right;\n",
       "    }\n",
       "</style>\n",
       "<table border=\"1\" class=\"dataframe\">\n",
       "  <thead>\n",
       "    <tr style=\"text-align: right;\">\n",
       "      <th></th>\n",
       "      <th>TriCities</th>\n",
       "      <th>Prosser</th>\n",
       "      <th>Othello</th>\n",
       "    </tr>\n",
       "    <tr>\n",
       "      <th>DATE</th>\n",
       "      <th></th>\n",
       "      <th></th>\n",
       "      <th></th>\n",
       "    </tr>\n",
       "  </thead>\n",
       "  <tbody>\n",
       "    <tr>\n",
       "      <th>2020-05-17</th>\n",
       "      <td>0.1</td>\n",
       "      <td>0.18</td>\n",
       "      <td>0.2</td>\n",
       "    </tr>\n",
       "    <tr>\n",
       "      <th>2020-05-18</th>\n",
       "      <td>0.0</td>\n",
       "      <td>0.01</td>\n",
       "      <td>0.0</td>\n",
       "    </tr>\n",
       "    <tr>\n",
       "      <th>2020-05-19</th>\n",
       "      <td>0.0</td>\n",
       "      <td>0.00</td>\n",
       "      <td>0.0</td>\n",
       "    </tr>\n",
       "    <tr>\n",
       "      <th>2020-05-20</th>\n",
       "      <td>0.0</td>\n",
       "      <td>0.00</td>\n",
       "      <td>0.0</td>\n",
       "    </tr>\n",
       "    <tr>\n",
       "      <th>2020-05-21</th>\n",
       "      <td>0.0</td>\n",
       "      <td>0.00</td>\n",
       "      <td>0.0</td>\n",
       "    </tr>\n",
       "  </tbody>\n",
       "</table>\n",
       "</div>"
      ],
      "text/plain": [
       "            TriCities  Prosser  Othello\n",
       "DATE                                   \n",
       "2020-05-17        0.1     0.18      0.2\n",
       "2020-05-18        0.0     0.01      0.0\n",
       "2020-05-19        0.0     0.00      0.0\n",
       "2020-05-20        0.0     0.00      0.0\n",
       "2020-05-21        0.0     0.00      0.0"
      ]
     },
     "execution_count": 37,
     "metadata": {},
     "output_type": "execute_result"
    }
   ],
   "source": [
    "df_simple.head()"
   ]
  },
  {
   "cell_type": "code",
   "execution_count": 38,
   "metadata": {},
   "outputs": [
    {
     "data": {
      "text/html": [
       "<div>\n",
       "<style scoped>\n",
       "    .dataframe tbody tr th:only-of-type {\n",
       "        vertical-align: middle;\n",
       "    }\n",
       "\n",
       "    .dataframe tbody tr th {\n",
       "        vertical-align: top;\n",
       "    }\n",
       "\n",
       "    .dataframe thead th {\n",
       "        text-align: right;\n",
       "    }\n",
       "</style>\n",
       "<table border=\"1\" class=\"dataframe\">\n",
       "  <thead>\n",
       "    <tr style=\"text-align: right;\">\n",
       "      <th></th>\n",
       "      <th>TriCities</th>\n",
       "      <th>Prosser</th>\n",
       "      <th>Othello</th>\n",
       "    </tr>\n",
       "    <tr>\n",
       "      <th>DATE</th>\n",
       "      <th></th>\n",
       "      <th></th>\n",
       "      <th></th>\n",
       "    </tr>\n",
       "  </thead>\n",
       "  <tbody>\n",
       "    <tr>\n",
       "      <th>2020-05-17</th>\n",
       "      <td>0.10</td>\n",
       "      <td>0.18</td>\n",
       "      <td>0.20</td>\n",
       "    </tr>\n",
       "    <tr>\n",
       "      <th>2020-05-18</th>\n",
       "      <td>0.00</td>\n",
       "      <td>0.01</td>\n",
       "      <td>0.00</td>\n",
       "    </tr>\n",
       "    <tr>\n",
       "      <th>2020-05-19</th>\n",
       "      <td>0.00</td>\n",
       "      <td>0.00</td>\n",
       "      <td>0.00</td>\n",
       "    </tr>\n",
       "    <tr>\n",
       "      <th>2020-05-20</th>\n",
       "      <td>0.00</td>\n",
       "      <td>0.00</td>\n",
       "      <td>0.00</td>\n",
       "    </tr>\n",
       "    <tr>\n",
       "      <th>2020-05-21</th>\n",
       "      <td>0.00</td>\n",
       "      <td>0.00</td>\n",
       "      <td>0.00</td>\n",
       "    </tr>\n",
       "    <tr>\n",
       "      <th>2020-05-22</th>\n",
       "      <td>0.00</td>\n",
       "      <td>0.00</td>\n",
       "      <td>0.00</td>\n",
       "    </tr>\n",
       "    <tr>\n",
       "      <th>2020-05-23</th>\n",
       "      <td>0.12</td>\n",
       "      <td>0.18</td>\n",
       "      <td>0.10</td>\n",
       "    </tr>\n",
       "    <tr>\n",
       "      <th>2020-05-24</th>\n",
       "      <td>0.15</td>\n",
       "      <td>0.12</td>\n",
       "      <td>0.10</td>\n",
       "    </tr>\n",
       "    <tr>\n",
       "      <th>2020-05-25</th>\n",
       "      <td>0.00</td>\n",
       "      <td>0.00</td>\n",
       "      <td>0.00</td>\n",
       "    </tr>\n",
       "    <tr>\n",
       "      <th>2020-05-26</th>\n",
       "      <td>0.15</td>\n",
       "      <td>0.22</td>\n",
       "      <td>0.25</td>\n",
       "    </tr>\n",
       "    <tr>\n",
       "      <th>2020-05-27</th>\n",
       "      <td>0.01</td>\n",
       "      <td>0.01</td>\n",
       "      <td>0.01</td>\n",
       "    </tr>\n",
       "    <tr>\n",
       "      <th>2020-05-28</th>\n",
       "      <td>0.00</td>\n",
       "      <td>0.00</td>\n",
       "      <td>0.00</td>\n",
       "    </tr>\n",
       "    <tr>\n",
       "      <th>2020-05-29</th>\n",
       "      <td>0.00</td>\n",
       "      <td>0.00</td>\n",
       "      <td>0.00</td>\n",
       "    </tr>\n",
       "    <tr>\n",
       "      <th>2020-05-30</th>\n",
       "      <td>0.00</td>\n",
       "      <td>0.00</td>\n",
       "      <td>0.00</td>\n",
       "    </tr>\n",
       "    <tr>\n",
       "      <th>2020-05-31</th>\n",
       "      <td>0.00</td>\n",
       "      <td>0.00</td>\n",
       "      <td>0.00</td>\n",
       "    </tr>\n",
       "    <tr>\n",
       "      <th>2020-06-01</th>\n",
       "      <td>0.00</td>\n",
       "      <td>0.00</td>\n",
       "      <td>0.00</td>\n",
       "    </tr>\n",
       "    <tr>\n",
       "      <th>2020-06-02</th>\n",
       "      <td>0.00</td>\n",
       "      <td>0.00</td>\n",
       "      <td>0.00</td>\n",
       "    </tr>\n",
       "    <tr>\n",
       "      <th>2020-06-03</th>\n",
       "      <td>0.00</td>\n",
       "      <td>0.00</td>\n",
       "      <td>0.00</td>\n",
       "    </tr>\n",
       "    <tr>\n",
       "      <th>2020-06-04</th>\n",
       "      <td>0.00</td>\n",
       "      <td>0.00</td>\n",
       "      <td>0.00</td>\n",
       "    </tr>\n",
       "    <tr>\n",
       "      <th>2020-06-05</th>\n",
       "      <td>0.00</td>\n",
       "      <td>0.00</td>\n",
       "      <td>0.00</td>\n",
       "    </tr>\n",
       "    <tr>\n",
       "      <th>2020-06-06</th>\n",
       "      <td>0.00</td>\n",
       "      <td>0.00</td>\n",
       "      <td>0.00</td>\n",
       "    </tr>\n",
       "    <tr>\n",
       "      <th>2020-06-07</th>\n",
       "      <td>0.00</td>\n",
       "      <td>0.02</td>\n",
       "      <td>0.00</td>\n",
       "    </tr>\n",
       "    <tr>\n",
       "      <th>2020-06-08</th>\n",
       "      <td>0.20</td>\n",
       "      <td>0.30</td>\n",
       "      <td>0.22</td>\n",
       "    </tr>\n",
       "    <tr>\n",
       "      <th>2020-06-09</th>\n",
       "      <td>0.00</td>\n",
       "      <td>0.00</td>\n",
       "      <td>0.00</td>\n",
       "    </tr>\n",
       "    <tr>\n",
       "      <th>2020-06-10</th>\n",
       "      <td>0.00</td>\n",
       "      <td>0.00</td>\n",
       "      <td>0.00</td>\n",
       "    </tr>\n",
       "    <tr>\n",
       "      <th>2020-06-11</th>\n",
       "      <td>0.00</td>\n",
       "      <td>0.00</td>\n",
       "      <td>0.00</td>\n",
       "    </tr>\n",
       "    <tr>\n",
       "      <th>2020-06-12</th>\n",
       "      <td>0.00</td>\n",
       "      <td>0.00</td>\n",
       "      <td>0.00</td>\n",
       "    </tr>\n",
       "    <tr>\n",
       "      <th>2020-06-13</th>\n",
       "      <td>0.00</td>\n",
       "      <td>0.00</td>\n",
       "      <td>0.00</td>\n",
       "    </tr>\n",
       "    <tr>\n",
       "      <th>2020-06-14</th>\n",
       "      <td>0.00</td>\n",
       "      <td>0.00</td>\n",
       "      <td>0.01</td>\n",
       "    </tr>\n",
       "    <tr>\n",
       "      <th>2020-06-15</th>\n",
       "      <td>0.15</td>\n",
       "      <td>0.15</td>\n",
       "      <td>0.18</td>\n",
       "    </tr>\n",
       "    <tr>\n",
       "      <th>2020-06-16</th>\n",
       "      <td>0.00</td>\n",
       "      <td>0.00</td>\n",
       "      <td>0.00</td>\n",
       "    </tr>\n",
       "    <tr>\n",
       "      <th>2020-06-17</th>\n",
       "      <td>0.00</td>\n",
       "      <td>0.01</td>\n",
       "      <td>0.00</td>\n",
       "    </tr>\n",
       "    <tr>\n",
       "      <th>2020-06-18</th>\n",
       "      <td>0.00</td>\n",
       "      <td>0.20</td>\n",
       "      <td>0.05</td>\n",
       "    </tr>\n",
       "    <tr>\n",
       "      <th>2020-06-19</th>\n",
       "      <td>0.25</td>\n",
       "      <td>0.18</td>\n",
       "      <td>0.14</td>\n",
       "    </tr>\n",
       "    <tr>\n",
       "      <th>2020-06-20</th>\n",
       "      <td>0.00</td>\n",
       "      <td>0.00</td>\n",
       "      <td>0.00</td>\n",
       "    </tr>\n",
       "    <tr>\n",
       "      <th>2020-06-21</th>\n",
       "      <td>0.01</td>\n",
       "      <td>0.05</td>\n",
       "      <td>0.01</td>\n",
       "    </tr>\n",
       "  </tbody>\n",
       "</table>\n",
       "</div>"
      ],
      "text/plain": [
       "            TriCities  Prosser  Othello\n",
       "DATE                                   \n",
       "2020-05-17       0.10     0.18     0.20\n",
       "2020-05-18       0.00     0.01     0.00\n",
       "2020-05-19       0.00     0.00     0.00\n",
       "2020-05-20       0.00     0.00     0.00\n",
       "2020-05-21       0.00     0.00     0.00\n",
       "2020-05-22       0.00     0.00     0.00\n",
       "2020-05-23       0.12     0.18     0.10\n",
       "2020-05-24       0.15     0.12     0.10\n",
       "2020-05-25       0.00     0.00     0.00\n",
       "2020-05-26       0.15     0.22     0.25\n",
       "2020-05-27       0.01     0.01     0.01\n",
       "2020-05-28       0.00     0.00     0.00\n",
       "2020-05-29       0.00     0.00     0.00\n",
       "2020-05-30       0.00     0.00     0.00\n",
       "2020-05-31       0.00     0.00     0.00\n",
       "2020-06-01       0.00     0.00     0.00\n",
       "2020-06-02       0.00     0.00     0.00\n",
       "2020-06-03       0.00     0.00     0.00\n",
       "2020-06-04       0.00     0.00     0.00\n",
       "2020-06-05       0.00     0.00     0.00\n",
       "2020-06-06       0.00     0.00     0.00\n",
       "2020-06-07       0.00     0.02     0.00\n",
       "2020-06-08       0.20     0.30     0.22\n",
       "2020-06-09       0.00     0.00     0.00\n",
       "2020-06-10       0.00     0.00     0.00\n",
       "2020-06-11       0.00     0.00     0.00\n",
       "2020-06-12       0.00     0.00     0.00\n",
       "2020-06-13       0.00     0.00     0.00\n",
       "2020-06-14       0.00     0.00     0.01\n",
       "2020-06-15       0.15     0.15     0.18\n",
       "2020-06-16       0.00     0.00     0.00\n",
       "2020-06-17       0.00     0.01     0.00\n",
       "2020-06-18       0.00     0.20     0.05\n",
       "2020-06-19       0.25     0.18     0.14\n",
       "2020-06-20       0.00     0.00     0.00\n",
       "2020-06-21       0.01     0.05     0.01"
      ]
     },
     "execution_count": 38,
     "metadata": {},
     "output_type": "execute_result"
    }
   ],
   "source": [
    "df_simple"
   ]
  },
  {
   "cell_type": "markdown",
   "metadata": {},
   "source": [
    "Determine total rain per month in inches"
   ]
  },
  {
   "cell_type": "code",
   "execution_count": 39,
   "metadata": {},
   "outputs": [
    {
     "data": {
      "text/html": [
       "<div>\n",
       "<style scoped>\n",
       "    .dataframe tbody tr th:only-of-type {\n",
       "        vertical-align: middle;\n",
       "    }\n",
       "\n",
       "    .dataframe tbody tr th {\n",
       "        vertical-align: top;\n",
       "    }\n",
       "\n",
       "    .dataframe thead th {\n",
       "        text-align: right;\n",
       "    }\n",
       "</style>\n",
       "<table border=\"1\" class=\"dataframe\">\n",
       "  <thead>\n",
       "    <tr style=\"text-align: right;\">\n",
       "      <th></th>\n",
       "      <th>TriCities</th>\n",
       "      <th>Prosser</th>\n",
       "      <th>Othello</th>\n",
       "    </tr>\n",
       "    <tr>\n",
       "      <th>DATE</th>\n",
       "      <th></th>\n",
       "      <th></th>\n",
       "      <th></th>\n",
       "    </tr>\n",
       "  </thead>\n",
       "  <tbody>\n",
       "    <tr>\n",
       "      <th>5</th>\n",
       "      <td>0.53</td>\n",
       "      <td>0.72</td>\n",
       "      <td>0.66</td>\n",
       "    </tr>\n",
       "    <tr>\n",
       "      <th>6</th>\n",
       "      <td>0.61</td>\n",
       "      <td>0.91</td>\n",
       "      <td>0.61</td>\n",
       "    </tr>\n",
       "  </tbody>\n",
       "</table>\n",
       "</div>"
      ],
      "text/plain": [
       "      TriCities  Prosser  Othello\n",
       "DATE                             \n",
       "5          0.53     0.72     0.66\n",
       "6          0.61     0.91     0.61"
      ]
     },
     "execution_count": 39,
     "metadata": {},
     "output_type": "execute_result"
    }
   ],
   "source": [
    "df_simple.groupby([df_simple.index.month]).sum() #df_simple.groupby(pd.Grouper(freq='M')).sum() df_may = df_simple[(df_simple['DATE'] > pd.Timestamp(2020, 5, 1)) & (df_simple['DATE'] <= pd.Timestamp(2020, 5, 31))]"
   ]
  },
  {
   "cell_type": "markdown",
   "metadata": {},
   "source": [
    "Determine number of rainy days for each station"
   ]
  },
  {
   "cell_type": "code",
   "execution_count": 40,
   "metadata": {},
   "outputs": [
    {
     "data": {
      "text/html": [
       "<div>\n",
       "<style scoped>\n",
       "    .dataframe tbody tr th:only-of-type {\n",
       "        vertical-align: middle;\n",
       "    }\n",
       "\n",
       "    .dataframe tbody tr th {\n",
       "        vertical-align: top;\n",
       "    }\n",
       "\n",
       "    .dataframe thead th {\n",
       "        text-align: right;\n",
       "    }\n",
       "</style>\n",
       "<table border=\"1\" class=\"dataframe\">\n",
       "  <thead>\n",
       "    <tr style=\"text-align: right;\">\n",
       "      <th></th>\n",
       "      <th>TriCities</th>\n",
       "      <th>Prosser</th>\n",
       "      <th>Othello</th>\n",
       "    </tr>\n",
       "    <tr>\n",
       "      <th>DATE</th>\n",
       "      <th></th>\n",
       "      <th></th>\n",
       "      <th></th>\n",
       "    </tr>\n",
       "  </thead>\n",
       "  <tbody>\n",
       "    <tr>\n",
       "      <th>5</th>\n",
       "      <td>5.0</td>\n",
       "      <td>6.0</td>\n",
       "      <td>5.0</td>\n",
       "    </tr>\n",
       "    <tr>\n",
       "      <th>6</th>\n",
       "      <td>4.0</td>\n",
       "      <td>7.0</td>\n",
       "      <td>6.0</td>\n",
       "    </tr>\n",
       "  </tbody>\n",
       "</table>\n",
       "</div>"
      ],
      "text/plain": [
       "      TriCities  Prosser  Othello\n",
       "DATE                             \n",
       "5           5.0      6.0      5.0\n",
       "6           4.0      7.0      6.0"
      ]
     },
     "execution_count": 40,
     "metadata": {},
     "output_type": "execute_result"
    }
   ],
   "source": [
    "df_simple.astype(bool).groupby([df_simple.index.month]).sum()"
   ]
  },
  {
   "cell_type": "markdown",
   "metadata": {},
   "source": [
    "For TriCities and Prosser, add 2 days in May."
   ]
  },
  {
   "cell_type": "markdown",
   "metadata": {},
   "source": [
    "For Othello, add 1 day in May."
   ]
  },
  {
   "cell_type": "markdown",
   "metadata": {},
   "source": [
    "**Source of information: models**"
   ]
  },
  {
   "cell_type": "markdown",
   "metadata": {},
   "source": [
    "#### Model 1: logistic regression"
   ]
  },
  {
   "cell_type": "markdown",
   "metadata": {},
   "source": [
    "- **Prosser**"
   ]
  },
  {
   "cell_type": "markdown",
   "metadata": {},
   "source": [
    "> $lf = 9.252 - 4.004(Y_p) - 0.660(R_{am})$"
   ]
  },
  {
   "cell_type": "markdown",
   "metadata": {},
   "source": [
    "> where:\n",
    "\n",
    "> $Y_p$: late blight outbreak during the preceding year:\n",
    "$$  \n",
    "Y_p\n",
    "\\begin{cases}\n",
    "  \\text{late blight absent in previous year/ no} = 0 \\\\    \n",
    "  \\text{late blight present in previous year/ yes} = 1 \n",
    "\\end{cases}\n",
    "$$\n",
    "> $R_{am}$: number of days with rain >= 0.25 mm during April and May"
   ]
  },
  {
   "cell_type": "code",
   "execution_count": 41,
   "metadata": {},
   "outputs": [
    {
     "data": {
      "text/plain": [
       "-1.3519999999999994"
      ]
     },
     "execution_count": 41,
     "metadata": {},
     "output_type": "execute_result"
    }
   ],
   "source": [
    "9.252 - 4.004*1 - 0.660*(1 + 9)"
   ]
  },
  {
   "cell_type": "markdown",
   "metadata": {},
   "source": [
    "- **Tri-Cities**"
   ]
  },
  {
   "cell_type": "markdown",
   "metadata": {},
   "source": [
    "> $lf = 2.987 - 3.062(Y_p) - 0.163(R_{am})$"
   ]
  },
  {
   "cell_type": "code",
   "execution_count": 42,
   "metadata": {},
   "outputs": [
    {
     "data": {
      "text/plain": [
       "-1.8679999999999999"
      ]
     },
     "execution_count": 42,
     "metadata": {},
     "output_type": "execute_result"
    }
   ],
   "source": [
    "2.987 - 3.062*1 - 0.163*(1 + 10)"
   ]
  },
  {
   "cell_type": "markdown",
   "metadata": {},
   "source": [
    "- **Othello**"
   ]
  },
  {
   "cell_type": "markdown",
   "metadata": {},
   "source": [
    "> $lf = 4.723 - 3.561(Y_p) - 0.293(R_{am})$"
   ]
  },
  {
   "cell_type": "code",
   "execution_count": 43,
   "metadata": {},
   "outputs": [
    {
     "data": {
      "text/plain": [
       "-0.8889999999999998"
      ]
     },
     "execution_count": 43,
     "metadata": {},
     "output_type": "execute_result"
    }
   ],
   "source": [
    "4.723 - 3.561*1 - 0.293*(1 + 6)"
   ]
  },
  {
   "cell_type": "markdown",
   "metadata": {},
   "source": [
    "#### Model 2: logistic regression"
   ]
  },
  {
   "cell_type": "markdown",
   "metadata": {},
   "source": [
    "- **Prosser**"
   ]
  },
  {
   "cell_type": "markdown",
   "metadata": {},
   "source": [
    "> $lf = 11.513 - 3.894(Y_p) - 0.719(R_{am}) - 0.259(R_{ja})$"
   ]
  },
  {
   "cell_type": "markdown",
   "metadata": {},
   "source": [
    "> where:\n",
    "\n",
    "> $R_{ja}$: number of days with rain > = 0.25 during July and August"
   ]
  },
  {
   "cell_type": "markdown",
   "metadata": {},
   "source": [
    "- **Tri-Cities**"
   ]
  },
  {
   "cell_type": "markdown",
   "metadata": {},
   "source": [
    "> $lf = 1.716 - 2.844(Y_p) - 0.094(R_{ja})$"
   ]
  },
  {
   "cell_type": "markdown",
   "metadata": {},
   "source": [
    "- **Othello**"
   ]
  },
  {
   "cell_type": "markdown",
   "metadata": {},
   "source": [
    "> $lf = 4.960 - 3.084(Y_p) - 0.273(R_{am}) - 0.129(R_{ja})$"
   ]
  },
  {
   "cell_type": "markdown",
   "metadata": {},
   "source": [
    "#### For the logistic regression models, the probability, $P$, of an outbreak is estimated:\n",
    "$$\n",
    "P = \\frac{1}{1 + exp^{lf}}\n",
    "$$"
   ]
  },
  {
   "cell_type": "markdown",
   "metadata": {},
   "source": [
    "> where $lf$ is computed from equations 3 or 4."
   ]
  },
  {
   "cell_type": "markdown",
   "metadata": {},
   "source": [
    "> - if \n",
    "$$  \n",
    "P\n",
    "\\begin{cases}\n",
    "  \\geq 0.5 \\rightarrow \\text{ outbreak year} \\\\    \n",
    "  < 0.5 \\rightarrow \\text{ non-outbreak year}\n",
    "\\end{cases}\n",
    "$$"
   ]
  },
  {
   "cell_type": "markdown",
   "metadata": {},
   "source": [
    "- **Prosser**"
   ]
  },
  {
   "cell_type": "code",
   "execution_count": 44,
   "metadata": {},
   "outputs": [
    {
     "data": {
      "text/plain": [
       "0.7944564113805245"
      ]
     },
     "execution_count": 44,
     "metadata": {},
     "output_type": "execute_result"
    }
   ],
   "source": [
    "1 / (1 + np.exp(-1.3519999999999994))"
   ]
  },
  {
   "cell_type": "markdown",
   "metadata": {},
   "source": [
    "- **Tri-Cities**"
   ]
  },
  {
   "cell_type": "code",
   "execution_count": 45,
   "metadata": {},
   "outputs": [
    {
     "data": {
      "text/plain": [
       "0.8662266911487845"
      ]
     },
     "execution_count": 45,
     "metadata": {},
     "output_type": "execute_result"
    }
   ],
   "source": [
    "1 / (1 + np.exp(-1.8679999999999999))"
   ]
  },
  {
   "cell_type": "markdown",
   "metadata": {},
   "source": [
    "- **Othello**"
   ]
  },
  {
   "cell_type": "code",
   "execution_count": 46,
   "metadata": {},
   "outputs": [
    {
     "data": {
      "text/plain": [
       "0.7086837645709135"
      ]
     },
     "execution_count": 46,
     "metadata": {},
     "output_type": "execute_result"
    }
   ],
   "source": [
    "1 / (1 + np.exp(-0.8889999999999998))"
   ]
  },
  {
   "cell_type": "markdown",
   "metadata": {},
   "source": [
    "| Factor level | Factor value |\n",
    "| --- | --- |\n",
    "| < 50% | 0 |\n",
    "| $\\geq$ 50% | 4 |"
   ]
  },
  {
   "cell_type": "markdown",
   "metadata": {},
   "source": [
    "### D (date)"
   ]
  },
  {
   "cell_type": "markdown",
   "metadata": {},
   "source": [
    "**Source of information: internet**"
   ]
  },
  {
   "cell_type": "markdown",
   "metadata": {},
   "source": [
    "| Factor level | Factor value |\n",
    "| --- | --- |\n",
    "| December - April | 0 |\n",
    "| May, July - November | 1 |\n",
    "| June | 3J |"
   ]
  },
  {
   "cell_type": "markdown",
   "metadata": {},
   "source": [
    "### E (number of rainy days expected in the next 7 days) (> 30% probability)"
   ]
  },
  {
   "cell_type": "markdown",
   "metadata": {},
   "source": [
    "**Source of information: Rain forecasts from Fox Weather LLC. A rain probability of 30% has arbitrarily been used to indicate rain**"
   ]
  },
  {
   "cell_type": "markdown",
   "metadata": {},
   "source": [
    "| Factor level | Factor value |\n",
    "| --- | --- |\n",
    "| 0 rainy days expected | 1 |\n",
    "| 1 rainy days expected | 2 |\n",
    "| 2 rainy days expected| 4 |\n",
    "| 3 or more rainy days expected| 5 |"
   ]
  },
  {
   "cell_type": "markdown",
   "metadata": {},
   "source": [
    "### Risk Factor Calculation:"
   ]
  },
  {
   "cell_type": "markdown",
   "metadata": {},
   "source": [
    "**Risk** = **A** (phenology) $\\cdot$ **B** (occurrence of late blight in field or adjacent fields) $\\cdot$ **C** (probability of late blight occurrence in the Columbia Basin (PROB)) $\\cdot$ **D** (date) $\\cdot$ **E** (number of rainy days expected in the next 7 days)"
   ]
  },
  {
   "cell_type": "markdown",
   "metadata": {},
   "source": [
    "- Prosser"
   ]
  },
  {
   "cell_type": "code",
   "execution_count": 1,
   "metadata": {},
   "outputs": [
    {
     "data": {
      "text/plain": [
       "120"
      ]
     },
     "execution_count": 1,
     "metadata": {},
     "output_type": "execute_result"
    }
   ],
   "source": [
    "1*30*4*1*1"
   ]
  },
  {
   "cell_type": "markdown",
   "metadata": {},
   "source": [
    "- Tri-cities"
   ]
  },
  {
   "cell_type": "code",
   "execution_count": 2,
   "metadata": {},
   "outputs": [
    {
     "data": {
      "text/plain": [
       "240"
      ]
     },
     "execution_count": 2,
     "metadata": {},
     "output_type": "execute_result"
    }
   ],
   "source": [
    "1*30*4*1*2"
   ]
  },
  {
   "cell_type": "markdown",
   "metadata": {},
   "source": [
    "- Othello"
   ]
  },
  {
   "cell_type": "code",
   "execution_count": 3,
   "metadata": {},
   "outputs": [
    {
     "data": {
      "text/plain": [
       "120"
      ]
     },
     "execution_count": 3,
     "metadata": {},
     "output_type": "execute_result"
    }
   ],
   "source": [
    "1*30*4*1*1"
   ]
  },
  {
   "cell_type": "markdown",
   "metadata": {},
   "source": [
    "# Recommendations"
   ]
  },
  {
   "cell_type": "markdown",
   "metadata": {},
   "source": [
    "**Risk factor 0:**\n",
    "- Late blight is not likely, fungicide application is not recommended. Dispose of all cull or refuse tubers and manage volunteer potato plants, especially in fields were late blight occurred the last two years. Monitor fields for late blight on regular bases.\n"
   ]
  },
  {
   "cell_type": "markdown",
   "metadata": {},
   "source": [
    "**Risk factor 1-2:**\n",
    "- Late blight is not likely, fungicide application is not recommended. Dispose of all cull or refuse tubers and manage volunteer potato plants, especially in fields were late blight occurred the last two years. Monitor fields for late blight. Monitor fields for late blight on regular bases."
   ]
  },
  {
   "cell_type": "markdown",
   "metadata": {},
   "source": [
    "**Risk factor 4-5:**\n",
    "- Apply late blight fungicide before any rainy period. Dispose of all cull or refuse tubers and manage volunteer potato plants, especially in fields were late blight occurred the last two years. Monitor fields for late blight. Monitor fields for late blight on regular bases."
   ]
  },
  {
   "cell_type": "markdown",
   "metadata": {},
   "source": [
    "**Risk factor 8 – 10:**\n",
    "- Apply late blight fungicide before any rainy periods and continue for 3 wks. Dispose of all cull or refuse tubers and manage volunteer potato plants, especially in fields were late blight occurred the last two years. Monitor fields for late blight. Monitor fields for late blight on regular bases."
   ]
  },
  {
   "cell_type": "markdown",
   "metadata": {},
   "source": [
    "**Risk factor 3J:**\n",
    "- Apply fungicides on a 10-14 day schedule through July 4. Dispose of all cull or refuse tubers and manage volunteer potato plants, especially in fields were late blight occurred the last two years. Monitor fields for late blight. Monitor fields for late blight on regular bases."
   ]
  },
  {
   "cell_type": "markdown",
   "metadata": {},
   "source": [
    "**Risk factor 6J:**\n",
    "- Apply fungicides on a 10 day schedule through July 4. Dispose of all cull or refuse tubers and manage volunteer potato plants, especially in fields were late blight occurred the last two years. Monitor fields for late blight. Monitor fields for late blight on regular bases."
   ]
  },
  {
   "cell_type": "markdown",
   "metadata": {},
   "source": [
    "**Risk factor 12J:**\n",
    "- Apply fungicides on a 7-10 day schedule and before any rainy periods through July 4. Dispose of all cull or refuse tubers and manage volunteer potato plants, especially in fields were late blight occurred the last two years. Monitor fields for late blight. Monitor fields for late blight on regular bases."
   ]
  },
  {
   "cell_type": "markdown",
   "metadata": {},
   "source": [
    "**Risk factor 15J – 30J:**\n",
    "- Apply fungicides on a 7 day schedule and before any rainy periods through July 4. Dispose of all cull or refuse tubers and manage volunteer potato plants, especially in fields were late blight occurred the last two years. Monitor fields for late blight. Monitor fields for late blight on regular bases."
   ]
  },
  {
   "cell_type": "markdown",
   "metadata": {},
   "source": [
    "**Risk factor 30:**\n",
    "- Confirm occurrence of late blight. If present, apply late blight fungicides on a 5 to 7 day schedule and continue until harvest. Avoid over watering and irrigation during and just after rainy, cool and cloudy weather. Harvest during dry weather. Sort out rotten tubers going into storage. Consult literature on recommendations for management of late blight in the field during late season in infected tubers in storage. "
   ]
  }
 ],
 "metadata": {
  "kernelspec": {
   "display_name": "Python 3",
   "language": "python",
   "name": "python3"
  },
  "language_info": {
   "codemirror_mode": {
    "name": "ipython",
    "version": 3
   },
   "file_extension": ".py",
   "mimetype": "text/x-python",
   "name": "python",
   "nbconvert_exporter": "python",
   "pygments_lexer": "ipython3",
   "version": "3.7.7"
  },
  "toc-autonumbering": false,
  "toc-showcode": false
 },
 "nbformat": 4,
 "nbformat_minor": 4
}
