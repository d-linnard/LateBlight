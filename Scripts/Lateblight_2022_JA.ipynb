{
 "cells": [
  {
   "cell_type": "markdown",
   "metadata": {},
   "source": [
    "# Late blight prediction for the Columbia Basin of Washington"
   ]
  },
  {
   "cell_type": "markdown",
   "metadata": {},
   "source": [
    "# Date: 4/7/2021"
   ]
  },
  {
   "cell_type": "markdown",
   "metadata": {},
   "source": [
    "# Authors:\n",
    "- Original models were developed by Dennis Johnson and colleagues:\n",
    "    - Johnson DA, Alldredge JR, and Vakoch DL. 1996. Potato late blight forecasting models for the semiarid environment of south-central Washington. Phytopathology 86:480-484. https://www.apsnet.org/publications/phytopathology/backissues/Documents/1996Articles/Phyto86n05_480.PDF\n",
    "    - Johnson DA, Alldredge JR, and Hamm PB. 1998. Expansion of potato late blight forecasting models for the Columbia Basin of Washington and Oregon. Plant Dis. 82:642-645. https://apsjournals.apsnet.org/doi/pdfplus/10.1094/PDIS.1998.82.6.642\n",
    "    - Johnson DA, Cummings TF, Abi Ghanem R, and Alldredge JR. 2009. Association of solar irradiance and days of precipitation with incidence of potato late blight in the semiarid environment of the Columbia Basin. Plant Dis. 93:272-280. https://apsjournals.apsnet.org/doi/pdfplus/10.1094/PDIS-93-3-0272\n",
    "    - Johnson DA, and Cummings TF. 2016. In-canopy environment of sprinkler irrigated potato fields as a factor for late blight management in the semiarid environment of the Columbia Basin. Am J. Potato Res: 93:239-252 https://link.springer.com/article/10.1007/s12230-016-9500-1\n",
    "\n",
    "**Script written by: David Linnard Wheeler and Sudha GC Upadhaya**\n",
    "\n",
    "       "
   ]
  },
  {
   "cell_type": "markdown",
   "metadata": {},
   "source": [
    "# Objectives"
   ]
  },
  {
   "cell_type": "markdown",
   "metadata": {},
   "source": [
    "**Predict late blight epidemics in the Columbia Basin of Washington State**"
   ]
  },
  {
   "cell_type": "markdown",
   "metadata": {},
   "source": [
    "# Risk"
   ]
  },
  {
   "cell_type": "markdown",
   "metadata": {},
   "source": [
    "**Risk of late blight is the product of 5 factors**"
   ]
  },
  {
   "cell_type": "markdown",
   "metadata": {},
   "source": [
    "**Risk** = **A** (phenology) $\\cdot$ **B** (occurrence of late blight in field or adjacent fields) $\\cdot$ **C** (probability of late blight occurrence in the Columbia Basin (PROB)) $\\cdot$ **D** (date) $\\cdot$ **E** (number of rainy days expected in the next 7 days)"
   ]
  },
  {
   "cell_type": "markdown",
   "metadata": {},
   "source": [
    "### A (phenology)"
   ]
  },
  {
   "cell_type": "markdown",
   "metadata": {},
   "source": [
    "**Source of information: growers**"
   ]
  },
  {
   "cell_type": "markdown",
   "metadata": {},
   "source": [
    "| Factor level | Factor value |\n",
    "| --- | --- |\n",
    "| Pre-emergence | 0 |\n",
    "| Emergence to before plant closure between rows | 0 |\n",
    "| Plant closure between rows (foliage touching between adjacent rows) | 1 |\n",
    "|Post row closure to harvest | 1 |"
   ]
  },
  {
   "cell_type": "markdown",
   "metadata": {},
   "source": [
    "### B (occurrence of late blight in field or adjacent fields within 5 mile radius)"
   ]
  },
  {
   "cell_type": "markdown",
   "metadata": {},
   "source": [
    "**Source of information: growers**"
   ]
  },
  {
   "cell_type": "markdown",
   "metadata": {},
   "source": [
    "| Factor level | Factor value |\n",
    "| --- | --- |\n",
    "| No | 0 |\n",
    "| Yes | 30 |"
   ]
  },
  {
   "cell_type": "markdown",
   "metadata": {},
   "source": [
    "### C (probability of late blight occurrence in the Columbia Basin (PROB))"
   ]
  },
  {
   "cell_type": "markdown",
   "metadata": {},
   "source": [
    "#### For the logistic regression models, the probability, $P$, of an outbreak is estimated:\n",
    "$$\n",
    "P = \\frac{1}{1 + exp^{lf}}\n",
    "$$"
   ]
  },
  {
   "cell_type": "markdown",
   "metadata": {},
   "source": [
    "> - if \n",
    "$$  \n",
    "P\n",
    "\\begin{cases}\n",
    "  \\geq 0.5 \\rightarrow \\text{ outbreak year} \\\\    \n",
    "  < 0.5 \\rightarrow \\text{ non-outbreak year}\n",
    "\\end{cases}\n",
    "$$"
   ]
  },
  {
   "cell_type": "markdown",
   "metadata": {},
   "source": [
    "| Factor level | Factor value |\n",
    "| --- | --- |\n",
    "| < 50% | 0 |\n",
    "| $\\geq$ 50% | 4 |"
   ]
  },
  {
   "cell_type": "markdown",
   "metadata": {},
   "source": [
    "### D (date)"
   ]
  },
  {
   "cell_type": "markdown",
   "metadata": {},
   "source": [
    "**Source of information: internet**"
   ]
  },
  {
   "cell_type": "markdown",
   "metadata": {},
   "source": [
    "| Factor level | Factor value |\n",
    "| --- | --- |\n",
    "| December - April | 0 |\n",
    "| May, July - November | 1 |\n",
    "| June | 3J |"
   ]
  },
  {
   "cell_type": "markdown",
   "metadata": {},
   "source": [
    "### E (number of rainy days expected in the next 7 days) (> 30% probability)"
   ]
  },
  {
   "cell_type": "markdown",
   "metadata": {},
   "source": [
    "**Source of information: Rain forecasts from Fox Weather LLC. A rain probability of 30% has arbitrarily been used to indicate rain**"
   ]
  },
  {
   "cell_type": "markdown",
   "metadata": {},
   "source": [
    "| Factor level | Factor value |\n",
    "| --- | --- |\n",
    "| 0 rainy days expected | 1 |\n",
    "| 1 rainy days expected | 2 |\n",
    "| 2 rainy days expected| 4 |\n",
    "| 3 or more rainy days expected| 5 |"
   ]
  },
  {
   "cell_type": "code",
   "execution_count": 1,
   "metadata": {},
   "outputs": [],
   "source": [
    "import os\n",
    "import pandas as pd\n",
    "import numpy as np\n",
    "import datetime"
   ]
  },
  {
   "cell_type": "markdown",
   "metadata": {},
   "source": [
    "**A**"
   ]
  },
  {
   "cell_type": "code",
   "execution_count": 2,
   "metadata": {},
   "outputs": [
    {
     "name": "stdin",
     "output_type": "stream",
     "text": [
      "What is the phenology of the potato field?\n",
      "                  A) Pre-emergence\n",
      "                  B) Emergence to before plant closure between rows\n",
      "                  C) Plant closure between rows (foliage touching between adjacent rows)\n",
      "                  D) Post row closure to harvest\n",
      " a\n"
     ]
    }
   ],
   "source": [
    "while True:\n",
    "    try:\n",
    "    # Request user input\n",
    "        A = input(\"What is the phenology of the potato field?\\n \\\n",
    "                 A) Pre-emergence\\n \\\n",
    "                 B) Emergence to before plant closure between rows\\n \\\n",
    "                 C) Plant closure between rows (foliage touching between adjacent rows)\\n \\\n",
    "                 D) Post row closure to harvest\\n\")\n",
    "        A = A.upper()\n",
    "    # If Risk Factor (RF) A is option \"A\" or option \"B\"\n",
    "        if (A == \"A\") or (A == \"B\"):\n",
    "        # Set RF to 0\n",
    "            A = 0\n",
    "            break\n",
    "    # Else, RF is \"C\" or \"D\" and\n",
    "        elif (A == \"C\") or (A == \"D\"):\n",
    "        # Set it to 1\n",
    "            A = 1\n",
    "            break\n",
    "    #Else, RF is no of the above return warning\n",
    "        else: \n",
    "            print('Please, Enter the valid option!!')  \n",
    "    except ValueError:\n",
    "        # Break\n",
    "        break"
   ]
  },
  {
   "cell_type": "markdown",
   "metadata": {},
   "source": [
    "**B**"
   ]
  },
  {
   "cell_type": "code",
   "execution_count": 169,
   "metadata": {},
   "outputs": [
    {
     "name": "stdin",
     "output_type": "stream",
     "text": [
      "Is late blight present within a 5 mile radius?\n",
      "                  A) No\n",
      "                  B) Yes\n",
      " a\n"
     ]
    }
   ],
   "source": [
    "while True:\n",
    "    try:\n",
    "    # Request user input\n",
    "        B = input(\"Is late blight present within a 5 mile radius?\\n \\\n",
    "                 A) No\\n \\\n",
    "                 B) Yes\\n\")\n",
    "        B = B.upper()\n",
    "    # If Risk Factor (RF) B is option \"A\"\n",
    "        if (B == \"A\") :\n",
    "        # Set RF to 0\n",
    "            B = 0\n",
    "            break\n",
    "    # Else, RF is \"B\" and\n",
    "        elif (B == \"B\"):\n",
    "        # Set it to 30\n",
    "            B = 30\n",
    "            break\n",
    "    #Else, RF is no of the above return warning\n",
    "        else: \n",
    "            print('Please, Enter the valid option!!')\n",
    "    except ValueError:\n",
    "        # Break\n",
    "        break"
   ]
  },
  {
   "cell_type": "markdown",
   "metadata": {},
   "source": [
    "**C**"
   ]
  },
  {
   "cell_type": "markdown",
   "metadata": {},
   "source": [
    "#### Weather April and May"
   ]
  },
  {
   "cell_type": "code",
   "execution_count": 3,
   "metadata": {},
   "outputs": [],
   "source": [
    "os.chdir('C:/Users/theox/Desktop/Projects/LateBlight/WeatherForecasts/2022/Monthly')\n",
    "df_othello = pd.read_csv('Othello_AM.csv')\n",
    "df_prosser = pd.read_csv('Prosser_AM.csv')\n",
    "df_tricities = pd.read_csv('Tricities_AM.csv')"
   ]
  },
  {
   "cell_type": "code",
   "execution_count": 4,
   "metadata": {},
   "outputs": [],
   "source": [
    "df_othello['Station'] = 'Othello'\n",
    "df_prosser['Station'] = 'Prosser'\n",
    "df_tricities['Station'] = 'Tricities'"
   ]
  },
  {
   "cell_type": "code",
   "execution_count": 5,
   "metadata": {},
   "outputs": [
    {
     "data": {
      "text/html": [
       "<div>\n",
       "<style scoped>\n",
       "    .dataframe tbody tr th:only-of-type {\n",
       "        vertical-align: middle;\n",
       "    }\n",
       "\n",
       "    .dataframe tbody tr th {\n",
       "        vertical-align: top;\n",
       "    }\n",
       "\n",
       "    .dataframe thead th {\n",
       "        text-align: right;\n",
       "    }\n",
       "</style>\n",
       "<table border=\"1\" class=\"dataframe\">\n",
       "  <thead>\n",
       "    <tr style=\"text-align: right;\">\n",
       "      <th></th>\n",
       "      <th>Date</th>\n",
       "      <th>Date.1</th>\n",
       "      <th>Min°F</th>\n",
       "      <th>Avg°F</th>\n",
       "      <th>Max°F</th>\n",
       "      <th>Avg1.5m DP°F</th>\n",
       "      <th>Avg1.5m RH%</th>\n",
       "      <th>2 in.°F</th>\n",
       "      <th>Min°F.1</th>\n",
       "      <th>Avg°F.1</th>\n",
       "      <th>...</th>\n",
       "      <th>Avg 8in.SWPkPa</th>\n",
       "      <th>TotPrecin</th>\n",
       "      <th>TotalSolarRadMJ/m²</th>\n",
       "      <th>EToin</th>\n",
       "      <th>ETrin</th>\n",
       "      <th>Station</th>\n",
       "      <th>Avg1.5m LWu.</th>\n",
       "      <th>AvgDir</th>\n",
       "      <th>Avg Speedmph</th>\n",
       "      <th>2m MaxGustmph</th>\n",
       "    </tr>\n",
       "  </thead>\n",
       "  <tbody>\n",
       "    <tr>\n",
       "      <th>0</th>\n",
       "      <td>2022/04/01</td>\n",
       "      <td>1</td>\n",
       "      <td>27.1</td>\n",
       "      <td>43.8</td>\n",
       "      <td>56.2</td>\n",
       "      <td>28.9</td>\n",
       "      <td>58.3</td>\n",
       "      <td>51.8</td>\n",
       "      <td>49.1</td>\n",
       "      <td>52.2</td>\n",
       "      <td>...</td>\n",
       "      <td>-469.6</td>\n",
       "      <td>0.00</td>\n",
       "      <td>19.88</td>\n",
       "      <td>0.11</td>\n",
       "      <td>0.14</td>\n",
       "      <td>Othello</td>\n",
       "      <td>NaN</td>\n",
       "      <td>NaN</td>\n",
       "      <td>NaN</td>\n",
       "      <td>NaN</td>\n",
       "    </tr>\n",
       "    <tr>\n",
       "      <th>1</th>\n",
       "      <td>2022/04/02</td>\n",
       "      <td>2</td>\n",
       "      <td>38.0</td>\n",
       "      <td>48.8</td>\n",
       "      <td>60.0</td>\n",
       "      <td>29.6</td>\n",
       "      <td>52.9</td>\n",
       "      <td>53.3</td>\n",
       "      <td>50.9</td>\n",
       "      <td>53.0</td>\n",
       "      <td>...</td>\n",
       "      <td>-652.1</td>\n",
       "      <td>0.04</td>\n",
       "      <td>21.54</td>\n",
       "      <td>0.16</td>\n",
       "      <td>0.24</td>\n",
       "      <td>Othello</td>\n",
       "      <td>NaN</td>\n",
       "      <td>NaN</td>\n",
       "      <td>NaN</td>\n",
       "      <td>NaN</td>\n",
       "    </tr>\n",
       "    <tr>\n",
       "      <th>2</th>\n",
       "      <td>2022/04/03</td>\n",
       "      <td>3</td>\n",
       "      <td>33.0</td>\n",
       "      <td>46.7</td>\n",
       "      <td>60.2</td>\n",
       "      <td>31.8</td>\n",
       "      <td>58.1</td>\n",
       "      <td>52.2</td>\n",
       "      <td>49.8</td>\n",
       "      <td>52.3</td>\n",
       "      <td>...</td>\n",
       "      <td>-840.3</td>\n",
       "      <td>0.00</td>\n",
       "      <td>16.32</td>\n",
       "      <td>0.12</td>\n",
       "      <td>0.18</td>\n",
       "      <td>Othello</td>\n",
       "      <td>NaN</td>\n",
       "      <td>NaN</td>\n",
       "      <td>NaN</td>\n",
       "      <td>NaN</td>\n",
       "    </tr>\n",
       "    <tr>\n",
       "      <th>3</th>\n",
       "      <td>2022/04/04</td>\n",
       "      <td>4</td>\n",
       "      <td>36.9</td>\n",
       "      <td>47.9</td>\n",
       "      <td>56.1</td>\n",
       "      <td>31.1</td>\n",
       "      <td>55.2</td>\n",
       "      <td>52.5</td>\n",
       "      <td>51.6</td>\n",
       "      <td>53.0</td>\n",
       "      <td>...</td>\n",
       "      <td>-1011.4</td>\n",
       "      <td>0.05</td>\n",
       "      <td>19.57</td>\n",
       "      <td>0.15</td>\n",
       "      <td>0.23</td>\n",
       "      <td>Othello</td>\n",
       "      <td>NaN</td>\n",
       "      <td>NaN</td>\n",
       "      <td>NaN</td>\n",
       "      <td>NaN</td>\n",
       "    </tr>\n",
       "    <tr>\n",
       "      <th>4</th>\n",
       "      <td>2022/04/05</td>\n",
       "      <td>5</td>\n",
       "      <td>30.3</td>\n",
       "      <td>42.9</td>\n",
       "      <td>55.8</td>\n",
       "      <td>22.4</td>\n",
       "      <td>48.3</td>\n",
       "      <td>50.2</td>\n",
       "      <td>47.8</td>\n",
       "      <td>50.7</td>\n",
       "      <td>...</td>\n",
       "      <td>-1219.5</td>\n",
       "      <td>0.00</td>\n",
       "      <td>22.55</td>\n",
       "      <td>0.16</td>\n",
       "      <td>0.23</td>\n",
       "      <td>Othello</td>\n",
       "      <td>NaN</td>\n",
       "      <td>NaN</td>\n",
       "      <td>NaN</td>\n",
       "      <td>NaN</td>\n",
       "    </tr>\n",
       "  </tbody>\n",
       "</table>\n",
       "<p>5 rows × 21 columns</p>\n",
       "</div>"
      ],
      "text/plain": [
       "         Date  Date.1  Min°F  Avg°F  Max°F  Avg1.5m DP°F  Avg1.5m RH%  \\\n",
       "0  2022/04/01       1   27.1   43.8   56.2          28.9         58.3   \n",
       "1  2022/04/02       2   38.0   48.8   60.0          29.6         52.9   \n",
       "2  2022/04/03       3   33.0   46.7   60.2          31.8         58.1   \n",
       "3  2022/04/04       4   36.9   47.9   56.1          31.1         55.2   \n",
       "4  2022/04/05       5   30.3   42.9   55.8          22.4         48.3   \n",
       "\n",
       "   2 in.°F  Min°F.1  Avg°F.1  ...  Avg 8in.SWPkPa TotPrecin  \\\n",
       "0     51.8     49.1     52.2  ...          -469.6      0.00   \n",
       "1     53.3     50.9     53.0  ...          -652.1      0.04   \n",
       "2     52.2     49.8     52.3  ...          -840.3      0.00   \n",
       "3     52.5     51.6     53.0  ...         -1011.4      0.05   \n",
       "4     50.2     47.8     50.7  ...         -1219.5      0.00   \n",
       "\n",
       "   TotalSolarRadMJ/m²  EToin  ETrin  Station Avg1.5m LWu.  AvgDir  \\\n",
       "0               19.88   0.11   0.14  Othello          NaN     NaN   \n",
       "1               21.54   0.16   0.24  Othello          NaN     NaN   \n",
       "2               16.32   0.12   0.18  Othello          NaN     NaN   \n",
       "3               19.57   0.15   0.23  Othello          NaN     NaN   \n",
       "4               22.55   0.16   0.23  Othello          NaN     NaN   \n",
       "\n",
       "  Avg Speedmph  2m MaxGustmph  \n",
       "0          NaN            NaN  \n",
       "1          NaN            NaN  \n",
       "2          NaN            NaN  \n",
       "3          NaN            NaN  \n",
       "4          NaN            NaN  \n",
       "\n",
       "[5 rows x 21 columns]"
      ]
     },
     "execution_count": 5,
     "metadata": {},
     "output_type": "execute_result"
    }
   ],
   "source": [
    "df_AM = pd.concat([df_othello, df_prosser, df_tricities])\n",
    "df_AM.head()"
   ]
  },
  {
   "cell_type": "code",
   "execution_count": 6,
   "metadata": {},
   "outputs": [
    {
     "data": {
      "text/html": [
       "<div>\n",
       "<style scoped>\n",
       "    .dataframe tbody tr th:only-of-type {\n",
       "        vertical-align: middle;\n",
       "    }\n",
       "\n",
       "    .dataframe tbody tr th {\n",
       "        vertical-align: top;\n",
       "    }\n",
       "\n",
       "    .dataframe thead th {\n",
       "        text-align: right;\n",
       "    }\n",
       "</style>\n",
       "<table border=\"1\" class=\"dataframe\">\n",
       "  <thead>\n",
       "    <tr style=\"text-align: right;\">\n",
       "      <th></th>\n",
       "      <th>Date</th>\n",
       "      <th>TotPrecin</th>\n",
       "      <th>Station</th>\n",
       "      <th>Month</th>\n",
       "    </tr>\n",
       "  </thead>\n",
       "  <tbody>\n",
       "    <tr>\n",
       "      <th>0</th>\n",
       "      <td>2022/04/01</td>\n",
       "      <td>0.00</td>\n",
       "      <td>Othello</td>\n",
       "      <td>4</td>\n",
       "    </tr>\n",
       "    <tr>\n",
       "      <th>1</th>\n",
       "      <td>2022/04/02</td>\n",
       "      <td>0.04</td>\n",
       "      <td>Othello</td>\n",
       "      <td>4</td>\n",
       "    </tr>\n",
       "    <tr>\n",
       "      <th>2</th>\n",
       "      <td>2022/04/03</td>\n",
       "      <td>0.00</td>\n",
       "      <td>Othello</td>\n",
       "      <td>4</td>\n",
       "    </tr>\n",
       "    <tr>\n",
       "      <th>3</th>\n",
       "      <td>2022/04/04</td>\n",
       "      <td>0.05</td>\n",
       "      <td>Othello</td>\n",
       "      <td>4</td>\n",
       "    </tr>\n",
       "    <tr>\n",
       "      <th>4</th>\n",
       "      <td>2022/04/05</td>\n",
       "      <td>0.00</td>\n",
       "      <td>Othello</td>\n",
       "      <td>4</td>\n",
       "    </tr>\n",
       "  </tbody>\n",
       "</table>\n",
       "</div>"
      ],
      "text/plain": [
       "         Date  TotPrecin  Station  Month\n",
       "0  2022/04/01       0.00  Othello      4\n",
       "1  2022/04/02       0.04  Othello      4\n",
       "2  2022/04/03       0.00  Othello      4\n",
       "3  2022/04/04       0.05  Othello      4\n",
       "4  2022/04/05       0.00  Othello      4"
      ]
     },
     "execution_count": 6,
     "metadata": {},
     "output_type": "execute_result"
    }
   ],
   "source": [
    "df_AM = df_AM[['Date', 'TotPrecin','Station']]#subset only three columns\n",
    "df_AM['Month']= pd.DatetimeIndex(df_AM['Date']).month#create a new column for month using date \n",
    "df_AM.head()"
   ]
  },
  {
   "cell_type": "code",
   "execution_count": 7,
   "metadata": {},
   "outputs": [
    {
     "data": {
      "text/html": [
       "<div>\n",
       "<style scoped>\n",
       "    .dataframe tbody tr th:only-of-type {\n",
       "        vertical-align: middle;\n",
       "    }\n",
       "\n",
       "    .dataframe tbody tr th {\n",
       "        vertical-align: top;\n",
       "    }\n",
       "\n",
       "    .dataframe thead th {\n",
       "        text-align: right;\n",
       "    }\n",
       "</style>\n",
       "<table border=\"1\" class=\"dataframe\">\n",
       "  <thead>\n",
       "    <tr style=\"text-align: right;\">\n",
       "      <th></th>\n",
       "      <th>Station</th>\n",
       "      <th>Month</th>\n",
       "      <th>RainyDays</th>\n",
       "    </tr>\n",
       "  </thead>\n",
       "  <tbody>\n",
       "    <tr>\n",
       "      <th>0</th>\n",
       "      <td>Othello</td>\n",
       "      <td>4</td>\n",
       "      <td>13</td>\n",
       "    </tr>\n",
       "    <tr>\n",
       "      <th>1</th>\n",
       "      <td>Othello</td>\n",
       "      <td>5</td>\n",
       "      <td>11</td>\n",
       "    </tr>\n",
       "    <tr>\n",
       "      <th>2</th>\n",
       "      <td>Prosser</td>\n",
       "      <td>4</td>\n",
       "      <td>9</td>\n",
       "    </tr>\n",
       "    <tr>\n",
       "      <th>3</th>\n",
       "      <td>Prosser</td>\n",
       "      <td>5</td>\n",
       "      <td>12</td>\n",
       "    </tr>\n",
       "    <tr>\n",
       "      <th>4</th>\n",
       "      <td>Tricities</td>\n",
       "      <td>4</td>\n",
       "      <td>10</td>\n",
       "    </tr>\n",
       "    <tr>\n",
       "      <th>5</th>\n",
       "      <td>Tricities</td>\n",
       "      <td>5</td>\n",
       "      <td>14</td>\n",
       "    </tr>\n",
       "  </tbody>\n",
       "</table>\n",
       "</div>"
      ],
      "text/plain": [
       "     Station  Month  RainyDays\n",
       "0    Othello      4         13\n",
       "1    Othello      5         11\n",
       "2    Prosser      4          9\n",
       "3    Prosser      5         12\n",
       "4  Tricities      4         10\n",
       "5  Tricities      5         14"
      ]
     },
     "execution_count": 7,
     "metadata": {},
     "output_type": "execute_result"
    }
   ],
   "source": [
    "grouped_AM = df_AM[df_AM['TotPrecin'].astype(bool)].groupby(['Station', 'Month']).size().reset_index(name = 'RainyDays')#calculate rainy days\n",
    "grouped_AM"
   ]
  },
  {
   "cell_type": "code",
   "execution_count": 8,
   "metadata": {},
   "outputs": [],
   "source": [
    "RD_May_Othello = np.array(grouped_AM['RainyDays'][(grouped_AM['Station']=='Othello') & (grouped_AM['Month'] ==5)])\n",
    "RD_May_Prosser = np.array(grouped_AM['RainyDays'][(grouped_AM['Station']=='Prosser') & (grouped_AM['Month'] ==5)])\n",
    "RD_May_Tricities = np.array(grouped_AM['RainyDays'][(grouped_AM['Station']=='Tricities') & (grouped_AM['Month'] ==5)])\n",
    "RD_Apr_Othello = np.array(grouped_AM['RainyDays'][(grouped_AM['Station']=='Othello') & (grouped_AM['Month'] ==4)])\n",
    "RD_Apr_Prosser = np.array(grouped_AM['RainyDays'][(grouped_AM['Station']=='Prosser') & (grouped_AM['Month'] ==4)])\n",
    "RD_Apr_Tricities = np.array(grouped_AM['RainyDays'][(grouped_AM['Station']=='Tricities') & (grouped_AM['Month'] ==4)])"
   ]
  },
  {
   "cell_type": "markdown",
   "metadata": {},
   "source": [
    "#### Weather July and August"
   ]
  },
  {
   "cell_type": "code",
   "execution_count": 9,
   "metadata": {},
   "outputs": [],
   "source": [
    "os.chdir('C:/Users/theox/Desktop/Projects/LateBlight/WeatherForecasts/2022/Monthly')\n",
    "df1_othello = pd.read_csv('Othello_JA.csv')\n",
    "df1_prosser = pd.read_csv('Prosser_JA.csv')\n",
    "df1_tricities = pd.read_csv('Tricities_JA.csv')"
   ]
  },
  {
   "cell_type": "code",
   "execution_count": 10,
   "metadata": {},
   "outputs": [],
   "source": [
    "df1_othello['Station'] = 'Othello'\n",
    "df1_prosser['Station'] = 'Prosser'\n",
    "df1_tricities['Station'] = 'Tricities'"
   ]
  },
  {
   "cell_type": "code",
   "execution_count": 11,
   "metadata": {},
   "outputs": [
    {
     "data": {
      "text/html": [
       "<div>\n",
       "<style scoped>\n",
       "    .dataframe tbody tr th:only-of-type {\n",
       "        vertical-align: middle;\n",
       "    }\n",
       "\n",
       "    .dataframe tbody tr th {\n",
       "        vertical-align: top;\n",
       "    }\n",
       "\n",
       "    .dataframe thead th {\n",
       "        text-align: right;\n",
       "    }\n",
       "</style>\n",
       "<table border=\"1\" class=\"dataframe\">\n",
       "  <thead>\n",
       "    <tr style=\"text-align: right;\">\n",
       "      <th></th>\n",
       "      <th>Date</th>\n",
       "      <th>Date.1</th>\n",
       "      <th>Min°F</th>\n",
       "      <th>Avg°F</th>\n",
       "      <th>Max°F</th>\n",
       "      <th>Avg1.5m DP°F</th>\n",
       "      <th>Avg1.5m RH%</th>\n",
       "      <th>2 in.°F</th>\n",
       "      <th>Min°F.1</th>\n",
       "      <th>Avg°F.1</th>\n",
       "      <th>...</th>\n",
       "      <th>Avg 8in.SWPkPa</th>\n",
       "      <th>TotPrecin</th>\n",
       "      <th>TotalSolarRadMJ/m²</th>\n",
       "      <th>EToin</th>\n",
       "      <th>ETrin</th>\n",
       "      <th>Station</th>\n",
       "      <th>Avg1.5m LWu.</th>\n",
       "      <th>AvgDir</th>\n",
       "      <th>Avg Speedmph</th>\n",
       "      <th>2m MaxGustmph</th>\n",
       "    </tr>\n",
       "  </thead>\n",
       "  <tbody>\n",
       "    <tr>\n",
       "      <th>0</th>\n",
       "      <td>2022/07/01</td>\n",
       "      <td>1</td>\n",
       "      <td>54.3</td>\n",
       "      <td>72.2</td>\n",
       "      <td>87.4</td>\n",
       "      <td>50.5</td>\n",
       "      <td>50.4</td>\n",
       "      <td>83.6</td>\n",
       "      <td>77.4</td>\n",
       "      <td>81.4</td>\n",
       "      <td>...</td>\n",
       "      <td>-764.2</td>\n",
       "      <td>0.00</td>\n",
       "      <td>29.92</td>\n",
       "      <td>0.25</td>\n",
       "      <td>0.32</td>\n",
       "      <td>Othello</td>\n",
       "      <td>NaN</td>\n",
       "      <td>NaN</td>\n",
       "      <td>NaN</td>\n",
       "      <td>NaN</td>\n",
       "    </tr>\n",
       "    <tr>\n",
       "      <th>1</th>\n",
       "      <td>2022/07/02</td>\n",
       "      <td>2</td>\n",
       "      <td>52.5</td>\n",
       "      <td>70.6</td>\n",
       "      <td>85.7</td>\n",
       "      <td>53.1</td>\n",
       "      <td>56.9</td>\n",
       "      <td>83.3</td>\n",
       "      <td>78.4</td>\n",
       "      <td>81.7</td>\n",
       "      <td>...</td>\n",
       "      <td>-723.6</td>\n",
       "      <td>0.17</td>\n",
       "      <td>24.98</td>\n",
       "      <td>0.23</td>\n",
       "      <td>0.30</td>\n",
       "      <td>Othello</td>\n",
       "      <td>NaN</td>\n",
       "      <td>NaN</td>\n",
       "      <td>NaN</td>\n",
       "      <td>NaN</td>\n",
       "    </tr>\n",
       "    <tr>\n",
       "      <th>2</th>\n",
       "      <td>2022/07/03</td>\n",
       "      <td>3</td>\n",
       "      <td>55.1</td>\n",
       "      <td>64.2</td>\n",
       "      <td>77.5</td>\n",
       "      <td>54.4</td>\n",
       "      <td>72.6</td>\n",
       "      <td>77.2</td>\n",
       "      <td>76.1</td>\n",
       "      <td>78.2</td>\n",
       "      <td>...</td>\n",
       "      <td>-756.6</td>\n",
       "      <td>0.07</td>\n",
       "      <td>20.63</td>\n",
       "      <td>0.18</td>\n",
       "      <td>0.24</td>\n",
       "      <td>Othello</td>\n",
       "      <td>NaN</td>\n",
       "      <td>NaN</td>\n",
       "      <td>NaN</td>\n",
       "      <td>NaN</td>\n",
       "    </tr>\n",
       "    <tr>\n",
       "      <th>3</th>\n",
       "      <td>2022/07/04</td>\n",
       "      <td>4</td>\n",
       "      <td>53.9</td>\n",
       "      <td>63.5</td>\n",
       "      <td>77.2</td>\n",
       "      <td>49.2</td>\n",
       "      <td>63.2</td>\n",
       "      <td>74.8</td>\n",
       "      <td>71.8</td>\n",
       "      <td>75.3</td>\n",
       "      <td>...</td>\n",
       "      <td>-823.6</td>\n",
       "      <td>0.00</td>\n",
       "      <td>22.09</td>\n",
       "      <td>0.20</td>\n",
       "      <td>0.27</td>\n",
       "      <td>Othello</td>\n",
       "      <td>NaN</td>\n",
       "      <td>NaN</td>\n",
       "      <td>NaN</td>\n",
       "      <td>NaN</td>\n",
       "    </tr>\n",
       "    <tr>\n",
       "      <th>4</th>\n",
       "      <td>2022/07/05</td>\n",
       "      <td>5</td>\n",
       "      <td>49.9</td>\n",
       "      <td>66.1</td>\n",
       "      <td>81.8</td>\n",
       "      <td>53.1</td>\n",
       "      <td>66.8</td>\n",
       "      <td>77.1</td>\n",
       "      <td>71.6</td>\n",
       "      <td>75.8</td>\n",
       "      <td>...</td>\n",
       "      <td>-823.2</td>\n",
       "      <td>0.00</td>\n",
       "      <td>26.66</td>\n",
       "      <td>0.22</td>\n",
       "      <td>0.27</td>\n",
       "      <td>Othello</td>\n",
       "      <td>NaN</td>\n",
       "      <td>NaN</td>\n",
       "      <td>NaN</td>\n",
       "      <td>NaN</td>\n",
       "    </tr>\n",
       "  </tbody>\n",
       "</table>\n",
       "<p>5 rows × 21 columns</p>\n",
       "</div>"
      ],
      "text/plain": [
       "         Date  Date.1  Min°F  Avg°F  Max°F  Avg1.5m DP°F  Avg1.5m RH%  \\\n",
       "0  2022/07/01       1   54.3   72.2   87.4          50.5         50.4   \n",
       "1  2022/07/02       2   52.5   70.6   85.7          53.1         56.9   \n",
       "2  2022/07/03       3   55.1   64.2   77.5          54.4         72.6   \n",
       "3  2022/07/04       4   53.9   63.5   77.2          49.2         63.2   \n",
       "4  2022/07/05       5   49.9   66.1   81.8          53.1         66.8   \n",
       "\n",
       "   2 in.°F  Min°F.1  Avg°F.1  ...  Avg 8in.SWPkPa  TotPrecin  \\\n",
       "0     83.6     77.4     81.4  ...          -764.2       0.00   \n",
       "1     83.3     78.4     81.7  ...          -723.6       0.17   \n",
       "2     77.2     76.1     78.2  ...          -756.6       0.07   \n",
       "3     74.8     71.8     75.3  ...          -823.6       0.00   \n",
       "4     77.1     71.6     75.8  ...          -823.2       0.00   \n",
       "\n",
       "   TotalSolarRadMJ/m²  EToin  ETrin  Station Avg1.5m LWu.  AvgDir  \\\n",
       "0               29.92   0.25   0.32  Othello          NaN     NaN   \n",
       "1               24.98   0.23   0.30  Othello          NaN     NaN   \n",
       "2               20.63   0.18   0.24  Othello          NaN     NaN   \n",
       "3               22.09   0.20   0.27  Othello          NaN     NaN   \n",
       "4               26.66   0.22   0.27  Othello          NaN     NaN   \n",
       "\n",
       "  Avg Speedmph  2m MaxGustmph  \n",
       "0          NaN            NaN  \n",
       "1          NaN            NaN  \n",
       "2          NaN            NaN  \n",
       "3          NaN            NaN  \n",
       "4          NaN            NaN  \n",
       "\n",
       "[5 rows x 21 columns]"
      ]
     },
     "execution_count": 11,
     "metadata": {},
     "output_type": "execute_result"
    }
   ],
   "source": [
    "df_JA = pd.concat([df1_othello, df1_prosser, df1_tricities])\n",
    "df_JA.head()"
   ]
  },
  {
   "cell_type": "code",
   "execution_count": 12,
   "metadata": {},
   "outputs": [
    {
     "data": {
      "text/html": [
       "<div>\n",
       "<style scoped>\n",
       "    .dataframe tbody tr th:only-of-type {\n",
       "        vertical-align: middle;\n",
       "    }\n",
       "\n",
       "    .dataframe tbody tr th {\n",
       "        vertical-align: top;\n",
       "    }\n",
       "\n",
       "    .dataframe thead th {\n",
       "        text-align: right;\n",
       "    }\n",
       "</style>\n",
       "<table border=\"1\" class=\"dataframe\">\n",
       "  <thead>\n",
       "    <tr style=\"text-align: right;\">\n",
       "      <th></th>\n",
       "      <th>Date</th>\n",
       "      <th>TotPrecin</th>\n",
       "      <th>Station</th>\n",
       "      <th>Month</th>\n",
       "    </tr>\n",
       "  </thead>\n",
       "  <tbody>\n",
       "    <tr>\n",
       "      <th>0</th>\n",
       "      <td>2022/07/01</td>\n",
       "      <td>0.00</td>\n",
       "      <td>Othello</td>\n",
       "      <td>7</td>\n",
       "    </tr>\n",
       "    <tr>\n",
       "      <th>1</th>\n",
       "      <td>2022/07/02</td>\n",
       "      <td>0.17</td>\n",
       "      <td>Othello</td>\n",
       "      <td>7</td>\n",
       "    </tr>\n",
       "    <tr>\n",
       "      <th>2</th>\n",
       "      <td>2022/07/03</td>\n",
       "      <td>0.07</td>\n",
       "      <td>Othello</td>\n",
       "      <td>7</td>\n",
       "    </tr>\n",
       "    <tr>\n",
       "      <th>3</th>\n",
       "      <td>2022/07/04</td>\n",
       "      <td>0.00</td>\n",
       "      <td>Othello</td>\n",
       "      <td>7</td>\n",
       "    </tr>\n",
       "    <tr>\n",
       "      <th>4</th>\n",
       "      <td>2022/07/05</td>\n",
       "      <td>0.00</td>\n",
       "      <td>Othello</td>\n",
       "      <td>7</td>\n",
       "    </tr>\n",
       "  </tbody>\n",
       "</table>\n",
       "</div>"
      ],
      "text/plain": [
       "         Date  TotPrecin  Station  Month\n",
       "0  2022/07/01       0.00  Othello      7\n",
       "1  2022/07/02       0.17  Othello      7\n",
       "2  2022/07/03       0.07  Othello      7\n",
       "3  2022/07/04       0.00  Othello      7\n",
       "4  2022/07/05       0.00  Othello      7"
      ]
     },
     "execution_count": 12,
     "metadata": {},
     "output_type": "execute_result"
    }
   ],
   "source": [
    "df_JA = df_JA[['Date', 'TotPrecin','Station']]#subset only three columns\n",
    "df_JA['Month']= pd.DatetimeIndex(df_JA['Date']).month#create a new column for month using date \n",
    "df_JA.head()"
   ]
  },
  {
   "cell_type": "code",
   "execution_count": 16,
   "metadata": {},
   "outputs": [
    {
     "data": {
      "text/html": [
       "<div>\n",
       "<style scoped>\n",
       "    .dataframe tbody tr th:only-of-type {\n",
       "        vertical-align: middle;\n",
       "    }\n",
       "\n",
       "    .dataframe tbody tr th {\n",
       "        vertical-align: top;\n",
       "    }\n",
       "\n",
       "    .dataframe thead th {\n",
       "        text-align: right;\n",
       "    }\n",
       "</style>\n",
       "<table border=\"1\" class=\"dataframe\">\n",
       "  <thead>\n",
       "    <tr style=\"text-align: right;\">\n",
       "      <th></th>\n",
       "      <th>Station</th>\n",
       "      <th>Month</th>\n",
       "      <th>RainyDays</th>\n",
       "    </tr>\n",
       "  </thead>\n",
       "  <tbody>\n",
       "    <tr>\n",
       "      <th>0</th>\n",
       "      <td>Othello</td>\n",
       "      <td>7</td>\n",
       "      <td>4</td>\n",
       "    </tr>\n",
       "    <tr>\n",
       "      <th>1</th>\n",
       "      <td>Prosser</td>\n",
       "      <td>7</td>\n",
       "      <td>1</td>\n",
       "    </tr>\n",
       "    <tr>\n",
       "      <th>2</th>\n",
       "      <td>Tricities</td>\n",
       "      <td>7</td>\n",
       "      <td>2</td>\n",
       "    </tr>\n",
       "  </tbody>\n",
       "</table>\n",
       "</div>"
      ],
      "text/plain": [
       "     Station  Month  RainyDays\n",
       "0    Othello      7          4\n",
       "1    Prosser      7          1\n",
       "2  Tricities      7          2"
      ]
     },
     "execution_count": 16,
     "metadata": {},
     "output_type": "execute_result"
    }
   ],
   "source": [
    "grouped_JA = df_JA[df_JA['TotPrecin'].astype(bool)].groupby(['Station', 'Month']).size().reset_index(name = 'RainyDays')#calculate rainy days\n",
    "grouped_JA"
   ]
  },
  {
   "cell_type": "code",
   "execution_count": 17,
   "metadata": {},
   "outputs": [],
   "source": [
    "RD_Jul_Othello = np.array(grouped_JA['RainyDays'][(grouped_JA['Station']=='Othello') & (grouped_JA['Month'] ==7)])\n",
    "RD_Jul_Prosser = np.array(grouped_JA['RainyDays'][(grouped_JA['Station']=='Prosser') & (grouped_JA['Month'] ==7)])\n",
    "RD_Jul_Tricities = np.array(grouped_JA['RainyDays'][(grouped_JA['Station']=='Tricities') & (grouped_JA['Month'] ==7)])\n",
    "#RD_Aug_Othello = np.array(grouped_JA['RainyDays'][(grouped_JA['Station']=='Othello') & (grouped_JA['Month'] ==8)])\n",
    "#RD_Aug_Prosser = np.array(grouped_JA['RainyDays'][(grouped_JA['Station']=='Prosser') & (grouped_JA['Month'] ==8)])\n",
    "#RD_Aug_Tricities = np.array(grouped_JA['RainyDays'][(grouped_JA['Station']=='Tricities') & (grouped_JA['Month'] ==8)])"
   ]
  },
  {
   "cell_type": "code",
   "execution_count": 18,
   "metadata": {},
   "outputs": [],
   "source": [
    "RD_Aug_Othello =0\n",
    "RD_Aug_Prosser = 0\n",
    "RD_Aug_Tricities= 0"
   ]
  },
  {
   "cell_type": "markdown",
   "metadata": {},
   "source": [
    "### Forecast July and August (Monthly)"
   ]
  },
  {
   "cell_type": "code",
   "execution_count": 19,
   "metadata": {},
   "outputs": [
    {
     "name": "stdout",
     "output_type": "stream",
     "text": [
      "(46, 11)\n"
     ]
    },
    {
     "data": {
      "text/html": [
       "<div>\n",
       "<style scoped>\n",
       "    .dataframe tbody tr th:only-of-type {\n",
       "        vertical-align: middle;\n",
       "    }\n",
       "\n",
       "    .dataframe tbody tr th {\n",
       "        vertical-align: top;\n",
       "    }\n",
       "\n",
       "    .dataframe thead th {\n",
       "        text-align: right;\n",
       "    }\n",
       "</style>\n",
       "<table border=\"1\" class=\"dataframe\">\n",
       "  <thead>\n",
       "    <tr style=\"text-align: right;\">\n",
       "      <th></th>\n",
       "      <th>One Month Forecast of Daily Rainfall</th>\n",
       "      <th>Unnamed: 1</th>\n",
       "      <th>Unnamed: 2</th>\n",
       "      <th></th>\n",
       "      <th>Unnamed: 4</th>\n",
       "      <th>Unnamed: 5</th>\n",
       "      <th>Unnamed: 6</th>\n",
       "      <th>Unnamed: 7</th>\n",
       "      <th>Unnamed: 8</th>\n",
       "      <th>Unnamed: 9</th>\n",
       "      <th>Unnamed: 10</th>\n",
       "    </tr>\n",
       "  </thead>\n",
       "  <tbody>\n",
       "    <tr>\n",
       "      <th>4</th>\n",
       "      <td>DATE</td>\n",
       "      <td>NaN</td>\n",
       "      <td>RAIN 100148 TRICITIES</td>\n",
       "      <td>NaN</td>\n",
       "      <td>NaN</td>\n",
       "      <td>NaN</td>\n",
       "      <td>RAIN 300033 PROSSER</td>\n",
       "      <td>NaN</td>\n",
       "      <td>NaN</td>\n",
       "      <td>RAIN OTHELLO 300122</td>\n",
       "      <td>DayNmbr</td>\n",
       "    </tr>\n",
       "    <tr>\n",
       "      <th>5</th>\n",
       "      <td>2022-08-18 00:00:00</td>\n",
       "      <td>TriCities</td>\n",
       "      <td>0</td>\n",
       "      <td>NaN</td>\n",
       "      <td>Prosser</td>\n",
       "      <td>NaN</td>\n",
       "      <td>0</td>\n",
       "      <td>NaN</td>\n",
       "      <td>Othello</td>\n",
       "      <td>0</td>\n",
       "      <td>1</td>\n",
       "    </tr>\n",
       "    <tr>\n",
       "      <th>6</th>\n",
       "      <td>2022-08-19 00:00:00</td>\n",
       "      <td>TriCities</td>\n",
       "      <td>0</td>\n",
       "      <td>NaN</td>\n",
       "      <td>Prosser</td>\n",
       "      <td>NaN</td>\n",
       "      <td>0</td>\n",
       "      <td>NaN</td>\n",
       "      <td>Othello</td>\n",
       "      <td>0</td>\n",
       "      <td>2</td>\n",
       "    </tr>\n",
       "    <tr>\n",
       "      <th>7</th>\n",
       "      <td>2022-08-20 00:00:00</td>\n",
       "      <td>TriCities</td>\n",
       "      <td>0.01</td>\n",
       "      <td>NaN</td>\n",
       "      <td>Prosser</td>\n",
       "      <td>NaN</td>\n",
       "      <td>0.02</td>\n",
       "      <td>NaN</td>\n",
       "      <td>Othello</td>\n",
       "      <td>0.01</td>\n",
       "      <td>3</td>\n",
       "    </tr>\n",
       "    <tr>\n",
       "      <th>8</th>\n",
       "      <td>2022-08-21 00:00:00</td>\n",
       "      <td>TriCities</td>\n",
       "      <td>0</td>\n",
       "      <td>NaN</td>\n",
       "      <td>Prosser</td>\n",
       "      <td>NaN</td>\n",
       "      <td>0</td>\n",
       "      <td>NaN</td>\n",
       "      <td>Othello</td>\n",
       "      <td>0</td>\n",
       "      <td>4</td>\n",
       "    </tr>\n",
       "  </tbody>\n",
       "</table>\n",
       "</div>"
      ],
      "text/plain": [
       "  One Month Forecast of Daily Rainfall    Unnamed: 1             Unnamed: 2  \\\n",
       "4                                    DATE        NaN  RAIN 100148 TRICITIES   \n",
       "5                     2022-08-18 00:00:00  TriCities                      0   \n",
       "6                     2022-08-19 00:00:00  TriCities                      0   \n",
       "7                     2022-08-20 00:00:00  TriCities                   0.01   \n",
       "8                     2022-08-21 00:00:00  TriCities                      0   \n",
       "\n",
       "      Unnamed: 4  Unnamed: 5           Unnamed: 6  Unnamed: 7 Unnamed: 8  \\\n",
       "4 NaN        NaN         NaN  RAIN 300033 PROSSER         NaN        NaN   \n",
       "5 NaN    Prosser         NaN                    0         NaN    Othello   \n",
       "6 NaN    Prosser         NaN                    0         NaN    Othello   \n",
       "7 NaN    Prosser         NaN                 0.02         NaN    Othello   \n",
       "8 NaN    Prosser         NaN                    0         NaN    Othello   \n",
       "\n",
       "            Unnamed: 9 Unnamed: 10  \n",
       "4  RAIN OTHELLO 300122     DayNmbr  \n",
       "5                    0           1  \n",
       "6                    0           2  \n",
       "7                 0.01           3  \n",
       "8                    0           4  "
      ]
     },
     "execution_count": 19,
     "metadata": {},
     "output_type": "execute_result"
    }
   ],
   "source": [
    "df_forecast = pd.read_excel('8-18_9-22.xlsx', engine='openpyxl')\n",
    "print(df_forecast.shape)\n",
    "df_forecast = df_forecast.iloc[4:39]\n",
    "df_forecast.head()"
   ]
  },
  {
   "cell_type": "code",
   "execution_count": 20,
   "metadata": {},
   "outputs": [
    {
     "data": {
      "text/html": [
       "<div>\n",
       "<style scoped>\n",
       "    .dataframe tbody tr th:only-of-type {\n",
       "        vertical-align: middle;\n",
       "    }\n",
       "\n",
       "    .dataframe tbody tr th {\n",
       "        vertical-align: top;\n",
       "    }\n",
       "\n",
       "    .dataframe thead th {\n",
       "        text-align: right;\n",
       "    }\n",
       "</style>\n",
       "<table border=\"1\" class=\"dataframe\">\n",
       "  <thead>\n",
       "    <tr style=\"text-align: right;\">\n",
       "      <th>4</th>\n",
       "      <th>DATE</th>\n",
       "      <th>NaN</th>\n",
       "      <th>RAIN 100148 TRICITIES</th>\n",
       "      <th>NaN</th>\n",
       "      <th>NaN</th>\n",
       "      <th>NaN</th>\n",
       "      <th>RAIN 300033 PROSSER</th>\n",
       "      <th>NaN</th>\n",
       "      <th>NaN</th>\n",
       "      <th>RAIN OTHELLO 300122</th>\n",
       "      <th>DayNmbr</th>\n",
       "    </tr>\n",
       "  </thead>\n",
       "  <tbody>\n",
       "    <tr>\n",
       "      <th>5</th>\n",
       "      <td>2022-08-18 00:00:00</td>\n",
       "      <td>TriCities</td>\n",
       "      <td>0</td>\n",
       "      <td>NaN</td>\n",
       "      <td>Prosser</td>\n",
       "      <td>NaN</td>\n",
       "      <td>0</td>\n",
       "      <td>NaN</td>\n",
       "      <td>Othello</td>\n",
       "      <td>0</td>\n",
       "      <td>1</td>\n",
       "    </tr>\n",
       "    <tr>\n",
       "      <th>6</th>\n",
       "      <td>2022-08-19 00:00:00</td>\n",
       "      <td>TriCities</td>\n",
       "      <td>0</td>\n",
       "      <td>NaN</td>\n",
       "      <td>Prosser</td>\n",
       "      <td>NaN</td>\n",
       "      <td>0</td>\n",
       "      <td>NaN</td>\n",
       "      <td>Othello</td>\n",
       "      <td>0</td>\n",
       "      <td>2</td>\n",
       "    </tr>\n",
       "    <tr>\n",
       "      <th>7</th>\n",
       "      <td>2022-08-20 00:00:00</td>\n",
       "      <td>TriCities</td>\n",
       "      <td>0.01</td>\n",
       "      <td>NaN</td>\n",
       "      <td>Prosser</td>\n",
       "      <td>NaN</td>\n",
       "      <td>0.02</td>\n",
       "      <td>NaN</td>\n",
       "      <td>Othello</td>\n",
       "      <td>0.01</td>\n",
       "      <td>3</td>\n",
       "    </tr>\n",
       "    <tr>\n",
       "      <th>8</th>\n",
       "      <td>2022-08-21 00:00:00</td>\n",
       "      <td>TriCities</td>\n",
       "      <td>0</td>\n",
       "      <td>NaN</td>\n",
       "      <td>Prosser</td>\n",
       "      <td>NaN</td>\n",
       "      <td>0</td>\n",
       "      <td>NaN</td>\n",
       "      <td>Othello</td>\n",
       "      <td>0</td>\n",
       "      <td>4</td>\n",
       "    </tr>\n",
       "    <tr>\n",
       "      <th>9</th>\n",
       "      <td>2022-08-22 00:00:00</td>\n",
       "      <td>TriCities</td>\n",
       "      <td>0</td>\n",
       "      <td>NaN</td>\n",
       "      <td>Prosser</td>\n",
       "      <td>NaN</td>\n",
       "      <td>0</td>\n",
       "      <td>NaN</td>\n",
       "      <td>Othello</td>\n",
       "      <td>0</td>\n",
       "      <td>5</td>\n",
       "    </tr>\n",
       "  </tbody>\n",
       "</table>\n",
       "</div>"
      ],
      "text/plain": [
       "4                 DATE        NaN RAIN 100148 TRICITIES NaN      NaN NaN  \\\n",
       "5  2022-08-18 00:00:00  TriCities                     0 NaN  Prosser NaN   \n",
       "6  2022-08-19 00:00:00  TriCities                     0 NaN  Prosser NaN   \n",
       "7  2022-08-20 00:00:00  TriCities                  0.01 NaN  Prosser NaN   \n",
       "8  2022-08-21 00:00:00  TriCities                     0 NaN  Prosser NaN   \n",
       "9  2022-08-22 00:00:00  TriCities                     0 NaN  Prosser NaN   \n",
       "\n",
       "4 RAIN 300033 PROSSER NaN      NaN RAIN OTHELLO 300122 DayNmbr  \n",
       "5                   0 NaN  Othello                   0       1  \n",
       "6                   0 NaN  Othello                   0       2  \n",
       "7                0.02 NaN  Othello                0.01       3  \n",
       "8                   0 NaN  Othello                   0       4  \n",
       "9                   0 NaN  Othello                   0       5  "
      ]
     },
     "execution_count": 20,
     "metadata": {},
     "output_type": "execute_result"
    }
   ],
   "source": [
    "df_forecast.columns = df_forecast.iloc[0]#rename column\n",
    "df_forecast = df_forecast.drop([4])#drop forth row\n",
    "df_forecast.head()"
   ]
  },
  {
   "cell_type": "code",
   "execution_count": 21,
   "metadata": {},
   "outputs": [
    {
     "data": {
      "text/html": [
       "<div>\n",
       "<style scoped>\n",
       "    .dataframe tbody tr th:only-of-type {\n",
       "        vertical-align: middle;\n",
       "    }\n",
       "\n",
       "    .dataframe tbody tr th {\n",
       "        vertical-align: top;\n",
       "    }\n",
       "\n",
       "    .dataframe thead th {\n",
       "        text-align: right;\n",
       "    }\n",
       "</style>\n",
       "<table border=\"1\" class=\"dataframe\">\n",
       "  <thead>\n",
       "    <tr style=\"text-align: right;\">\n",
       "      <th>4</th>\n",
       "      <th>DATE</th>\n",
       "      <th>RAIN 100148 TRICITIES</th>\n",
       "      <th>RAIN 300033 PROSSER</th>\n",
       "      <th>RAIN OTHELLO 300122</th>\n",
       "    </tr>\n",
       "  </thead>\n",
       "  <tbody>\n",
       "    <tr>\n",
       "      <th>5</th>\n",
       "      <td>2022-08-18 00:00:00</td>\n",
       "      <td>0</td>\n",
       "      <td>0</td>\n",
       "      <td>0</td>\n",
       "    </tr>\n",
       "    <tr>\n",
       "      <th>6</th>\n",
       "      <td>2022-08-19 00:00:00</td>\n",
       "      <td>0</td>\n",
       "      <td>0</td>\n",
       "      <td>0</td>\n",
       "    </tr>\n",
       "    <tr>\n",
       "      <th>7</th>\n",
       "      <td>2022-08-20 00:00:00</td>\n",
       "      <td>0.01</td>\n",
       "      <td>0.02</td>\n",
       "      <td>0.01</td>\n",
       "    </tr>\n",
       "    <tr>\n",
       "      <th>8</th>\n",
       "      <td>2022-08-21 00:00:00</td>\n",
       "      <td>0</td>\n",
       "      <td>0</td>\n",
       "      <td>0</td>\n",
       "    </tr>\n",
       "    <tr>\n",
       "      <th>9</th>\n",
       "      <td>2022-08-22 00:00:00</td>\n",
       "      <td>0</td>\n",
       "      <td>0</td>\n",
       "      <td>0</td>\n",
       "    </tr>\n",
       "    <tr>\n",
       "      <th>10</th>\n",
       "      <td>2022-08-23 00:00:00</td>\n",
       "      <td>0</td>\n",
       "      <td>0</td>\n",
       "      <td>0</td>\n",
       "    </tr>\n",
       "    <tr>\n",
       "      <th>11</th>\n",
       "      <td>2022-08-24 00:00:00</td>\n",
       "      <td>0</td>\n",
       "      <td>0</td>\n",
       "      <td>0</td>\n",
       "    </tr>\n",
       "    <tr>\n",
       "      <th>12</th>\n",
       "      <td>2022-08-25 00:00:00</td>\n",
       "      <td>0</td>\n",
       "      <td>0</td>\n",
       "      <td>0</td>\n",
       "    </tr>\n",
       "    <tr>\n",
       "      <th>13</th>\n",
       "      <td>2022-08-26 00:00:00</td>\n",
       "      <td>0</td>\n",
       "      <td>0</td>\n",
       "      <td>0</td>\n",
       "    </tr>\n",
       "    <tr>\n",
       "      <th>14</th>\n",
       "      <td>2022-08-27 00:00:00</td>\n",
       "      <td>0</td>\n",
       "      <td>0</td>\n",
       "      <td>0</td>\n",
       "    </tr>\n",
       "  </tbody>\n",
       "</table>\n",
       "</div>"
      ],
      "text/plain": [
       "4                  DATE RAIN 100148 TRICITIES RAIN 300033 PROSSER  \\\n",
       "5   2022-08-18 00:00:00                     0                   0   \n",
       "6   2022-08-19 00:00:00                     0                   0   \n",
       "7   2022-08-20 00:00:00                  0.01                0.02   \n",
       "8   2022-08-21 00:00:00                     0                   0   \n",
       "9   2022-08-22 00:00:00                     0                   0   \n",
       "10  2022-08-23 00:00:00                     0                   0   \n",
       "11  2022-08-24 00:00:00                     0                   0   \n",
       "12  2022-08-25 00:00:00                     0                   0   \n",
       "13  2022-08-26 00:00:00                     0                   0   \n",
       "14  2022-08-27 00:00:00                     0                   0   \n",
       "\n",
       "4  RAIN OTHELLO 300122  \n",
       "5                    0  \n",
       "6                    0  \n",
       "7                 0.01  \n",
       "8                    0  \n",
       "9                    0  \n",
       "10                   0  \n",
       "11                   0  \n",
       "12                   0  \n",
       "13                   0  \n",
       "14                   0  "
      ]
     },
     "execution_count": 21,
     "metadata": {},
     "output_type": "execute_result"
    }
   ],
   "source": [
    "df_simple = df_forecast[[\"DATE\",\"RAIN 100148 TRICITIES\",\"RAIN 300033 PROSSER\", \"RAIN OTHELLO 300122\"]]\n",
    "df_simple.head(10)"
   ]
  },
  {
   "cell_type": "code",
   "execution_count": 22,
   "metadata": {},
   "outputs": [
    {
     "data": {
      "text/html": [
       "<div>\n",
       "<style scoped>\n",
       "    .dataframe tbody tr th:only-of-type {\n",
       "        vertical-align: middle;\n",
       "    }\n",
       "\n",
       "    .dataframe tbody tr th {\n",
       "        vertical-align: top;\n",
       "    }\n",
       "\n",
       "    .dataframe thead th {\n",
       "        text-align: right;\n",
       "    }\n",
       "</style>\n",
       "<table border=\"1\" class=\"dataframe\">\n",
       "  <thead>\n",
       "    <tr style=\"text-align: right;\">\n",
       "      <th>4</th>\n",
       "      <th>DATE</th>\n",
       "      <th>TriCities</th>\n",
       "      <th>Prosser</th>\n",
       "      <th>Othello</th>\n",
       "    </tr>\n",
       "  </thead>\n",
       "  <tbody>\n",
       "    <tr>\n",
       "      <th>5</th>\n",
       "      <td>2022-08-18 00:00:00</td>\n",
       "      <td>0.00</td>\n",
       "      <td>0.00</td>\n",
       "      <td>0.00</td>\n",
       "    </tr>\n",
       "    <tr>\n",
       "      <th>6</th>\n",
       "      <td>2022-08-19 00:00:00</td>\n",
       "      <td>0.00</td>\n",
       "      <td>0.00</td>\n",
       "      <td>0.00</td>\n",
       "    </tr>\n",
       "    <tr>\n",
       "      <th>7</th>\n",
       "      <td>2022-08-20 00:00:00</td>\n",
       "      <td>0.01</td>\n",
       "      <td>0.02</td>\n",
       "      <td>0.01</td>\n",
       "    </tr>\n",
       "    <tr>\n",
       "      <th>8</th>\n",
       "      <td>2022-08-21 00:00:00</td>\n",
       "      <td>0.00</td>\n",
       "      <td>0.00</td>\n",
       "      <td>0.00</td>\n",
       "    </tr>\n",
       "    <tr>\n",
       "      <th>9</th>\n",
       "      <td>2022-08-22 00:00:00</td>\n",
       "      <td>0.00</td>\n",
       "      <td>0.00</td>\n",
       "      <td>0.00</td>\n",
       "    </tr>\n",
       "  </tbody>\n",
       "</table>\n",
       "</div>"
      ],
      "text/plain": [
       "4                 DATE  TriCities  Prosser  Othello\n",
       "5  2022-08-18 00:00:00       0.00     0.00     0.00\n",
       "6  2022-08-19 00:00:00       0.00     0.00     0.00\n",
       "7  2022-08-20 00:00:00       0.01     0.02     0.01\n",
       "8  2022-08-21 00:00:00       0.00     0.00     0.00\n",
       "9  2022-08-22 00:00:00       0.00     0.00     0.00"
      ]
     },
     "execution_count": 22,
     "metadata": {},
     "output_type": "execute_result"
    }
   ],
   "source": [
    "df_simple = df_simple.rename(columns={\"RAIN 100148 TRICITIES\": \"TriCities\",\n",
    "                          \"RAIN 300033 PROSSER\": \"Prosser\",\n",
    "                         \"RAIN OTHELLO 300122\": \"Othello\"})\n",
    "cols_to_check = ['TriCities', 'Prosser', 'Othello']\n",
    "df_simple[cols_to_check] = df_simple[cols_to_check].replace({'>=':''}, regex=True)\n",
    "df_simple.head()"
   ]
  },
  {
   "cell_type": "code",
   "execution_count": 23,
   "metadata": {},
   "outputs": [
    {
     "name": "stderr",
     "output_type": "stream",
     "text": [
      "C:\\Users\\theox\\AppData\\Local\\Temp/ipykernel_8692/184375368.py:2: FutureWarning: In a future version of pandas all arguments of DataFrame.drop except for the argument 'labels' will be keyword-only\n",
      "  df_simple= df_simple.drop('DATE',1)\n"
     ]
    },
    {
     "data": {
      "text/html": [
       "<div>\n",
       "<style scoped>\n",
       "    .dataframe tbody tr th:only-of-type {\n",
       "        vertical-align: middle;\n",
       "    }\n",
       "\n",
       "    .dataframe tbody tr th {\n",
       "        vertical-align: top;\n",
       "    }\n",
       "\n",
       "    .dataframe thead th {\n",
       "        text-align: right;\n",
       "    }\n",
       "</style>\n",
       "<table border=\"1\" class=\"dataframe\">\n",
       "  <thead>\n",
       "    <tr style=\"text-align: right;\">\n",
       "      <th>4</th>\n",
       "      <th>TriCities</th>\n",
       "      <th>Prosser</th>\n",
       "      <th>Othello</th>\n",
       "    </tr>\n",
       "    <tr>\n",
       "      <th>DATE</th>\n",
       "      <th></th>\n",
       "      <th></th>\n",
       "      <th></th>\n",
       "    </tr>\n",
       "  </thead>\n",
       "  <tbody>\n",
       "    <tr>\n",
       "      <th>2022-08-18</th>\n",
       "      <td>0.00</td>\n",
       "      <td>0.00</td>\n",
       "      <td>0.00</td>\n",
       "    </tr>\n",
       "    <tr>\n",
       "      <th>2022-08-19</th>\n",
       "      <td>0.00</td>\n",
       "      <td>0.00</td>\n",
       "      <td>0.00</td>\n",
       "    </tr>\n",
       "    <tr>\n",
       "      <th>2022-08-20</th>\n",
       "      <td>0.01</td>\n",
       "      <td>0.02</td>\n",
       "      <td>0.01</td>\n",
       "    </tr>\n",
       "    <tr>\n",
       "      <th>2022-08-21</th>\n",
       "      <td>0.00</td>\n",
       "      <td>0.00</td>\n",
       "      <td>0.00</td>\n",
       "    </tr>\n",
       "    <tr>\n",
       "      <th>2022-08-22</th>\n",
       "      <td>0.00</td>\n",
       "      <td>0.00</td>\n",
       "      <td>0.00</td>\n",
       "    </tr>\n",
       "  </tbody>\n",
       "</table>\n",
       "</div>"
      ],
      "text/plain": [
       "4           TriCities  Prosser  Othello\n",
       "DATE                                   \n",
       "2022-08-18       0.00     0.00     0.00\n",
       "2022-08-19       0.00     0.00     0.00\n",
       "2022-08-20       0.01     0.02     0.01\n",
       "2022-08-21       0.00     0.00     0.00\n",
       "2022-08-22       0.00     0.00     0.00"
      ]
     },
     "execution_count": 23,
     "metadata": {},
     "output_type": "execute_result"
    }
   ],
   "source": [
    "df_simple.index = pd.to_datetime(df_simple['DATE'], errors = 'coerce')\n",
    "df_simple= df_simple.drop('DATE',1)\n",
    "df_simple.head()"
   ]
  },
  {
   "cell_type": "code",
   "execution_count": 24,
   "metadata": {},
   "outputs": [
    {
     "data": {
      "text/html": [
       "<div>\n",
       "<style scoped>\n",
       "    .dataframe tbody tr th:only-of-type {\n",
       "        vertical-align: middle;\n",
       "    }\n",
       "\n",
       "    .dataframe tbody tr th {\n",
       "        vertical-align: top;\n",
       "    }\n",
       "\n",
       "    .dataframe thead th {\n",
       "        text-align: right;\n",
       "    }\n",
       "</style>\n",
       "<table border=\"1\" class=\"dataframe\">\n",
       "  <thead>\n",
       "    <tr style=\"text-align: right;\">\n",
       "      <th>4</th>\n",
       "      <th>DATE</th>\n",
       "      <th>TriCities</th>\n",
       "      <th>Prosser</th>\n",
       "      <th>Othello</th>\n",
       "    </tr>\n",
       "  </thead>\n",
       "  <tbody>\n",
       "    <tr>\n",
       "      <th>0</th>\n",
       "      <td>8</td>\n",
       "      <td>1</td>\n",
       "      <td>1</td>\n",
       "      <td>1</td>\n",
       "    </tr>\n",
       "    <tr>\n",
       "      <th>1</th>\n",
       "      <td>9</td>\n",
       "      <td>0</td>\n",
       "      <td>2</td>\n",
       "      <td>3</td>\n",
       "    </tr>\n",
       "  </tbody>\n",
       "</table>\n",
       "</div>"
      ],
      "text/plain": [
       "4  DATE  TriCities  Prosser  Othello\n",
       "0     8          1        1        1\n",
       "1     9          0        2        3"
      ]
     },
     "execution_count": 24,
     "metadata": {},
     "output_type": "execute_result"
    }
   ],
   "source": [
    "grouped_forecast = (df_simple).astype(bool).groupby(df_simple.index.month).sum().reset_index()\n",
    "grouped_forecast"
   ]
  },
  {
   "cell_type": "code",
   "execution_count": 25,
   "metadata": {},
   "outputs": [
    {
     "data": {
      "text/html": [
       "<div>\n",
       "<style scoped>\n",
       "    .dataframe tbody tr th:only-of-type {\n",
       "        vertical-align: middle;\n",
       "    }\n",
       "\n",
       "    .dataframe tbody tr th {\n",
       "        vertical-align: top;\n",
       "    }\n",
       "\n",
       "    .dataframe thead th {\n",
       "        text-align: right;\n",
       "    }\n",
       "</style>\n",
       "<table border=\"1\" class=\"dataframe\">\n",
       "  <thead>\n",
       "    <tr style=\"text-align: right;\">\n",
       "      <th></th>\n",
       "      <th>Month</th>\n",
       "      <th>Station</th>\n",
       "      <th>RainyDays</th>\n",
       "    </tr>\n",
       "  </thead>\n",
       "  <tbody>\n",
       "    <tr>\n",
       "      <th>0</th>\n",
       "      <td>8</td>\n",
       "      <td>TriCities</td>\n",
       "      <td>1</td>\n",
       "    </tr>\n",
       "    <tr>\n",
       "      <th>1</th>\n",
       "      <td>9</td>\n",
       "      <td>TriCities</td>\n",
       "      <td>0</td>\n",
       "    </tr>\n",
       "    <tr>\n",
       "      <th>2</th>\n",
       "      <td>8</td>\n",
       "      <td>Prosser</td>\n",
       "      <td>1</td>\n",
       "    </tr>\n",
       "    <tr>\n",
       "      <th>3</th>\n",
       "      <td>9</td>\n",
       "      <td>Prosser</td>\n",
       "      <td>2</td>\n",
       "    </tr>\n",
       "    <tr>\n",
       "      <th>4</th>\n",
       "      <td>8</td>\n",
       "      <td>Othello</td>\n",
       "      <td>1</td>\n",
       "    </tr>\n",
       "    <tr>\n",
       "      <th>5</th>\n",
       "      <td>9</td>\n",
       "      <td>Othello</td>\n",
       "      <td>3</td>\n",
       "    </tr>\n",
       "  </tbody>\n",
       "</table>\n",
       "</div>"
      ],
      "text/plain": [
       "   Month    Station  RainyDays\n",
       "0      8  TriCities          1\n",
       "1      9  TriCities          0\n",
       "2      8    Prosser          1\n",
       "3      9    Prosser          2\n",
       "4      8    Othello          1\n",
       "5      9    Othello          3"
      ]
     },
     "execution_count": 25,
     "metadata": {},
     "output_type": "execute_result"
    }
   ],
   "source": [
    "df_RainyDays = grouped_forecast.melt(id_vars = ['DATE'], value_name = 'RainyDays')\n",
    "df_RainyDays.columns = ['Month', 'Station', 'RainyDays']\n",
    "df_RainyDays"
   ]
  },
  {
   "cell_type": "code",
   "execution_count": 26,
   "metadata": {},
   "outputs": [],
   "source": [
    "#RF_Jul_Othello = np.array(df_RainyDays['RainyDays'][(df_RainyDays['Station']=='Othello') & (df_RainyDays['Month'] ==7)])\n",
    "#RF_Jul_Prosser = np.array(df_RainyDays['RainyDays'][(df_RainyDays['Station']=='Prosser') & (df_RainyDays['Month'] ==7)])\n",
    "#RF_Jul_Tricities = np.array(df_RainyDays['RainyDays'][(df_RainyDays['Station']=='TriCities') & (df_RainyDays['Month'] ==7)])\n",
    "RF_Aug_Othello = np.array(df_RainyDays['RainyDays'][(df_RainyDays['Station']=='Othello') & (df_RainyDays['Month'] ==8)])\n",
    "RF_Aug_Prosser = np.array(df_RainyDays['RainyDays'][(df_RainyDays['Station']=='Prosser') & (df_RainyDays['Month'] ==8)])\n",
    "RF_Aug_Tricities = np.array(df_RainyDays['RainyDays'][(df_RainyDays['Station']=='TriCities') & (df_RainyDays['Month'] ==8)])"
   ]
  },
  {
   "cell_type": "code",
   "execution_count": 27,
   "metadata": {},
   "outputs": [],
   "source": [
    "RF_Jul_Othello = 0\n",
    "RF_Jul_Prosser = 0\n",
    "RF_Jul_Tricities = 0\n",
    "#RF_Aug_Othello = 0\n",
    "#RF_Aug_Prosser = 0\n",
    "#RF_Aug_Tricities = 0"
   ]
  },
  {
   "cell_type": "markdown",
   "metadata": {},
   "source": [
    "**Calculate diease probablilty for each location based on logistic regression equation**"
   ]
  },
  {
   "cell_type": "markdown",
   "metadata": {},
   "source": [
    "#### Model 2: logistic regression"
   ]
  },
  {
   "cell_type": "markdown",
   "metadata": {},
   "source": [
    "- **Othello**"
   ]
  },
  {
   "cell_type": "markdown",
   "metadata": {},
   "source": [
    "> $lf = 4.960 - 3.084(Y_p) - 0.273(R_{am}) - 0.129(R_{ja})$"
   ]
  },
  {
   "cell_type": "code",
   "execution_count": 28,
   "metadata": {},
   "outputs": [
    {
     "name": "stdout",
     "output_type": "stream",
     "text": [
      "[-2.237]\n",
      "Probability of late blight occurence in Othello:\n",
      "[0.90352327]\n"
     ]
    }
   ],
   "source": [
    "lf_Othello = 4.960 - 3.084*0 - 0.273*(RD_Apr_Othello+RD_May_Othello) - 0.129*(RD_Jul_Othello+RD_Aug_Othello+RF_Jul_Othello + RF_Aug_Othello) \n",
    "print(lf_Othello)\n",
    "Prob_Othello = 1 / (1 + np.exp(lf_Othello))\n",
    "print('Probability of late blight occurence in Othello:')\n",
    "print(Prob_Othello)"
   ]
  },
  {
   "cell_type": "markdown",
   "metadata": {},
   "source": [
    "- **Prosser**"
   ]
  },
  {
   "cell_type": "markdown",
   "metadata": {},
   "source": [
    "> $lf = 11.513 - 3.894(Y_p) - 0.719(R_{am}) - 0.259(R_{ja})$"
   ]
  },
  {
   "cell_type": "markdown",
   "metadata": {},
   "source": [
    "> where:\n",
    "\n",
    "> $Y_p$: late blight outbreak during the preceding year:\n",
    "$$  \n",
    "Y_p\n",
    "\\begin{cases}\n",
    "  \\text{late blight absent in previous year/ no} = 0 \\\\    \n",
    "  \\text{late blight present in previous year/ yes} = 1 \n",
    "\\end{cases}\n",
    "$$\n",
    "> $R_{am}$: number of days with rain >= 0.25 mm during April and May\n",
    "\n",
    "> $R_{ja}$: number of days with rain > = 0.25 during July and August"
   ]
  },
  {
   "cell_type": "code",
   "execution_count": 29,
   "metadata": {},
   "outputs": [
    {
     "name": "stdout",
     "output_type": "stream",
     "text": [
      "[-4.104]\n",
      "Probability of late blight occurence in Prosser:\n",
      "[0.98376152]\n"
     ]
    }
   ],
   "source": [
    "lf_Prosser = 11.513 - 3.894*0 - 0.719*(RD_Apr_Prosser+ RD_May_Prosser)- 0.259*(RD_Jul_Prosser+ RD_Aug_Prosser+RF_Jul_Prosser + RF_Aug_Prosser)\n",
    "print(lf_Prosser)\n",
    "Prob_Prosser= 1 / (1 + np.exp(lf_Prosser))\n",
    "print('Probability of late blight occurence in Prosser:')\n",
    "print(Prob_Prosser)"
   ]
  },
  {
   "cell_type": "markdown",
   "metadata": {},
   "source": [
    "- **Tri-Cities**"
   ]
  },
  {
   "cell_type": "markdown",
   "metadata": {},
   "source": [
    "> $lf = 1.716 - 2.844(Y_p) - 0.094(R_{ja})$"
   ]
  },
  {
   "cell_type": "code",
   "execution_count": 30,
   "metadata": {},
   "outputs": [
    {
     "name": "stdout",
     "output_type": "stream",
     "text": [
      "[1.434]\n",
      "Probability of late blight occurence in Tricites:\n",
      "[0.1924762]\n"
     ]
    }
   ],
   "source": [
    "lf_Tricities = 1.716 - 2.844*0 - 0.094*(RD_Jul_Tricities + RD_Aug_Tricities+RF_Jul_Tricities + RF_Aug_Tricities)\n",
    "print(lf_Tricities)\n",
    "Prob_Tricities = 1 / (1 + np.exp(lf_Tricities))\n",
    "print('Probability of late blight occurence in Tricites:')\n",
    "print(Prob_Tricities)"
   ]
  },
  {
   "cell_type": "markdown",
   "metadata": {},
   "source": [
    "**C**"
   ]
  },
  {
   "cell_type": "code",
   "execution_count": 200,
   "metadata": {},
   "outputs": [
    {
     "name": "stdin",
     "output_type": "stream",
     "text": [
      "What is the probability of late blight occurrence in the Columbia Basin of Washington?\n",
      "                  A) <50% \n",
      "                  B) >50% \n",
      " a\n"
     ]
    }
   ],
   "source": [
    "while True:\n",
    "    try:\n",
    "        \n",
    "    # Request user input\n",
    "        C = input(\"What is the probability of late blight occurrence in the Columbia Basin of Washington?\\n \\\n",
    "                 A) <50% \\n \\\n",
    "                 B) >50% \\n\")\n",
    "        C = C.upper()\n",
    "    # If Risk Factor (RF) C is option \"A\"\n",
    "        if (C == \"A\") :\n",
    "        # Set RF to 0\n",
    "            C = 0\n",
    "            break\n",
    "    # Else, RF is \"B\" and\n",
    "        elif (C == \"B\"):\n",
    "        # Set it to 30\n",
    "            C = 4\n",
    "            break\n",
    "    #Else, RF is no of the above return warning\n",
    "        else: \n",
    "            print('Please, Enter the valid option!!')\n",
    "    except ValueError:\n",
    "        # Break\n",
    "        break"
   ]
  },
  {
   "cell_type": "markdown",
   "metadata": {},
   "source": [
    "**D**"
   ]
  },
  {
   "cell_type": "code",
   "execution_count": 201,
   "metadata": {},
   "outputs": [
    {
     "name": "stdin",
     "output_type": "stream",
     "text": [
      "What is the date?\n",
      "                  A) December through April \n",
      "                  B) May, July - November \n",
      "                  C) June \n",
      " b\n"
     ]
    }
   ],
   "source": [
    "while True:\n",
    "    try:\n",
    "    # Request user input\n",
    "        D = input(\"What is the date?\\n \\\n",
    "                 A) December through April \\n \\\n",
    "                 B) May, July - November \\n \\\n",
    "                 C) June \\n\")\n",
    "        D = D.upper()\n",
    "    # If Risk Factor (RF) D is option \"A\"\n",
    "        if (D == \"A\") :\n",
    "        # Set RF to 0\n",
    "            D = 0\n",
    "            break\n",
    "    # Else, if RF is \"B\" and\n",
    "        elif (D == \"B\"):\n",
    "        # Set it to 1\n",
    "            D = 1\n",
    "            break\n",
    "    # Else, RF is \"C\" and\n",
    "        elif (D == \"C\"):\n",
    "        # Set it to 3J\n",
    "            D = 3J\n",
    "            break\n",
    "    #Else, RF is no of the above return warning\n",
    "        else: \n",
    "            print('Please, Enter the valid option!!')\n",
    "    except ValueError:\n",
    "        # Break\n",
    "        break"
   ]
  },
  {
   "cell_type": "markdown",
   "metadata": {},
   "source": [
    "**E**"
   ]
  },
  {
   "cell_type": "code",
   "execution_count": 202,
   "metadata": {},
   "outputs": [
    {
     "name": "stdin",
     "output_type": "stream",
     "text": [
      "How many rainy days are expected to occur within the next 7 days?\n",
      "                  A) 0 rainy days expected \n",
      "                  B) 1 rainy days expected \n",
      "                  C) 2 rainy days expected \n",
      "                  D) 3 or more rainy days expected\n",
      " b\n"
     ]
    }
   ],
   "source": [
    "while True:\n",
    "    try:\n",
    "    # Request user input\n",
    "        E = input(\"How many rainy days are expected to occur within the next 7 days?\\n \\\n",
    "                 A) 0 rainy days expected \\n \\\n",
    "                 B) 1 rainy days expected \\n \\\n",
    "                 C) 2 rainy days expected \\n \\\n",
    "                 D) 3 or more rainy days expected\\n\")\n",
    "        E = E.upper()\n",
    "    # If Risk Factor (RF) E is option \"A\"\n",
    "        if (E == \"A\") :\n",
    "        # Set RF to 1\n",
    "            E = 1\n",
    "            break\n",
    "    # Else, if RF is \"B\" and\n",
    "        elif (E == \"B\"):\n",
    "        # Set it to 2\n",
    "            E = 2\n",
    "            break\n",
    "    # Else, if RF is \"C\" and\n",
    "        elif (E == \"C\"):\n",
    "        # Set it to 4\n",
    "            E = 4\n",
    "            break\n",
    "    # Else, if RF is \"C\" and\n",
    "        elif (E == \"D\"):\n",
    "        # Set it to 5\n",
    "            E = 5\n",
    "            break\n",
    "    #Else, RF is no of the above return warning\n",
    "        else: \n",
    "            print('Please, Enter the valid option!!')\n",
    "    except ValueError:\n",
    "        # Break\n",
    "        break"
   ]
  },
  {
   "cell_type": "markdown",
   "metadata": {},
   "source": [
    "**Calculate Risk factor**"
   ]
  },
  {
   "cell_type": "code",
   "execution_count": null,
   "metadata": {},
   "outputs": [],
   "source": [
    "Risk = A*B*C*D*E\n",
    "print(Risk)"
   ]
  },
  {
   "cell_type": "markdown",
   "metadata": {},
   "source": [
    "**Recommendation for the growers**"
   ]
  },
  {
   "cell_type": "code",
   "execution_count": 204,
   "metadata": {},
   "outputs": [
    {
     "name": "stdout",
     "output_type": "stream",
     "text": [
      "Recommendation: Late blight is not likely, fungicide application is not recommended. Dispose of all cull or refuse tubers and manage volunteer potato plants, especially in fields were late blight occurred the last two years. Monitor fields for late blight on regular bases.\n"
     ]
    }
   ],
   "source": [
    "Risk = Risk.imag if type(Risk) == complex else Risk#change to imagery number is Risk is complex number\n",
    "\n",
    "if Risk == 0:\n",
    "    print('Recommendation: Late blight is not likely, fungicide application is not recommended. Dispose of all cull or refuse tubers and manage volunteer potato plants, especially in fields were late blight occurred the last two years. Monitor fields for late blight on regular bases.')\n",
    "\n",
    "elif Risk >=1 and Risk <3:\n",
    "    print('Recommendation: Late blight is not likely, fungicide application is not recommended. Dispose of all cull or refuse tubers and manage volunteer potato plants, especially in fields were late blight occurred the last two years. Monitor fields for late blight. Monitor fields for late blight on regular bases.')\n",
    "\n",
    "elif Risk == 3:\n",
    "    print('Recommendation: Apply fungicides on a 10-14 day schedule through July 4. Dispose of all cull or refuse tubers and manage volunteer potato plants, especially in fields were late blight occurred the last two years. Monitor fields for late blight. Monitor fields for late blight on regular bases.')\n",
    "\n",
    "elif Risk == 6: \n",
    "    print('Recommendation: Apply fungicides on a 10 day schedule through July 4. Dispose of all cull or refuse tubers and manage volunteer potato plants, especially in fields were late blight occurred the last two years. Monitor fields for late blight. Monitor fields for late blight on regular bases.')\n",
    "\n",
    "elif Risk >= 4 and Risk <6:\n",
    "    print('Recommendation:  Apply late blight fungicide before any rainy period. Dispose of all cull or refuse tubers and manage volunteer potato plants, especially in fields were late blight occurred the last two years. Monitor fields for late blight. Monitor fields for late blight on regular bases.')\n",
    "\n",
    "\n",
    "elif Risk >=8 and Risk <11:\n",
    "    print('Apply late blight fungicide before any rainy periods and continue for 3 wks. Dispose of all cull or refuse tubers and manage volunteer potato plants, especially in fields were late blight occurred the last two years. Monitor fields for late blight. Monitor fields for late blight on regular bases.')\n",
    "\n",
    "elif Risk == 12:\n",
    "    print('Recommendation: Apply fungicides on a 7-10 day schedule and before any rainy periods through July 4. Dispose of all cull or refuse tubers and manage volunteer potato plants, especially in fields were late blight occurred the last two years. Monitor fields for late blight. Monitor fields for late blight on regular bases.')\n",
    "\n",
    "elif Risk >=15 and Risk <30:\n",
    "    print('Recommendation: Apply fungicides on a 7 day schedule and before any rainy periods through July 4. Dispose of all cull or refuse tubers and manage volunteer potato plants, especially in fields were late blight occurred the last two years. Monitor fields for late blight. Monitor fields for late blight on regular bases.')\n",
    "    \n",
    "elif Risk >= 30:\n",
    "    print('Recommendataion: Confirm occurrence of late blight. If present, apply late blight fungicides on a 5 to 7 day schedule and continue until harvest. Avoid over watering and irrigation during and just after rainy, cool and cloudy weather. Harvest during dry weather. Sort out rotten tubers going into storage. Consult literature on recommendations for management of late blight in the field during late season in infected tubers in storage. ')\n",
    "\n",
    "else:\n",
    "    print('Oops!!')"
   ]
  },
  {
   "cell_type": "markdown",
   "metadata": {},
   "source": [
    "## Graveyard"
   ]
  },
  {
   "cell_type": "markdown",
   "metadata": {},
   "source": [
    "**Rainy days for April**"
   ]
  },
  {
   "cell_type": "code",
   "execution_count": 4,
   "metadata": {},
   "outputs": [],
   "source": [
    "os.chdir('C:/Users/sudha.gcupadhaya/Desktop/LateBlight/Forecasts/2021/Monthly')\n",
    "df_othello = pd.read_csv('Othello.csv')\n",
    "df_prosser = pd.read_csv('Prosser.csv')\n",
    "df_tricities = pd.read_csv('Tricities.csv')"
   ]
  },
  {
   "cell_type": "code",
   "execution_count": 5,
   "metadata": {},
   "outputs": [],
   "source": [
    "df_othello['Station'] = 'Othello'\n",
    "df_prosser['Station'] = 'Prosser'\n",
    "df_tricities['Station'] = 'Tricities'"
   ]
  },
  {
   "cell_type": "code",
   "execution_count": 6,
   "metadata": {},
   "outputs": [
    {
     "data": {
      "text/html": [
       "<div>\n",
       "<style scoped>\n",
       "    .dataframe tbody tr th:only-of-type {\n",
       "        vertical-align: middle;\n",
       "    }\n",
       "\n",
       "    .dataframe tbody tr th {\n",
       "        vertical-align: top;\n",
       "    }\n",
       "\n",
       "    .dataframe thead th {\n",
       "        text-align: right;\n",
       "    }\n",
       "</style>\n",
       "<table border=\"1\" class=\"dataframe\">\n",
       "  <thead>\n",
       "    <tr style=\"text-align: right;\">\n",
       "      <th></th>\n",
       "      <th>Date</th>\n",
       "      <th>Date.1</th>\n",
       "      <th>Min°F</th>\n",
       "      <th>Avg°F</th>\n",
       "      <th>Max°F</th>\n",
       "      <th>Avg1.5m DP°F</th>\n",
       "      <th>Avg1.5m RH%</th>\n",
       "      <th>Avg1.5m LWu.</th>\n",
       "      <th>AvgDir</th>\n",
       "      <th>Avg Speedmph</th>\n",
       "      <th>2m MaxGustmph</th>\n",
       "      <th>2 in.°F</th>\n",
       "      <th>Min°F.1</th>\n",
       "      <th>Avg°F.1</th>\n",
       "      <th>TotPrecin</th>\n",
       "      <th>TotalSolarRadMJ/m²</th>\n",
       "      <th>EToin</th>\n",
       "      <th>ETrin</th>\n",
       "      <th>Station</th>\n",
       "      <th>Avg2m Atm.PressinHg</th>\n",
       "    </tr>\n",
       "  </thead>\n",
       "  <tbody>\n",
       "    <tr>\n",
       "      <th>0</th>\n",
       "      <td>2021/04/01</td>\n",
       "      <td>1</td>\n",
       "      <td>31.6</td>\n",
       "      <td>50.1</td>\n",
       "      <td>65.7</td>\n",
       "      <td>28.8</td>\n",
       "      <td>45.7</td>\n",
       "      <td>0.0</td>\n",
       "      <td>E</td>\n",
       "      <td>5.0</td>\n",
       "      <td>17.5</td>\n",
       "      <td>NaN</td>\n",
       "      <td>45.6</td>\n",
       "      <td>47.6</td>\n",
       "      <td>0.0</td>\n",
       "      <td>16.87</td>\n",
       "      <td>0.13</td>\n",
       "      <td>0.19</td>\n",
       "      <td>Othello</td>\n",
       "      <td>NaN</td>\n",
       "    </tr>\n",
       "    <tr>\n",
       "      <th>1</th>\n",
       "      <td>2021/04/02</td>\n",
       "      <td>2</td>\n",
       "      <td>33.0</td>\n",
       "      <td>51.7</td>\n",
       "      <td>63.6</td>\n",
       "      <td>32.3</td>\n",
       "      <td>49.9</td>\n",
       "      <td>0.0</td>\n",
       "      <td>E</td>\n",
       "      <td>4.7</td>\n",
       "      <td>14.6</td>\n",
       "      <td>NaN</td>\n",
       "      <td>47.9</td>\n",
       "      <td>49.7</td>\n",
       "      <td>0.0</td>\n",
       "      <td>16.91</td>\n",
       "      <td>0.12</td>\n",
       "      <td>0.16</td>\n",
       "      <td>Othello</td>\n",
       "      <td>NaN</td>\n",
       "    </tr>\n",
       "    <tr>\n",
       "      <th>2</th>\n",
       "      <td>2021/04/03</td>\n",
       "      <td>3</td>\n",
       "      <td>38.5</td>\n",
       "      <td>51.0</td>\n",
       "      <td>62.3</td>\n",
       "      <td>31.9</td>\n",
       "      <td>49.6</td>\n",
       "      <td>0.0</td>\n",
       "      <td>E</td>\n",
       "      <td>4.7</td>\n",
       "      <td>12.8</td>\n",
       "      <td>NaN</td>\n",
       "      <td>27.7</td>\n",
       "      <td>49.4</td>\n",
       "      <td>0.0</td>\n",
       "      <td>14.47</td>\n",
       "      <td>0.12</td>\n",
       "      <td>0.16</td>\n",
       "      <td>Othello</td>\n",
       "      <td>NaN</td>\n",
       "    </tr>\n",
       "    <tr>\n",
       "      <th>3</th>\n",
       "      <td>2021/04/04</td>\n",
       "      <td>4</td>\n",
       "      <td>38.0</td>\n",
       "      <td>49.7</td>\n",
       "      <td>58.5</td>\n",
       "      <td>31.7</td>\n",
       "      <td>51.5</td>\n",
       "      <td>0.0</td>\n",
       "      <td>E</td>\n",
       "      <td>9.3</td>\n",
       "      <td>23.9</td>\n",
       "      <td>NaN</td>\n",
       "      <td>-1.2</td>\n",
       "      <td>47.6</td>\n",
       "      <td>0.0</td>\n",
       "      <td>13.32</td>\n",
       "      <td>0.13</td>\n",
       "      <td>0.19</td>\n",
       "      <td>Othello</td>\n",
       "      <td>NaN</td>\n",
       "    </tr>\n",
       "    <tr>\n",
       "      <th>4</th>\n",
       "      <td>2021/04/05</td>\n",
       "      <td>5</td>\n",
       "      <td>33.5</td>\n",
       "      <td>46.4</td>\n",
       "      <td>58.5</td>\n",
       "      <td>22.0</td>\n",
       "      <td>40.5</td>\n",
       "      <td>0.0</td>\n",
       "      <td>NE</td>\n",
       "      <td>6.7</td>\n",
       "      <td>17.1</td>\n",
       "      <td>NaN</td>\n",
       "      <td>-15.3</td>\n",
       "      <td>44.6</td>\n",
       "      <td>0.0</td>\n",
       "      <td>22.39</td>\n",
       "      <td>0.15</td>\n",
       "      <td>0.21</td>\n",
       "      <td>Othello</td>\n",
       "      <td>NaN</td>\n",
       "    </tr>\n",
       "  </tbody>\n",
       "</table>\n",
       "</div>"
      ],
      "text/plain": [
       "         Date  Date.1  Min°F  Avg°F  Max°F  Avg1.5m DP°F  Avg1.5m RH%  \\\n",
       "0  2021/04/01       1   31.6   50.1   65.7          28.8         45.7   \n",
       "1  2021/04/02       2   33.0   51.7   63.6          32.3         49.9   \n",
       "2  2021/04/03       3   38.5   51.0   62.3          31.9         49.6   \n",
       "3  2021/04/04       4   38.0   49.7   58.5          31.7         51.5   \n",
       "4  2021/04/05       5   33.5   46.4   58.5          22.0         40.5   \n",
       "\n",
       "   Avg1.5m LWu. AvgDir  Avg Speedmph  2m MaxGustmph  2 in.°F  Min°F.1  \\\n",
       "0           0.0      E           5.0           17.5      NaN     45.6   \n",
       "1           0.0      E           4.7           14.6      NaN     47.9   \n",
       "2           0.0      E           4.7           12.8      NaN     27.7   \n",
       "3           0.0      E           9.3           23.9      NaN     -1.2   \n",
       "4           0.0     NE           6.7           17.1      NaN    -15.3   \n",
       "\n",
       "   Avg°F.1  TotPrecin  TotalSolarRadMJ/m²  EToin  ETrin  Station  \\\n",
       "0     47.6        0.0               16.87   0.13   0.19  Othello   \n",
       "1     49.7        0.0               16.91   0.12   0.16  Othello   \n",
       "2     49.4        0.0               14.47   0.12   0.16  Othello   \n",
       "3     47.6        0.0               13.32   0.13   0.19  Othello   \n",
       "4     44.6        0.0               22.39   0.15   0.21  Othello   \n",
       "\n",
       "   Avg2m Atm.PressinHg  \n",
       "0                  NaN  \n",
       "1                  NaN  \n",
       "2                  NaN  \n",
       "3                  NaN  \n",
       "4                  NaN  "
      ]
     },
     "execution_count": 6,
     "metadata": {},
     "output_type": "execute_result"
    }
   ],
   "source": [
    "df_AM = pd.concat([df_othello, df_prosser, df_tricities])\n",
    "df_AM.head()"
   ]
  },
  {
   "cell_type": "code",
   "execution_count": 7,
   "metadata": {},
   "outputs": [
    {
     "name": "stdout",
     "output_type": "stream",
     "text": [
      "(123, 3)\n"
     ]
    },
    {
     "data": {
      "text/html": [
       "<div>\n",
       "<style scoped>\n",
       "    .dataframe tbody tr th:only-of-type {\n",
       "        vertical-align: middle;\n",
       "    }\n",
       "\n",
       "    .dataframe tbody tr th {\n",
       "        vertical-align: top;\n",
       "    }\n",
       "\n",
       "    .dataframe thead th {\n",
       "        text-align: right;\n",
       "    }\n",
       "</style>\n",
       "<table border=\"1\" class=\"dataframe\">\n",
       "  <thead>\n",
       "    <tr style=\"text-align: right;\">\n",
       "      <th></th>\n",
       "      <th>Date</th>\n",
       "      <th>TotPrecin</th>\n",
       "      <th>Station</th>\n",
       "    </tr>\n",
       "  </thead>\n",
       "  <tbody>\n",
       "    <tr>\n",
       "      <th>0</th>\n",
       "      <td>2021/04/01</td>\n",
       "      <td>0.0</td>\n",
       "      <td>Othello</td>\n",
       "    </tr>\n",
       "    <tr>\n",
       "      <th>1</th>\n",
       "      <td>2021/04/02</td>\n",
       "      <td>0.0</td>\n",
       "      <td>Othello</td>\n",
       "    </tr>\n",
       "    <tr>\n",
       "      <th>2</th>\n",
       "      <td>2021/04/03</td>\n",
       "      <td>0.0</td>\n",
       "      <td>Othello</td>\n",
       "    </tr>\n",
       "    <tr>\n",
       "      <th>3</th>\n",
       "      <td>2021/04/04</td>\n",
       "      <td>0.0</td>\n",
       "      <td>Othello</td>\n",
       "    </tr>\n",
       "    <tr>\n",
       "      <th>4</th>\n",
       "      <td>2021/04/05</td>\n",
       "      <td>0.0</td>\n",
       "      <td>Othello</td>\n",
       "    </tr>\n",
       "  </tbody>\n",
       "</table>\n",
       "</div>"
      ],
      "text/plain": [
       "         Date  TotPrecin  Station\n",
       "0  2021/04/01        0.0  Othello\n",
       "1  2021/04/02        0.0  Othello\n",
       "2  2021/04/03        0.0  Othello\n",
       "3  2021/04/04        0.0  Othello\n",
       "4  2021/04/05        0.0  Othello"
      ]
     },
     "execution_count": 7,
     "metadata": {},
     "output_type": "execute_result"
    }
   ],
   "source": [
    "df_AM = df_AM[['Date', 'TotPrecin','Station']]#subset only three columns\n",
    "print(df_AM.shape)\n",
    "df_AM.head()"
   ]
  },
  {
   "cell_type": "markdown",
   "metadata": {},
   "source": [
    "**Calculate no. of days with rainfall event**"
   ]
  },
  {
   "cell_type": "code",
   "execution_count": 26,
   "metadata": {},
   "outputs": [
    {
     "data": {
      "text/html": [
       "<div>\n",
       "<style scoped>\n",
       "    .dataframe tbody tr th:only-of-type {\n",
       "        vertical-align: middle;\n",
       "    }\n",
       "\n",
       "    .dataframe tbody tr th {\n",
       "        vertical-align: top;\n",
       "    }\n",
       "\n",
       "    .dataframe thead th {\n",
       "        text-align: right;\n",
       "    }\n",
       "</style>\n",
       "<table border=\"1\" class=\"dataframe\">\n",
       "  <thead>\n",
       "    <tr style=\"text-align: right;\">\n",
       "      <th></th>\n",
       "      <th>Station</th>\n",
       "      <th>RainyDays</th>\n",
       "    </tr>\n",
       "  </thead>\n",
       "  <tbody>\n",
       "  </tbody>\n",
       "</table>\n",
       "</div>"
      ],
      "text/plain": [
       "Empty DataFrame\n",
       "Columns: [Station, RainyDays]\n",
       "Index: []"
      ]
     },
     "execution_count": 26,
     "metadata": {},
     "output_type": "execute_result"
    }
   ],
   "source": [
    "grouped = df_AM[df_AM['TotPrecin'].astype(bool)].groupby(['Station']).size().reset_index(name = 'RainyDays')#calcuate rainy days for each location\n",
    "grouped"
   ]
  },
  {
   "cell_type": "markdown",
   "metadata": {},
   "source": [
    "**Subset no.of rainy days for each location**"
   ]
  },
  {
   "cell_type": "code",
   "execution_count": 27,
   "metadata": {},
   "outputs": [],
   "source": [
    "RD_April_Othello = np.array(grouped['RainyDays'][(grouped['Station']=='Othello')])\n",
    "RD_April_Prosser = np.array(grouped['RainyDays'][(grouped['Station']=='Prosser')])\n",
    "RD_April_Tricities = np.array(grouped['RainyDays'][(grouped['Station']=='Tricities')])"
   ]
  }
 ],
 "metadata": {
  "kernelspec": {
   "display_name": "Python 3 (ipykernel)",
   "language": "python",
   "name": "python3"
  },
  "language_info": {
   "codemirror_mode": {
    "name": "ipython",
    "version": 3
   },
   "file_extension": ".py",
   "mimetype": "text/x-python",
   "name": "python",
   "nbconvert_exporter": "python",
   "pygments_lexer": "ipython3",
   "version": "3.9.7"
  },
  "toc-autonumbering": false
 },
 "nbformat": 4,
 "nbformat_minor": 4
}
