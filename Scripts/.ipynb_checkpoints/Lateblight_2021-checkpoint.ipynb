{
 "cells": [
  {
   "cell_type": "markdown",
   "metadata": {},
   "source": [
    "# Late blight prediction for the Columbia Basin of Washington"
   ]
  },
  {
   "cell_type": "markdown",
   "metadata": {},
   "source": [
    "# Date: 4/7/2021"
   ]
  },
  {
   "cell_type": "markdown",
   "metadata": {},
   "source": [
    "# Authors:\n",
    "- Original models were developed by Dennis Johnson and colleagues:\n",
    "    - Johnson DA, Alldredge JR, and Vakoch DL. 1996. Potato late blight forecasting models for the semiarid environment of south-central Washington. Phytopathology 86:480-484. https://www.apsnet.org/publications/phytopathology/backissues/Documents/1996Articles/Phyto86n05_480.PDF\n",
    "    - Johnson DA, Alldredge JR, and Hamm PB. 1998. Expansion of potato late blight forecasting models for the Columbia Basin of Washington and Oregon. Plant Dis. 82:642-645. https://apsjournals.apsnet.org/doi/pdfplus/10.1094/PDIS.1998.82.6.642\n",
    "    - Johnson DA, Cummings TF, Abi Ghanem R, and Alldredge JR. 2009. Association of solar irradiance and days of precipitation with incidence of potato late blight in the semiarid environment of the Columbia Basin. Plant Dis. 93:272-280. https://apsjournals.apsnet.org/doi/pdfplus/10.1094/PDIS-93-3-0272\n",
    "    - Johnson DA, and Cummings TF. 2016. In-canopy environment of sprinkler irrigated potato fields as a factor for late blight management in the semiarid environment of the Columbia Basin. Am J. Potato Res: 93:239-252 https://link.springer.com/article/10.1007/s12230-016-9500-1\n",
    "\n",
    "**Script written by: David Linnard Wheeler and Sudha GC Upadhaya**\n",
    "\n",
    "       "
   ]
  },
  {
   "cell_type": "markdown",
   "metadata": {},
   "source": [
    "# Objectives"
   ]
  },
  {
   "cell_type": "markdown",
   "metadata": {},
   "source": [
    "**Predict late blight epidemics in the Columbia Basin of Washington State**"
   ]
  },
  {
   "cell_type": "markdown",
   "metadata": {},
   "source": [
    "# Risk"
   ]
  },
  {
   "cell_type": "markdown",
   "metadata": {},
   "source": [
    "**Risk of late blight is the product of 5 factors**"
   ]
  },
  {
   "cell_type": "markdown",
   "metadata": {},
   "source": [
    "**Risk** = **A** (phenology) $\\cdot$ **B** (occurrence of late blight in field or adjacent fields) $\\cdot$ **C** (probability of late blight occurrence in the Columbia Basin (PROB)) $\\cdot$ **D** (date) $\\cdot$ **E** (number of rainy days expected in the next 7 days)"
   ]
  },
  {
   "cell_type": "markdown",
   "metadata": {},
   "source": [
    "### A (phenology)"
   ]
  },
  {
   "cell_type": "markdown",
   "metadata": {},
   "source": [
    "**Source of information: growers**"
   ]
  },
  {
   "cell_type": "markdown",
   "metadata": {},
   "source": [
    "| Factor level | Factor value |\n",
    "| --- | --- |\n",
    "| Pre-emergence | 0 |\n",
    "| Emergence to before plant closure between rows | 0 |\n",
    "| Plant closure between rows (foliage touching between adjacent rows) | 1 |\n",
    "|Post row closure to harvest | 1 |"
   ]
  },
  {
   "cell_type": "markdown",
   "metadata": {},
   "source": [
    "### B (occurrence of late blight in field or adjacent fields within 5 mile radius)"
   ]
  },
  {
   "cell_type": "markdown",
   "metadata": {},
   "source": [
    "**Source of information: growers**"
   ]
  },
  {
   "cell_type": "markdown",
   "metadata": {},
   "source": [
    "| Factor level | Factor value |\n",
    "| --- | --- |\n",
    "| No | 0 |\n",
    "| Yes | 30 |"
   ]
  },
  {
   "cell_type": "markdown",
   "metadata": {},
   "source": [
    "### C (probability of late blight occurrence in the Columbia Basin (PROB))"
   ]
  },
  {
   "cell_type": "markdown",
   "metadata": {},
   "source": [
    "#### For the logistic regression models, the probability, $P$, of an outbreak is estimated:\n",
    "$$\n",
    "P = \\frac{1}{1 + exp^{lf}}\n",
    "$$"
   ]
  },
  {
   "cell_type": "markdown",
   "metadata": {},
   "source": [
    "> - if \n",
    "$$  \n",
    "P\n",
    "\\begin{cases}\n",
    "  \\geq 0.5 \\rightarrow \\text{ outbreak year} \\\\    \n",
    "  < 0.5 \\rightarrow \\text{ non-outbreak year}\n",
    "\\end{cases}\n",
    "$$"
   ]
  },
  {
   "cell_type": "markdown",
   "metadata": {},
   "source": [
    "| Factor level | Factor value |\n",
    "| --- | --- |\n",
    "| < 50% | 0 |\n",
    "| $\\geq$ 50% | 4 |"
   ]
  },
  {
   "cell_type": "markdown",
   "metadata": {},
   "source": [
    "### D (date)"
   ]
  },
  {
   "cell_type": "markdown",
   "metadata": {},
   "source": [
    "**Source of information: internet**"
   ]
  },
  {
   "cell_type": "markdown",
   "metadata": {},
   "source": [
    "| Factor level | Factor value |\n",
    "| --- | --- |\n",
    "| December - April | 0 |\n",
    "| May, July - November | 1 |\n",
    "| June | 3J |"
   ]
  },
  {
   "cell_type": "markdown",
   "metadata": {},
   "source": [
    "### E (number of rainy days expected in the next 7 days) (> 30% probability)"
   ]
  },
  {
   "cell_type": "markdown",
   "metadata": {},
   "source": [
    "**Source of information: Rain forecasts from Fox Weather LLC. A rain probability of 30% has arbitrarily been used to indicate rain**"
   ]
  },
  {
   "cell_type": "markdown",
   "metadata": {},
   "source": [
    "| Factor level | Factor value |\n",
    "| --- | --- |\n",
    "| 0 rainy days expected | 1 |\n",
    "| 1 rainy days expected | 2 |\n",
    "| 2 rainy days expected| 4 |\n",
    "| 3 or more rainy days expected| 5 |"
   ]
  },
  {
   "cell_type": "code",
   "execution_count": 1,
   "metadata": {},
   "outputs": [],
   "source": [
    "import os\n",
    "import pandas as pd\n",
    "import numpy as np\n",
    "import datetime"
   ]
  },
  {
   "cell_type": "markdown",
   "metadata": {},
   "source": [
    "**A**"
   ]
  },
  {
   "cell_type": "code",
   "execution_count": 44,
   "metadata": {},
   "outputs": [
    {
     "name": "stdin",
     "output_type": "stream",
     "text": [
      "What is the phenology of the potato field?\n",
      "                  A) Pre-emergence\n",
      "                  B) Emergence to before plant closure between rows\n",
      "                  C) Plant closure between rows (foliage touching between adjacent rows)\n",
      "                  D) Post row closure to harvest\n",
      " b\n"
     ]
    }
   ],
   "source": [
    "while True:\n",
    "    try:\n",
    "    # Request user input\n",
    "        A = input(\"What is the phenology of the potato field?\\n \\\n",
    "                 A) Pre-emergence\\n \\\n",
    "                 B) Emergence to before plant closure between rows\\n \\\n",
    "                 C) Plant closure between rows (foliage touching between adjacent rows)\\n \\\n",
    "                 D) Post row closure to harvest\\n\")\n",
    "        A = A.upper()\n",
    "    # If Risk Factor (RF) A is option \"A\" or option \"B\"\n",
    "        if (A == \"A\") or (A == \"B\"):\n",
    "        # Set RF to 0\n",
    "            A = 0\n",
    "            break\n",
    "    # Else, RF is \"C\" or \"D\" and\n",
    "        elif (A == \"C\") or (A == \"D\"):\n",
    "        # Set it to 1\n",
    "            A = 1\n",
    "            break\n",
    "    #Else, RF is no of the above return warning\n",
    "        else: \n",
    "            print('Please, Enter the valid option!!')  \n",
    "    except ValueError:\n",
    "        # Break\n",
    "        break"
   ]
  },
  {
   "cell_type": "markdown",
   "metadata": {},
   "source": [
    "**B**"
   ]
  },
  {
   "cell_type": "code",
   "execution_count": 45,
   "metadata": {},
   "outputs": [
    {
     "name": "stdin",
     "output_type": "stream",
     "text": [
      "Is late blight present within a 5 mile radius?\n",
      "                  A) No\n",
      "                  B) Yes\n",
      " a\n"
     ]
    }
   ],
   "source": [
    "while True:\n",
    "    try:\n",
    "    # Request user input\n",
    "        B = input(\"Is late blight present within a 5 mile radius?\\n \\\n",
    "                 A) No\\n \\\n",
    "                 B) Yes\\n\")\n",
    "        B = B.upper()\n",
    "    # If Risk Factor (RF) B is option \"A\"\n",
    "        if (B == \"A\") :\n",
    "        # Set RF to 0\n",
    "            B = 0\n",
    "            break\n",
    "    # Else, RF is \"B\" and\n",
    "        elif (B == \"B\"):\n",
    "        # Set it to 30\n",
    "            B = 30\n",
    "            break\n",
    "    #Else, RF is no of the above return warning\n",
    "        else: \n",
    "            print('Please, Enter the valid option!!')\n",
    "    except ValueError:\n",
    "        # Break\n",
    "        break"
   ]
  },
  {
   "cell_type": "markdown",
   "metadata": {},
   "source": [
    "**C**"
   ]
  },
  {
   "cell_type": "markdown",
   "metadata": {},
   "source": [
    "**Rainy days for April**"
   ]
  },
  {
   "cell_type": "code",
   "execution_count": 21,
   "metadata": {},
   "outputs": [],
   "source": [
    "os.chdir('C:/Users/sudha.gcupadhaya/Desktop/LateBlight/Data/2021/Week1/')\n",
    "df_othello = pd.read_csv('Othello.csv')\n",
    "df_prosser = pd.read_csv('Prosser.csv')\n",
    "df_tricities = pd.read_csv('Tricities.csv')"
   ]
  },
  {
   "cell_type": "code",
   "execution_count": 22,
   "metadata": {},
   "outputs": [],
   "source": [
    "df_othello['Station'] = 'Othello'\n",
    "df_prosser['Station'] = 'Prosser'\n",
    "df_tricities['Station'] = 'Tricities'"
   ]
  },
  {
   "cell_type": "code",
   "execution_count": 23,
   "metadata": {},
   "outputs": [
    {
     "data": {
      "text/html": [
       "<div>\n",
       "<style scoped>\n",
       "    .dataframe tbody tr th:only-of-type {\n",
       "        vertical-align: middle;\n",
       "    }\n",
       "\n",
       "    .dataframe tbody tr th {\n",
       "        vertical-align: top;\n",
       "    }\n",
       "\n",
       "    .dataframe thead th {\n",
       "        text-align: right;\n",
       "    }\n",
       "</style>\n",
       "<table border=\"1\" class=\"dataframe\">\n",
       "  <thead>\n",
       "    <tr style=\"text-align: right;\">\n",
       "      <th></th>\n",
       "      <th>Date</th>\n",
       "      <th>Date.1</th>\n",
       "      <th>Min°F</th>\n",
       "      <th>Avg°F</th>\n",
       "      <th>Max°F</th>\n",
       "      <th>Avg1.5m DP°F</th>\n",
       "      <th>Avg1.5m RH%</th>\n",
       "      <th>Avg1.5m LWu.</th>\n",
       "      <th>AvgDir</th>\n",
       "      <th>Avg Speedmph</th>\n",
       "      <th>2m MaxGustmph</th>\n",
       "      <th>2 in.°F</th>\n",
       "      <th>Min°F.1</th>\n",
       "      <th>Avg°F.1</th>\n",
       "      <th>TotPrecin</th>\n",
       "      <th>TotalSolarRadMJ/m²</th>\n",
       "      <th>EToin</th>\n",
       "      <th>ETrin</th>\n",
       "      <th>Station</th>\n",
       "      <th>Avg2m Atm.PressinHg</th>\n",
       "    </tr>\n",
       "  </thead>\n",
       "  <tbody>\n",
       "    <tr>\n",
       "      <th>0</th>\n",
       "      <td>4/1/2021</td>\n",
       "      <td>1</td>\n",
       "      <td>31.6</td>\n",
       "      <td>50.1</td>\n",
       "      <td>65.7</td>\n",
       "      <td>28.8</td>\n",
       "      <td>45.7</td>\n",
       "      <td>0.0</td>\n",
       "      <td>E</td>\n",
       "      <td>5.0</td>\n",
       "      <td>17.5</td>\n",
       "      <td>NaN</td>\n",
       "      <td>45.6</td>\n",
       "      <td>47.6</td>\n",
       "      <td>0</td>\n",
       "      <td>16.87</td>\n",
       "      <td>0.13</td>\n",
       "      <td>0.19</td>\n",
       "      <td>Othello</td>\n",
       "      <td>NaN</td>\n",
       "    </tr>\n",
       "    <tr>\n",
       "      <th>1</th>\n",
       "      <td>4/2/2021</td>\n",
       "      <td>2</td>\n",
       "      <td>33.0</td>\n",
       "      <td>51.7</td>\n",
       "      <td>63.6</td>\n",
       "      <td>32.3</td>\n",
       "      <td>49.9</td>\n",
       "      <td>0.0</td>\n",
       "      <td>E</td>\n",
       "      <td>4.7</td>\n",
       "      <td>14.6</td>\n",
       "      <td>NaN</td>\n",
       "      <td>47.9</td>\n",
       "      <td>49.7</td>\n",
       "      <td>0</td>\n",
       "      <td>16.91</td>\n",
       "      <td>0.12</td>\n",
       "      <td>0.16</td>\n",
       "      <td>Othello</td>\n",
       "      <td>NaN</td>\n",
       "    </tr>\n",
       "    <tr>\n",
       "      <th>2</th>\n",
       "      <td>4/3/2021</td>\n",
       "      <td>3</td>\n",
       "      <td>38.5</td>\n",
       "      <td>51.0</td>\n",
       "      <td>62.3</td>\n",
       "      <td>31.9</td>\n",
       "      <td>49.6</td>\n",
       "      <td>0.0</td>\n",
       "      <td>E</td>\n",
       "      <td>4.7</td>\n",
       "      <td>12.8</td>\n",
       "      <td>NaN</td>\n",
       "      <td>27.7</td>\n",
       "      <td>49.4</td>\n",
       "      <td>0</td>\n",
       "      <td>14.47</td>\n",
       "      <td>0.12</td>\n",
       "      <td>0.16</td>\n",
       "      <td>Othello</td>\n",
       "      <td>NaN</td>\n",
       "    </tr>\n",
       "    <tr>\n",
       "      <th>3</th>\n",
       "      <td>4/4/2021</td>\n",
       "      <td>4</td>\n",
       "      <td>38.0</td>\n",
       "      <td>49.7</td>\n",
       "      <td>58.5</td>\n",
       "      <td>31.7</td>\n",
       "      <td>51.5</td>\n",
       "      <td>0.0</td>\n",
       "      <td>E</td>\n",
       "      <td>9.3</td>\n",
       "      <td>23.9</td>\n",
       "      <td>NaN</td>\n",
       "      <td>-1.2</td>\n",
       "      <td>47.6</td>\n",
       "      <td>0</td>\n",
       "      <td>13.32</td>\n",
       "      <td>0.13</td>\n",
       "      <td>0.19</td>\n",
       "      <td>Othello</td>\n",
       "      <td>NaN</td>\n",
       "    </tr>\n",
       "    <tr>\n",
       "      <th>4</th>\n",
       "      <td>4/5/2021</td>\n",
       "      <td>5</td>\n",
       "      <td>33.5</td>\n",
       "      <td>46.4</td>\n",
       "      <td>58.5</td>\n",
       "      <td>22.0</td>\n",
       "      <td>40.5</td>\n",
       "      <td>0.0</td>\n",
       "      <td>NE</td>\n",
       "      <td>6.7</td>\n",
       "      <td>17.1</td>\n",
       "      <td>NaN</td>\n",
       "      <td>-15.3</td>\n",
       "      <td>44.6</td>\n",
       "      <td>0</td>\n",
       "      <td>22.39</td>\n",
       "      <td>0.15</td>\n",
       "      <td>0.21</td>\n",
       "      <td>Othello</td>\n",
       "      <td>NaN</td>\n",
       "    </tr>\n",
       "  </tbody>\n",
       "</table>\n",
       "</div>"
      ],
      "text/plain": [
       "       Date  Date.1  Min°F  Avg°F  Max°F  Avg1.5m DP°F  Avg1.5m RH%  \\\n",
       "0  4/1/2021       1   31.6   50.1   65.7          28.8         45.7   \n",
       "1  4/2/2021       2   33.0   51.7   63.6          32.3         49.9   \n",
       "2  4/3/2021       3   38.5   51.0   62.3          31.9         49.6   \n",
       "3  4/4/2021       4   38.0   49.7   58.5          31.7         51.5   \n",
       "4  4/5/2021       5   33.5   46.4   58.5          22.0         40.5   \n",
       "\n",
       "   Avg1.5m LWu. AvgDir  Avg Speedmph  2m MaxGustmph  2 in.°F  Min°F.1  \\\n",
       "0           0.0      E           5.0           17.5      NaN     45.6   \n",
       "1           0.0      E           4.7           14.6      NaN     47.9   \n",
       "2           0.0      E           4.7           12.8      NaN     27.7   \n",
       "3           0.0      E           9.3           23.9      NaN     -1.2   \n",
       "4           0.0     NE           6.7           17.1      NaN    -15.3   \n",
       "\n",
       "   Avg°F.1  TotPrecin  TotalSolarRadMJ/m²  EToin  ETrin  Station  \\\n",
       "0     47.6          0               16.87   0.13   0.19  Othello   \n",
       "1     49.7          0               16.91   0.12   0.16  Othello   \n",
       "2     49.4          0               14.47   0.12   0.16  Othello   \n",
       "3     47.6          0               13.32   0.13   0.19  Othello   \n",
       "4     44.6          0               22.39   0.15   0.21  Othello   \n",
       "\n",
       "   Avg2m Atm.PressinHg  \n",
       "0                  NaN  \n",
       "1                  NaN  \n",
       "2                  NaN  \n",
       "3                  NaN  \n",
       "4                  NaN  "
      ]
     },
     "execution_count": 23,
     "metadata": {},
     "output_type": "execute_result"
    }
   ],
   "source": [
    "df_AM = pd.concat([df_othello, df_prosser, df_tricities])\n",
    "df_AM.head()"
   ]
  },
  {
   "cell_type": "code",
   "execution_count": 24,
   "metadata": {},
   "outputs": [
    {
     "name": "stdout",
     "output_type": "stream",
     "text": [
      "(90, 3)\n"
     ]
    },
    {
     "data": {
      "text/html": [
       "<div>\n",
       "<style scoped>\n",
       "    .dataframe tbody tr th:only-of-type {\n",
       "        vertical-align: middle;\n",
       "    }\n",
       "\n",
       "    .dataframe tbody tr th {\n",
       "        vertical-align: top;\n",
       "    }\n",
       "\n",
       "    .dataframe thead th {\n",
       "        text-align: right;\n",
       "    }\n",
       "</style>\n",
       "<table border=\"1\" class=\"dataframe\">\n",
       "  <thead>\n",
       "    <tr style=\"text-align: right;\">\n",
       "      <th></th>\n",
       "      <th>Date</th>\n",
       "      <th>TotPrecin</th>\n",
       "      <th>Station</th>\n",
       "    </tr>\n",
       "  </thead>\n",
       "  <tbody>\n",
       "    <tr>\n",
       "      <th>0</th>\n",
       "      <td>4/1/2021</td>\n",
       "      <td>0</td>\n",
       "      <td>Othello</td>\n",
       "    </tr>\n",
       "    <tr>\n",
       "      <th>1</th>\n",
       "      <td>4/2/2021</td>\n",
       "      <td>0</td>\n",
       "      <td>Othello</td>\n",
       "    </tr>\n",
       "    <tr>\n",
       "      <th>2</th>\n",
       "      <td>4/3/2021</td>\n",
       "      <td>0</td>\n",
       "      <td>Othello</td>\n",
       "    </tr>\n",
       "    <tr>\n",
       "      <th>3</th>\n",
       "      <td>4/4/2021</td>\n",
       "      <td>0</td>\n",
       "      <td>Othello</td>\n",
       "    </tr>\n",
       "    <tr>\n",
       "      <th>4</th>\n",
       "      <td>4/5/2021</td>\n",
       "      <td>0</td>\n",
       "      <td>Othello</td>\n",
       "    </tr>\n",
       "  </tbody>\n",
       "</table>\n",
       "</div>"
      ],
      "text/plain": [
       "       Date  TotPrecin  Station\n",
       "0  4/1/2021          0  Othello\n",
       "1  4/2/2021          0  Othello\n",
       "2  4/3/2021          0  Othello\n",
       "3  4/4/2021          0  Othello\n",
       "4  4/5/2021          0  Othello"
      ]
     },
     "execution_count": 24,
     "metadata": {},
     "output_type": "execute_result"
    }
   ],
   "source": [
    "df_AM = df_AM[['Date', 'TotPrecin','Station']]#subset only three columns\n",
    "print(df_AM.shape)\n",
    "df_AM.head()"
   ]
  },
  {
   "cell_type": "markdown",
   "metadata": {},
   "source": [
    "**Calculate no. of days with rainfall event**"
   ]
  },
  {
   "cell_type": "code",
   "execution_count": 26,
   "metadata": {},
   "outputs": [
    {
     "data": {
      "text/html": [
       "<div>\n",
       "<style scoped>\n",
       "    .dataframe tbody tr th:only-of-type {\n",
       "        vertical-align: middle;\n",
       "    }\n",
       "\n",
       "    .dataframe tbody tr th {\n",
       "        vertical-align: top;\n",
       "    }\n",
       "\n",
       "    .dataframe thead th {\n",
       "        text-align: right;\n",
       "    }\n",
       "</style>\n",
       "<table border=\"1\" class=\"dataframe\">\n",
       "  <thead>\n",
       "    <tr style=\"text-align: right;\">\n",
       "      <th></th>\n",
       "      <th>Station</th>\n",
       "      <th>RainyDays</th>\n",
       "    </tr>\n",
       "  </thead>\n",
       "  <tbody>\n",
       "  </tbody>\n",
       "</table>\n",
       "</div>"
      ],
      "text/plain": [
       "Empty DataFrame\n",
       "Columns: [Station, RainyDays]\n",
       "Index: []"
      ]
     },
     "execution_count": 26,
     "metadata": {},
     "output_type": "execute_result"
    }
   ],
   "source": [
    "grouped = df_AM[df_AM['TotPrecin'].astype(bool)].groupby(['Station']).size().reset_index(name = 'RainyDays')#calcuate rainy days for each location\n",
    "grouped"
   ]
  },
  {
   "cell_type": "markdown",
   "metadata": {},
   "source": [
    "**Subset no.of rainy days for each location**"
   ]
  },
  {
   "cell_type": "code",
   "execution_count": 27,
   "metadata": {},
   "outputs": [],
   "source": [
    "RD_April_Othello = np.array(grouped['RainyDays'][(grouped['Station']=='Othello')])\n",
    "RD_April_Prosser = np.array(grouped['RainyDays'][(grouped['Station']=='Prosser')])\n",
    "RD_April_Tricities = np.array(grouped['RainyDays'][(grouped['Station']=='Tricities')])"
   ]
  },
  {
   "cell_type": "code",
   "execution_count": 28,
   "metadata": {},
   "outputs": [],
   "source": [
    "RD_April_Othello =0\n",
    "RD_April_Prosser = 0\n",
    "RD_April_Tricities= 0"
   ]
  },
  {
   "cell_type": "markdown",
   "metadata": {},
   "source": [
    "### Forecast May and June (Monthly)"
   ]
  },
  {
   "cell_type": "code",
   "execution_count": 29,
   "metadata": {},
   "outputs": [
    {
     "name": "stdout",
     "output_type": "stream",
     "text": [
      "(51, 8)\n"
     ]
    },
    {
     "data": {
      "text/html": [
       "<div>\n",
       "<style scoped>\n",
       "    .dataframe tbody tr th:only-of-type {\n",
       "        vertical-align: middle;\n",
       "    }\n",
       "\n",
       "    .dataframe tbody tr th {\n",
       "        vertical-align: top;\n",
       "    }\n",
       "\n",
       "    .dataframe thead th {\n",
       "        text-align: right;\n",
       "    }\n",
       "</style>\n",
       "<table border=\"1\" class=\"dataframe\">\n",
       "  <thead>\n",
       "    <tr style=\"text-align: right;\">\n",
       "      <th></th>\n",
       "      <th>Title:  30 Day Daily Rain Forecast for Three Stations in Southcentral Washington</th>\n",
       "      <th>Unnamed: 1</th>\n",
       "      <th>Unnamed: 2</th>\n",
       "      <th>Unnamed: 3</th>\n",
       "      <th>Unnamed: 4</th>\n",
       "      <th>Unnamed: 5</th>\n",
       "      <th>Unnamed: 6</th>\n",
       "      <th>Unnamed: 7</th>\n",
       "    </tr>\n",
       "  </thead>\n",
       "  <tbody>\n",
       "    <tr>\n",
       "      <th>4</th>\n",
       "      <td>DATE</td>\n",
       "      <td>Daynmbr</td>\n",
       "      <td>RAIN TRICITIES</td>\n",
       "      <td>TRICITIES</td>\n",
       "      <td>RAIN PROSSER 300033</td>\n",
       "      <td>PROSSER</td>\n",
       "      <td>RAIN OTHELLO 300122</td>\n",
       "      <td>OTHELLO</td>\n",
       "    </tr>\n",
       "    <tr>\n",
       "      <th>5</th>\n",
       "      <td>2021-05-01 00:00:00</td>\n",
       "      <td>NaN</td>\n",
       "      <td>0</td>\n",
       "      <td>TRICITIES</td>\n",
       "      <td>0</td>\n",
       "      <td>PROSSER</td>\n",
       "      <td>0</td>\n",
       "      <td>OTHELLO</td>\n",
       "    </tr>\n",
       "    <tr>\n",
       "      <th>6</th>\n",
       "      <td>2021-05-02 00:00:00</td>\n",
       "      <td>NaN</td>\n",
       "      <td>0</td>\n",
       "      <td>TRICITIES</td>\n",
       "      <td>0</td>\n",
       "      <td>PROSSER</td>\n",
       "      <td>0</td>\n",
       "      <td>OTHELLO</td>\n",
       "    </tr>\n",
       "    <tr>\n",
       "      <th>7</th>\n",
       "      <td>2021-05-03 00:00:00</td>\n",
       "      <td>NaN</td>\n",
       "      <td>0</td>\n",
       "      <td>TRICITIES</td>\n",
       "      <td>0</td>\n",
       "      <td>PROSSER</td>\n",
       "      <td>0</td>\n",
       "      <td>OTHELLO</td>\n",
       "    </tr>\n",
       "    <tr>\n",
       "      <th>8</th>\n",
       "      <td>2021-05-04 00:00:00</td>\n",
       "      <td>NaN</td>\n",
       "      <td>0</td>\n",
       "      <td>TRICITIES</td>\n",
       "      <td>0</td>\n",
       "      <td>PROSSER</td>\n",
       "      <td>0</td>\n",
       "      <td>OTHELLO</td>\n",
       "    </tr>\n",
       "  </tbody>\n",
       "</table>\n",
       "</div>"
      ],
      "text/plain": [
       "  Title:  30 Day Daily Rain Forecast for Three Stations in Southcentral Washington   \\\n",
       "4                                               DATE                                  \n",
       "5                                2021-05-01 00:00:00                                  \n",
       "6                                2021-05-02 00:00:00                                  \n",
       "7                                2021-05-03 00:00:00                                  \n",
       "8                                2021-05-04 00:00:00                                  \n",
       "\n",
       "  Unnamed: 1      Unnamed: 2 Unnamed: 3           Unnamed: 4 Unnamed: 5  \\\n",
       "4    Daynmbr  RAIN TRICITIES  TRICITIES  RAIN PROSSER 300033    PROSSER   \n",
       "5        NaN               0  TRICITIES                    0    PROSSER   \n",
       "6        NaN               0  TRICITIES                    0    PROSSER   \n",
       "7        NaN               0  TRICITIES                    0    PROSSER   \n",
       "8        NaN               0  TRICITIES                    0    PROSSER   \n",
       "\n",
       "            Unnamed: 6 Unnamed: 7  \n",
       "4  RAIN OTHELLO 300122    OTHELLO  \n",
       "5                    0    OTHELLO  \n",
       "6                    0    OTHELLO  \n",
       "7                    0    OTHELLO  \n",
       "8                    0    OTHELLO  "
      ]
     },
     "execution_count": 29,
     "metadata": {},
     "output_type": "execute_result"
    }
   ],
   "source": [
    "df_forecast = pd.read_excel('C:/Users/sudha.gcupadhaya/Desktop/LateBlight/Data/2021/Week1//5-1_6-4.xlsx', engine='openpyxl')\n",
    "print(df_forecast.shape)\n",
    "df_forecast = df_forecast.iloc[4:41]\n",
    "df_forecast.head()"
   ]
  },
  {
   "cell_type": "code",
   "execution_count": 30,
   "metadata": {},
   "outputs": [
    {
     "data": {
      "text/html": [
       "<div>\n",
       "<style scoped>\n",
       "    .dataframe tbody tr th:only-of-type {\n",
       "        vertical-align: middle;\n",
       "    }\n",
       "\n",
       "    .dataframe tbody tr th {\n",
       "        vertical-align: top;\n",
       "    }\n",
       "\n",
       "    .dataframe thead th {\n",
       "        text-align: right;\n",
       "    }\n",
       "</style>\n",
       "<table border=\"1\" class=\"dataframe\">\n",
       "  <thead>\n",
       "    <tr style=\"text-align: right;\">\n",
       "      <th>4</th>\n",
       "      <th>DATE</th>\n",
       "      <th>Daynmbr</th>\n",
       "      <th>RAIN TRICITIES</th>\n",
       "      <th>TRICITIES</th>\n",
       "      <th>RAIN PROSSER 300033</th>\n",
       "      <th>PROSSER</th>\n",
       "      <th>RAIN OTHELLO 300122</th>\n",
       "      <th>OTHELLO</th>\n",
       "    </tr>\n",
       "  </thead>\n",
       "  <tbody>\n",
       "    <tr>\n",
       "      <th>5</th>\n",
       "      <td>2021-05-01 00:00:00</td>\n",
       "      <td>NaN</td>\n",
       "      <td>0</td>\n",
       "      <td>TRICITIES</td>\n",
       "      <td>0</td>\n",
       "      <td>PROSSER</td>\n",
       "      <td>0</td>\n",
       "      <td>OTHELLO</td>\n",
       "    </tr>\n",
       "    <tr>\n",
       "      <th>6</th>\n",
       "      <td>2021-05-02 00:00:00</td>\n",
       "      <td>NaN</td>\n",
       "      <td>0</td>\n",
       "      <td>TRICITIES</td>\n",
       "      <td>0</td>\n",
       "      <td>PROSSER</td>\n",
       "      <td>0</td>\n",
       "      <td>OTHELLO</td>\n",
       "    </tr>\n",
       "    <tr>\n",
       "      <th>7</th>\n",
       "      <td>2021-05-03 00:00:00</td>\n",
       "      <td>NaN</td>\n",
       "      <td>0</td>\n",
       "      <td>TRICITIES</td>\n",
       "      <td>0</td>\n",
       "      <td>PROSSER</td>\n",
       "      <td>0</td>\n",
       "      <td>OTHELLO</td>\n",
       "    </tr>\n",
       "    <tr>\n",
       "      <th>8</th>\n",
       "      <td>2021-05-04 00:00:00</td>\n",
       "      <td>NaN</td>\n",
       "      <td>0</td>\n",
       "      <td>TRICITIES</td>\n",
       "      <td>0</td>\n",
       "      <td>PROSSER</td>\n",
       "      <td>0</td>\n",
       "      <td>OTHELLO</td>\n",
       "    </tr>\n",
       "    <tr>\n",
       "      <th>9</th>\n",
       "      <td>2021-05-05 00:00:00</td>\n",
       "      <td>NaN</td>\n",
       "      <td>0</td>\n",
       "      <td>TRICITIES</td>\n",
       "      <td>0</td>\n",
       "      <td>PROSSER</td>\n",
       "      <td>0</td>\n",
       "      <td>OTHELLO</td>\n",
       "    </tr>\n",
       "  </tbody>\n",
       "</table>\n",
       "</div>"
      ],
      "text/plain": [
       "4                 DATE Daynmbr RAIN TRICITIES  TRICITIES RAIN PROSSER 300033  \\\n",
       "5  2021-05-01 00:00:00     NaN              0  TRICITIES                   0   \n",
       "6  2021-05-02 00:00:00     NaN              0  TRICITIES                   0   \n",
       "7  2021-05-03 00:00:00     NaN              0  TRICITIES                   0   \n",
       "8  2021-05-04 00:00:00     NaN              0  TRICITIES                   0   \n",
       "9  2021-05-05 00:00:00     NaN              0  TRICITIES                   0   \n",
       "\n",
       "4  PROSSER RAIN OTHELLO 300122  OTHELLO  \n",
       "5  PROSSER                   0  OTHELLO  \n",
       "6  PROSSER                   0  OTHELLO  \n",
       "7  PROSSER                   0  OTHELLO  \n",
       "8  PROSSER                   0  OTHELLO  \n",
       "9  PROSSER                   0  OTHELLO  "
      ]
     },
     "execution_count": 30,
     "metadata": {},
     "output_type": "execute_result"
    }
   ],
   "source": [
    "df_forecast.columns = df_forecast.iloc[0]#rename column\n",
    "df_forecast = df_forecast.drop([4])#drop forth row\n",
    "df_forecast.head()"
   ]
  },
  {
   "cell_type": "code",
   "execution_count": 31,
   "metadata": {},
   "outputs": [
    {
     "data": {
      "text/html": [
       "<div>\n",
       "<style scoped>\n",
       "    .dataframe tbody tr th:only-of-type {\n",
       "        vertical-align: middle;\n",
       "    }\n",
       "\n",
       "    .dataframe tbody tr th {\n",
       "        vertical-align: top;\n",
       "    }\n",
       "\n",
       "    .dataframe thead th {\n",
       "        text-align: right;\n",
       "    }\n",
       "</style>\n",
       "<table border=\"1\" class=\"dataframe\">\n",
       "  <thead>\n",
       "    <tr style=\"text-align: right;\">\n",
       "      <th>4</th>\n",
       "      <th>DATE</th>\n",
       "      <th>RAIN TRICITIES</th>\n",
       "      <th>TRICITIES</th>\n",
       "      <th>RAIN PROSSER 300033</th>\n",
       "      <th>PROSSER</th>\n",
       "      <th>RAIN OTHELLO 300122</th>\n",
       "      <th>OTHELLO</th>\n",
       "    </tr>\n",
       "  </thead>\n",
       "  <tbody>\n",
       "    <tr>\n",
       "      <th>5</th>\n",
       "      <td>2021-05-01 00:00:00</td>\n",
       "      <td>0</td>\n",
       "      <td>TRICITIES</td>\n",
       "      <td>0</td>\n",
       "      <td>PROSSER</td>\n",
       "      <td>0</td>\n",
       "      <td>OTHELLO</td>\n",
       "    </tr>\n",
       "    <tr>\n",
       "      <th>6</th>\n",
       "      <td>2021-05-02 00:00:00</td>\n",
       "      <td>0</td>\n",
       "      <td>TRICITIES</td>\n",
       "      <td>0</td>\n",
       "      <td>PROSSER</td>\n",
       "      <td>0</td>\n",
       "      <td>OTHELLO</td>\n",
       "    </tr>\n",
       "    <tr>\n",
       "      <th>7</th>\n",
       "      <td>2021-05-03 00:00:00</td>\n",
       "      <td>0</td>\n",
       "      <td>TRICITIES</td>\n",
       "      <td>0</td>\n",
       "      <td>PROSSER</td>\n",
       "      <td>0</td>\n",
       "      <td>OTHELLO</td>\n",
       "    </tr>\n",
       "    <tr>\n",
       "      <th>8</th>\n",
       "      <td>2021-05-04 00:00:00</td>\n",
       "      <td>0</td>\n",
       "      <td>TRICITIES</td>\n",
       "      <td>0</td>\n",
       "      <td>PROSSER</td>\n",
       "      <td>0</td>\n",
       "      <td>OTHELLO</td>\n",
       "    </tr>\n",
       "    <tr>\n",
       "      <th>9</th>\n",
       "      <td>2021-05-05 00:00:00</td>\n",
       "      <td>0</td>\n",
       "      <td>TRICITIES</td>\n",
       "      <td>0</td>\n",
       "      <td>PROSSER</td>\n",
       "      <td>0</td>\n",
       "      <td>OTHELLO</td>\n",
       "    </tr>\n",
       "  </tbody>\n",
       "</table>\n",
       "</div>"
      ],
      "text/plain": [
       "4                 DATE RAIN TRICITIES  TRICITIES RAIN PROSSER 300033  PROSSER  \\\n",
       "5  2021-05-01 00:00:00              0  TRICITIES                   0  PROSSER   \n",
       "6  2021-05-02 00:00:00              0  TRICITIES                   0  PROSSER   \n",
       "7  2021-05-03 00:00:00              0  TRICITIES                   0  PROSSER   \n",
       "8  2021-05-04 00:00:00              0  TRICITIES                   0  PROSSER   \n",
       "9  2021-05-05 00:00:00              0  TRICITIES                   0  PROSSER   \n",
       "\n",
       "4 RAIN OTHELLO 300122  OTHELLO  \n",
       "5                   0  OTHELLO  \n",
       "6                   0  OTHELLO  \n",
       "7                   0  OTHELLO  \n",
       "8                   0  OTHELLO  \n",
       "9                   0  OTHELLO  "
      ]
     },
     "execution_count": 31,
     "metadata": {},
     "output_type": "execute_result"
    }
   ],
   "source": [
    "df_forecast = df_forecast.loc[:, df_forecast.isnull().mean() < .8]\n",
    "df_forecast.head()"
   ]
  },
  {
   "cell_type": "code",
   "execution_count": 32,
   "metadata": {},
   "outputs": [
    {
     "data": {
      "text/html": [
       "<div>\n",
       "<style scoped>\n",
       "    .dataframe tbody tr th:only-of-type {\n",
       "        vertical-align: middle;\n",
       "    }\n",
       "\n",
       "    .dataframe tbody tr th {\n",
       "        vertical-align: top;\n",
       "    }\n",
       "\n",
       "    .dataframe thead th {\n",
       "        text-align: right;\n",
       "    }\n",
       "</style>\n",
       "<table border=\"1\" class=\"dataframe\">\n",
       "  <thead>\n",
       "    <tr style=\"text-align: right;\">\n",
       "      <th>4</th>\n",
       "      <th>DATE</th>\n",
       "      <th>RAIN TRICITIES</th>\n",
       "      <th>RAIN PROSSER 300033</th>\n",
       "      <th>RAIN OTHELLO 300122</th>\n",
       "    </tr>\n",
       "  </thead>\n",
       "  <tbody>\n",
       "    <tr>\n",
       "      <th>5</th>\n",
       "      <td>2021-05-01 00:00:00</td>\n",
       "      <td>0</td>\n",
       "      <td>0</td>\n",
       "      <td>0</td>\n",
       "    </tr>\n",
       "    <tr>\n",
       "      <th>6</th>\n",
       "      <td>2021-05-02 00:00:00</td>\n",
       "      <td>0</td>\n",
       "      <td>0</td>\n",
       "      <td>0</td>\n",
       "    </tr>\n",
       "    <tr>\n",
       "      <th>7</th>\n",
       "      <td>2021-05-03 00:00:00</td>\n",
       "      <td>0</td>\n",
       "      <td>0</td>\n",
       "      <td>0</td>\n",
       "    </tr>\n",
       "    <tr>\n",
       "      <th>8</th>\n",
       "      <td>2021-05-04 00:00:00</td>\n",
       "      <td>0</td>\n",
       "      <td>0</td>\n",
       "      <td>0</td>\n",
       "    </tr>\n",
       "    <tr>\n",
       "      <th>9</th>\n",
       "      <td>2021-05-05 00:00:00</td>\n",
       "      <td>0</td>\n",
       "      <td>0</td>\n",
       "      <td>0</td>\n",
       "    </tr>\n",
       "  </tbody>\n",
       "</table>\n",
       "</div>"
      ],
      "text/plain": [
       "4                 DATE RAIN TRICITIES RAIN PROSSER 300033 RAIN OTHELLO 300122\n",
       "5  2021-05-01 00:00:00              0                   0                   0\n",
       "6  2021-05-02 00:00:00              0                   0                   0\n",
       "7  2021-05-03 00:00:00              0                   0                   0\n",
       "8  2021-05-04 00:00:00              0                   0                   0\n",
       "9  2021-05-05 00:00:00              0                   0                   0"
      ]
     },
     "execution_count": 32,
     "metadata": {},
     "output_type": "execute_result"
    }
   ],
   "source": [
    "df_simple = df_forecast[[\"DATE\",\"RAIN TRICITIES\",\"RAIN PROSSER 300033\", \"RAIN OTHELLO 300122\"]]\n",
    "df_simple.head()"
   ]
  },
  {
   "cell_type": "code",
   "execution_count": 33,
   "metadata": {},
   "outputs": [
    {
     "data": {
      "text/html": [
       "<div>\n",
       "<style scoped>\n",
       "    .dataframe tbody tr th:only-of-type {\n",
       "        vertical-align: middle;\n",
       "    }\n",
       "\n",
       "    .dataframe tbody tr th {\n",
       "        vertical-align: top;\n",
       "    }\n",
       "\n",
       "    .dataframe thead th {\n",
       "        text-align: right;\n",
       "    }\n",
       "</style>\n",
       "<table border=\"1\" class=\"dataframe\">\n",
       "  <thead>\n",
       "    <tr style=\"text-align: right;\">\n",
       "      <th>4</th>\n",
       "      <th>DATE</th>\n",
       "      <th>TriCities</th>\n",
       "      <th>Prosser</th>\n",
       "      <th>Othello</th>\n",
       "    </tr>\n",
       "  </thead>\n",
       "  <tbody>\n",
       "    <tr>\n",
       "      <th>5</th>\n",
       "      <td>2021-05-01 00:00:00</td>\n",
       "      <td>0</td>\n",
       "      <td>0</td>\n",
       "      <td>0</td>\n",
       "    </tr>\n",
       "    <tr>\n",
       "      <th>6</th>\n",
       "      <td>2021-05-02 00:00:00</td>\n",
       "      <td>0</td>\n",
       "      <td>0</td>\n",
       "      <td>0</td>\n",
       "    </tr>\n",
       "    <tr>\n",
       "      <th>7</th>\n",
       "      <td>2021-05-03 00:00:00</td>\n",
       "      <td>0</td>\n",
       "      <td>0</td>\n",
       "      <td>0</td>\n",
       "    </tr>\n",
       "    <tr>\n",
       "      <th>8</th>\n",
       "      <td>2021-05-04 00:00:00</td>\n",
       "      <td>0</td>\n",
       "      <td>0</td>\n",
       "      <td>0</td>\n",
       "    </tr>\n",
       "    <tr>\n",
       "      <th>9</th>\n",
       "      <td>2021-05-05 00:00:00</td>\n",
       "      <td>0</td>\n",
       "      <td>0</td>\n",
       "      <td>0</td>\n",
       "    </tr>\n",
       "  </tbody>\n",
       "</table>\n",
       "</div>"
      ],
      "text/plain": [
       "4                 DATE TriCities Prosser Othello\n",
       "5  2021-05-01 00:00:00         0       0       0\n",
       "6  2021-05-02 00:00:00         0       0       0\n",
       "7  2021-05-03 00:00:00         0       0       0\n",
       "8  2021-05-04 00:00:00         0       0       0\n",
       "9  2021-05-05 00:00:00         0       0       0"
      ]
     },
     "execution_count": 33,
     "metadata": {},
     "output_type": "execute_result"
    }
   ],
   "source": [
    "df_simple = df_simple.rename(columns={\"RAIN TRICITIES\": \"TriCities\",\n",
    "                          \"RAIN PROSSER 300033\": \"Prosser\",\n",
    "                         \"RAIN OTHELLO 300122\": \"Othello\"})\n",
    "cols_to_check = ['TriCities', 'Prosser', 'Othello']\n",
    "df_simple[cols_to_check] = df_simple[cols_to_check].replace({'>=':''}, regex=True)\n",
    "df_simple.head()"
   ]
  },
  {
   "cell_type": "code",
   "execution_count": 34,
   "metadata": {},
   "outputs": [
    {
     "data": {
      "text/html": [
       "<div>\n",
       "<style scoped>\n",
       "    .dataframe tbody tr th:only-of-type {\n",
       "        vertical-align: middle;\n",
       "    }\n",
       "\n",
       "    .dataframe tbody tr th {\n",
       "        vertical-align: top;\n",
       "    }\n",
       "\n",
       "    .dataframe thead th {\n",
       "        text-align: right;\n",
       "    }\n",
       "</style>\n",
       "<table border=\"1\" class=\"dataframe\">\n",
       "  <thead>\n",
       "    <tr style=\"text-align: right;\">\n",
       "      <th>4</th>\n",
       "      <th>DATE</th>\n",
       "      <th>TriCities</th>\n",
       "      <th>Prosser</th>\n",
       "      <th>Othello</th>\n",
       "    </tr>\n",
       "    <tr>\n",
       "      <th>DATE</th>\n",
       "      <th></th>\n",
       "      <th></th>\n",
       "      <th></th>\n",
       "      <th></th>\n",
       "    </tr>\n",
       "  </thead>\n",
       "  <tbody>\n",
       "    <tr>\n",
       "      <th>2021-05-01</th>\n",
       "      <td>2021-05-01 00:00:00</td>\n",
       "      <td>0</td>\n",
       "      <td>0</td>\n",
       "      <td>0</td>\n",
       "    </tr>\n",
       "    <tr>\n",
       "      <th>2021-05-02</th>\n",
       "      <td>2021-05-02 00:00:00</td>\n",
       "      <td>0</td>\n",
       "      <td>0</td>\n",
       "      <td>0</td>\n",
       "    </tr>\n",
       "    <tr>\n",
       "      <th>2021-05-03</th>\n",
       "      <td>2021-05-03 00:00:00</td>\n",
       "      <td>0</td>\n",
       "      <td>0</td>\n",
       "      <td>0</td>\n",
       "    </tr>\n",
       "    <tr>\n",
       "      <th>2021-05-04</th>\n",
       "      <td>2021-05-04 00:00:00</td>\n",
       "      <td>0</td>\n",
       "      <td>0</td>\n",
       "      <td>0</td>\n",
       "    </tr>\n",
       "    <tr>\n",
       "      <th>2021-05-05</th>\n",
       "      <td>2021-05-05 00:00:00</td>\n",
       "      <td>0</td>\n",
       "      <td>0</td>\n",
       "      <td>0</td>\n",
       "    </tr>\n",
       "  </tbody>\n",
       "</table>\n",
       "</div>"
      ],
      "text/plain": [
       "4                          DATE TriCities Prosser Othello\n",
       "DATE                                                     \n",
       "2021-05-01  2021-05-01 00:00:00         0       0       0\n",
       "2021-05-02  2021-05-02 00:00:00         0       0       0\n",
       "2021-05-03  2021-05-03 00:00:00         0       0       0\n",
       "2021-05-04  2021-05-04 00:00:00         0       0       0\n",
       "2021-05-05  2021-05-05 00:00:00         0       0       0"
      ]
     },
     "execution_count": 34,
     "metadata": {},
     "output_type": "execute_result"
    }
   ],
   "source": [
    "df_simple.index = pd.to_datetime(df_simple['DATE'],format='%m/%d/%y %I:%M%p')\n",
    "df_simple.head()"
   ]
  },
  {
   "cell_type": "code",
   "execution_count": 35,
   "metadata": {},
   "outputs": [
    {
     "data": {
      "text/html": [
       "<div>\n",
       "<style scoped>\n",
       "    .dataframe tbody tr th:only-of-type {\n",
       "        vertical-align: middle;\n",
       "    }\n",
       "\n",
       "    .dataframe tbody tr th {\n",
       "        vertical-align: top;\n",
       "    }\n",
       "\n",
       "    .dataframe thead th {\n",
       "        text-align: right;\n",
       "    }\n",
       "</style>\n",
       "<table border=\"1\" class=\"dataframe\">\n",
       "  <thead>\n",
       "    <tr style=\"text-align: right;\">\n",
       "      <th></th>\n",
       "      <th>TriCities</th>\n",
       "      <th>Prosser</th>\n",
       "      <th>Othello</th>\n",
       "    </tr>\n",
       "    <tr>\n",
       "      <th>DATE</th>\n",
       "      <th></th>\n",
       "      <th></th>\n",
       "      <th></th>\n",
       "    </tr>\n",
       "  </thead>\n",
       "  <tbody>\n",
       "    <tr>\n",
       "      <th>2021-05-01</th>\n",
       "      <td>0.0</td>\n",
       "      <td>0.0</td>\n",
       "      <td>0.0</td>\n",
       "    </tr>\n",
       "    <tr>\n",
       "      <th>2021-05-02</th>\n",
       "      <td>0.0</td>\n",
       "      <td>0.0</td>\n",
       "      <td>0.0</td>\n",
       "    </tr>\n",
       "    <tr>\n",
       "      <th>2021-05-03</th>\n",
       "      <td>0.0</td>\n",
       "      <td>0.0</td>\n",
       "      <td>0.0</td>\n",
       "    </tr>\n",
       "    <tr>\n",
       "      <th>2021-05-04</th>\n",
       "      <td>0.0</td>\n",
       "      <td>0.0</td>\n",
       "      <td>0.0</td>\n",
       "    </tr>\n",
       "    <tr>\n",
       "      <th>2021-05-05</th>\n",
       "      <td>0.0</td>\n",
       "      <td>0.0</td>\n",
       "      <td>0.0</td>\n",
       "    </tr>\n",
       "  </tbody>\n",
       "</table>\n",
       "</div>"
      ],
      "text/plain": [
       "            TriCities  Prosser  Othello\n",
       "DATE                                   \n",
       "2021-05-01        0.0      0.0      0.0\n",
       "2021-05-02        0.0      0.0      0.0\n",
       "2021-05-03        0.0      0.0      0.0\n",
       "2021-05-04        0.0      0.0      0.0\n",
       "2021-05-05        0.0      0.0      0.0"
      ]
     },
     "execution_count": 35,
     "metadata": {},
     "output_type": "execute_result"
    }
   ],
   "source": [
    "df_simple = pd.DataFrame([pd.to_numeric(df_simple[i], downcast=\"float\", errors='coerce') for i in df_simple.columns[1:4]]).T\n",
    "df_simple.head()"
   ]
  },
  {
   "cell_type": "code",
   "execution_count": 36,
   "metadata": {},
   "outputs": [
    {
     "data": {
      "text/html": [
       "<div>\n",
       "<style scoped>\n",
       "    .dataframe tbody tr th:only-of-type {\n",
       "        vertical-align: middle;\n",
       "    }\n",
       "\n",
       "    .dataframe tbody tr th {\n",
       "        vertical-align: top;\n",
       "    }\n",
       "\n",
       "    .dataframe thead th {\n",
       "        text-align: right;\n",
       "    }\n",
       "</style>\n",
       "<table border=\"1\" class=\"dataframe\">\n",
       "  <thead>\n",
       "    <tr style=\"text-align: right;\">\n",
       "      <th></th>\n",
       "      <th>DATE</th>\n",
       "      <th>TriCities</th>\n",
       "      <th>Prosser</th>\n",
       "      <th>Othello</th>\n",
       "    </tr>\n",
       "  </thead>\n",
       "  <tbody>\n",
       "    <tr>\n",
       "      <th>0</th>\n",
       "      <td>5.0</td>\n",
       "      <td>6</td>\n",
       "      <td>7</td>\n",
       "      <td>3</td>\n",
       "    </tr>\n",
       "    <tr>\n",
       "      <th>1</th>\n",
       "      <td>6.0</td>\n",
       "      <td>4</td>\n",
       "      <td>2</td>\n",
       "      <td>2</td>\n",
       "    </tr>\n",
       "  </tbody>\n",
       "</table>\n",
       "</div>"
      ],
      "text/plain": [
       "   DATE  TriCities  Prosser  Othello\n",
       "0   5.0          6        7        3\n",
       "1   6.0          4        2        2"
      ]
     },
     "execution_count": 36,
     "metadata": {},
     "output_type": "execute_result"
    }
   ],
   "source": [
    "df_RainyDays = (df_simple).astype(bool).groupby([df_simple.index.month]).sum().reset_index()\n",
    "df_RainyDays"
   ]
  },
  {
   "cell_type": "code",
   "execution_count": 37,
   "metadata": {},
   "outputs": [
    {
     "data": {
      "text/html": [
       "<div>\n",
       "<style scoped>\n",
       "    .dataframe tbody tr th:only-of-type {\n",
       "        vertical-align: middle;\n",
       "    }\n",
       "\n",
       "    .dataframe tbody tr th {\n",
       "        vertical-align: top;\n",
       "    }\n",
       "\n",
       "    .dataframe thead th {\n",
       "        text-align: right;\n",
       "    }\n",
       "</style>\n",
       "<table border=\"1\" class=\"dataframe\">\n",
       "  <thead>\n",
       "    <tr style=\"text-align: right;\">\n",
       "      <th></th>\n",
       "      <th>Month</th>\n",
       "      <th>Station</th>\n",
       "      <th>RainyDays</th>\n",
       "    </tr>\n",
       "  </thead>\n",
       "  <tbody>\n",
       "    <tr>\n",
       "      <th>0</th>\n",
       "      <td>5.0</td>\n",
       "      <td>TriCities</td>\n",
       "      <td>6</td>\n",
       "    </tr>\n",
       "    <tr>\n",
       "      <th>1</th>\n",
       "      <td>6.0</td>\n",
       "      <td>TriCities</td>\n",
       "      <td>4</td>\n",
       "    </tr>\n",
       "    <tr>\n",
       "      <th>2</th>\n",
       "      <td>5.0</td>\n",
       "      <td>Prosser</td>\n",
       "      <td>7</td>\n",
       "    </tr>\n",
       "    <tr>\n",
       "      <th>3</th>\n",
       "      <td>6.0</td>\n",
       "      <td>Prosser</td>\n",
       "      <td>2</td>\n",
       "    </tr>\n",
       "    <tr>\n",
       "      <th>4</th>\n",
       "      <td>5.0</td>\n",
       "      <td>Othello</td>\n",
       "      <td>3</td>\n",
       "    </tr>\n",
       "    <tr>\n",
       "      <th>5</th>\n",
       "      <td>6.0</td>\n",
       "      <td>Othello</td>\n",
       "      <td>2</td>\n",
       "    </tr>\n",
       "  </tbody>\n",
       "</table>\n",
       "</div>"
      ],
      "text/plain": [
       "   Month    Station  RainyDays\n",
       "0    5.0  TriCities          6\n",
       "1    6.0  TriCities          4\n",
       "2    5.0    Prosser          7\n",
       "3    6.0    Prosser          2\n",
       "4    5.0    Othello          3\n",
       "5    6.0    Othello          2"
      ]
     },
     "execution_count": 37,
     "metadata": {},
     "output_type": "execute_result"
    }
   ],
   "source": [
    "df_RainyDays = df_RainyDays.melt(id_vars = ['DATE'], value_name = 'RainyDays')\n",
    "df_RainyDays.columns = ['Month', 'Station', 'RainyDays']\n",
    "df_RainyDays"
   ]
  },
  {
   "cell_type": "code",
   "execution_count": 38,
   "metadata": {},
   "outputs": [],
   "source": [
    "RF_May_Othello = np.array(df_RainyDays['RainyDays'][(df_RainyDays['Station']=='Othello') & (df_RainyDays['Month'] ==5)])\n",
    "RF_May_Prosser = np.array(df_RainyDays['RainyDays'][(df_RainyDays['Station']=='Prosser') & (df_RainyDays['Month'] ==5)])\n",
    "RF_May_Tricities = np.array(df_RainyDays['RainyDays'][(df_RainyDays['Station']=='TriCities') & (df_RainyDays['Month'] ==5)])"
   ]
  },
  {
   "cell_type": "markdown",
   "metadata": {},
   "source": [
    "**Calculate diease probablilty for each location based on logistic regression equation**"
   ]
  },
  {
   "cell_type": "markdown",
   "metadata": {},
   "source": [
    "#### Model 1: logistic regression"
   ]
  },
  {
   "cell_type": "markdown",
   "metadata": {},
   "source": [
    "- **Othello**"
   ]
  },
  {
   "cell_type": "markdown",
   "metadata": {},
   "source": [
    "> $lf = 4.723 - 3.561(Y_p) - 0.293(R_{am})$"
   ]
  },
  {
   "cell_type": "code",
   "execution_count": 40,
   "metadata": {},
   "outputs": [
    {
     "name": "stdout",
     "output_type": "stream",
     "text": [
      "[0.283]\n",
      "Probability of late blight occurence in Othello:\n",
      "[0.42971844]\n"
     ]
    }
   ],
   "source": [
    "lf_Othello = 4.723 - 3.561*1 - 0.293*(RD_April_Othello + RF_May_Othello)\n",
    "print(lf_Othello)\n",
    "Prob_Othello = 1 / (1 + np.exp(lf_Othello))\n",
    "print('Probability of late blight occurence in Othello:')\n",
    "print(Prob_Othello)"
   ]
  },
  {
   "cell_type": "markdown",
   "metadata": {},
   "source": [
    "- **Prosser**"
   ]
  },
  {
   "cell_type": "markdown",
   "metadata": {},
   "source": [
    "> $lf = 9.252 - 4.004(Y_p) - 0.660(R_{am})$"
   ]
  },
  {
   "cell_type": "markdown",
   "metadata": {},
   "source": [
    "> where:\n",
    "\n",
    "> $Y_p$: late blight outbreak during the preceding year:\n",
    "$$  \n",
    "Y_p\n",
    "\\begin{cases}\n",
    "  \\text{late blight absent in previous year/ no} = 0 \\\\    \n",
    "  \\text{late blight present in previous year/ yes} = 1 \n",
    "\\end{cases}\n",
    "$$\n",
    "> $R_{am}$: number of days with rain >= 0.25 mm during April and May"
   ]
  },
  {
   "cell_type": "code",
   "execution_count": 39,
   "metadata": {},
   "outputs": [
    {
     "name": "stdout",
     "output_type": "stream",
     "text": [
      "[0.628]\n",
      "Probability of late blight occurence in Prosser:\n",
      "[0.34796417]\n"
     ]
    }
   ],
   "source": [
    "lf_Prosser = 9.252 - 4.004*1 - 0.660*(RD_April_Prosser+RF_May_Prosser)\n",
    "print(lf_Prosser)\n",
    "Prob_Prosser= 1 / (1 + np.exp(lf_Prosser))\n",
    "print('Probability of late blight occurence in Prosser:')\n",
    "print(Prob_Prosser)"
   ]
  },
  {
   "cell_type": "markdown",
   "metadata": {},
   "source": [
    "- **Tri-Cities**"
   ]
  },
  {
   "cell_type": "markdown",
   "metadata": {},
   "source": [
    "> $lf = 2.987 - 3.062(Y_p) - 0.163(R_{am})$"
   ]
  },
  {
   "cell_type": "code",
   "execution_count": 41,
   "metadata": {},
   "outputs": [
    {
     "name": "stdout",
     "output_type": "stream",
     "text": [
      "[-1.053]\n",
      "Probability of late blight occurence in Tricites:\n",
      "[0.74135057]\n"
     ]
    }
   ],
   "source": [
    "lf_Tricities = 2.987 - 3.062*1 - 0.163*(RD_April_Tricities + RF_May_Tricities)\n",
    "print(lf_Tricities)\n",
    "Prob_Tricities = 1 / (1 + np.exp(lf_Tricities))\n",
    "print('Probability of late blight occurence in Tricites:')\n",
    "print(Prob_Tricities)"
   ]
  },
  {
   "cell_type": "markdown",
   "metadata": {},
   "source": [
    "**C**"
   ]
  },
  {
   "cell_type": "code",
   "execution_count": 46,
   "metadata": {},
   "outputs": [
    {
     "name": "stdin",
     "output_type": "stream",
     "text": [
      "What is the probability of late blight occurrence in the Columbia Basin of Washington?\n",
      "                  A) <50% \n",
      "                  B) >50% \n",
      " a\n"
     ]
    }
   ],
   "source": [
    "while True:\n",
    "    try:\n",
    "        \n",
    "    # Request user input\n",
    "        C = input(\"What is the probability of late blight occurrence in the Columbia Basin of Washington?\\n \\\n",
    "                 A) <50% \\n \\\n",
    "                 B) >50% \\n\")\n",
    "        C = C.upper()\n",
    "    # If Risk Factor (RF) C is option \"A\"\n",
    "        if (C == \"A\") :\n",
    "        # Set RF to 0\n",
    "            C = 0\n",
    "            break\n",
    "    # Else, RF is \"B\" and\n",
    "        elif (C == \"B\"):\n",
    "        # Set it to 30\n",
    "            C = 4\n",
    "            break\n",
    "    #Else, RF is no of the above return warning\n",
    "        else: \n",
    "            print('Please, Enter the valid option!!')\n",
    "    except ValueError:\n",
    "        # Break\n",
    "        break"
   ]
  },
  {
   "cell_type": "markdown",
   "metadata": {},
   "source": [
    "**D**"
   ]
  },
  {
   "cell_type": "code",
   "execution_count": 47,
   "metadata": {},
   "outputs": [
    {
     "name": "stdin",
     "output_type": "stream",
     "text": [
      "What is the date?\n",
      "                  A) December through April \n",
      "                  B) May, July - November \n",
      "                  C) June \n",
      " b\n"
     ]
    }
   ],
   "source": [
    "while True:\n",
    "    try:\n",
    "    # Request user input\n",
    "        D = input(\"What is the date?\\n \\\n",
    "                 A) December through April \\n \\\n",
    "                 B) May, July - November \\n \\\n",
    "                 C) June \\n\")\n",
    "        D = D.upper()\n",
    "    # If Risk Factor (RF) D is option \"A\"\n",
    "        if (D == \"A\") :\n",
    "        # Set RF to 0\n",
    "            D = 0\n",
    "            break\n",
    "    # Else, if RF is \"B\" and\n",
    "        elif (D == \"B\"):\n",
    "        # Set it to 1\n",
    "            D = 1\n",
    "            break\n",
    "    # Else, RF is \"C\" and\n",
    "        elif (D == \"C\"):\n",
    "        # Set it to 3J\n",
    "            D = 3J\n",
    "            break\n",
    "    #Else, RF is no of the above return warning\n",
    "        else: \n",
    "            print('Please, Enter the valid option!!')\n",
    "    except ValueError:\n",
    "        # Break\n",
    "        break"
   ]
  },
  {
   "cell_type": "markdown",
   "metadata": {},
   "source": [
    "**E**"
   ]
  },
  {
   "cell_type": "code",
   "execution_count": 48,
   "metadata": {},
   "outputs": [
    {
     "name": "stdin",
     "output_type": "stream",
     "text": [
      "How many rainy days are expected to occur within the next 7 days?\n",
      "                  A) 0 rainy days expected \n",
      "                  B) 1 rainy days expected \n",
      "                  C) 2 rainy days expected \n",
      "                  D) 3 or more rainy days expected\n",
      " a\n"
     ]
    }
   ],
   "source": [
    "while True:\n",
    "    try:\n",
    "    # Request user input\n",
    "        E = input(\"How many rainy days are expected to occur within the next 7 days?\\n \\\n",
    "                 A) 0 rainy days expected \\n \\\n",
    "                 B) 1 rainy days expected \\n \\\n",
    "                 C) 2 rainy days expected \\n \\\n",
    "                 D) 3 or more rainy days expected\\n\")\n",
    "        E = E.upper()\n",
    "    # If Risk Factor (RF) E is option \"A\"\n",
    "        if (E == \"A\") :\n",
    "        # Set RF to 1\n",
    "            E = 1\n",
    "            break\n",
    "    # Else, if RF is \"B\" and\n",
    "        elif (E == \"B\"):\n",
    "        # Set it to 2\n",
    "            E = 2\n",
    "            break\n",
    "    # Else, if RF is \"C\" and\n",
    "        elif (E == \"C\"):\n",
    "        # Set it to 4\n",
    "            E = 4\n",
    "            break\n",
    "    # Else, if RF is \"C\" and\n",
    "        elif (E == \"D\"):\n",
    "        # Set it to 5\n",
    "            E = 5\n",
    "            break\n",
    "    #Else, RF is no of the above return warning\n",
    "        else: \n",
    "            print('Please, Enter the valid option!!')\n",
    "    except ValueError:\n",
    "        # Break\n",
    "        break"
   ]
  },
  {
   "cell_type": "markdown",
   "metadata": {},
   "source": [
    "**Calculate Risk factor**"
   ]
  },
  {
   "cell_type": "code",
   "execution_count": 49,
   "metadata": {},
   "outputs": [
    {
     "name": "stdout",
     "output_type": "stream",
     "text": [
      "0\n"
     ]
    }
   ],
   "source": [
    "Risk = A*B*C*D*E\n",
    "print(Risk)"
   ]
  },
  {
   "cell_type": "markdown",
   "metadata": {},
   "source": [
    "**Recommendation for the growers**"
   ]
  },
  {
   "cell_type": "code",
   "execution_count": 50,
   "metadata": {},
   "outputs": [
    {
     "name": "stdout",
     "output_type": "stream",
     "text": [
      "Recommendation: Late blight is not likely, fungicide application is not recommended. Dispose of all cull or refuse tubers and manage volunteer potato plants, especially in fields were late blight occurred the last two years. Monitor fields for late blight on regular bases.\n"
     ]
    }
   ],
   "source": [
    "Risk = Risk.imag if type(Risk) == complex else Risk#change to imagery number is Risk is complex number\n",
    "\n",
    "if Risk == 0:\n",
    "    print('Recommendation: Late blight is not likely, fungicide application is not recommended. Dispose of all cull or refuse tubers and manage volunteer potato plants, especially in fields were late blight occurred the last two years. Monitor fields for late blight on regular bases.')\n",
    "\n",
    "elif Risk >=1 and Risk <3:\n",
    "    print('Recommendation: Late blight is not likely, fungicide application is not recommended. Dispose of all cull or refuse tubers and manage volunteer potato plants, especially in fields were late blight occurred the last two years. Monitor fields for late blight. Monitor fields for late blight on regular bases.')\n",
    "\n",
    "elif Risk == 3:\n",
    "    print('Recommendation: Apply fungicides on a 10-14 day schedule through July 4. Dispose of all cull or refuse tubers and manage volunteer potato plants, especially in fields were late blight occurred the last two years. Monitor fields for late blight. Monitor fields for late blight on regular bases.')\n",
    "\n",
    "elif Risk == 6: \n",
    "    print('Recommendation: Apply fungicides on a 10 day schedule through July 4. Dispose of all cull or refuse tubers and manage volunteer potato plants, especially in fields were late blight occurred the last two years. Monitor fields for late blight. Monitor fields for late blight on regular bases.')\n",
    "\n",
    "elif Risk >= 4 and Risk <6:\n",
    "    print('Recommendation:  Apply late blight fungicide before any rainy period. Dispose of all cull or refuse tubers and manage volunteer potato plants, especially in fields were late blight occurred the last two years. Monitor fields for late blight. Monitor fields for late blight on regular bases.')\n",
    "\n",
    "\n",
    "elif Risk >=8 and Risk <11:\n",
    "    print('Apply late blight fungicide before any rainy periods and continue for 3 wks. Dispose of all cull or refuse tubers and manage volunteer potato plants, especially in fields were late blight occurred the last two years. Monitor fields for late blight. Monitor fields for late blight on regular bases.')\n",
    "\n",
    "elif Risk == 12:\n",
    "    print('Recommendation: Apply fungicides on a 7-10 day schedule and before any rainy periods through July 4. Dispose of all cull or refuse tubers and manage volunteer potato plants, especially in fields were late blight occurred the last two years. Monitor fields for late blight. Monitor fields for late blight on regular bases.')\n",
    "\n",
    "elif Risk >=15 and Risk <30:\n",
    "    print('Recommendation: Apply fungicides on a 7 day schedule and before any rainy periods through July 4. Dispose of all cull or refuse tubers and manage volunteer potato plants, especially in fields were late blight occurred the last two years. Monitor fields for late blight. Monitor fields for late blight on regular bases.')\n",
    "    \n",
    "elif Risk >= 30:\n",
    "    print('Recommendataion: Confirm occurrence of late blight. If present, apply late blight fungicides on a 5 to 7 day schedule and continue until harvest. Avoid over watering and irrigation during and just after rainy, cool and cloudy weather. Harvest during dry weather. Sort out rotten tubers going into storage. Consult literature on recommendations for management of late blight in the field during late season in infected tubers in storage. ')\n",
    "\n",
    "else:\n",
    "    print('Oops!!')"
   ]
  },
  {
   "cell_type": "markdown",
   "metadata": {},
   "source": [
    "## Graveyard"
   ]
  },
  {
   "cell_type": "markdown",
   "metadata": {},
   "source": [
    "#### Both April and May"
   ]
  },
  {
   "cell_type": "code",
   "execution_count": 4,
   "metadata": {},
   "outputs": [],
   "source": [
    "os.chdir('C:/Users/sudha.gcupadhaya/Desktop/LateBlight/Data')\n",
    "df_othello = pd.read_csv('Othello_AM_2020.csv')\n",
    "df_prosser = pd.read_csv('Prosser_AM_2020.csv')\n",
    "df_tricities = pd.read_csv('Tricities_AM_2020.csv')"
   ]
  },
  {
   "cell_type": "code",
   "execution_count": 5,
   "metadata": {},
   "outputs": [],
   "source": [
    "df_othello['Station'] = 'Othello'\n",
    "df_prosser['Station'] = 'Prosser'\n",
    "df_tricities['Station'] = 'Tricities'"
   ]
  },
  {
   "cell_type": "code",
   "execution_count": 6,
   "metadata": {},
   "outputs": [
    {
     "data": {
      "text/html": [
       "<div>\n",
       "<style scoped>\n",
       "    .dataframe tbody tr th:only-of-type {\n",
       "        vertical-align: middle;\n",
       "    }\n",
       "\n",
       "    .dataframe tbody tr th {\n",
       "        vertical-align: top;\n",
       "    }\n",
       "\n",
       "    .dataframe thead th {\n",
       "        text-align: right;\n",
       "    }\n",
       "</style>\n",
       "<table border=\"1\" class=\"dataframe\">\n",
       "  <thead>\n",
       "    <tr style=\"text-align: right;\">\n",
       "      <th></th>\n",
       "      <th>Date</th>\n",
       "      <th>Date.1</th>\n",
       "      <th>Min°C</th>\n",
       "      <th>Avg°C</th>\n",
       "      <th>Max°C</th>\n",
       "      <th>Avg1.5m DP°C</th>\n",
       "      <th>Avg1.5m RH%</th>\n",
       "      <th>Avg1.5m LWu.</th>\n",
       "      <th>AvgDir</th>\n",
       "      <th>Avg Speedm/s</th>\n",
       "      <th>2m MaxGustm/s</th>\n",
       "      <th>5 cm°C</th>\n",
       "      <th>Min°C.1</th>\n",
       "      <th>Avg°C.1</th>\n",
       "      <th>TotPrecmm</th>\n",
       "      <th>TotalSolarRadMJ/m²</th>\n",
       "      <th>ETomm</th>\n",
       "      <th>ETrmm</th>\n",
       "      <th>Station</th>\n",
       "      <th>Avg2m Atm.PresshPa</th>\n",
       "    </tr>\n",
       "  </thead>\n",
       "  <tbody>\n",
       "    <tr>\n",
       "      <th>0</th>\n",
       "      <td>2020/04/01</td>\n",
       "      <td>1</td>\n",
       "      <td>-2.9</td>\n",
       "      <td>3.0</td>\n",
       "      <td>9.5</td>\n",
       "      <td>-2.1</td>\n",
       "      <td>72.0</td>\n",
       "      <td>0.02</td>\n",
       "      <td>W</td>\n",
       "      <td>2.6</td>\n",
       "      <td>7.0</td>\n",
       "      <td>NaN</td>\n",
       "      <td>6.1</td>\n",
       "      <td>7.3</td>\n",
       "      <td>0.0</td>\n",
       "      <td>15.50</td>\n",
       "      <td>1.97</td>\n",
       "      <td>2.64</td>\n",
       "      <td>Othello</td>\n",
       "      <td>NaN</td>\n",
       "    </tr>\n",
       "    <tr>\n",
       "      <th>1</th>\n",
       "      <td>2020/04/02</td>\n",
       "      <td>2</td>\n",
       "      <td>-4.3</td>\n",
       "      <td>3.2</td>\n",
       "      <td>10.2</td>\n",
       "      <td>-6.4</td>\n",
       "      <td>53.2</td>\n",
       "      <td>0.01</td>\n",
       "      <td>W</td>\n",
       "      <td>2.4</td>\n",
       "      <td>7.3</td>\n",
       "      <td>NaN</td>\n",
       "      <td>5.3</td>\n",
       "      <td>6.9</td>\n",
       "      <td>0.0</td>\n",
       "      <td>19.53</td>\n",
       "      <td>2.54</td>\n",
       "      <td>3.50</td>\n",
       "      <td>Othello</td>\n",
       "      <td>NaN</td>\n",
       "    </tr>\n",
       "    <tr>\n",
       "      <th>2</th>\n",
       "      <td>2020/04/03</td>\n",
       "      <td>3</td>\n",
       "      <td>-2.9</td>\n",
       "      <td>3.8</td>\n",
       "      <td>11.1</td>\n",
       "      <td>-5.3</td>\n",
       "      <td>56.7</td>\n",
       "      <td>0.00</td>\n",
       "      <td>SW</td>\n",
       "      <td>4.5</td>\n",
       "      <td>12.8</td>\n",
       "      <td>NaN</td>\n",
       "      <td>5.7</td>\n",
       "      <td>7.2</td>\n",
       "      <td>0.0</td>\n",
       "      <td>19.06</td>\n",
       "      <td>3.07</td>\n",
       "      <td>4.48</td>\n",
       "      <td>Othello</td>\n",
       "      <td>NaN</td>\n",
       "    </tr>\n",
       "    <tr>\n",
       "      <th>3</th>\n",
       "      <td>2020/04/04</td>\n",
       "      <td>4</td>\n",
       "      <td>-3.6</td>\n",
       "      <td>5.0</td>\n",
       "      <td>11.1</td>\n",
       "      <td>-5.4</td>\n",
       "      <td>51.0</td>\n",
       "      <td>0.00</td>\n",
       "      <td>NE</td>\n",
       "      <td>1.7</td>\n",
       "      <td>6.5</td>\n",
       "      <td>NaN</td>\n",
       "      <td>5.6</td>\n",
       "      <td>7.4</td>\n",
       "      <td>0.0</td>\n",
       "      <td>19.59</td>\n",
       "      <td>2.44</td>\n",
       "      <td>3.21</td>\n",
       "      <td>Othello</td>\n",
       "      <td>NaN</td>\n",
       "    </tr>\n",
       "    <tr>\n",
       "      <th>4</th>\n",
       "      <td>2020/04/05</td>\n",
       "      <td>5</td>\n",
       "      <td>3.0</td>\n",
       "      <td>7.4</td>\n",
       "      <td>13.5</td>\n",
       "      <td>1.3</td>\n",
       "      <td>68.3</td>\n",
       "      <td>0.00</td>\n",
       "      <td>N</td>\n",
       "      <td>2.4</td>\n",
       "      <td>6.8</td>\n",
       "      <td>NaN</td>\n",
       "      <td>7.6</td>\n",
       "      <td>8.7</td>\n",
       "      <td>0.0</td>\n",
       "      <td>14.91</td>\n",
       "      <td>2.47</td>\n",
       "      <td>3.33</td>\n",
       "      <td>Othello</td>\n",
       "      <td>NaN</td>\n",
       "    </tr>\n",
       "  </tbody>\n",
       "</table>\n",
       "</div>"
      ],
      "text/plain": [
       "         Date  Date.1  Min°C  Avg°C  Max°C  Avg1.5m DP°C  Avg1.5m RH%  \\\n",
       "0  2020/04/01       1   -2.9    3.0    9.5          -2.1         72.0   \n",
       "1  2020/04/02       2   -4.3    3.2   10.2          -6.4         53.2   \n",
       "2  2020/04/03       3   -2.9    3.8   11.1          -5.3         56.7   \n",
       "3  2020/04/04       4   -3.6    5.0   11.1          -5.4         51.0   \n",
       "4  2020/04/05       5    3.0    7.4   13.5           1.3         68.3   \n",
       "\n",
       "   Avg1.5m LWu. AvgDir  Avg Speedm/s  2m MaxGustm/s  5 cm°C  Min°C.1  Avg°C.1  \\\n",
       "0          0.02      W           2.6            7.0     NaN      6.1      7.3   \n",
       "1          0.01      W           2.4            7.3     NaN      5.3      6.9   \n",
       "2          0.00     SW           4.5           12.8     NaN      5.7      7.2   \n",
       "3          0.00     NE           1.7            6.5     NaN      5.6      7.4   \n",
       "4          0.00      N           2.4            6.8     NaN      7.6      8.7   \n",
       "\n",
       "   TotPrecmm  TotalSolarRadMJ/m²  ETomm  ETrmm  Station  Avg2m Atm.PresshPa  \n",
       "0        0.0               15.50   1.97   2.64  Othello                 NaN  \n",
       "1        0.0               19.53   2.54   3.50  Othello                 NaN  \n",
       "2        0.0               19.06   3.07   4.48  Othello                 NaN  \n",
       "3        0.0               19.59   2.44   3.21  Othello                 NaN  \n",
       "4        0.0               14.91   2.47   3.33  Othello                 NaN  "
      ]
     },
     "execution_count": 6,
     "metadata": {},
     "output_type": "execute_result"
    }
   ],
   "source": [
    "df_AM = pd.concat([df_othello, df_prosser, df_tricities])\n",
    "df_AM.head()"
   ]
  },
  {
   "cell_type": "code",
   "execution_count": 7,
   "metadata": {},
   "outputs": [
    {
     "data": {
      "text/html": [
       "<div>\n",
       "<style scoped>\n",
       "    .dataframe tbody tr th:only-of-type {\n",
       "        vertical-align: middle;\n",
       "    }\n",
       "\n",
       "    .dataframe tbody tr th {\n",
       "        vertical-align: top;\n",
       "    }\n",
       "\n",
       "    .dataframe thead th {\n",
       "        text-align: right;\n",
       "    }\n",
       "</style>\n",
       "<table border=\"1\" class=\"dataframe\">\n",
       "  <thead>\n",
       "    <tr style=\"text-align: right;\">\n",
       "      <th></th>\n",
       "      <th>Date</th>\n",
       "      <th>TotPrecmm</th>\n",
       "      <th>Station</th>\n",
       "      <th>Month</th>\n",
       "    </tr>\n",
       "  </thead>\n",
       "  <tbody>\n",
       "    <tr>\n",
       "      <th>0</th>\n",
       "      <td>2020/04/01</td>\n",
       "      <td>0.0</td>\n",
       "      <td>Othello</td>\n",
       "      <td>4</td>\n",
       "    </tr>\n",
       "    <tr>\n",
       "      <th>1</th>\n",
       "      <td>2020/04/02</td>\n",
       "      <td>0.0</td>\n",
       "      <td>Othello</td>\n",
       "      <td>4</td>\n",
       "    </tr>\n",
       "    <tr>\n",
       "      <th>2</th>\n",
       "      <td>2020/04/03</td>\n",
       "      <td>0.0</td>\n",
       "      <td>Othello</td>\n",
       "      <td>4</td>\n",
       "    </tr>\n",
       "    <tr>\n",
       "      <th>3</th>\n",
       "      <td>2020/04/04</td>\n",
       "      <td>0.0</td>\n",
       "      <td>Othello</td>\n",
       "      <td>4</td>\n",
       "    </tr>\n",
       "    <tr>\n",
       "      <th>4</th>\n",
       "      <td>2020/04/05</td>\n",
       "      <td>0.0</td>\n",
       "      <td>Othello</td>\n",
       "      <td>4</td>\n",
       "    </tr>\n",
       "  </tbody>\n",
       "</table>\n",
       "</div>"
      ],
      "text/plain": [
       "         Date  TotPrecmm  Station  Month\n",
       "0  2020/04/01        0.0  Othello      4\n",
       "1  2020/04/02        0.0  Othello      4\n",
       "2  2020/04/03        0.0  Othello      4\n",
       "3  2020/04/04        0.0  Othello      4\n",
       "4  2020/04/05        0.0  Othello      4"
      ]
     },
     "execution_count": 7,
     "metadata": {},
     "output_type": "execute_result"
    }
   ],
   "source": [
    "df_AM = df_AM[['Date', 'TotPrecmm','Station']]#subset only three columns\n",
    "df_AM['Month']= pd.DatetimeIndex(df_AM['Date']).month#create a new column for month using date \n",
    "df_AM.head()"
   ]
  },
  {
   "cell_type": "code",
   "execution_count": 8,
   "metadata": {},
   "outputs": [
    {
     "data": {
      "text/html": [
       "<div>\n",
       "<style scoped>\n",
       "    .dataframe tbody tr th:only-of-type {\n",
       "        vertical-align: middle;\n",
       "    }\n",
       "\n",
       "    .dataframe tbody tr th {\n",
       "        vertical-align: top;\n",
       "    }\n",
       "\n",
       "    .dataframe thead th {\n",
       "        text-align: right;\n",
       "    }\n",
       "</style>\n",
       "<table border=\"1\" class=\"dataframe\">\n",
       "  <thead>\n",
       "    <tr style=\"text-align: right;\">\n",
       "      <th></th>\n",
       "      <th>Station</th>\n",
       "      <th>Month</th>\n",
       "      <th>RainyDays</th>\n",
       "    </tr>\n",
       "  </thead>\n",
       "  <tbody>\n",
       "    <tr>\n",
       "      <th>0</th>\n",
       "      <td>Othello</td>\n",
       "      <td>4</td>\n",
       "      <td>1</td>\n",
       "    </tr>\n",
       "    <tr>\n",
       "      <th>1</th>\n",
       "      <td>Othello</td>\n",
       "      <td>5</td>\n",
       "      <td>6</td>\n",
       "    </tr>\n",
       "    <tr>\n",
       "      <th>2</th>\n",
       "      <td>Prosser</td>\n",
       "      <td>4</td>\n",
       "      <td>1</td>\n",
       "    </tr>\n",
       "    <tr>\n",
       "      <th>3</th>\n",
       "      <td>Prosser</td>\n",
       "      <td>5</td>\n",
       "      <td>9</td>\n",
       "    </tr>\n",
       "    <tr>\n",
       "      <th>4</th>\n",
       "      <td>Tricities</td>\n",
       "      <td>4</td>\n",
       "      <td>1</td>\n",
       "    </tr>\n",
       "    <tr>\n",
       "      <th>5</th>\n",
       "      <td>Tricities</td>\n",
       "      <td>5</td>\n",
       "      <td>10</td>\n",
       "    </tr>\n",
       "  </tbody>\n",
       "</table>\n",
       "</div>"
      ],
      "text/plain": [
       "     Station  Month  RainyDays\n",
       "0    Othello      4          1\n",
       "1    Othello      5          6\n",
       "2    Prosser      4          1\n",
       "3    Prosser      5          9\n",
       "4  Tricities      4          1\n",
       "5  Tricities      5         10"
      ]
     },
     "execution_count": 8,
     "metadata": {},
     "output_type": "execute_result"
    }
   ],
   "source": [
    "grouped = df_AM[df_AM['TotPrecmm'].astype(bool)].groupby(['Station', 'Month']).size().reset_index(name = 'RainyDays')#calculate rainy days\n",
    "grouped"
   ]
  },
  {
   "cell_type": "code",
   "execution_count": 9,
   "metadata": {},
   "outputs": [],
   "source": [
    "RainDays_April_Othello = np.array(grouped['RainyDays'][(grouped['Station']=='Othello') & (grouped['Month'] ==4)])#extract no.of rainy days for each month and location\n",
    "RainDays_May_Othello = np.array(grouped['RainyDays'][(grouped['Station']=='Othello') & (grouped['Month'] ==5)])\n",
    "RainDays_April_Prosser = np.array(grouped['RainyDays'][(grouped['Station']=='Prosser') & (grouped['Month'] ==4)])\n",
    "RainDays_May_Prosser = np.array(grouped['RainyDays'][(grouped['Station']=='Prosser') & (grouped['Month'] ==5)])\n",
    "RainDays_April_Tricities = np.array(grouped['RainyDays'][(grouped['Station']=='Tricities') & (grouped['Month'] ==4)])\n",
    "RainDays_May_Tricities = np.array(grouped['RainyDays'][(grouped['Station']=='Tricities') & (grouped['Month'] ==5)])"
   ]
  }
 ],
 "metadata": {
  "kernelspec": {
   "display_name": "Python 3",
   "language": "python",
   "name": "python3"
  },
  "language_info": {
   "codemirror_mode": {
    "name": "ipython",
    "version": 3
   },
   "file_extension": ".py",
   "mimetype": "text/x-python",
   "name": "python",
   "nbconvert_exporter": "python",
   "pygments_lexer": "ipython3",
   "version": "3.7.7"
  },
  "toc-autonumbering": false
 },
 "nbformat": 4,
 "nbformat_minor": 4
}
