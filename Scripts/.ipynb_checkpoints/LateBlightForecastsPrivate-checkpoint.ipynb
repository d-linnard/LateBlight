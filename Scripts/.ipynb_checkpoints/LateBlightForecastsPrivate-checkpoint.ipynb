{
 "cells": [
  {
   "cell_type": "markdown",
   "metadata": {},
   "source": [
    "# Late blight prediction for the Columbia Basin of Washington"
   ]
  },
  {
   "cell_type": "markdown",
   "metadata": {},
   "source": [
    "# Date: 3/25/2020"
   ]
  },
  {
   "cell_type": "markdown",
   "metadata": {},
   "source": [
    "# Authors:\n",
    "- Original models were developed by Dennis Johnson and colleagues:\n",
    "    - Johnson DA, Alldredge JR, and Vakoch DL. 1996. Potato late blight forecasting models for the semiarid environment of south-central Washington. Phytopathology 86:480-484. https://www.apsnet.org/publications/phytopathology/backissues/Documents/1996Articles/Phyto86n05_480.PDF\n",
    "    - Johnson DA, Alldredge JR, and Hamm PB. 1998. Expansion of potato late blight forecasting models for the Columbia Basin of Washington and Oregon. Plant Dis. 82:642-645. https://apsjournals.apsnet.org/doi/pdfplus/10.1094/PDIS.1998.82.6.642\n",
    "    - Johnson DA, Cummings TF, Abi Ghanem R, and Alldredge JR. 2009. Association of solar irradiance and days of precipitation with incidence of potato late blight in the semiarid environment of the Columbia Basin. Plant Dis. 93:272-280. https://apsjournals.apsnet.org/doi/pdfplus/10.1094/PDIS-93-3-0272\n",
    "    - Johnson DA, and Cummings TF. 2016. In-canopy environment of sprinkler irrigated potato fields as a factor for late blight management in the semiarid environment of the Columbia Basin. Am J. Potato Res: 93:239-252 https://link.springer.com/article/10.1007/s12230-016-9500-1\n",
    "\n",
    "\n",
    "- This script was written by David Linnard Wheeler\n",
    "       "
   ]
  },
  {
   "cell_type": "markdown",
   "metadata": {},
   "source": [
    "## Growers with whom to collaborate:"
   ]
  },
  {
   "cell_type": "markdown",
   "metadata": {},
   "source": [
    "### East side of Cascades:\n",
    "- **South Basin** – Mike Madsen from AgriNW (mmadsen@agrinw.com) - not confirmed\n",
    "- **Tri-Cities/Grandview Farms, Pasco** - Jack Jensen (Jack.B.Jensen@simplot.com)\n",
    "- **Central Basin** – Grant Morris from Schneider farms (grantmorris@live.com)\n",
    "- **North Basin** – Marvin Wollman from Warden Hutterian Brethren (potatoemaker@gmail.com)\n",
    "- **Moses lake** - Brett Reynolds (bwreynolds@me.com)\n",
    "- **Moses lake** - Heath Gimmestad (heath@friehefarms.com)\n",
    "\n",
    "\n",
    "### West side of Cascades:\n",
    " - **Burlington** - Kraig Knutzen: 360-661-2122 | kraig@knutzenfarms.com"
   ]
  },
  {
   "cell_type": "markdown",
   "metadata": {},
   "source": [
    "# Objectives"
   ]
  },
  {
   "cell_type": "markdown",
   "metadata": {},
   "source": [
    "**Predict late blight epidemics in the Columbia Basin of Washington State**"
   ]
  },
  {
   "cell_type": "markdown",
   "metadata": {},
   "source": [
    "# Procedures"
   ]
  },
  {
   "cell_type": "markdown",
   "metadata": {},
   "source": [
    "## Risk"
   ]
  },
  {
   "cell_type": "markdown",
   "metadata": {},
   "source": [
    "**Risk is the product of 5 factors**"
   ]
  },
  {
   "cell_type": "markdown",
   "metadata": {},
   "source": [
    "**Risk** = **A** (phenology) $\\cdot$ **B** (occurrence of late blight in field or adjacent fields) $\\cdot$ **C** (probability of late blight occurrence in the Columbia Basin (PROB)) $\\cdot$ **D** (date) $\\cdot$ **E** (number of rainy days expected in the next 7 days)"
   ]
  },
  {
   "cell_type": "markdown",
   "metadata": {},
   "source": [
    "### A (phenology)"
   ]
  },
  {
   "cell_type": "markdown",
   "metadata": {},
   "source": [
    "**Source of information: growers**"
   ]
  },
  {
   "cell_type": "markdown",
   "metadata": {},
   "source": [
    "| Factor level | Factor value |\n",
    "| --- | --- |\n",
    "| Pre-emergence | 0 |\n",
    "| Emergence to before plant closure between rows | 0 |\n",
    "| Plant closure between rows (foliage touching between adjacent rows) | 1 |\n",
    "|Post row closure to harvest | 1 |"
   ]
  },
  {
   "cell_type": "markdown",
   "metadata": {},
   "source": [
    "**Notes from Dennis Johnson**:\n",
    "- \"Late blight has never been reported in the Columbia Basin (CB) before plant closure between rows. The canopy environment becomes favorable of late blight after closure between adjacent rows. \n",
    "- Reference: Johnson, D. A. and T.F. Cummings. 2016. In-canopy environment of sprinkler irrigated potato fields as a factor for late blight management in the semiarid environment of the Columbia Basin. Am J. Potato Res: 93:239-252.\"\n"
   ]
  },
  {
   "cell_type": "code",
   "execution_count": 15,
   "metadata": {},
   "outputs": [
    {
     "name": "stdin",
     "output_type": "stream",
     "text": [
      "What is the phenology of the potato field?\n",
      "                  A) Pre-emergence\n",
      "                  B) Emergence to before plant closure between rows\n",
      "                  C) Plant closure between rows (foliage touching between adjacent rows)\n",
      "                  D) Post row closure to harvest\n",
      " A\n"
     ]
    }
   ],
   "source": [
    "while True:\n",
    "    # Request user input\n",
    "    A = input(\"What is the phenology of the potato field?\\n \\\n",
    "                 A) Pre-emergence\\n \\\n",
    "                 B) Emergence to before plant closure between rows\\n \\\n",
    "                 C) Plant closure between rows (foliage touching between adjacent rows)\\n \\\n",
    "                 D) Post row closure to harvest\\n\")\n",
    "    # If Risk Factor (RF) A is option \"A\" or option \"B\"\n",
    "    if (A == \"A\") or (A == \"B\"):\n",
    "        # Set RF to 0\n",
    "        A = 0\n",
    "    # Else, RF is \"C\" or \"D\" and\n",
    "    elif (A == \"C\") or (A == \"D\"):\n",
    "        # Set it to 1\n",
    "        A = 1\n",
    "    # Break\n",
    "    break"
   ]
  },
  {
   "cell_type": "markdown",
   "metadata": {},
   "source": [
    "### B (occurrence of late blight in field or adjacent fields within 5 mile radius)"
   ]
  },
  {
   "cell_type": "markdown",
   "metadata": {},
   "source": [
    "**source of information: growers**"
   ]
  },
  {
   "cell_type": "markdown",
   "metadata": {},
   "source": [
    "| Factor level | Factor value |\n",
    "| --- | --- |\n",
    "| No | 0 |\n",
    "| Yes | 30 |"
   ]
  },
  {
   "cell_type": "markdown",
   "metadata": {},
   "source": [
    "**Notes from Dennis Johnson**: \n",
    "- A high risk value is given if late blight is known to be present. If late blight is present, go directly to recommendations and begin fungicide applications until harvest."
   ]
  },
  {
   "cell_type": "code",
   "execution_count": 17,
   "metadata": {},
   "outputs": [
    {
     "name": "stdin",
     "output_type": "stream",
     "text": [
      "Is late blight present within a 5 mile radius?\n",
      "                  A) No\n",
      "                  B) Yes\n",
      " A\n"
     ]
    }
   ],
   "source": [
    "while True:\n",
    "    # Request user input\n",
    "    B = input(\"Is late blight present within a 5 mile radius?\\n \\\n",
    "                 A) No\\n \\\n",
    "                 B) Yes\\n\")\n",
    "    # If Risk Factor (RF) B is option \"A\"\n",
    "    if (B == \"A\") :\n",
    "        # Set RF to 0\n",
    "        B = 0\n",
    "    # Else, RF is \"B\" and\n",
    "    elif (B == \"B\"):\n",
    "        # Set it to 30\n",
    "        B = 30\n",
    "    # Break\n",
    "    break"
   ]
  },
  {
   "cell_type": "markdown",
   "metadata": {},
   "source": [
    "### C (probability of late blight occurrence in the Columbia Basin (PROB))"
   ]
  },
  {
   "cell_type": "markdown",
   "metadata": {},
   "source": [
    "**Source of information: models**"
   ]
  },
  {
   "cell_type": "markdown",
   "metadata": {},
   "source": [
    "| Factor level | Factor value |\n",
    "| --- | --- |\n",
    "| < 50% | 0 |\n",
    "| $\\geq$ 50% | 4 |"
   ]
  },
  {
   "cell_type": "markdown",
   "metadata": {},
   "source": [
    "- Forecasts generated during the early season (May-July) use models 1\n",
    "- Forecasts generated during the late season (August-September) use models 2"
   ]
  },
  {
   "cell_type": "markdown",
   "metadata": {},
   "source": [
    "#### Models from:\n",
    "- Johnson DA, Alldredge JR, and Hamm PB. 1998. Expansion of potato late blight forecasting models for the Columbia Basin of Washington and Oregon. Plant Dis. 82:642-645. https://apsjournals.apsnet.org/doi/pdfplus/10.1094/PDIS.1998.82.6.642"
   ]
  },
  {
   "cell_type": "markdown",
   "metadata": {},
   "source": [
    "#### Model 1: logistic regression"
   ]
  },
  {
   "cell_type": "markdown",
   "metadata": {},
   "source": [
    "- **Prosser**"
   ]
  },
  {
   "cell_type": "markdown",
   "metadata": {},
   "source": [
    "> $lf = 9.252 - 4.004(Y_p) - 0.660(R_{am})$"
   ]
  },
  {
   "cell_type": "markdown",
   "metadata": {},
   "source": [
    "> where:\n",
    "\n",
    "> $Y_p$: late blight outbreak during the preceding year:\n",
    "$$  \n",
    "Y_p\n",
    "\\begin{cases}\n",
    "  \\text{late blight absent in previous year/ no} = 0 \\\\    \n",
    "  \\text{late blight present in previous year/ yes} = 1 \n",
    "\\end{cases}\n",
    "$$\n",
    "> $R_{am}$: number of days with rain >= 0.25 mm during April and May"
   ]
  },
  {
   "cell_type": "markdown",
   "metadata": {},
   "source": [
    "- **Hermiston**"
   ]
  },
  {
   "cell_type": "markdown",
   "metadata": {},
   "source": [
    "> $lf = 3.744 - 2.856(Y_p) - 0.188(R_{am})$"
   ]
  },
  {
   "cell_type": "markdown",
   "metadata": {},
   "source": [
    "- **Hanford**"
   ]
  },
  {
   "cell_type": "markdown",
   "metadata": {},
   "source": [
    "> $lf = 2.987 - 3.062(Y_p) - 0.163(R_{am})$"
   ]
  },
  {
   "cell_type": "markdown",
   "metadata": {},
   "source": [
    "- **Othello**"
   ]
  },
  {
   "cell_type": "markdown",
   "metadata": {},
   "source": [
    "> $lf = 4.723 - 3.561(Y_p) - 0.293(R_{am})$"
   ]
  },
  {
   "cell_type": "markdown",
   "metadata": {},
   "source": [
    "#### Model 2: logistic regression"
   ]
  },
  {
   "cell_type": "markdown",
   "metadata": {},
   "source": [
    "- **Hermiston**"
   ]
  },
  {
   "cell_type": "markdown",
   "metadata": {},
   "source": [
    "> $lf = 0.730 - 3.195(Y_p) - 0.103(R_{ja})$"
   ]
  },
  {
   "cell_type": "markdown",
   "metadata": {},
   "source": [
    "> where:\n",
    "\n",
    "> $R_{ja}$: number of days with rain > = 0.25 during July and August"
   ]
  },
  {
   "cell_type": "markdown",
   "metadata": {},
   "source": [
    "- **Hanford**"
   ]
  },
  {
   "cell_type": "markdown",
   "metadata": {},
   "source": [
    "> $lf = 1.716 - 2.844(Y_p) - 0.094(R_{ja})$"
   ]
  },
  {
   "cell_type": "markdown",
   "metadata": {},
   "source": [
    "#### Model 3: logistic regression"
   ]
  },
  {
   "cell_type": "markdown",
   "metadata": {},
   "source": [
    "- **Prosser**"
   ]
  },
  {
   "cell_type": "markdown",
   "metadata": {},
   "source": [
    "> $lf = 11.513 - 3.894(Y_p) - 0.719(R_{am}) - 0.259(R_{ja})$"
   ]
  },
  {
   "cell_type": "markdown",
   "metadata": {},
   "source": [
    "- **Othello**"
   ]
  },
  {
   "cell_type": "markdown",
   "metadata": {},
   "source": [
    "> $lf = 4.960 - 3.084(Y_p) - 0.273(R_{am}) - 0.129(R_{ja})$"
   ]
  },
  {
   "cell_type": "markdown",
   "metadata": {},
   "source": [
    "#### For the logistic regression models, the probability, $P$, of an outbreak is estimated:\n",
    "$$\n",
    "P = \\frac{1}{1 + exp^{lf}}\n",
    "$$"
   ]
  },
  {
   "cell_type": "markdown",
   "metadata": {},
   "source": [
    "> where $lf$ is computed from equations 3 or 4."
   ]
  },
  {
   "cell_type": "markdown",
   "metadata": {},
   "source": [
    "> - if \n",
    "$$  \n",
    "P\n",
    "\\begin{cases}\n",
    "  \\geq 0.5 \\rightarrow \\text{ outbreak year} \\\\    \n",
    "  < 0.5 \\rightarrow \\text{ non-outbreak year}\n",
    "\\end{cases}\n",
    "$$"
   ]
  },
  {
   "cell_type": "markdown",
   "metadata": {},
   "source": [
    "**Notes from Dennis Johnson**: \n",
    "- Provide **first forecast** in early May with rainy day data from April and a 30-day forecast for May.\n",
    "- If criteria for the occurrence of a late blight outbreak according to the first discriminant function or the first logistic regression model are met before June 1, a forecast for the potential occurrence of an outbreak could be made earlier. \n",
    "- The second discriminant function or the second logistic regression model could be used through July and August 31 by solving for the value Rja needed for an outbreak to occur and comparing it to the normal and expected occurrences of rainy days during July and August based on weather forecasts.\n",
    "- To estimate the risk of late blight outbreak during a given year, values of each variable are multiplied by their coefficients and added to the constant. \n",
    "    - If the equation for outbreak gives a higher score than the equation for nonoutbreak, then that year is considered a late blight year (outbreak), otherwise no disease is expected (nonoutbreak).\n",
    "- The logistic regression models use the same variables as each of the discriminant functions. They were calculated as an alternative to the discriminant functions to overcome the assumption that the variables have a multivariate normal distribution.\n",
    "- The first discriminant function provided a lower percentage of correct classifications (88%) of outbreak and nonoutbreak years than the second discriminant function (92%), but the second function cannot be used until the end of August. \n",
    "    - The first function can be used starting the first of June. If no late blight has been observed by August 31, then the second function is used. According to 25 years of disease records, late blight outbreaks in the south-central area of Washington occur after June 14.\n",
    "- Use factor 3 if any of the four locations is > 50% PROB. This gives the highest accuracy for prediction (Plant Dis. 82:642-645).\n",
    "- Determine probability of late blight occurrence in the Columbia Basin using logistic regression equations with weather data form four locations. \n",
    "    - Locations are WSU Prosser-Headquarters, WSU Othello, Hanford (use WSU Tri-Cities if Hanford data are not available), Hermiston, OR from the OSE Experiment station.\n"
   ]
  },
  {
   "cell_type": "code",
   "execution_count": 34,
   "metadata": {},
   "outputs": [
    {
     "name": "stdin",
     "output_type": "stream",
     "text": [
      "What is the probability of late blight occurrence in the Columbia Basin of Washington?\n",
      "                  A) <50% \n",
      "                  B) >50% \n",
      " B\n"
     ]
    }
   ],
   "source": [
    "while True:\n",
    "    # Request user input\n",
    "    C = input(\"What is the probability of late blight occurrence in the Columbia Basin of Washington?\\n \\\n",
    "                 A) <50% \\n \\\n",
    "                 B) >50% \\n\")\n",
    "    # If Risk Factor (RF) C is option \"A\"\n",
    "    if (C == \"A\") :\n",
    "        # Set RF to 0\n",
    "        C = 0\n",
    "    # Else, RF is \"B\" and\n",
    "    elif (C == \"B\"):\n",
    "        # Set it to 30\n",
    "        C = 4\n",
    "    # Break\n",
    "    break"
   ]
  },
  {
   "cell_type": "markdown",
   "metadata": {},
   "source": [
    "### D (date)"
   ]
  },
  {
   "cell_type": "markdown",
   "metadata": {},
   "source": [
    "**Source of information: internet**"
   ]
  },
  {
   "cell_type": "markdown",
   "metadata": {},
   "source": [
    "| Factor level | Factor value |\n",
    "| --- | --- |\n",
    "| December - April | 0 |\n",
    "| May, July - November | 1 |\n",
    "| June | 3J |"
   ]
  },
  {
   "cell_type": "markdown",
   "metadata": {},
   "source": [
    "**Notes from Dennis Johnson**:\n",
    "- The canopy environment is more conducive for late blight in June than May, July and August. Thus the reason for a higher risk factor in June than the other months. \n",
    "- Reference: Johnson, D. A. and T.F. Cummings. 2016.\n",
    "- In-canopy environment of sprinkler irrigated potato fields as a factor for late blight management in the semiarid environment of the Columbia Basin. Am J. Potato Res: 93:239-252."
   ]
  },
  {
   "cell_type": "code",
   "execution_count": 46,
   "metadata": {},
   "outputs": [
    {
     "name": "stdin",
     "output_type": "stream",
     "text": [
      "What is the date?\n",
      "                  A) December through April \n",
      "                  B) May, July - November \n",
      "                  C) June \n",
      " d\n"
     ]
    }
   ],
   "source": [
    "while True:\n",
    "    # Request user input\n",
    "    D = input(\"What is the date?\\n \\\n",
    "                 A) December through April \\n \\\n",
    "                 B) May, July - November \\n \\\n",
    "                 C) June \\n\")\n",
    "    # If Risk Factor (RF) D is option \"A\"\n",
    "    if (D == \"A\") :\n",
    "        # Set RF to 0\n",
    "        D = 0\n",
    "    # Else, if RF is \"B\" and\n",
    "    elif (D == \"B\"):\n",
    "        # Set it to 1\n",
    "        D = 1\n",
    "    # Else, RF is \"C\" and\n",
    "    elif (D == \"C\"):\n",
    "        # Set it to 3J\n",
    "        D = 3J\n",
    "    # Break\n",
    "    break"
   ]
  },
  {
   "cell_type": "markdown",
   "metadata": {},
   "source": [
    "### E (number of rainy days expected in the next 7 days) (> 30% probability)"
   ]
  },
  {
   "cell_type": "markdown",
   "metadata": {},
   "source": [
    "**Source of information: Obtain rain forecasts from Fox Weather or WSU AgWeatherNet. Rain forecast of 7 days and longer can be very useful in scheduling fungicide applications for late blight (Plant Dis. 99:683-690). A rain probability of 30% has arbitrarily been used to indicate rain**"
   ]
  },
  {
   "cell_type": "markdown",
   "metadata": {},
   "source": [
    "| Factor level | Factor value |\n",
    "| --- | --- |\n",
    "| 0 rainy days expected | 1 |\n",
    "| 1 rainy days expected | 2 |\n",
    "| 2 rainy days expected| 4 |\n",
    "| 3 or more rainy days expected| 5 |"
   ]
  },
  {
   "cell_type": "markdown",
   "metadata": {},
   "source": [
    "**Notes from Dennis Johnson:** \n",
    "- Reference: Johnson, D.A., Cummings, T.F., and Fox, A.D. 2015. \n",
    "- Accuracy of rain forecasts for use in scheduling late blight management tactics in the Columbia Basin of Washington and Oregon. Plant Dis. 99:683-690.\n",
    "- Rainy period is characterized  with rainy, misty and cloudy conditions that has any of the following results: endures for > 1 hours, accumulates > 1 mm ( 0.04 inch), or canopy RH is > 90% for > 10 hrs."
   ]
  },
  {
   "cell_type": "code",
   "execution_count": 48,
   "metadata": {},
   "outputs": [
    {
     "name": "stdin",
     "output_type": "stream",
     "text": [
      "How many rainy days are expected to occur within the next 7 days?\n",
      "                  A) 0 rainy days expected \n",
      "                  B) 1 rainy days expected \n",
      "                  C) 2 rainy days expected \n",
      "                  D) 3 or more rainy days expected\n",
      " D\n"
     ]
    }
   ],
   "source": [
    "while True:\n",
    "    # Request user input\n",
    "    E = input(\"How many rainy days are expected to occur within the next 7 days?\\n \\\n",
    "                 A) 0 rainy days expected \\n \\\n",
    "                 B) 1 rainy days expected \\n \\\n",
    "                 C) 2 rainy days expected \\n \\\n",
    "                 D) 3 or more rainy days expected\\n\")\n",
    "    # If Risk Factor (RF) E is option \"A\"\n",
    "    if (E == \"A\") :\n",
    "        # Set RF to 1\n",
    "        E = 1\n",
    "    # Else, if RF is \"B\" and\n",
    "    elif (E == \"B\"):\n",
    "        # Set it to 2\n",
    "        E = 2\n",
    "    # Else, if RF is \"C\" and\n",
    "    elif (E == \"C\"):\n",
    "        # Set it to 4\n",
    "        E = 4\n",
    "    # Else, if RF is \"C\" and\n",
    "    elif (E == \"D\"):\n",
    "        # Set it to 5\n",
    "        E = 5\n",
    "    # Break\n",
    "    break"
   ]
  },
  {
   "cell_type": "markdown",
   "metadata": {},
   "source": [
    "### Risk Factor Calculation:"
   ]
  },
  {
   "cell_type": "markdown",
   "metadata": {},
   "source": [
    "**Risk** = **A** (phenology) $\\cdot$ **B** (occurrence of late blight in field or adjacent fields) $\\cdot$ **C** (probability of late blight occurrence in the Columbia Basin (PROB)) $\\cdot$ **D** (date) $\\cdot$ **E** (number of rainy days expected in the next 7 days)"
   ]
  },
  {
   "cell_type": "code",
   "execution_count": 50,
   "metadata": {},
   "outputs": [
    {
     "data": {
      "text/plain": [
       "''"
      ]
     },
     "execution_count": 50,
     "metadata": {},
     "output_type": "execute_result"
    }
   ],
   "source": [
    "A*B*C*D*C"
   ]
  },
  {
   "cell_type": "markdown",
   "metadata": {},
   "source": [
    "# Recommendations"
   ]
  },
  {
   "cell_type": "markdown",
   "metadata": {},
   "source": [
    "**Risk factor 0:**\n",
    "- Late blight is not likely, fungicide application is not recommended. Dispose of all cull or refuse tubers and manage volunteer potato plants, especially in fields were late blight occurred the last two years. Monitor fields for late blight on regular bases.\n"
   ]
  },
  {
   "cell_type": "markdown",
   "metadata": {},
   "source": [
    "**Risk factor 1-2:**\n",
    "- Late blight is not likely, fungicide application is not recommended. Dispose of all cull or refuse tubers and manage volunteer potato plants, especially in fields were late blight occurred the last two years. Monitor fields for late blight. Monitor fields for late blight on regular bases."
   ]
  },
  {
   "cell_type": "markdown",
   "metadata": {},
   "source": [
    "**Risk factor 4-5:**\n",
    "- Apply late blight fungicide before any rainy period. Dispose of all cull or refuse tubers and manage volunteer potato plants, especially in fields were late blight occurred the last two years. Monitor fields for late blight. Monitor fields for late blight on regular bases."
   ]
  },
  {
   "cell_type": "markdown",
   "metadata": {},
   "source": [
    "**Risk factor 8 – 10:**\n",
    "- Apply late blight fungicide before any rainy periods and continue for 3 wks. Dispose of all cull or refuse tubers and manage volunteer potato plants, especially in fields were late blight occurred the last two years. Monitor fields for late blight. Monitor fields for late blight on regular bases."
   ]
  },
  {
   "cell_type": "markdown",
   "metadata": {},
   "source": [
    "**Risk factor 3J:**\n",
    "- Apply fungicides on a 10-14 day schedule through July 4. Dispose of all cull or refuse tubers and manage volunteer potato plants, especially in fields were late blight occurred the last two years. Monitor fields for late blight. Monitor fields for late blight on regular bases."
   ]
  },
  {
   "cell_type": "markdown",
   "metadata": {},
   "source": [
    "**Risk factor 6J:**\n",
    "- Apply fungicides on a 10 day schedule through July 4. Dispose of all cull or refuse tubers and manage volunteer potato plants, especially in fields were late blight occurred the last two years. Monitor fields for late blight. Monitor fields for late blight on regular bases."
   ]
  },
  {
   "cell_type": "markdown",
   "metadata": {},
   "source": [
    "**Risk factor 12J:**\n",
    "- Apply fungicides on a 7-10 day schedule and before any rainy periods through July 4. Dispose of all cull or refuse tubers and manage volunteer potato plants, especially in fields were late blight occurred the last two years. Monitor fields for late blight. Monitor fields for late blight on regular bases."
   ]
  },
  {
   "cell_type": "markdown",
   "metadata": {},
   "source": [
    "**Risk factor 15J – 30J:**\n",
    "- Apply fungicides on a 7 day schedule and before any rainy periods through July 4. Dispose of all cull or refuse tubers and manage volunteer potato plants, especially in fields were late blight occurred the last two years. Monitor fields for late blight. Monitor fields for late blight on regular bases."
   ]
  },
  {
   "cell_type": "markdown",
   "metadata": {},
   "source": [
    "**Risk factor 30:**\n",
    "- Confirm occurrence of late blight. If present, apply late blight fungicides on a 5 to 7 day schedule and continue until harvest. Avoid over watering and irrigation during and just after rainy, cool and cloudy weather. Harvest during dry weather. Sort out rotten tubers going into storage. Consult literature on recommendations for management of late blight in the field during late season in infected tubers in storage. "
   ]
  },
  {
   "cell_type": "markdown",
   "metadata": {},
   "source": [
    "# Import data from 1970-2001"
   ]
  },
  {
   "cell_type": "markdown",
   "metadata": {},
   "source": [
    "Import packages & modules"
   ]
  },
  {
   "cell_type": "code",
   "execution_count": 1,
   "metadata": {},
   "outputs": [],
   "source": [
    "from pandas import DataFrame, read_csv\n",
    "import matplotlib.pyplot as plt\n",
    "import pandas as pd \n",
    "import numpy as np\n",
    "import seaborn as sns"
   ]
  },
  {
   "cell_type": "markdown",
   "metadata": {},
   "source": [
    "Import data"
   ]
  },
  {
   "cell_type": "code",
   "execution_count": 2,
   "metadata": {},
   "outputs": [],
   "source": [
    "file = r'/Users/davidwheeler/Desktop/RESEARCH/Data/LateBightForecast/Data/LateBlightData1970-2001.xlsx'\n",
    "df = pd.read_excel(file)"
   ]
  },
  {
   "cell_type": "markdown",
   "metadata": {},
   "source": [
    "# Data wrangling"
   ]
  },
  {
   "cell_type": "markdown",
   "metadata": {},
   "source": [
    "**Data dimensions**"
   ]
  },
  {
   "cell_type": "code",
   "execution_count": 3,
   "metadata": {},
   "outputs": [
    {
     "data": {
      "text/plain": [
       "(128, 6)"
      ]
     },
     "execution_count": 3,
     "metadata": {},
     "output_type": "execute_result"
    }
   ],
   "source": [
    "df.shape"
   ]
  },
  {
   "cell_type": "markdown",
   "metadata": {},
   "source": [
    "**Identify missing values**"
   ]
  },
  {
   "cell_type": "code",
   "execution_count": 4,
   "metadata": {},
   "outputs": [
    {
     "data": {
      "text/plain": [
       "8     15\n",
       "12    14\n",
       "13    11\n",
       "9     11\n",
       "16     9\n",
       "6      8\n",
       "11     8\n",
       "10     8\n",
       "15     7\n",
       "17     6\n",
       "5      5\n",
       "7      5\n",
       "14     5\n",
       ".      4\n",
       "3      3\n",
       "18     2\n",
       "19     2\n",
       "4      2\n",
       "20     1\n",
       "22     1\n",
       "26     1\n",
       "Name: Ram, dtype: int64"
      ]
     },
     "execution_count": 4,
     "metadata": {},
     "output_type": "execute_result"
    }
   ],
   "source": [
    "df['Ram'].value_counts(sort=True)"
   ]
  },
  {
   "cell_type": "markdown",
   "metadata": {},
   "source": [
    "* **Replace \".\" with NaN**"
   ]
  },
  {
   "cell_type": "code",
   "execution_count": 5,
   "metadata": {},
   "outputs": [],
   "source": [
    "df = df.replace('.',np.NaN)"
   ]
  },
  {
   "cell_type": "markdown",
   "metadata": {},
   "source": [
    "* **Number of NANs**"
   ]
  },
  {
   "cell_type": "code",
   "execution_count": 6,
   "metadata": {},
   "outputs": [
    {
     "data": {
      "text/plain": [
       "Year              0\n",
       "Location          0\n",
       "Area_affected    16\n",
       "Ram               4\n",
       "Rja               4\n",
       "Pm               98\n",
       "dtype: int64"
      ]
     },
     "execution_count": 6,
     "metadata": {},
     "output_type": "execute_result"
    }
   ],
   "source": [
    "df.isnull().sum()"
   ]
  },
  {
   "cell_type": "markdown",
   "metadata": {},
   "source": [
    "**Data types**"
   ]
  },
  {
   "cell_type": "code",
   "execution_count": 7,
   "metadata": {},
   "outputs": [
    {
     "data": {
      "text/plain": [
       "Year               int64\n",
       "Location          object\n",
       "Area_affected    float64\n",
       "Ram              float64\n",
       "Rja              float64\n",
       "Pm               float64\n",
       "dtype: object"
      ]
     },
     "execution_count": 7,
     "metadata": {},
     "output_type": "execute_result"
    }
   ],
   "source": [
    "df.dtypes"
   ]
  },
  {
   "cell_type": "markdown",
   "metadata": {},
   "source": [
    "- numerical"
   ]
  },
  {
   "cell_type": "code",
   "execution_count": 8,
   "metadata": {},
   "outputs": [
    {
     "data": {
      "text/plain": [
       "['Year', 'Area_affected', 'Ram', 'Rja', 'Pm']"
      ]
     },
     "execution_count": 8,
     "metadata": {},
     "output_type": "execute_result"
    }
   ],
   "source": [
    "[f for f in df.columns if df.dtypes[f] != 'object']"
   ]
  },
  {
   "cell_type": "markdown",
   "metadata": {},
   "source": [
    "> convert year to object"
   ]
  },
  {
   "cell_type": "code",
   "execution_count": 9,
   "metadata": {},
   "outputs": [],
   "source": [
    "df.Year = df.Year.astype(object)"
   ]
  },
  {
   "cell_type": "markdown",
   "metadata": {},
   "source": [
    "- categorical"
   ]
  },
  {
   "cell_type": "code",
   "execution_count": 10,
   "metadata": {},
   "outputs": [
    {
     "data": {
      "text/plain": [
       "['Year', 'Location']"
      ]
     },
     "execution_count": 10,
     "metadata": {},
     "output_type": "execute_result"
    }
   ],
   "source": [
    "[f for f in df.columns if df.dtypes[f] == 'object']"
   ]
  },
  {
   "cell_type": "markdown",
   "metadata": {},
   "source": [
    "**Summary statistics**"
   ]
  },
  {
   "cell_type": "markdown",
   "metadata": {},
   "source": [
    "- numerical"
   ]
  },
  {
   "cell_type": "code",
   "execution_count": 11,
   "metadata": {},
   "outputs": [
    {
     "data": {
      "text/html": [
       "<div>\n",
       "<style scoped>\n",
       "    .dataframe tbody tr th:only-of-type {\n",
       "        vertical-align: middle;\n",
       "    }\n",
       "\n",
       "    .dataframe tbody tr th {\n",
       "        vertical-align: top;\n",
       "    }\n",
       "\n",
       "    .dataframe thead th {\n",
       "        text-align: right;\n",
       "    }\n",
       "</style>\n",
       "<table border=\"1\" class=\"dataframe\">\n",
       "  <thead>\n",
       "    <tr style=\"text-align: right;\">\n",
       "      <th></th>\n",
       "      <th>Area_affected</th>\n",
       "      <th>Ram</th>\n",
       "      <th>Rja</th>\n",
       "      <th>Pm</th>\n",
       "    </tr>\n",
       "  </thead>\n",
       "  <tbody>\n",
       "    <tr>\n",
       "      <th>count</th>\n",
       "      <td>112.000000</td>\n",
       "      <td>124.000000</td>\n",
       "      <td>124.000000</td>\n",
       "      <td>30.000000</td>\n",
       "    </tr>\n",
       "    <tr>\n",
       "      <th>mean</th>\n",
       "      <td>8468.928571</td>\n",
       "      <td>11.177419</td>\n",
       "      <td>5.564516</td>\n",
       "      <td>13.284333</td>\n",
       "    </tr>\n",
       "    <tr>\n",
       "      <th>std</th>\n",
       "      <td>16350.904284</td>\n",
       "      <td>4.269476</td>\n",
       "      <td>3.492715</td>\n",
       "      <td>10.542742</td>\n",
       "    </tr>\n",
       "    <tr>\n",
       "      <th>min</th>\n",
       "      <td>0.000000</td>\n",
       "      <td>3.000000</td>\n",
       "      <td>0.000000</td>\n",
       "      <td>0.510000</td>\n",
       "    </tr>\n",
       "    <tr>\n",
       "      <th>25%</th>\n",
       "      <td>0.000000</td>\n",
       "      <td>8.000000</td>\n",
       "      <td>3.000000</td>\n",
       "      <td>6.657500</td>\n",
       "    </tr>\n",
       "    <tr>\n",
       "      <th>50%</th>\n",
       "      <td>45.000000</td>\n",
       "      <td>11.000000</td>\n",
       "      <td>5.000000</td>\n",
       "      <td>11.435000</td>\n",
       "    </tr>\n",
       "    <tr>\n",
       "      <th>75%</th>\n",
       "      <td>11112.500000</td>\n",
       "      <td>14.000000</td>\n",
       "      <td>7.000000</td>\n",
       "      <td>14.997500</td>\n",
       "    </tr>\n",
       "    <tr>\n",
       "      <th>max</th>\n",
       "      <td>65000.000000</td>\n",
       "      <td>26.000000</td>\n",
       "      <td>19.000000</td>\n",
       "      <td>47.290000</td>\n",
       "    </tr>\n",
       "  </tbody>\n",
       "</table>\n",
       "</div>"
      ],
      "text/plain": [
       "       Area_affected         Ram         Rja         Pm\n",
       "count     112.000000  124.000000  124.000000  30.000000\n",
       "mean     8468.928571   11.177419    5.564516  13.284333\n",
       "std     16350.904284    4.269476    3.492715  10.542742\n",
       "min         0.000000    3.000000    0.000000   0.510000\n",
       "25%         0.000000    8.000000    3.000000   6.657500\n",
       "50%        45.000000   11.000000    5.000000  11.435000\n",
       "75%     11112.500000   14.000000    7.000000  14.997500\n",
       "max     65000.000000   26.000000   19.000000  47.290000"
      ]
     },
     "execution_count": 11,
     "metadata": {},
     "output_type": "execute_result"
    }
   ],
   "source": [
    "df.describe()"
   ]
  },
  {
   "cell_type": "markdown",
   "metadata": {},
   "source": [
    "- categorical"
   ]
  },
  {
   "cell_type": "code",
   "execution_count": 12,
   "metadata": {},
   "outputs": [
    {
     "data": {
      "text/plain": [
       "[array([1970, 1971, 1972, 1973, 1974, 1975, 1976, 1977, 1978, 1979, 1980,\n",
       "        1981, 1982, 1983, 1984, 1985, 1986, 1987, 1988, 1989, 1990, 1991,\n",
       "        1992, 1993, 1994, 1995, 1996, 1997, 1998, 1999, 2000, 2001],\n",
       "       dtype=object),\n",
       " array(['Prosser', 'Hermiston', 'Hanford', 'Othello'], dtype=object)]"
      ]
     },
     "execution_count": 12,
     "metadata": {},
     "output_type": "execute_result"
    }
   ],
   "source": [
    "[df[f].unique() for f in df.columns if df.dtypes[f] == 'object']"
   ]
  },
  {
   "cell_type": "markdown",
   "metadata": {},
   "source": [
    "# Exploratory data analysis"
   ]
  },
  {
   "cell_type": "markdown",
   "metadata": {},
   "source": [
    "Boxplots"
   ]
  },
  {
   "cell_type": "markdown",
   "metadata": {},
   "source": [
    "- First define categorical data"
   ]
  },
  {
   "cell_type": "code",
   "execution_count": 13,
   "metadata": {},
   "outputs": [
    {
     "data": {
      "text/html": [
       "<div>\n",
       "<style scoped>\n",
       "    .dataframe tbody tr th:only-of-type {\n",
       "        vertical-align: middle;\n",
       "    }\n",
       "\n",
       "    .dataframe tbody tr th {\n",
       "        vertical-align: top;\n",
       "    }\n",
       "\n",
       "    .dataframe thead th {\n",
       "        text-align: right;\n",
       "    }\n",
       "</style>\n",
       "<table border=\"1\" class=\"dataframe\">\n",
       "  <thead>\n",
       "    <tr style=\"text-align: right;\">\n",
       "      <th></th>\n",
       "      <th>Year</th>\n",
       "      <th>Location</th>\n",
       "    </tr>\n",
       "  </thead>\n",
       "  <tbody>\n",
       "    <tr>\n",
       "      <th>0</th>\n",
       "      <td>1970</td>\n",
       "      <td>Prosser</td>\n",
       "    </tr>\n",
       "    <tr>\n",
       "      <th>1</th>\n",
       "      <td>1971</td>\n",
       "      <td>Prosser</td>\n",
       "    </tr>\n",
       "    <tr>\n",
       "      <th>2</th>\n",
       "      <td>1972</td>\n",
       "      <td>Prosser</td>\n",
       "    </tr>\n",
       "    <tr>\n",
       "      <th>3</th>\n",
       "      <td>1973</td>\n",
       "      <td>Prosser</td>\n",
       "    </tr>\n",
       "    <tr>\n",
       "      <th>4</th>\n",
       "      <td>1974</td>\n",
       "      <td>Prosser</td>\n",
       "    </tr>\n",
       "    <tr>\n",
       "      <th>...</th>\n",
       "      <td>...</td>\n",
       "      <td>...</td>\n",
       "    </tr>\n",
       "    <tr>\n",
       "      <th>123</th>\n",
       "      <td>1997</td>\n",
       "      <td>Othello</td>\n",
       "    </tr>\n",
       "    <tr>\n",
       "      <th>124</th>\n",
       "      <td>1998</td>\n",
       "      <td>Othello</td>\n",
       "    </tr>\n",
       "    <tr>\n",
       "      <th>125</th>\n",
       "      <td>1999</td>\n",
       "      <td>Othello</td>\n",
       "    </tr>\n",
       "    <tr>\n",
       "      <th>126</th>\n",
       "      <td>2000</td>\n",
       "      <td>Othello</td>\n",
       "    </tr>\n",
       "    <tr>\n",
       "      <th>127</th>\n",
       "      <td>2001</td>\n",
       "      <td>Othello</td>\n",
       "    </tr>\n",
       "  </tbody>\n",
       "</table>\n",
       "<p>128 rows × 2 columns</p>\n",
       "</div>"
      ],
      "text/plain": [
       "     Year Location\n",
       "0    1970  Prosser\n",
       "1    1971  Prosser\n",
       "2    1972  Prosser\n",
       "3    1973  Prosser\n",
       "4    1974  Prosser\n",
       "..    ...      ...\n",
       "123  1997  Othello\n",
       "124  1998  Othello\n",
       "125  1999  Othello\n",
       "126  2000  Othello\n",
       "127  2001  Othello\n",
       "\n",
       "[128 rows x 2 columns]"
      ]
     },
     "execution_count": 13,
     "metadata": {},
     "output_type": "execute_result"
    }
   ],
   "source": [
    "cat_df = [f for f in df.columns if df.dtypes[f] == 'object']\n",
    "df[cat_df]"
   ]
  },
  {
   "cell_type": "code",
   "execution_count": 14,
   "metadata": {},
   "outputs": [
    {
     "data": {
      "image/png": "[encoded data removed]",
      "text/plain": [
       "<Figure size 5040x6480 with 2 Axes>"
      ]
     },
     "metadata": {
      "needs_background": "light"
     },
     "output_type": "display_data"
    }
   ],
   "source": [
    "# plot dimensions\n",
    "fig, ax = plt.subplots(4, 1, figsize=(70,90))\n",
    "# Flatten\n",
    "ax = ax.flatten()\n",
    "# Unravel\n",
    "ax = np.ravel(ax)\n",
    "# Spaces between\n",
    "fig.subplots_adjust(wspace=0.2, \n",
    "                    hspace=0.9)\n",
    "# Unravel\n",
    "for feature, subplot in zip(df[cat_df], ax.flatten()):\n",
    "    # Format\n",
    "    sns.set(style=\"whitegrid\",\n",
    "            color_codes=True,\n",
    "            font_scale = 2)\n",
    "# #     # Figure size\n",
    "#      plt.figure(figsize=(16, 6))\n",
    "# #     # Title\n",
    "#      plt.title(\"Sale price of homes vs neighborhood\", fontsize=20) # the \"+ feature\" syntax generated an error\n",
    "# #     # Boxplot\n",
    "    p = sns.boxplot(x = feature,\n",
    "                y = 'Area_affected', saturation=1,\n",
    "                data=df, ax=subplot)\n",
    "\n",
    "    # Reduce opacity\n",
    "    for patch in p.artists:\n",
    "        r, g, b, a = patch.get_facecolor()\n",
    "        patch.set_facecolor((r, g, b, .3))\n",
    "\n",
    "    # Add jittered observations\n",
    "    p = sns.stripplot(x = feature,\n",
    "                  y = 'Area_affected',\n",
    "                  data=df,\n",
    "                  jitter=0.3, size=20,ax=subplot)\n",
    "\n",
    "    # Rotate x-axis labels\n",
    "    p.set_xticklabels(p.get_xticklabels(),\n",
    "                  rotation=45);\n",
    "    \n",
    "# Remove extra plots\n",
    "for i in range(len(df[cat_df].columns), 4*1):\n",
    "    fig.delaxes(ax[i])"
   ]
  },
  {
   "cell_type": "code",
   "execution_count": 150,
   "metadata": {},
   "outputs": [
    {
     "data": {
      "text/plain": [
       "Index(['Year', 'Location', 'Area_affected', 'Ram', 'Rja', 'Pm'], dtype='object')"
      ]
     },
     "execution_count": 150,
     "metadata": {},
     "output_type": "execute_result"
    }
   ],
   "source": [
    "df.columns"
   ]
  },
  {
   "cell_type": "markdown",
   "metadata": {},
   "source": []
  },
  {
   "cell_type": "code",
   "execution_count": null,
   "metadata": {},
   "outputs": [],
   "source": []
  },
  {
   "cell_type": "code",
   "execution_count": null,
   "metadata": {},
   "outputs": [],
   "source": []
  },
  {
   "cell_type": "code",
   "execution_count": null,
   "metadata": {},
   "outputs": [],
   "source": []
  },
  {
   "cell_type": "code",
   "execution_count": null,
   "metadata": {},
   "outputs": [],
   "source": []
  },
  {
   "cell_type": "code",
   "execution_count": null,
   "metadata": {},
   "outputs": [],
   "source": []
  },
  {
   "cell_type": "code",
   "execution_count": null,
   "metadata": {},
   "outputs": [],
   "source": []
  },
  {
   "cell_type": "markdown",
   "metadata": {},
   "source": [
    "# Graveyard"
   ]
  },
  {
   "cell_type": "markdown",
   "metadata": {},
   "source": [
    "#### Models from:\n",
    " - Johnson DA, Alldredge JR, and Vakoch DL. 1996. Potato late blight forecasting models for the semiarid environment of south-central Washington. Phytopathology. 86:480-484. https://www.apsnet.org/publications/phytopathology/backissues/Documents/1996Articles/Phyto86n05_480.PDF"
   ]
  },
  {
   "cell_type": "markdown",
   "metadata": {},
   "source": [
    "- **Two discriminant functions** and **two logistic regression models** were developed to forecast outbreaks of late blight (*Phytophthora infestans*) on potato (mainly Russet Burbank) in the south-central area of Washington State, a semiarid environment where late blight occurs sporadically."
   ]
  },
  {
   "cell_type": "markdown",
   "metadata": {},
   "source": [
    "- 1). The **first discriminant function**:\n",
    "$$\n",
    "\\textbf{Non-outbreak} = -4.426 + 2.052(Y_p) + 0.863(R_{am}) + 0.052(P_{m})\n",
    "$$\n",
    "\n",
    "$$\n",
    "\\textbf{Outbreak} = -11.886 + 6.191(Y_p) + 1.462(R_{am}) - 0.033(P_m)\n",
    "$$"
   ]
  },
  {
   "cell_type": "markdown",
   "metadata": {},
   "source": [
    "> where:\n",
    "\n",
    "> - $Y_p$: late blight outbreak during the preceding year:\n",
    "$$  \n",
    "Y_p\n",
    "\\begin{cases}\n",
    "  \\text{late blight absent in previous year/ no} = 0 \\\\    \n",
    "  \\text{late blight present in previous year/ yes} = 1 \n",
    "\\end{cases}\n",
    "$$\n",
    "> - $R_{am}$: number of days with rain >= 0.25 mm during April and May\n",
    "> - $P_m$: total precipitation during May when daily minimum temperature was greater or equal to 5 $^{\\circ}$C\n",
    "\n",
    ">> use cases: June 1st until late August"
   ]
  },
  {
   "cell_type": "code",
   "execution_count": 13,
   "metadata": {},
   "outputs": [],
   "source": [
    "Yp = 0"
   ]
  },
  {
   "cell_type": "code",
   "execution_count": 14,
   "metadata": {},
   "outputs": [],
   "source": [
    "Ram = 0"
   ]
  },
  {
   "cell_type": "code",
   "execution_count": 15,
   "metadata": {},
   "outputs": [],
   "source": [
    "Pm = 0"
   ]
  },
  {
   "cell_type": "code",
   "execution_count": 16,
   "metadata": {},
   "outputs": [],
   "source": [
    "fdf_no = -4.426 + 2.052*Yp + 0.863*Ram + 0.052*Pm"
   ]
  },
  {
   "cell_type": "code",
   "execution_count": 17,
   "metadata": {},
   "outputs": [],
   "source": [
    "fdf_o = -11.886 + 6.191*Yp + 1.462*Ram - 0.033*Pm"
   ]
  },
  {
   "cell_type": "markdown",
   "metadata": {},
   "source": [
    "- 2). The **second discriminant function**:\n",
    "$$\n",
    "\\textbf{Non-outbreak} = -5.636 + 1.774(Y_p) + 0.974(R_{am}) + 0.5(R_{ja})\n",
    "$$\n",
    "\n",
    "    $$\n",
    "    \\textbf{Outbreak} = -14.546 + 5.776(Y_p) + 1.506(R_{am}) + 0.711(R_{ja})\n",
    "    $$"
   ]
  },
  {
   "cell_type": "markdown",
   "metadata": {},
   "source": [
    "> where: \n",
    "> - $Y_p$: late blight outbreak during the preceding year:\n",
    "$$  \n",
    "Y_p\n",
    "\\begin{cases}\n",
    "  \\text{late blight absent in previous year/ no} = 0 \\\\    \n",
    "  \\text{late blight present in previous year/ yes} = 1 \n",
    "\\end{cases}\n",
    "$$\n",
    "> - $R_{am}$: number of days with rain >= 0.25 mm during April and May\n",
    "> - $R_{ja}$: number of days with rain > = 0.25 during July and August\n",
    "    \n",
    ">> use cases: end of August until end of season"
   ]
  },
  {
   "cell_type": "code",
   "execution_count": 18,
   "metadata": {},
   "outputs": [],
   "source": [
    "Yp = 0"
   ]
  },
  {
   "cell_type": "code",
   "execution_count": 19,
   "metadata": {},
   "outputs": [],
   "source": [
    "Ram = 0"
   ]
  },
  {
   "cell_type": "code",
   "execution_count": 20,
   "metadata": {},
   "outputs": [],
   "source": [
    "Rja = 0"
   ]
  },
  {
   "cell_type": "code",
   "execution_count": 21,
   "metadata": {},
   "outputs": [],
   "source": [
    "sdf_no = -5.636 + 1.774*Yp + 0.974*Ram + 0.5*Rja"
   ]
  },
  {
   "cell_type": "code",
   "execution_count": 23,
   "metadata": {},
   "outputs": [],
   "source": [
    "sdf_o = -14.546 + 5.776*Yp + 1.506*Ram + 0.711*Rja"
   ]
  },
  {
   "cell_type": "markdown",
   "metadata": {},
   "source": [
    "- 3). The **first logistic regression**:\n",
    "$$\n",
    "L = 7.548 - 3.553(Y_p) - 0.629(R_{am}) + 0.09(P_m)\n",
    "$$"
   ]
  },
  {
   "cell_type": "markdown",
   "metadata": {},
   "source": [
    "> where:\n",
    "\n",
    "> - $Y_p$: late blight outbreak during the preceding year:\n",
    "$$  \n",
    "Y_p\n",
    "\\begin{cases}\n",
    "  \\text{late blight absent in previous year/ no} = 0 \\\\    \n",
    "  \\text{late blight present in previous year/ yes} = 1 \n",
    "\\end{cases}\n",
    "$$\n",
    "> - $R_{am}$: number of days with rain >= 0.25 mm during April and May\n",
    "> - $P_m$: total precipitation during May when daily minimum temperature was greater or equal to 5 $^{\\circ}$C\n",
    "\n",
    ">> use cases: June 1st until late August"
   ]
  },
  {
   "cell_type": "code",
   "execution_count": 24,
   "metadata": {},
   "outputs": [],
   "source": [
    "Yp = 0"
   ]
  },
  {
   "cell_type": "code",
   "execution_count": 25,
   "metadata": {},
   "outputs": [],
   "source": [
    "Ram = 0"
   ]
  },
  {
   "cell_type": "code",
   "execution_count": 26,
   "metadata": {},
   "outputs": [],
   "source": [
    "Pm = 0"
   ]
  },
  {
   "cell_type": "code",
   "execution_count": 37,
   "metadata": {},
   "outputs": [],
   "source": [
    "L1 = 7.548 - 3.553*Yp - 0.629*Ram + 0.09*Pm"
   ]
  },
  {
   "cell_type": "markdown",
   "metadata": {},
   "source": [
    "- 4). The **second logistic regression**:\n",
    "$$\n",
    "L = 11.470-3.88(Y_p)- 0.716(R_{am}) - 0.259(R_{ja})\n",
    "$$"
   ]
  },
  {
   "cell_type": "markdown",
   "metadata": {},
   "source": [
    "> where: \n",
    "> - $Y_p$: late blight outbreak during the preceding year:\n",
    "$$  \n",
    "Y_p\n",
    "\\begin{cases}\n",
    "  \\text{late blight absent in previous year/ no} = 0 \\\\    \n",
    "  \\text{late blight present in previous year/ yes} = 1 \n",
    "\\end{cases}\n",
    "$$\n",
    "> - $R_{am}$: number of days with rain >= 0.25 mm during April and May\n",
    "> - $R_{ja}$: number of days with rain > = 0.25 during July and August\n",
    "    \n",
    ">> use cases: end of August until end of season"
   ]
  },
  {
   "cell_type": "code",
   "execution_count": 28,
   "metadata": {},
   "outputs": [],
   "source": [
    "Yp = 0"
   ]
  },
  {
   "cell_type": "code",
   "execution_count": 29,
   "metadata": {},
   "outputs": [],
   "source": [
    "Ram = 0"
   ]
  },
  {
   "cell_type": "code",
   "execution_count": 30,
   "metadata": {},
   "outputs": [],
   "source": [
    "Rja = 0"
   ]
  },
  {
   "cell_type": "code",
   "execution_count": 31,
   "metadata": {},
   "outputs": [],
   "source": [
    "L2 = 11.470 - 3.88*Yp - 0.716*Ram - 0.259*Rja"
   ]
  },
  {
   "cell_type": "code",
   "execution_count": null,
   "metadata": {},
   "outputs": [],
   "source": []
  }
 ],
 "metadata": {
  "kernelspec": {
   "display_name": "Python 3",
   "language": "python",
   "name": "python3"
  },
  "language_info": {
   "codemirror_mode": {
    "name": "ipython",
    "version": 3
   },
   "file_extension": ".py",
   "mimetype": "text/x-python",
   "name": "python",
   "nbconvert_exporter": "python",
   "pygments_lexer": "ipython3",
   "version": "3.7.6"
  },
  "toc-autonumbering": false
 },
 "nbformat": 4,
 "nbformat_minor": 4
}
